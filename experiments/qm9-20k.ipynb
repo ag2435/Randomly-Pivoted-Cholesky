{
 "cells": [
  {
   "cell_type": "markdown",
   "id": "c600fca0",
   "metadata": {
    "papermill": {
     "duration": 0.002912,
     "end_time": "2024-02-11T22:00:43.109346",
     "exception": false,
     "start_time": "2024-02-11T22:00:43.106434",
     "status": "completed"
    },
    "tags": []
   },
   "source": [
    "# QM9 KRR Benchmark\n",
    "\n",
    "Code to perform KRR on the QM9 dataset using different Nystrom methods, using 100k randomly selected molecules as training points. The l1 Laplace kernel is used with a bandwidth 5120, and the regularization parameter is 1e-8; both were chosen using cross-validation. This code was used to produce Figure 3 in the manuscript together with `matlab_plotting/make_krr_plots.m`"
   ]
  },
  {
   "cell_type": "code",
   "execution_count": 1,
   "id": "d09482a2",
   "metadata": {
    "execution": {
     "iopub.execute_input": "2024-02-11T22:00:43.114624Z",
     "iopub.status.busy": "2024-02-11T22:00:43.114416Z",
     "iopub.status.idle": "2024-02-11T22:00:43.125364Z",
     "shell.execute_reply": "2024-02-11T22:00:43.125054Z"
    },
    "papermill": {
     "duration": 0.014318,
     "end_time": "2024-02-11T22:00:43.126103",
     "exception": false,
     "start_time": "2024-02-11T22:00:43.111785",
     "status": "completed"
    },
    "tags": []
   },
   "outputs": [],
   "source": [
    "# %load_ext line_profiler\n",
    "%load_ext autoreload\n",
    "%autoreload 2"
   ]
  },
  {
   "cell_type": "code",
   "execution_count": 2,
   "id": "9c2c6687",
   "metadata": {
    "execution": {
     "iopub.execute_input": "2024-02-11T22:00:43.131074Z",
     "iopub.status.busy": "2024-02-11T22:00:43.130882Z",
     "iopub.status.idle": "2024-02-11T22:00:46.944432Z",
     "shell.execute_reply": "2024-02-11T22:00:46.944024Z"
    },
    "papermill": {
     "duration": 3.81692,
     "end_time": "2024-02-11T22:00:46.945259",
     "exception": false,
     "start_time": "2024-02-11T22:00:43.128339",
     "status": "completed"
    },
    "tags": []
   },
   "outputs": [
    {
     "name": "stdout",
     "output_type": "stream",
     "text": [
      "`eigenpro2` is not installed...\n",
      "Using `torch.linalg.solve` for training the kernel model\n",
      "\n",
      "WARNING: `torch.linalg.solve` scales poorly with the size of training dataset,\n",
      "          and may cause an `Out-of-Memory` error\n",
      "`eigenpro2` is a more scalable solver. To use, pass `method=\"eigenpro\"` to `model.fit()`\n",
      "To install `eigenpro2` visit https://github.com/EigenPro/EigenPro-pytorch/tree/pytorch/\n"
     ]
    },
    {
     "name": "stderr",
     "output_type": "stream",
     "text": [
      "/home/ag2435/.conda/envs/rpcholesky/lib/python3.9/site-packages/tqdm/auto.py:21: TqdmWarning: IProgress not found. Please update jupyter and ipywidgets. See https://ipywidgets.readthedocs.io/en/stable/user_install.html\n",
      "  from .autonotebook import tqdm as notebook_tqdm\n"
     ]
    }
   ],
   "source": [
    "import sys\n",
    "sys.path.append('../')\n",
    "\n",
    "import qml, os\n",
    "from scipy.io import savemat, loadmat\n",
    "import numpy as np\n",
    "from sklearn.preprocessing import StandardScaler\n",
    "import plotly.graph_objects as go\n",
    "from plotly.subplots import make_subplots\n",
    "# import plotly.express as px\n",
    "import plotly.colors as colors\n",
    "\n",
    "from KRR_Nystrom import KRR_Nystrom\n",
    "import rpcholesky\n",
    "import leverage_score\n",
    "import unif_sample\n",
    "import matplotlib.pyplot as plt\n",
    "import time\n",
    "from functools import partial\n",
    "import pickle\n",
    "# util for parallelizing run trials\n",
    "from joblib import Parallel, delayed\n",
    "\n",
    "# kernel thinning\n",
    "# utils for kernel ridge regression\n",
    "from goodpoints.krr.util_estimators import get_estimator"
   ]
  },
  {
   "cell_type": "code",
   "execution_count": 3,
   "id": "02123c73",
   "metadata": {
    "execution": {
     "iopub.execute_input": "2024-02-11T22:00:46.951382Z",
     "iopub.status.busy": "2024-02-11T22:00:46.951133Z",
     "iopub.status.idle": "2024-02-11T22:00:47.002472Z",
     "shell.execute_reply": "2024-02-11T22:00:47.002135Z"
    },
    "papermill": {
     "duration": 0.054905,
     "end_time": "2024-02-11T22:00:47.003191",
     "exception": false,
     "start_time": "2024-02-11T22:00:46.948286",
     "status": "completed"
    },
    "tags": []
   },
   "outputs": [
    {
     "name": "stdout",
     "output_type": "stream",
     "text": [
      "1.2.0\n",
      "8\n"
     ]
    }
   ],
   "source": [
    "import joblib\n",
    "print(joblib.__version__)\n",
    "print(joblib.cpu_count())"
   ]
  },
  {
   "cell_type": "code",
   "execution_count": 4,
   "id": "34b053d5",
   "metadata": {
    "execution": {
     "iopub.execute_input": "2024-02-11T22:00:47.008796Z",
     "iopub.status.busy": "2024-02-11T22:00:47.008604Z",
     "iopub.status.idle": "2024-02-11T22:00:47.094771Z",
     "shell.execute_reply": "2024-02-11T22:00:47.094439Z"
    },
    "papermill": {
     "duration": 0.089733,
     "end_time": "2024-02-11T22:00:47.095493",
     "exception": false,
     "start_time": "2024-02-11T22:00:47.005760",
     "status": "completed"
    },
    "tags": []
   },
   "outputs": [],
   "source": [
    "# add this to be able to render plotly plots in non-vscode notebooks\n",
    "import plotly.io as pio\n",
    "pio.renderers.default = \"notebook_connected\""
   ]
  },
  {
   "cell_type": "code",
   "execution_count": 5,
   "id": "507db26f",
   "metadata": {
    "execution": {
     "iopub.execute_input": "2024-02-11T22:00:47.100849Z",
     "iopub.status.busy": "2024-02-11T22:00:47.100653Z",
     "iopub.status.idle": "2024-02-11T22:00:47.121337Z",
     "shell.execute_reply": "2024-02-11T22:00:47.121016Z"
    },
    "papermill": {
     "duration": 0.024124,
     "end_time": "2024-02-11T22:00:47.122029",
     "exception": false,
     "start_time": "2024-02-11T22:00:47.097905",
     "status": "completed"
    },
    "tags": []
   },
   "outputs": [],
   "source": [
    "\n",
    "def get_molecules(directory = \"molecules/\", max_atoms = 29, max_mols = np.Inf, output_index = 7):\n",
    "    compounds = []\n",
    "    energies = []\n",
    "    for f in sorted(os.listdir(\"molecules/\")):\n",
    "        if len(compounds) >= max_mols:\n",
    "            break\n",
    "\n",
    "        try:\n",
    "            mol = qml.Compound(xyz=\"molecules/\"+f)\n",
    "            mol.generate_coulomb_matrix(size=max_atoms, sorting=\"row-norm\")\n",
    "            with open(\"molecules/\"+f) as myfile:\n",
    "                line = list(myfile.readlines())[1]\n",
    "                energies.append(float(line.split()[output_index]) * 27.2114) # Hartrees to eV\n",
    "            compounds.append(mol)\n",
    "        except ValueError:\n",
    "            pass\n",
    "    \n",
    "    c = list(zip(compounds, energies))\n",
    "    np.random.shuffle(c)\n",
    "    compounds, energies = zip(*c)\n",
    "\n",
    "    X = np.array([mol.representation for mol in compounds])\n",
    "    Y = np.array(energies).reshape((X.shape[0],1))\n",
    "\n",
    "    return X, Y \n",
    "    "
   ]
  },
  {
   "cell_type": "code",
   "execution_count": 6,
   "id": "990c54b9",
   "metadata": {
    "execution": {
     "iopub.execute_input": "2024-02-11T22:00:47.127211Z",
     "iopub.status.busy": "2024-02-11T22:00:47.127025Z",
     "iopub.status.idle": "2024-02-11T22:00:48.255481Z",
     "shell.execute_reply": "2024-02-11T22:00:48.255058Z"
    },
    "papermill": {
     "duration": 1.131935,
     "end_time": "2024-02-11T22:00:48.256309",
     "exception": false,
     "start_time": "2024-02-11T22:00:47.124374",
     "status": "completed"
    },
    "tags": []
   },
   "outputs": [],
   "source": [
    "if not os.path.isfile(\"data/homo.mat\"):\n",
    "    X, Y = get_molecules()\n",
    "    data = { \"X\" : X, \"Y\" : Y }\n",
    "    savemat(\"data/homo.mat\", data)\n",
    "else:\n",
    "    data = loadmat(\"data/homo.mat\")\n",
    "    \n",
    "feature = data['X']\n",
    "target = data['Y'].flatten()\n",
    "scaler = StandardScaler()\n",
    "feature = scaler.fit_transform(feature)\n",
    "n,d = np.shape(feature)\n"
   ]
  },
  {
   "cell_type": "code",
   "execution_count": 7,
   "id": "14ec19fe",
   "metadata": {
    "execution": {
     "iopub.execute_input": "2024-02-11T22:00:48.262155Z",
     "iopub.status.busy": "2024-02-11T22:00:48.261933Z",
     "iopub.status.idle": "2024-02-11T22:00:48.332467Z",
     "shell.execute_reply": "2024-02-11T22:00:48.332126Z"
    },
    "papermill": {
     "duration": 0.074185,
     "end_time": "2024-02-11T22:00:48.333206",
     "exception": false,
     "start_time": "2024-02-11T22:00:48.259021",
     "status": "completed"
    },
    "tags": []
   },
   "outputs": [],
   "source": [
    "# From KT compress\n",
    "def log4(n):\n",
    "    return np.log2(n) / 2\n",
    "def get_g(n):\n",
    "    return int( np.ceil( log4(log4(n)) ) ) # Use default value\n",
    "def largest_power_of_four(n):\n",
    "    \"\"\"Returns largest power of four less than or equal to n\n",
    "    \"\"\"\n",
    "    return 4**( (n.bit_length() - 1 )//2)\n",
    "\n",
    "def get_coreset_size(n, m=1):\n",
    "    if get_g(n) <= m:\n",
    "        # with TicToc('compresspp', print_toc=PRINT_TOC):\n",
    "        # Compress with g'=g+inflation (compressing returns set of size 2^(g+inflation) sqrt(n) )\n",
    "        # Thin with g'=g (thinning returns set of size 2^inflation sqrt(n) )\n",
    "        largest_pow_four = largest_power_of_four(n)\n",
    "        log2n = n.bit_length() - 1\n",
    "        scale = n // largest_pow_four\n",
    "        return 2**( 2*(log2n//2) - m ) * scale\n",
    "    else:\n",
    "        return int(n / 2**m)"
   ]
  },
  {
   "cell_type": "code",
   "execution_count": 8,
   "id": "0190b557",
   "metadata": {
    "execution": {
     "iopub.execute_input": "2024-02-11T22:00:48.338570Z",
     "iopub.status.busy": "2024-02-11T22:00:48.338376Z",
     "iopub.status.idle": "2024-02-11T22:00:48.359759Z",
     "shell.execute_reply": "2024-02-11T22:00:48.359428Z"
    },
    "papermill": {
     "duration": 0.024785,
     "end_time": "2024-02-11T22:00:48.360449",
     "exception": false,
     "start_time": "2024-02-11T22:00:48.335664",
     "status": "completed"
    },
    "tags": []
   },
   "outputs": [
    {
     "name": "stdout",
     "output_type": "stream",
     "text": [
      "ks [128, 256, 512]\n"
     ]
    }
   ],
   "source": [
    "\n",
    "num_train = 20000 # 100000\n",
    "num_test = 20000 # n - num_train\n",
    "# ks = range(200, 1200, 200)\n",
    "sqrt_n = get_coreset_size(num_train, int(log4(num_train)))\n",
    "ks = [ sqrt_n, sqrt_n* 2, sqrt_n*4 ]\n",
    "print('ks', ks)\n",
    "\n",
    "train_sample = feature[:num_train]\n",
    "train_sample_target = target[:num_train]\n",
    "test_sample = feature[num_train:num_train+num_test]\n",
    "test_sample_target = target[num_train:num_train+num_test]\n"
   ]
  },
  {
   "cell_type": "code",
   "execution_count": 9,
   "id": "4f2f0a40",
   "metadata": {
    "execution": {
     "iopub.execute_input": "2024-02-11T22:00:48.365783Z",
     "iopub.status.busy": "2024-02-11T22:00:48.365600Z",
     "iopub.status.idle": "2024-02-11T22:00:48.383137Z",
     "shell.execute_reply": "2024-02-11T22:00:48.382821Z"
    },
    "papermill": {
     "duration": 0.02097,
     "end_time": "2024-02-11T22:00:48.383845",
     "exception": false,
     "start_time": "2024-02-11T22:00:48.362875",
     "status": "completed"
    },
    "tags": []
   },
   "outputs": [],
   "source": [
    "\n",
    "def mean_squared_error(true, pred):\n",
    "    return np.mean((true - pred)**2)\n",
    "def mean_average_error(true, pred):\n",
    "    return np.mean(np.abs(true - pred))\n",
    "def SMAPE(true,pred):\n",
    "    return np.mean(abs(true - pred)/((abs(true)+abs(pred))/2))\n"
   ]
  },
  {
   "cell_type": "code",
   "execution_count": 10,
   "id": "5af6d5f0",
   "metadata": {
    "execution": {
     "iopub.execute_input": "2024-02-11T22:00:48.389300Z",
     "iopub.status.busy": "2024-02-11T22:00:48.389116Z",
     "iopub.status.idle": "2024-02-11T22:00:48.406784Z",
     "shell.execute_reply": "2024-02-11T22:00:48.406466Z"
    },
    "papermill": {
     "duration": 0.021134,
     "end_time": "2024-02-11T22:00:48.407493",
     "exception": false,
     "start_time": "2024-02-11T22:00:48.386359",
     "status": "completed"
    },
    "tags": []
   },
   "outputs": [],
   "source": [
    "\n",
    "methods = { \n",
    "    # deterministic methods\n",
    "    'Greedy' : rpcholesky.greedy, \n",
    "    \n",
    "    # random methods\n",
    "    'Uniform' : unif_sample.uniform_sample,\n",
    "    'RPCholesky' : rpcholesky.rpcholesky,\n",
    "    'RLS' : leverage_score.recursive_rls_acc,\n",
    "    'block50RPCholesky' : partial(rpcholesky.block_rpcholesky,b=50),\n",
    "\n",
    "    'kt': None,\n",
    "    'st' : None\n",
    "}\n",
    "\n",
    "num_trials = 100\n",
    "lamb = 1.0e-8\n",
    "sigma = 5120.0\n",
    "result = dict()\n",
    "# n_jobs = 2 \n",
    "n_jobs = 8\n",
    "savepath = f\"data/molecule{num_train // 1000}k-trials={num_trials}.pkl\""
   ]
  },
  {
   "cell_type": "code",
   "execution_count": 11,
   "id": "78784ecb",
   "metadata": {
    "execution": {
     "iopub.execute_input": "2024-02-11T22:00:48.412727Z",
     "iopub.status.busy": "2024-02-11T22:00:48.412546Z",
     "iopub.status.idle": "2024-02-11T22:00:48.432114Z",
     "shell.execute_reply": "2024-02-11T22:00:48.431789Z"
    },
    "papermill": {
     "duration": 0.022962,
     "end_time": "2024-02-11T22:00:48.432810",
     "exception": false,
     "start_time": "2024-02-11T22:00:48.409848",
     "status": "completed"
    },
    "tags": []
   },
   "outputs": [],
   "source": [
    "def train_predict(name, method, train_sample, test_sample, k, idx_k):\n",
    "    start = time.time()\n",
    "    if name == 'Greedy':\n",
    "        model = KRR_Nystrom(kernel = \"laplace\", \n",
    "                    bandwidth = sigma)\n",
    "        model.fit_Nystrom(train_sample, train_sample_target, lamb = lamb, sample_num = k, sample_method = method, solve_method = solve_method)\n",
    "        preds = model.predict_Nystrom(test_sample)\n",
    "    elif name in ['kt', 'st']: # our methods\n",
    "        while True:\n",
    "            try:\n",
    "                # print(f\"Trial {i}\")\n",
    "                model = get_estimator(\n",
    "                    'regression', \n",
    "                    name.lower(), \n",
    "                    kernel='laplace',\n",
    "                    alpha=lamb,\n",
    "                    sigma=sigma,\n",
    "                    m=int(log4(num_train))-idx_k,\n",
    "                )\n",
    "\n",
    "                model.fit(train_sample, train_sample_target)\n",
    "                assert len(model.sol_) == k, f\"len(model.sol_)={len(model.sol_)} should be same as k={k}\"\n",
    "                preds = model.predict(test_sample)\n",
    "\n",
    "                break\n",
    "            except np.linalg.LinAlgError:\n",
    "                continue\n",
    "    else:\n",
    "        while True:\n",
    "            try:\n",
    "                # print(f\"Trial {i}\")\n",
    "                # # Original\n",
    "                # model = KRR_Nystrom(kernel = \"gaussian\", bandwidth = sigma)\n",
    "                # # Bug fix\n",
    "                model = KRR_Nystrom(kernel = \"laplace\", bandwidth = sigma)\n",
    "                \n",
    "                model.fit_Nystrom(train_sample, train_sample_target, lamb = lamb, sample_num = k, sample_method = method, solve_method = solve_method)\n",
    "                preds = model.predict_Nystrom(test_sample)\n",
    "                break\n",
    "            except np.linalg.LinAlgError:\n",
    "                continue\n",
    "    end = time.time()\n",
    "    return preds, end - start\n",
    "    # return preds"
   ]
  },
  {
   "cell_type": "code",
   "execution_count": null,
   "id": "35fb3f68",
   "metadata": {
    "papermill": {
     "duration": null,
     "end_time": null,
     "exception": false,
     "start_time": "2024-02-11T22:00:48.435748",
     "status": "running"
    },
    "tags": []
   },
   "outputs": [],
   "source": [
    "\n",
    "solve_method = 'Direct'\n",
    "\n",
    "for name, method in methods.items():\n",
    "    result[name] = dict()\n",
    "    print(f'------------- Method: {name} -------------')\n",
    "    result[name][\"trace_errors\"] = {} #np.zeros((len(ks),2))\n",
    "    result[name][\"KRRMSE\"] = {} #np.zeros((len(ks),2))\n",
    "    result[name][\"KRRMAE\"] = {} #np.zeros((len(ks),2))\n",
    "    result[name][\"KRRSMAPE\"] = {}   #np.zeros((len(ks),2))\n",
    "    result[name][\"queries\"] = {}    #np.zeros((len(ks),2))\n",
    "\n",
    "    for idx_k in range(len(ks)):\n",
    "        k = ks[idx_k]\n",
    "        print(f'k = {k}')\n",
    "        trace_err = []\n",
    "        runtime = []\n",
    "        queries = []\n",
    "        KRRmse = []\n",
    "        KRRmae = []\n",
    "        KRRsmape = []\n",
    "\n",
    "        if name == 'Greedy':\n",
    "            trials = 1 # deterministic\n",
    "        else:\n",
    "            trials = num_trials # stochastic\n",
    "\n",
    "        parallel = Parallel(n_jobs= n_jobs) #, return_as=\"generator\") need joblib>=1.3 for return_as functionality\n",
    "        output_generator = parallel(delayed(train_predict)(\n",
    "            name, \n",
    "            method, \n",
    "            train_sample, \n",
    "            test_sample,\n",
    "            k,\n",
    "            idx_k,\n",
    "        ) for _ in range(trials))\n",
    "\n",
    "        for preds, elapsed_time in output_generator:\n",
    "            KRRmse.append(mean_squared_error(test_sample_target, preds))\n",
    "            KRRmae.append(mean_average_error(test_sample_target, preds))\n",
    "            KRRsmape.append(SMAPE(test_sample_target, preds))\n",
    "            # queries.append(model.queries)\n",
    "            # trace_err.append(model.reltrace_err) \n",
    "            \n",
    "            # TODO: placeholder for now\n",
    "            queries.append(np.nan)\n",
    "            trace_err.append(np.nan)\n",
    "\n",
    "            print(f'KRR acc: mse {KRRmse[-1]}, mae {KRRmae[-1]}, smape {KRRsmape[-1]}')\n",
    "            # print(f'time: sample {model.sample_time}, linsolve {model.linsolve_time}, pred {model.pred_time}')\n",
    "            print(f'time: {elapsed_time}')\n",
    "            \n",
    "        result[name][\"trace_errors\"][k] = trace_err   # [np.mean(trace_err),np.std(trace_err)]\n",
    "        result[name][\"KRRMSE\"][k] = KRRmse    # [np.mean(KRRmse),np.std(KRRmse)]\n",
    "        result[name][\"KRRMAE\"][k] = KRRmae    #[np.mean(KRRmae),np.std(KRRmae)]\n",
    "        result[name][\"KRRSMAPE\"][k] = KRRsmape    #[np.mean(KRRsmape),np.std(KRRsmape)]\n",
    "        result[name][\"queries\"][k] = queries  #[np.mean(queries)/float(num_train**2),np.std(queries)/float(num_train**2)]\n",
    "\n",
    "        # savemat(\"data/{}_molecule100k.mat\".format(name), result[name])\n",
    "        # use pickle to save the result periodically\n",
    "        with open(savepath, 'wb') as f:\n",
    "            pickle.dump(result, f)\n"
   ]
  },
  {
   "cell_type": "code",
   "execution_count": null,
   "id": "5c56644e",
   "metadata": {
    "execution": {
     "iopub.execute_input": "2024-02-11T02:20:41.749801Z",
     "iopub.status.busy": "2024-02-11T02:20:41.749351Z",
     "iopub.status.idle": "2024-02-11T02:20:42.351215Z",
     "shell.execute_reply": "2024-02-11T02:20:42.350868Z"
    },
    "papermill": {
     "duration": null,
     "end_time": null,
     "exception": null,
     "start_time": null,
     "status": "pending"
    },
    "tags": []
   },
   "outputs": [],
   "source": [
    "result"
   ]
  },
  {
   "cell_type": "markdown",
   "id": "ff83ba01",
   "metadata": {
    "papermill": {
     "duration": null,
     "end_time": null,
     "exception": null,
     "start_time": null,
     "status": "pending"
    },
    "tags": []
   },
   "source": [
    "## Plot results"
   ]
  },
  {
   "cell_type": "code",
   "execution_count": null,
   "id": "3afe5d4c",
   "metadata": {
    "execution": {
     "iopub.execute_input": "2024-02-11T02:20:42.427025Z",
     "iopub.status.busy": "2024-02-11T02:20:42.426843Z",
     "iopub.status.idle": "2024-02-11T02:20:42.437187Z",
     "shell.execute_reply": "2024-02-11T02:20:42.436854Z"
    },
    "papermill": {
     "duration": null,
     "end_time": null,
     "exception": null,
     "start_time": null,
     "status": "pending"
    },
    "tags": []
   },
   "outputs": [],
   "source": [
    "with open(savepath, \"rb\") as f:\n",
    "    result = pickle.load(f)\n",
    "# with open(\"data/molecule20k-kt.pkl\", \"rb\") as f:\n",
    "#     result2 = pickle.load(f)\n",
    "# concatenate the results\n",
    "# result.update(result2)"
   ]
  },
  {
   "cell_type": "code",
   "execution_count": null,
   "id": "4f22a3ce",
   "metadata": {
    "execution": {
     "iopub.execute_input": "2024-02-11T02:20:42.507875Z",
     "iopub.status.busy": "2024-02-11T02:20:42.507577Z",
     "iopub.status.idle": "2024-02-11T02:20:43.097891Z",
     "shell.execute_reply": "2024-02-11T02:20:43.097355Z"
    },
    "papermill": {
     "duration": null,
     "end_time": null,
     "exception": null,
     "start_time": null,
     "status": "pending"
    },
    "tags": []
   },
   "outputs": [],
   "source": [
    "# plot line graph with error bars\n",
    "metrics = ['KRRSMAPE', 'KRRMSE']\n",
    "fig = make_subplots(rows=len(metrics), cols=1, subplot_titles=metrics, shared_xaxes=True, vertical_spacing=0.1)\n",
    "colors_list = colors.qualitative.Plotly \n",
    "# * (\n",
    "#     len(model_names) // len(colors.qualitative.Plotly) + 1\n",
    "# )\n",
    "model_names = list(result.keys())\n",
    "\n",
    "for name in result.keys():\n",
    "    color = colors_list[model_names.index(name)]\n",
    "    for r, metric in enumerate(metrics):\n",
    "        if name in ['kt', 'st']:\n",
    "            for k, vals in result[name][metric].items():\n",
    "                # print(k, krrmse)\n",
    "                fig.add_trace(go.Box(\n",
    "                    x=[k] *len(vals),\n",
    "                    y=vals,\n",
    "                    name=name,\n",
    "                    # opacity=0.5,\n",
    "                    legendgroup=name,\n",
    "                    # line_color=color,\n",
    "                    # offsetgroup=model_name_prefix,\n",
    "                    # showlegend=color not in colors_used,\n",
    "                    boxmean=True,\n",
    "                    line_color = color\n",
    "                ), row=r+1, col=1)\n",
    "        else:\n",
    "            means = [np.mean(krrmse) for _, krrmse in result[name][metric].items() ]\n",
    "            stds = [np.std(krrmse) for _, krrmse in result[name][metric].items() ]\n",
    "            # print(ks, means, stds)\n",
    "            fig.add_trace(go.Scatter(\n",
    "                x=ks, \n",
    "                y=means, \n",
    "                mode='lines+markers', \n",
    "                name=name, \n",
    "                error_y=dict(\n",
    "                    type='data', # value of error bar given in data coordinates\n",
    "                    array=stds,\n",
    "                    visible=True\n",
    "                ),\n",
    "                legendgroup=name,\n",
    "                line_color = color\n",
    "            ), row=r+1, col=1)\n",
    "    fig.update_xaxes(title_text=\"k\", row=r+1, col=1)\n",
    "        \n",
    "fig.update_layout(title='MSE vs. k (columns)',\n",
    "                    #  xaxis_title='Coreset Size',\n",
    "                    #  yaxis_title='MSE',\n",
    "                     height=800, width=800)\n",
    "fig.show()"
   ]
  },
  {
   "cell_type": "code",
   "execution_count": null,
   "id": "4791e7b7",
   "metadata": {
    "papermill": {
     "duration": null,
     "end_time": null,
     "exception": null,
     "start_time": null,
     "status": "pending"
    },
    "tags": []
   },
   "outputs": [],
   "source": []
  }
 ],
 "metadata": {
  "kernelspec": {
   "display_name": "Python 3",
   "language": "python",
   "name": "python3"
  },
  "language_info": {
   "codemirror_mode": {
    "name": "ipython",
    "version": 3
   },
   "file_extension": ".py",
   "mimetype": "text/x-python",
   "name": "python",
   "nbconvert_exporter": "python",
   "pygments_lexer": "ipython3",
   "version": "3.9.18"
  },
  "papermill": {
   "default_parameters": {},
   "duration": null,
   "end_time": null,
   "environment_variables": {},
   "exception": null,
   "input_path": "qm9.ipynb",
   "output_path": "qm9-20k.ipynb",
   "parameters": {},
   "start_time": "2024-02-11T22:00:42.006919",
   "version": "2.4.0"
  }
 },
 "nbformat": 4,
 "nbformat_minor": 5
}