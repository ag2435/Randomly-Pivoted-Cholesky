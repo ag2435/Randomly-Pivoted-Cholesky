{
 "cells": [
  {
   "cell_type": "markdown",
   "id": "c600fca0",
   "metadata": {
    "papermill": {
     "duration": 0.002225,
     "end_time": "2024-02-11T00:34:18.451712",
     "exception": false,
     "start_time": "2024-02-11T00:34:18.449487",
     "status": "completed"
    },
    "tags": []
   },
   "source": [
    "# QM9 KRR Benchmark\n",
    "\n",
    "Code to perform KRR on the QM9 dataset using different Nystrom methods, using 100k randomly selected molecules as training points. The l1 Laplace kernel is used with a bandwidth 5120, and the regularization parameter is 1e-8; both were chosen using cross-validation. This code was used to produce Figure 3 in the manuscript together with `matlab_plotting/make_krr_plots.m`"
   ]
  },
  {
   "cell_type": "code",
   "execution_count": 1,
   "id": "d09482a2",
   "metadata": {
    "execution": {
     "iopub.execute_input": "2024-02-11T00:34:18.456374Z",
     "iopub.status.busy": "2024-02-11T00:34:18.456073Z",
     "iopub.status.idle": "2024-02-11T00:34:18.467103Z",
     "shell.execute_reply": "2024-02-11T00:34:18.466778Z"
    },
    "papermill": {
     "duration": 0.014179,
     "end_time": "2024-02-11T00:34:18.467882",
     "exception": false,
     "start_time": "2024-02-11T00:34:18.453703",
     "status": "completed"
    },
    "tags": []
   },
   "outputs": [],
   "source": [
    "# %load_ext line_profiler\n",
    "%load_ext autoreload\n",
    "%autoreload 2"
   ]
  },
  {
   "cell_type": "code",
   "execution_count": 13,
   "id": "9c2c6687",
   "metadata": {
    "execution": {
     "iopub.execute_input": "2024-02-11T00:34:18.472099Z",
     "iopub.status.busy": "2024-02-11T00:34:18.471898Z",
     "iopub.status.idle": "2024-02-11T00:34:19.586457Z",
     "shell.execute_reply": "2024-02-11T00:34:19.586045Z"
    },
    "papermill": {
     "duration": 1.117681,
     "end_time": "2024-02-11T00:34:19.587557",
     "exception": false,
     "start_time": "2024-02-11T00:34:18.469876",
     "status": "completed"
    },
    "tags": []
   },
   "outputs": [],
   "source": [
    "import sys\n",
    "sys.path.append('../')\n",
    "\n",
    "import qml, os\n",
    "from scipy.io import savemat, loadmat\n",
    "import numpy as np\n",
    "from sklearn.preprocessing import StandardScaler\n",
    "import plotly.graph_objects as go\n",
    "from plotly.subplots import make_subplots\n",
    "# import plotly.express as px\n",
    "\n",
    "from KRR_Nystrom import KRR_Nystrom\n",
    "import rpcholesky\n",
    "import leverage_score\n",
    "import unif_sample\n",
    "import matplotlib.pyplot as plt\n",
    "import time\n",
    "from functools import partial\n",
    "import pickle"
   ]
  },
  {
   "cell_type": "code",
   "execution_count": 28,
   "id": "34b053d5",
   "metadata": {},
   "outputs": [],
   "source": [
    "# add this to be able to render plotly plots in non-vscode notebooks\n",
    "import plotly.io as pio\n",
    "pio.renderers.default = \"notebook_connected\""
   ]
  },
  {
   "cell_type": "code",
   "execution_count": 3,
   "id": "507db26f",
   "metadata": {
    "execution": {
     "iopub.execute_input": "2024-02-11T00:34:19.592446Z",
     "iopub.status.busy": "2024-02-11T00:34:19.592222Z",
     "iopub.status.idle": "2024-02-11T00:34:19.617011Z",
     "shell.execute_reply": "2024-02-11T00:34:19.616675Z"
    },
    "papermill": {
     "duration": 0.027909,
     "end_time": "2024-02-11T00:34:19.617909",
     "exception": false,
     "start_time": "2024-02-11T00:34:19.590000",
     "status": "completed"
    },
    "tags": []
   },
   "outputs": [],
   "source": [
    "\n",
    "def get_molecules(directory = \"molecules/\", max_atoms = 29, max_mols = np.Inf, output_index = 7):\n",
    "    compounds = []\n",
    "    energies = []\n",
    "    for f in sorted(os.listdir(\"molecules/\")):\n",
    "        if len(compounds) >= max_mols:\n",
    "            break\n",
    "\n",
    "        try:\n",
    "            mol = qml.Compound(xyz=\"molecules/\"+f)\n",
    "            mol.generate_coulomb_matrix(size=max_atoms, sorting=\"row-norm\")\n",
    "            with open(\"molecules/\"+f) as myfile:\n",
    "                line = list(myfile.readlines())[1]\n",
    "                energies.append(float(line.split()[output_index]) * 27.2114) # Hartrees to eV\n",
    "            compounds.append(mol)\n",
    "        except ValueError:\n",
    "            pass\n",
    "    \n",
    "    c = list(zip(compounds, energies))\n",
    "    np.random.shuffle(c)\n",
    "    compounds, energies = zip(*c)\n",
    "\n",
    "    X = np.array([mol.representation for mol in compounds])\n",
    "    Y = np.array(energies).reshape((X.shape[0],1))\n",
    "\n",
    "    return X, Y \n",
    "    "
   ]
  },
  {
   "cell_type": "code",
   "execution_count": 4,
   "id": "990c54b9",
   "metadata": {
    "execution": {
     "iopub.execute_input": "2024-02-11T00:34:19.622063Z",
     "iopub.status.busy": "2024-02-11T00:34:19.621785Z",
     "iopub.status.idle": "2024-02-11T00:34:20.935098Z",
     "shell.execute_reply": "2024-02-11T00:34:20.934609Z"
    },
    "papermill": {
     "duration": 1.316486,
     "end_time": "2024-02-11T00:34:20.936164",
     "exception": false,
     "start_time": "2024-02-11T00:34:19.619678",
     "status": "completed"
    },
    "tags": []
   },
   "outputs": [],
   "source": [
    "if not os.path.isfile(\"data/homo.mat\"):\n",
    "    X, Y = get_molecules()\n",
    "    data = { \"X\" : X, \"Y\" : Y }\n",
    "    savemat(\"data/homo.mat\", data)\n",
    "else:\n",
    "    data = loadmat(\"data/homo.mat\")\n",
    "    \n",
    "feature = data['X']\n",
    "target = data['Y'].flatten()\n",
    "scaler = StandardScaler()\n",
    "feature = scaler.fit_transform(feature)\n",
    "n,d = np.shape(feature)\n"
   ]
  },
  {
   "cell_type": "code",
   "execution_count": 5,
   "id": "14ec19fe",
   "metadata": {
    "execution": {
     "iopub.execute_input": "2024-02-11T00:34:20.941075Z",
     "iopub.status.busy": "2024-02-11T00:34:20.940880Z",
     "iopub.status.idle": "2024-02-11T00:34:21.012733Z",
     "shell.execute_reply": "2024-02-11T00:34:21.012389Z"
    },
    "papermill": {
     "duration": 0.075218,
     "end_time": "2024-02-11T00:34:21.013477",
     "exception": false,
     "start_time": "2024-02-11T00:34:20.938259",
     "status": "completed"
    },
    "tags": []
   },
   "outputs": [],
   "source": [
    "# From KT compress\n",
    "def log4(n):\n",
    "    return np.log2(n) / 2\n",
    "def get_g(n):\n",
    "    return int( np.ceil( log4(log4(n)) ) ) # Use default value\n",
    "def largest_power_of_four(n):\n",
    "    \"\"\"Returns largest power of four less than or equal to n\n",
    "    \"\"\"\n",
    "    return 4**( (n.bit_length() - 1 )//2)\n",
    "\n",
    "def get_coreset_size(n, m=1):\n",
    "    if get_g(n) <= m:\n",
    "        # with TicToc('compresspp', print_toc=PRINT_TOC):\n",
    "        # Compress with g'=g+inflation (compressing returns set of size 2^(g+inflation) sqrt(n) )\n",
    "        # Thin with g'=g (thinning returns set of size 2^inflation sqrt(n) )\n",
    "        largest_pow_four = largest_power_of_four(n)\n",
    "        log2n = n.bit_length() - 1\n",
    "        scale = n // largest_pow_four\n",
    "        return 2**( 2*(log2n//2) - m ) * scale\n",
    "    else:\n",
    "        return int(n / 2**m)"
   ]
  },
  {
   "cell_type": "code",
   "execution_count": 6,
   "id": "0190b557",
   "metadata": {
    "execution": {
     "iopub.execute_input": "2024-02-11T00:34:21.018137Z",
     "iopub.status.busy": "2024-02-11T00:34:21.017930Z",
     "iopub.status.idle": "2024-02-11T00:34:21.028955Z",
     "shell.execute_reply": "2024-02-11T00:34:21.028622Z"
    },
    "papermill": {
     "duration": 0.014015,
     "end_time": "2024-02-11T00:34:21.029699",
     "exception": false,
     "start_time": "2024-02-11T00:34:21.015684",
     "status": "completed"
    },
    "tags": []
   },
   "outputs": [
    {
     "name": "stdout",
     "output_type": "stream",
     "text": [
      "ks [128, 256, 512]\n"
     ]
    }
   ],
   "source": [
    "\n",
    "num_train = 20000 # 100000\n",
    "num_test = 20000 # n - num_train\n",
    "# ks = range(200, 1200, 200)\n",
    "sqrt_n = get_coreset_size(num_train, int(log4(num_train)))\n",
    "ks = [ sqrt_n, sqrt_n* 2, sqrt_n*4 ]\n",
    "print('ks', ks)\n",
    "\n",
    "train_sample = feature[:num_train]\n",
    "train_sample_target = target[:num_train]\n",
    "test_sample = feature[num_train:num_train+num_test]\n",
    "test_sample_target = target[num_train:num_train+num_test]\n"
   ]
  },
  {
   "cell_type": "code",
   "execution_count": 7,
   "id": "4f2f0a40",
   "metadata": {
    "execution": {
     "iopub.execute_input": "2024-02-11T00:34:21.034042Z",
     "iopub.status.busy": "2024-02-11T00:34:21.033797Z",
     "iopub.status.idle": "2024-02-11T00:34:21.043089Z",
     "shell.execute_reply": "2024-02-11T00:34:21.042769Z"
    },
    "papermill": {
     "duration": 0.012263,
     "end_time": "2024-02-11T00:34:21.043835",
     "exception": false,
     "start_time": "2024-02-11T00:34:21.031572",
     "status": "completed"
    },
    "tags": []
   },
   "outputs": [],
   "source": [
    "\n",
    "def mean_squared_error(true, pred):\n",
    "    return np.mean((true - pred)**2)\n",
    "def mean_average_error(true, pred):\n",
    "    return np.mean(np.abs(true - pred))\n",
    "def SMAPE(true,pred):\n",
    "    return np.mean(abs(true - pred)/((abs(true)+abs(pred))/2))\n"
   ]
  },
  {
   "cell_type": "code",
   "execution_count": 8,
   "id": "5af6d5f0",
   "metadata": {
    "execution": {
     "iopub.execute_input": "2024-02-11T00:34:21.048267Z",
     "iopub.status.busy": "2024-02-11T00:34:21.048141Z",
     "iopub.status.idle": "2024-02-11T02:20:41.683268Z",
     "shell.execute_reply": "2024-02-11T02:20:41.682742Z"
    },
    "papermill": {
     "duration": 6380.638575,
     "end_time": "2024-02-11T02:20:41.684350",
     "exception": false,
     "start_time": "2024-02-11T00:34:21.045775",
     "status": "completed"
    },
    "tags": []
   },
   "outputs": [
    {
     "name": "stdout",
     "output_type": "stream",
     "text": [
      "------------- Method: Greedy -------------\n",
      "k = 128\n"
     ]
    },
    {
     "name": "stdout",
     "output_type": "stream",
     "text": [
      "KRR acc: mse 0.32869427987617694, mae 0.4207989561384129, smape 0.06522165673026105\n",
      "time: sample 4.638573408126831, linsolve 0.015665054321289062, pred 0.39659953117370605\n",
      "k = 256\n"
     ]
    },
    {
     "name": "stdout",
     "output_type": "stream",
     "text": [
      "KRR acc: mse 0.2729237221965333, mae 0.3884841928324148, smape 0.060296657775134974\n",
      "time: sample 9.168869733810425, linsolve 0.01515054702758789, pred 0.7583320140838623\n",
      "k = 512\n"
     ]
    },
    {
     "name": "stdout",
     "output_type": "stream",
     "text": [
      "KRR acc: mse 0.23277200066947504, mae 0.3586732396610669, smape 0.05570710395147019\n",
      "time: sample 18.69033718109131, linsolve 0.042438507080078125, pred 1.5357978343963623\n",
      "------------- Method: Uniform -------------\n",
      "k = 128\n",
      "Trial 0\n"
     ]
    },
    {
     "name": "stdout",
     "output_type": "stream",
     "text": [
      "KRR acc: mse 0.26385920203274843, mae 0.37818448220893397, smape 0.0587607301953572\n",
      "time: sample 0.5500543117523193 s, linsolve 0.0029168128967285156 s, pred 0.3948383331298828 s\n",
      "Trial 1\n"
     ]
    },
    {
     "name": "stdout",
     "output_type": "stream",
     "text": [
      "KRR acc: mse 0.2603687369783307, mae 0.3772309071207814, smape 0.058627656441992554\n",
      "time: sample 0.5491485595703125 s, linsolve 0.002760648727416992 s, pred 0.39537715911865234 s\n",
      "Trial 2\n"
     ]
    },
    {
     "name": "stdout",
     "output_type": "stream",
     "text": [
      "KRR acc: mse 0.2581224396781937, mae 0.3736194163571295, smape 0.05803852620148819\n",
      "time: sample 0.5521800518035889 s, linsolve 0.0028579235076904297 s, pred 0.39437317848205566 s\n",
      "Trial 3\n"
     ]
    },
    {
     "name": "stdout",
     "output_type": "stream",
     "text": [
      "KRR acc: mse 0.26414944299004434, mae 0.3768704256977207, smape 0.05857719013600465\n",
      "time: sample 0.5491561889648438 s, linsolve 0.002695322036743164 s, pred 0.3948030471801758 s\n",
      "Trial 4\n"
     ]
    },
    {
     "name": "stdout",
     "output_type": "stream",
     "text": [
      "KRR acc: mse 0.26556153097743534, mae 0.3774338236880063, smape 0.05863876759961232\n",
      "time: sample 0.5500597953796387 s, linsolve 0.0027179718017578125 s, pred 0.39460039138793945 s\n",
      "Trial 5\n"
     ]
    },
    {
     "name": "stdout",
     "output_type": "stream",
     "text": [
      "KRR acc: mse 0.27192256503497986, mae 0.37913709283259894, smape 0.05888415892073439\n",
      "time: sample 0.5483016967773438 s, linsolve 0.0027244091033935547 s, pred 0.39472293853759766 s\n",
      "Trial 6\n"
     ]
    },
    {
     "name": "stdout",
     "output_type": "stream",
     "text": [
      "KRR acc: mse 0.273551775898926, mae 0.38386771325654506, smape 0.05963523894311922\n",
      "time: sample 0.5551018714904785 s, linsolve 0.002832174301147461 s, pred 0.3948967456817627 s\n",
      "Trial 7\n"
     ]
    },
    {
     "name": "stdout",
     "output_type": "stream",
     "text": [
      "KRR acc: mse 0.25547050126565884, mae 0.37509345082298695, smape 0.05823749729381822\n",
      "time: sample 0.5489306449890137 s, linsolve 0.0027103424072265625 s, pred 0.3944358825683594 s\n",
      "Trial 8\n"
     ]
    },
    {
     "name": "stdout",
     "output_type": "stream",
     "text": [
      "KRR acc: mse 0.25887000165244906, mae 0.37621849025689336, smape 0.05844469043132302\n",
      "time: sample 0.5503885746002197 s, linsolve 0.0026941299438476562 s, pred 0.39546680450439453 s\n",
      "Trial 9\n"
     ]
    },
    {
     "name": "stdout",
     "output_type": "stream",
     "text": [
      "KRR acc: mse 0.26277823194974825, mae 0.3793778569941144, smape 0.05892654243905631\n",
      "time: sample 0.5492525100708008 s, linsolve 0.002726316452026367 s, pred 0.39342737197875977 s\n",
      "Trial 10\n"
     ]
    },
    {
     "name": "stdout",
     "output_type": "stream",
     "text": [
      "KRR acc: mse 0.26660865831273284, mae 0.37691262434874656, smape 0.058562379727750975\n",
      "time: sample 0.5522527694702148 s, linsolve 0.0028848648071289062 s, pred 0.39412665367126465 s\n",
      "Trial 11\n"
     ]
    },
    {
     "name": "stdout",
     "output_type": "stream",
     "text": [
      "KRR acc: mse 0.26295282674329784, mae 0.37979645705979126, smape 0.05896988773829084\n",
      "time: sample 0.5491857528686523 s, linsolve 0.0027396678924560547 s, pred 0.3952791690826416 s\n",
      "Trial 12\n"
     ]
    },
    {
     "name": "stdout",
     "output_type": "stream",
     "text": [
      "KRR acc: mse 0.2573063049602749, mae 0.37180072792833746, smape 0.05774483049125017\n",
      "time: sample 0.5504279136657715 s, linsolve 0.0027246475219726562 s, pred 0.39360666275024414 s\n",
      "Trial 13\n"
     ]
    },
    {
     "name": "stdout",
     "output_type": "stream",
     "text": [
      "KRR acc: mse 0.26579782006669084, mae 0.38005908333182203, smape 0.05905156837094878\n",
      "time: sample 0.5487167835235596 s, linsolve 0.002760171890258789 s, pred 0.3943631649017334 s\n",
      "Trial 14\n"
     ]
    },
    {
     "name": "stdout",
     "output_type": "stream",
     "text": [
      "KRR acc: mse 0.26522432459989137, mae 0.37842543971827436, smape 0.05880502119714563\n",
      "time: sample 0.555591344833374 s, linsolve 0.0028197765350341797 s, pred 0.39452266693115234 s\n",
      "Trial 15\n"
     ]
    },
    {
     "name": "stdout",
     "output_type": "stream",
     "text": [
      "KRR acc: mse 0.2627254020720594, mae 0.3758699030363504, smape 0.05842739696543173\n",
      "time: sample 0.5489590167999268 s, linsolve 0.0027496814727783203 s, pred 0.3945798873901367 s\n",
      "Trial 16\n"
     ]
    },
    {
     "name": "stdout",
     "output_type": "stream",
     "text": [
      "KRR acc: mse 0.2618978264937011, mae 0.3734232717056998, smape 0.05803105511200439\n",
      "time: sample 0.5506715774536133 s, linsolve 0.002713918685913086 s, pred 0.39417004585266113 s\n",
      "Trial 17\n"
     ]
    },
    {
     "name": "stdout",
     "output_type": "stream",
     "text": [
      "KRR acc: mse 0.25985189401719866, mae 0.37482873260307853, smape 0.05821899734494893\n",
      "time: sample 0.5490314960479736 s, linsolve 0.002771139144897461 s, pred 0.3949265480041504 s\n",
      "Trial 18\n"
     ]
    },
    {
     "name": "stdout",
     "output_type": "stream",
     "text": [
      "KRR acc: mse 0.27809366840465166, mae 0.38893704863432565, smape 0.06038638005302269\n",
      "time: sample 0.5501096248626709 s, linsolve 0.002715587615966797 s, pred 0.3944127559661865 s\n",
      "Trial 19\n"
     ]
    },
    {
     "name": "stdout",
     "output_type": "stream",
     "text": [
      "KRR acc: mse 0.26256025824218143, mae 0.37554012072498655, smape 0.05838998858867732\n",
      "time: sample 0.5512166023254395 s, linsolve 0.0028922557830810547 s, pred 0.39458751678466797 s\n",
      "Trial 20\n"
     ]
    },
    {
     "name": "stdout",
     "output_type": "stream",
     "text": [
      "KRR acc: mse 0.26419645177489876, mae 0.37654327151700984, smape 0.058502568917838525\n",
      "time: sample 0.5501291751861572 s, linsolve 0.0027344226837158203 s, pred 0.3946542739868164 s\n",
      "Trial 21\n"
     ]
    },
    {
     "name": "stdout",
     "output_type": "stream",
     "text": [
      "KRR acc: mse 0.27821649078687516, mae 0.3850169770596014, smape 0.05983071329894164\n",
      "time: sample 0.5491158962249756 s, linsolve 0.0027494430541992188 s, pred 0.39461708068847656 s\n",
      "Trial 22\n"
     ]
    },
    {
     "name": "stdout",
     "output_type": "stream",
     "text": [
      "KRR acc: mse 0.26557731796796236, mae 0.37949506669864513, smape 0.05897113355819234\n",
      "time: sample 0.5501940250396729 s, linsolve 0.002672910690307617 s, pred 0.39401960372924805 s\n",
      "Trial 23\n"
     ]
    },
    {
     "name": "stdout",
     "output_type": "stream",
     "text": [
      "KRR acc: mse 0.2792178963744764, mae 0.38651229457311653, smape 0.06004410499354198\n",
      "time: sample 0.5493741035461426 s, linsolve 0.002732992172241211 s, pred 0.39424729347229004 s\n",
      "Trial 24\n"
     ]
    },
    {
     "name": "stdout",
     "output_type": "stream",
     "text": [
      "KRR acc: mse 0.27166066255823007, mae 0.38041983885580083, smape 0.05909494075013931\n",
      "time: sample 0.5502614974975586 s, linsolve 0.0028493404388427734 s, pred 0.3947632312774658 s\n",
      "Trial 25\n"
     ]
    },
    {
     "name": "stdout",
     "output_type": "stream",
     "text": [
      "KRR acc: mse 0.25442365819722035, mae 0.3714842515573204, smape 0.0577261511343208\n",
      "time: sample 0.5497450828552246 s, linsolve 0.002752065658569336 s, pred 0.39427733421325684 s\n",
      "Trial 26\n"
     ]
    },
    {
     "name": "stdout",
     "output_type": "stream",
     "text": [
      "KRR acc: mse 0.26537854041944675, mae 0.377239259597928, smape 0.05860514730215706\n",
      "time: sample 0.5500588417053223 s, linsolve 0.0027074813842773438 s, pred 0.39499449729919434 s\n",
      "Trial 27\n"
     ]
    },
    {
     "name": "stdout",
     "output_type": "stream",
     "text": [
      "KRR acc: mse 0.2638953940780516, mae 0.37925591797522173, smape 0.05892994699709\n",
      "time: sample 0.5497307777404785 s, linsolve 0.0027611255645751953 s, pred 0.39499640464782715 s\n",
      "Trial 28\n"
     ]
    },
    {
     "name": "stdout",
     "output_type": "stream",
     "text": [
      "KRR acc: mse 0.247236954201683, mae 0.3669118617159674, smape 0.057003114414490096\n",
      "time: sample 0.550966739654541 s, linsolve 0.0026755332946777344 s, pred 0.39414286613464355 s\n",
      "Trial 29\n"
     ]
    },
    {
     "name": "stdout",
     "output_type": "stream",
     "text": [
      "KRR acc: mse 0.28083968611934046, mae 0.3883455042549901, smape 0.06038238524728381\n",
      "time: sample 0.5497095584869385 s, linsolve 0.0026946067810058594 s, pred 0.3944582939147949 s\n",
      "Trial 30\n"
     ]
    },
    {
     "name": "stdout",
     "output_type": "stream",
     "text": [
      "KRR acc: mse 0.2576814936292179, mae 0.3720936769304143, smape 0.057801765320869766\n",
      "time: sample 0.5524179935455322 s, linsolve 0.0028727054595947266 s, pred 0.3957526683807373 s\n",
      "Trial 31\n"
     ]
    },
    {
     "name": "stdout",
     "output_type": "stream",
     "text": [
      "KRR acc: mse 0.26449098235284874, mae 0.3770486999072586, smape 0.05859350569526158\n",
      "time: sample 0.5495553016662598 s, linsolve 0.002691984176635742 s, pred 0.3944425582885742 s\n",
      "Trial 32\n"
     ]
    },
    {
     "name": "stdout",
     "output_type": "stream",
     "text": [
      "KRR acc: mse 0.2677500580009616, mae 0.37918219634765293, smape 0.05893498043885338\n",
      "time: sample 0.5499286651611328 s, linsolve 0.002760648727416992 s, pred 0.3941988945007324 s\n",
      "Trial 33\n"
     ]
    },
    {
     "name": "stdout",
     "output_type": "stream",
     "text": [
      "KRR acc: mse 0.25402979159588823, mae 0.371503573919354, smape 0.05774016843303991\n",
      "time: sample 0.5492701530456543 s, linsolve 0.0027594566345214844 s, pred 0.3953413963317871 s\n",
      "Trial 34\n"
     ]
    },
    {
     "name": "stdout",
     "output_type": "stream",
     "text": [
      "KRR acc: mse 0.2748266015281157, mae 0.38636303777739367, smape 0.06003688207083747\n",
      "time: sample 0.550344705581665 s, linsolve 0.0027523040771484375 s, pred 0.3946700096130371 s\n",
      "Trial 35\n"
     ]
    },
    {
     "name": "stdout",
     "output_type": "stream",
     "text": [
      "KRR acc: mse 0.27177299731938237, mae 0.3819314302992487, smape 0.059335021631015866\n",
      "time: sample 0.5491509437561035 s, linsolve 0.002744436264038086 s, pred 0.39351987838745117 s\n",
      "Trial 36\n"
     ]
    },
    {
     "name": "stdout",
     "output_type": "stream",
     "text": [
      "KRR acc: mse 0.2629836215454494, mae 0.3771920244058133, smape 0.05859984007513586\n",
      "time: sample 0.5499534606933594 s, linsolve 0.0029239654541015625 s, pred 0.39460301399230957 s\n",
      "Trial 37\n"
     ]
    },
    {
     "name": "stdout",
     "output_type": "stream",
     "text": [
      "KRR acc: mse 0.2760236521719833, mae 0.38489840218091603, smape 0.05981007448449056\n",
      "time: sample 0.5489766597747803 s, linsolve 0.0027158260345458984 s, pred 0.3941535949707031 s\n",
      "Trial 38\n"
     ]
    },
    {
     "name": "stdout",
     "output_type": "stream",
     "text": [
      "KRR acc: mse 0.2618100605295771, mae 0.37315594903611055, smape 0.057996854705664035\n",
      "time: sample 0.5499098300933838 s, linsolve 0.0027618408203125 s, pred 0.3950068950653076 s\n",
      "Trial 39\n"
     ]
    },
    {
     "name": "stdout",
     "output_type": "stream",
     "text": [
      "KRR acc: mse 0.263647869786733, mae 0.37822439577976186, smape 0.058716275963055294\n",
      "time: sample 0.549224853515625 s, linsolve 0.0027370452880859375 s, pred 0.39472317695617676 s\n",
      "Trial 40\n"
     ]
    },
    {
     "name": "stdout",
     "output_type": "stream",
     "text": [
      "KRR acc: mse 0.27153291495405485, mae 0.38177866152516154, smape 0.05926488063720333\n",
      "time: sample 0.5505187511444092 s, linsolve 0.0027077198028564453 s, pred 0.3937239646911621 s\n",
      "Trial 41\n"
     ]
    },
    {
     "name": "stdout",
     "output_type": "stream",
     "text": [
      "KRR acc: mse 0.26132768818610286, mae 0.3760913784053416, smape 0.05842462688235152\n",
      "time: sample 0.5493321418762207 s, linsolve 0.0026998519897460938 s, pred 0.39430975914001465 s\n",
      "Trial 42\n"
     ]
    },
    {
     "name": "stdout",
     "output_type": "stream",
     "text": [
      "KRR acc: mse 0.2614365649757927, mae 0.378473950708739, smape 0.058806363933884664\n",
      "time: sample 0.5510480403900146 s, linsolve 0.0027112960815429688 s, pred 0.3949301242828369 s\n",
      "Trial 43\n"
     ]
    },
    {
     "name": "stdout",
     "output_type": "stream",
     "text": [
      "KRR acc: mse 0.27320497825384393, mae 0.38464438715322946, smape 0.0597076378833839\n",
      "time: sample 0.5489022731781006 s, linsolve 0.0028057098388671875 s, pred 0.3938610553741455 s\n",
      "Trial 44\n"
     ]
    },
    {
     "name": "stdout",
     "output_type": "stream",
     "text": [
      "KRR acc: mse 0.2669764980399314, mae 0.3797235805703932, smape 0.059021300147002465\n",
      "time: sample 0.5505104064941406 s, linsolve 0.0027425289154052734 s, pred 0.3944540023803711 s\n",
      "Trial 45\n"
     ]
    },
    {
     "name": "stdout",
     "output_type": "stream",
     "text": [
      "KRR acc: mse 0.2545777817426613, mae 0.3704227517874348, smape 0.05751697858910521\n",
      "time: sample 0.5497748851776123 s, linsolve 0.002737760543823242 s, pred 0.39489197731018066 s\n",
      "Trial 46\n"
     ]
    },
    {
     "name": "stdout",
     "output_type": "stream",
     "text": [
      "KRR acc: mse 0.266287907882136, mae 0.37786359703478095, smape 0.05869237930191324\n",
      "time: sample 0.5503599643707275 s, linsolve 0.002729177474975586 s, pred 0.39459991455078125 s\n",
      "Trial 47\n"
     ]
    },
    {
     "name": "stdout",
     "output_type": "stream",
     "text": [
      "KRR acc: mse 0.2620109230582166, mae 0.37556846361317797, smape 0.05835213600241167\n",
      "time: sample 0.549447774887085 s, linsolve 0.0027832984924316406 s, pred 0.39500927925109863 s\n",
      "Trial 48\n"
     ]
    },
    {
     "name": "stdout",
     "output_type": "stream",
     "text": [
      "KRR acc: mse 0.2708800182842924, mae 0.3821512579578427, smape 0.05935730728869329\n",
      "time: sample 0.5501928329467773 s, linsolve 0.0026662349700927734 s, pred 0.3949747085571289 s\n",
      "Trial 49\n"
     ]
    },
    {
     "name": "stdout",
     "output_type": "stream",
     "text": [
      "KRR acc: mse 0.2662915639052245, mae 0.3785818084027822, smape 0.05883074816856326\n",
      "time: sample 0.5493392944335938 s, linsolve 0.0027060508728027344 s, pred 0.3952445983886719 s\n",
      "Trial 50\n"
     ]
    },
    {
     "name": "stdout",
     "output_type": "stream",
     "text": [
      "KRR acc: mse 0.2618400900202619, mae 0.3757747479722272, smape 0.05841156440885319\n",
      "time: sample 0.5498397350311279 s, linsolve 0.0026993751525878906 s, pred 0.3943023681640625 s\n",
      "Trial 51\n"
     ]
    },
    {
     "name": "stdout",
     "output_type": "stream",
     "text": [
      "KRR acc: mse 0.2709986360564611, mae 0.38259333092214054, smape 0.05946521418332731\n",
      "time: sample 0.5538589954376221 s, linsolve 0.0027267932891845703 s, pred 0.39525485038757324 s\n",
      "Trial 52\n"
     ]
    },
    {
     "name": "stdout",
     "output_type": "stream",
     "text": [
      "KRR acc: mse 0.2696242358302265, mae 0.3820814785458551, smape 0.059370636556775415\n",
      "time: sample 0.5506687164306641 s, linsolve 0.002748727798461914 s, pred 0.3945026397705078 s\n",
      "Trial 53\n"
     ]
    },
    {
     "name": "stdout",
     "output_type": "stream",
     "text": [
      "KRR acc: mse 0.2573480528446182, mae 0.37402802210055286, smape 0.0581071165661274\n",
      "time: sample 0.5495247840881348 s, linsolve 0.002748727798461914 s, pred 0.39433979988098145 s\n",
      "Trial 54\n"
     ]
    },
    {
     "name": "stdout",
     "output_type": "stream",
     "text": [
      "KRR acc: mse 0.2713641831532903, mae 0.3805324569854747, smape 0.05912483651894228\n",
      "time: sample 0.5506722927093506 s, linsolve 0.002692699432373047 s, pred 0.3959529399871826 s\n",
      "Trial 55\n"
     ]
    },
    {
     "name": "stdout",
     "output_type": "stream",
     "text": [
      "KRR acc: mse 0.263220434580324, mae 0.37785814319911004, smape 0.058699335955312085\n",
      "time: sample 0.5496311187744141 s, linsolve 0.002816438674926758 s, pred 0.39448022842407227 s\n",
      "Trial 56\n"
     ]
    },
    {
     "name": "stdout",
     "output_type": "stream",
     "text": [
      "KRR acc: mse 0.24899370190095751, mae 0.37134640981496336, smape 0.057654079698127636\n",
      "time: sample 0.5509302616119385 s, linsolve 0.0027337074279785156 s, pred 0.39505910873413086 s\n",
      "Trial 57\n"
     ]
    },
    {
     "name": "stdout",
     "output_type": "stream",
     "text": [
      "KRR acc: mse 0.260498830016356, mae 0.37360296568551093, smape 0.058035373013450874\n",
      "time: sample 0.5492172241210938 s, linsolve 0.0026900768280029297 s, pred 0.3941774368286133 s\n",
      "Trial 58\n"
     ]
    },
    {
     "name": "stdout",
     "output_type": "stream",
     "text": [
      "KRR acc: mse 0.2726288239051938, mae 0.3806034073398872, smape 0.05911775405318553\n",
      "time: sample 0.550656795501709 s, linsolve 0.0027468204498291016 s, pred 0.3937501907348633 s\n",
      "Trial 59\n"
     ]
    },
    {
     "name": "stdout",
     "output_type": "stream",
     "text": [
      "KRR acc: mse 0.2674721566776983, mae 0.3809752875557626, smape 0.05917944889939696\n",
      "time: sample 0.5506222248077393 s, linsolve 0.0028481483459472656 s, pred 0.3943307399749756 s\n",
      "Trial 60\n"
     ]
    },
    {
     "name": "stdout",
     "output_type": "stream",
     "text": [
      "KRR acc: mse 0.26237624574356516, mae 0.3780303987022071, smape 0.058700051862076906\n",
      "time: sample 0.5501797199249268 s, linsolve 0.002743244171142578 s, pred 0.394207239151001 s\n",
      "Trial 61\n"
     ]
    },
    {
     "name": "stdout",
     "output_type": "stream",
     "text": [
      "KRR acc: mse 0.2590459355595796, mae 0.3756494294028533, smape 0.058374456932022326\n",
      "time: sample 0.5492017269134521 s, linsolve 0.002731800079345703 s, pred 0.3949453830718994 s\n",
      "Trial 62\n"
     ]
    },
    {
     "name": "stdout",
     "output_type": "stream",
     "text": [
      "KRR acc: mse 0.2578378552663212, mae 0.37346251966781896, smape 0.058037526625670195\n",
      "time: sample 0.550278902053833 s, linsolve 0.0027284622192382812 s, pred 0.39456868171691895 s\n",
      "Trial 63\n"
     ]
    },
    {
     "name": "stdout",
     "output_type": "stream",
     "text": [
      "KRR acc: mse 0.26293862884369185, mae 0.3767717728882954, smape 0.05853837477360943\n",
      "time: sample 0.5492372512817383 s, linsolve 0.0027379989624023438 s, pred 0.39466214179992676 s\n",
      "Trial 64\n"
     ]
    },
    {
     "name": "stdout",
     "output_type": "stream",
     "text": [
      "KRR acc: mse 0.2534193298123931, mae 0.3715530158787153, smape 0.05773126061597435\n",
      "time: sample 0.5504534244537354 s, linsolve 0.0026924610137939453 s, pred 0.39459681510925293 s\n",
      "Trial 65\n"
     ]
    },
    {
     "name": "stdout",
     "output_type": "stream",
     "text": [
      "KRR acc: mse 0.2657449012852669, mae 0.37894772707072716, smape 0.05890647990576513\n",
      "time: sample 0.5487930774688721 s, linsolve 0.002771139144897461 s, pred 0.3950660228729248 s\n",
      "Trial 66\n"
     ]
    },
    {
     "name": "stdout",
     "output_type": "stream",
     "text": [
      "KRR acc: mse 0.25075754469401956, mae 0.3672128855254517, smape 0.05705888918557208\n",
      "time: sample 0.5498917102813721 s, linsolve 0.0026984214782714844 s, pred 0.39461517333984375 s\n",
      "Trial 67\n"
     ]
    },
    {
     "name": "stdout",
     "output_type": "stream",
     "text": [
      "KRR acc: mse 0.27004062962633474, mae 0.38169477181007433, smape 0.059292828675340595\n",
      "time: sample 0.5487406253814697 s, linsolve 0.002694368362426758 s, pred 0.3942868709564209 s\n",
      "Trial 68\n"
     ]
    },
    {
     "name": "stdout",
     "output_type": "stream",
     "text": [
      "KRR acc: mse 0.272079057783779, mae 0.379710151107969, smape 0.05900319328983418\n",
      "time: sample 0.5508263111114502 s, linsolve 0.0028350353240966797 s, pred 0.3946723937988281 s\n",
      "Trial 69\n"
     ]
    },
    {
     "name": "stdout",
     "output_type": "stream",
     "text": [
      "KRR acc: mse 0.2587673131159336, mae 0.37450929098312497, smape 0.05815281017834646\n",
      "time: sample 0.5491256713867188 s, linsolve 0.002740144729614258 s, pred 0.39447975158691406 s\n",
      "Trial 70\n"
     ]
    },
    {
     "name": "stdout",
     "output_type": "stream",
     "text": [
      "KRR acc: mse 0.2517710183401719, mae 0.3721279214791091, smape 0.05778988394981884\n",
      "time: sample 0.549973726272583 s, linsolve 0.002717733383178711 s, pred 0.39404988288879395 s\n",
      "Trial 71\n"
     ]
    },
    {
     "name": "stdout",
     "output_type": "stream",
     "text": [
      "KRR acc: mse 0.26683604135300776, mae 0.37667921047117114, smape 0.058540287701545526\n",
      "time: sample 0.5487477779388428 s, linsolve 0.0026907920837402344 s, pred 0.3940746784210205 s\n",
      "Trial 72\n"
     ]
    },
    {
     "name": "stdout",
     "output_type": "stream",
     "text": [
      "KRR acc: mse 0.25753763856553047, mae 0.3743835876310938, smape 0.058142793905855854\n",
      "time: sample 0.5503602027893066 s, linsolve 0.002734661102294922 s, pred 0.3944406509399414 s\n",
      "Trial 73\n"
     ]
    },
    {
     "name": "stdout",
     "output_type": "stream",
     "text": [
      "KRR acc: mse 0.25690591588409245, mae 0.37521294325375143, smape 0.05830096070366397\n",
      "time: sample 0.5496957302093506 s, linsolve 0.002772092819213867 s, pred 0.3943178653717041 s\n",
      "Trial 74\n"
     ]
    },
    {
     "name": "stdout",
     "output_type": "stream",
     "text": [
      "KRR acc: mse 0.2633802233165387, mae 0.3763465110677112, smape 0.05848042674216419\n",
      "time: sample 0.5506396293640137 s, linsolve 0.002710103988647461 s, pred 0.39406275749206543 s\n",
      "Trial 75\n"
     ]
    },
    {
     "name": "stdout",
     "output_type": "stream",
     "text": [
      "KRR acc: mse 0.26964692822261255, mae 0.3800058467384741, smape 0.059032395113705616\n",
      "time: sample 0.549309492111206 s, linsolve 0.0027315616607666016 s, pred 0.39470434188842773 s\n",
      "Trial 76\n"
     ]
    },
    {
     "name": "stdout",
     "output_type": "stream",
     "text": [
      "KRR acc: mse 0.26622792413952096, mae 0.37893095116747977, smape 0.058861575731053196\n",
      "time: sample 0.5504059791564941 s, linsolve 0.002737760543823242 s, pred 0.39423561096191406 s\n",
      "Trial 77\n"
     ]
    },
    {
     "name": "stdout",
     "output_type": "stream",
     "text": [
      "KRR acc: mse 0.25698837122264784, mae 0.37397580456144713, smape 0.05809473635985074\n",
      "time: sample 0.5492613315582275 s, linsolve 0.002747058868408203 s, pred 0.394991397857666 s\n",
      "Trial 78\n"
     ]
    },
    {
     "name": "stdout",
     "output_type": "stream",
     "text": [
      "KRR acc: mse 0.266450162814429, mae 0.3791946940977724, smape 0.05887578020205988\n",
      "time: sample 0.5511155128479004 s, linsolve 0.002803325653076172 s, pred 0.39491844177246094 s\n",
      "Trial 79\n"
     ]
    },
    {
     "name": "stdout",
     "output_type": "stream",
     "text": [
      "KRR acc: mse 0.2600189063928753, mae 0.37523108717955056, smape 0.05832153711588264\n",
      "time: sample 0.5481307506561279 s, linsolve 0.002680540084838867 s, pred 0.39435291290283203 s\n",
      "Trial 80\n"
     ]
    },
    {
     "name": "stdout",
     "output_type": "stream",
     "text": [
      "KRR acc: mse 0.26089252446835487, mae 0.3763551827969205, smape 0.05849251884863786\n",
      "time: sample 0.5498907566070557 s, linsolve 0.0027091503143310547 s, pred 0.39473462104797363 s\n",
      "Trial 81\n"
     ]
    },
    {
     "name": "stdout",
     "output_type": "stream",
     "text": [
      "KRR acc: mse 0.26528801756099263, mae 0.37980264540679703, smape 0.05905396720218498\n",
      "time: sample 0.5491700172424316 s, linsolve 0.002756357192993164 s, pred 0.3942148685455322 s\n",
      "Trial 82\n"
     ]
    },
    {
     "name": "stdout",
     "output_type": "stream",
     "text": [
      "KRR acc: mse 0.26112673914596196, mae 0.3746169959647783, smape 0.05819670559015011\n",
      "time: sample 0.5497763156890869 s, linsolve 0.002741575241088867 s, pred 0.39472389221191406 s\n",
      "Trial 83\n"
     ]
    },
    {
     "name": "stdout",
     "output_type": "stream",
     "text": [
      "KRR acc: mse 0.27507289985311184, mae 0.3859168819790653, smape 0.05997200287152821\n",
      "time: sample 0.5480153560638428 s, linsolve 0.0026717185974121094 s, pred 0.39472007751464844 s\n",
      "Trial 84\n"
     ]
    },
    {
     "name": "stdout",
     "output_type": "stream",
     "text": [
      "KRR acc: mse 0.27111124685494703, mae 0.3819515986659402, smape 0.0593480943313459\n",
      "time: sample 0.5500445365905762 s, linsolve 0.0027208328247070312 s, pred 0.3939993381500244 s\n",
      "Trial 85\n"
     ]
    },
    {
     "name": "stdout",
     "output_type": "stream",
     "text": [
      "KRR acc: mse 0.26600791509467875, mae 0.3781012845900911, smape 0.05878819234426474\n",
      "time: sample 0.5488917827606201 s, linsolve 0.002703428268432617 s, pred 0.3947763442993164 s\n",
      "Trial 86\n"
     ]
    },
    {
     "name": "stdout",
     "output_type": "stream",
     "text": [
      "KRR acc: mse 0.24855778517538635, mae 0.37356142536269676, smape 0.0579971165404123\n",
      "time: sample 0.5503396987915039 s, linsolve 0.0027282238006591797 s, pred 0.39416933059692383 s\n",
      "Trial 87\n"
     ]
    },
    {
     "name": "stdout",
     "output_type": "stream",
     "text": [
      "KRR acc: mse 0.2827541220308689, mae 0.3866267222940384, smape 0.060039941690330736\n",
      "time: sample 0.5494990348815918 s, linsolve 0.0027604103088378906 s, pred 0.3947029113769531 s\n",
      "Trial 88\n"
     ]
    },
    {
     "name": "stdout",
     "output_type": "stream",
     "text": [
      "KRR acc: mse 0.27937903210350135, mae 0.38641986308092585, smape 0.060043433149325344\n",
      "time: sample 0.5499477386474609 s, linsolve 0.002716541290283203 s, pred 0.3939054012298584 s\n",
      "Trial 89\n"
     ]
    },
    {
     "name": "stdout",
     "output_type": "stream",
     "text": [
      "KRR acc: mse 0.26879900557742586, mae 0.3777239015638899, smape 0.05863107634932055\n",
      "time: sample 0.5544178485870361 s, linsolve 0.0028123855590820312 s, pred 0.39505505561828613 s\n",
      "Trial 90\n"
     ]
    },
    {
     "name": "stdout",
     "output_type": "stream",
     "text": [
      "KRR acc: mse 0.2568657621316404, mae 0.37192085289496446, smape 0.05775277944459924\n",
      "time: sample 0.5498733520507812 s, linsolve 0.0027277469635009766 s, pred 0.39467740058898926 s\n",
      "Trial 91\n"
     ]
    },
    {
     "name": "stdout",
     "output_type": "stream",
     "text": [
      "KRR acc: mse 0.26908512020077463, mae 0.37988978064431767, smape 0.05901069137634389\n",
      "time: sample 0.5484871864318848 s, linsolve 0.002729177474975586 s, pred 0.3942437171936035 s\n",
      "Trial 92\n"
     ]
    },
    {
     "name": "stdout",
     "output_type": "stream",
     "text": [
      "KRR acc: mse 0.2559798672083604, mae 0.3785350008201281, smape 0.05872259303959559\n",
      "time: sample 0.5498251914978027 s, linsolve 0.0027179718017578125 s, pred 0.39455604553222656 s\n",
      "Trial 93\n"
     ]
    },
    {
     "name": "stdout",
     "output_type": "stream",
     "text": [
      "KRR acc: mse 0.26751291857015375, mae 0.3802189616324373, smape 0.059091344734691506\n",
      "time: sample 0.5491394996643066 s, linsolve 0.002750396728515625 s, pred 0.39367151260375977 s\n",
      "Trial 94\n"
     ]
    },
    {
     "name": "stdout",
     "output_type": "stream",
     "text": [
      "KRR acc: mse 0.2692249114596606, mae 0.3804757794856276, smape 0.059093296604306456\n",
      "time: sample 0.5503528118133545 s, linsolve 0.0027070045471191406 s, pred 0.3944988250732422 s\n",
      "Trial 95\n"
     ]
    },
    {
     "name": "stdout",
     "output_type": "stream",
     "text": [
      "KRR acc: mse 0.2685033477412712, mae 0.37986729870656794, smape 0.05902758683243916\n",
      "time: sample 0.5494461059570312 s, linsolve 0.002746105194091797 s, pred 0.39518189430236816 s\n",
      "Trial 96\n"
     ]
    },
    {
     "name": "stdout",
     "output_type": "stream",
     "text": [
      "KRR acc: mse 0.2767900239778986, mae 0.38419232827666444, smape 0.05967515342859769\n",
      "time: sample 0.550295352935791 s, linsolve 0.0027256011962890625 s, pred 0.3945028781890869 s\n",
      "Trial 97\n"
     ]
    },
    {
     "name": "stdout",
     "output_type": "stream",
     "text": [
      "KRR acc: mse 0.2580628044297963, mae 0.37384701139099596, smape 0.05807647599534059\n",
      "time: sample 0.5490601062774658 s, linsolve 0.002727985382080078 s, pred 0.39504480361938477 s\n",
      "Trial 98\n"
     ]
    },
    {
     "name": "stdout",
     "output_type": "stream",
     "text": [
      "KRR acc: mse 0.269311233223285, mae 0.38025154656328813, smape 0.05905744115213845\n",
      "time: sample 0.5507099628448486 s, linsolve 0.002732515335083008 s, pred 0.39425230026245117 s\n",
      "Trial 99\n"
     ]
    },
    {
     "name": "stdout",
     "output_type": "stream",
     "text": [
      "KRR acc: mse 0.25783672365719507, mae 0.37547854599561153, smape 0.05830447376166169\n",
      "time: sample 0.5493028163909912 s, linsolve 0.0027272701263427734 s, pred 0.39417505264282227 s\n",
      "k = 256\n",
      "Trial 0\n"
     ]
    },
    {
     "name": "stdout",
     "output_type": "stream",
     "text": [
      "KRR acc: mse 0.22357380666842405, mae 0.3503836993716162, smape 0.054406580022331195\n",
      "time: sample 1.0648250579833984 s, linsolve 0.0075571537017822266 s, pred 0.7544209957122803 s\n",
      "Trial 1\n"
     ]
    },
    {
     "name": "stdout",
     "output_type": "stream",
     "text": [
      "KRR acc: mse 0.2206745446205635, mae 0.3465695444622469, smape 0.05382289098089041\n",
      "time: sample 1.0228211879730225 s, linsolve 0.007536172866821289 s, pred 0.7544190883636475 s\n",
      "Trial 2\n"
     ]
    },
    {
     "name": "stdout",
     "output_type": "stream",
     "text": [
      "KRR acc: mse 0.22961737602895896, mae 0.3504585777966346, smape 0.05444564508250627\n",
      "time: sample 1.0828814506530762 s, linsolve 0.007147789001464844 s, pred 0.7544562816619873 s\n",
      "Trial 3\n"
     ]
    },
    {
     "name": "stdout",
     "output_type": "stream",
     "text": [
      "KRR acc: mse 0.2151755205717262, mae 0.34431088706687846, smape 0.053471103885090215\n",
      "time: sample 1.066124439239502 s, linsolve 0.007174491882324219 s, pred 0.7536695003509521 s\n",
      "Trial 4\n"
     ]
    },
    {
     "name": "stdout",
     "output_type": "stream",
     "text": [
      "KRR acc: mse 0.21358659648744555, mae 0.3447290118628297, smape 0.053532502480907795\n",
      "time: sample 1.021355152130127 s, linsolve 0.00717616081237793 s, pred 0.7547283172607422 s\n",
      "Trial 5\n"
     ]
    },
    {
     "name": "stdout",
     "output_type": "stream",
     "text": [
      "KRR acc: mse 0.22093093459797547, mae 0.34748796315984226, smape 0.05398757039087435\n",
      "time: sample 1.0528032779693604 s, linsolve 0.00722813606262207 s, pred 0.7535269260406494 s\n",
      "Trial 6\n"
     ]
    },
    {
     "name": "stdout",
     "output_type": "stream",
     "text": [
      "KRR acc: mse 0.22003487016795406, mae 0.3478898306381706, smape 0.05406379971765091\n",
      "time: sample 1.059626817703247 s, linsolve 0.007227897644042969 s, pred 0.7548995018005371 s\n",
      "Trial 7\n"
     ]
    },
    {
     "name": "stdout",
     "output_type": "stream",
     "text": [
      "KRR acc: mse 0.23120436494570495, mae 0.35256248510890553, smape 0.054802217707840294\n",
      "time: sample 1.0819766521453857 s, linsolve 0.007201433181762695 s, pred 0.7576546669006348 s\n",
      "Trial 8\n"
     ]
    },
    {
     "name": "stdout",
     "output_type": "stream",
     "text": [
      "KRR acc: mse 0.2352048066155245, mae 0.35341315589155303, smape 0.0548857800310582\n",
      "time: sample 1.0643138885498047 s, linsolve 0.007272005081176758 s, pred 0.7543714046478271 s\n",
      "Trial 9\n"
     ]
    },
    {
     "name": "stdout",
     "output_type": "stream",
     "text": [
      "KRR acc: mse 0.21970182192806842, mae 0.34571845189373446, smape 0.05371990450298161\n",
      "time: sample 1.0543251037597656 s, linsolve 0.007250547409057617 s, pred 0.7547037601470947 s\n",
      "Trial 10\n"
     ]
    },
    {
     "name": "stdout",
     "output_type": "stream",
     "text": [
      "KRR acc: mse 0.22321050187287073, mae 0.3475956044293762, smape 0.05401700195498172\n",
      "time: sample 1.0580189228057861 s, linsolve 0.007197380065917969 s, pred 0.7541811466217041 s\n",
      "Trial 11\n"
     ]
    },
    {
     "name": "stdout",
     "output_type": "stream",
     "text": [
      "KRR acc: mse 0.23091640792574689, mae 0.35281045568917735, smape 0.05483095929698843\n",
      "time: sample 1.0598726272583008 s, linsolve 0.007211923599243164 s, pred 0.7555801868438721 s\n",
      "Trial 12\n"
     ]
    },
    {
     "name": "stdout",
     "output_type": "stream",
     "text": [
      "KRR acc: mse 0.22844465838970426, mae 0.35106467705345396, smape 0.054549360895374925\n",
      "time: sample 1.0524778366088867 s, linsolve 0.007199764251708984 s, pred 0.7550454139709473 s\n",
      "Trial 13\n"
     ]
    },
    {
     "name": "stdout",
     "output_type": "stream",
     "text": [
      "KRR acc: mse 0.21069184672372193, mae 0.3445284157823616, smape 0.0534970642154261\n",
      "time: sample 1.0293586254119873 s, linsolve 0.007292747497558594 s, pred 0.7543175220489502 s\n",
      "Trial 14\n"
     ]
    },
    {
     "name": "stdout",
     "output_type": "stream",
     "text": [
      "KRR acc: mse 0.22334527371622281, mae 0.3487993670148473, smape 0.054193429230665904\n",
      "time: sample 1.0205814838409424 s, linsolve 0.0072479248046875 s, pred 0.7543184757232666 s\n",
      "Trial 15\n"
     ]
    },
    {
     "name": "stdout",
     "output_type": "stream",
     "text": [
      "KRR acc: mse 0.21627989928742777, mae 0.3477559000735485, smape 0.05399942677636376\n",
      "time: sample 1.0606913566589355 s, linsolve 0.007266044616699219 s, pred 0.7552993297576904 s\n",
      "Trial 16\n"
     ]
    },
    {
     "name": "stdout",
     "output_type": "stream",
     "text": [
      "KRR acc: mse 0.22188960069562394, mae 0.3487675087650792, smape 0.05421778330570745\n",
      "time: sample 1.1178390979766846 s, linsolve 0.007521152496337891 s, pred 0.7556660175323486 s\n",
      "Trial 17\n"
     ]
    },
    {
     "name": "stdout",
     "output_type": "stream",
     "text": [
      "KRR acc: mse 0.2257795615420589, mae 0.3523713074404255, smape 0.054731655786689655\n",
      "time: sample 1.0246047973632812 s, linsolve 0.007248640060424805 s, pred 0.7538461685180664 s\n",
      "Trial 18\n"
     ]
    },
    {
     "name": "stdout",
     "output_type": "stream",
     "text": [
      "KRR acc: mse 0.21872219730054857, mae 0.3475123282840349, smape 0.05400883855019574\n",
      "time: sample 1.0664207935333252 s, linsolve 0.0073201656341552734 s, pred 0.7546842098236084 s\n",
      "Trial 19\n"
     ]
    },
    {
     "name": "stdout",
     "output_type": "stream",
     "text": [
      "KRR acc: mse 0.213235842424071, mae 0.34500494759292394, smape 0.053579351878324494\n",
      "time: sample 1.0236146450042725 s, linsolve 0.007137775421142578 s, pred 0.7547900676727295 s\n",
      "Trial 20\n"
     ]
    },
    {
     "name": "stdout",
     "output_type": "stream",
     "text": [
      "KRR acc: mse 0.22775666697283578, mae 0.3499523717459688, smape 0.054406745911157336\n",
      "time: sample 1.064110517501831 s, linsolve 0.007233142852783203 s, pred 0.7546584606170654 s\n",
      "Trial 21\n"
     ]
    },
    {
     "name": "stdout",
     "output_type": "stream",
     "text": [
      "KRR acc: mse 0.22070338158556305, mae 0.34561778311314545, smape 0.05365557131720797\n",
      "time: sample 1.0242035388946533 s, linsolve 0.0072345733642578125 s, pred 0.7542657852172852 s\n",
      "Trial 22\n"
     ]
    },
    {
     "name": "stdout",
     "output_type": "stream",
     "text": [
      "KRR acc: mse 0.228422022149233, mae 0.3507070691453556, smape 0.05450356043407954\n",
      "time: sample 1.0544593334197998 s, linsolve 0.007327079772949219 s, pred 0.7541098594665527 s\n",
      "Trial 23\n"
     ]
    },
    {
     "name": "stdout",
     "output_type": "stream",
     "text": [
      "KRR acc: mse 0.21729718228612893, mae 0.34995974948970077, smape 0.0543146302903477\n",
      "time: sample 1.023061752319336 s, linsolve 0.007229804992675781 s, pred 0.7540559768676758 s\n",
      "Trial 24\n"
     ]
    },
    {
     "name": "stdout",
     "output_type": "stream",
     "text": [
      "KRR acc: mse 0.2241808986763579, mae 0.34883738511596735, smape 0.05421879897633522\n",
      "time: sample 1.067774772644043 s, linsolve 0.007330894470214844 s, pred 0.7553501129150391 s\n",
      "Trial 25\n"
     ]
    },
    {
     "name": "stdout",
     "output_type": "stream",
     "text": [
      "KRR acc: mse 0.2325991795981643, mae 0.35239030144947003, smape 0.05474724194824625\n",
      "time: sample 1.0680010318756104 s, linsolve 0.007195472717285156 s, pred 0.7546460628509521 s\n",
      "Trial 26\n"
     ]
    },
    {
     "name": "stdout",
     "output_type": "stream",
     "text": [
      "KRR acc: mse 0.2327902145729339, mae 0.35578144638209025, smape 0.0552465255158761\n",
      "time: sample 1.0588159561157227 s, linsolve 0.007284641265869141 s, pred 0.7542998790740967 s\n",
      "Trial 27\n"
     ]
    },
    {
     "name": "stdout",
     "output_type": "stream",
     "text": [
      "KRR acc: mse 0.22159011078634638, mae 0.34729513531122336, smape 0.05393039743466051\n",
      "time: sample 1.032573938369751 s, linsolve 0.0071828365325927734 s, pred 0.753490686416626 s\n",
      "Trial 28\n"
     ]
    },
    {
     "name": "stdout",
     "output_type": "stream",
     "text": [
      "KRR acc: mse 0.2207070441170794, mae 0.3464504562857479, smape 0.05383599572753148\n",
      "time: sample 1.0639026165008545 s, linsolve 0.0072057247161865234 s, pred 0.7557015419006348 s\n",
      "Trial 29\n"
     ]
    },
    {
     "name": "stdout",
     "output_type": "stream",
     "text": [
      "KRR acc: mse 0.23394093848825992, mae 0.35642711665437044, smape 0.055417728661197714\n",
      "time: sample 1.0271387100219727 s, linsolve 0.007165431976318359 s, pred 0.7551758289337158 s\n",
      "Trial 30\n"
     ]
    },
    {
     "name": "stdout",
     "output_type": "stream",
     "text": [
      "KRR acc: mse 0.2249167147831497, mae 0.34927124479491484, smape 0.05427904084666469\n",
      "time: sample 1.0207231044769287 s, linsolve 0.007428407669067383 s, pred 0.7549276351928711 s\n",
      "Trial 31\n"
     ]
    },
    {
     "name": "stdout",
     "output_type": "stream",
     "text": [
      "KRR acc: mse 0.2255001805612991, mae 0.351142254107361, smape 0.05456554236816239\n",
      "time: sample 1.0284802913665771 s, linsolve 0.007208585739135742 s, pred 0.7549538612365723 s\n",
      "Trial 32\n"
     ]
    },
    {
     "name": "stdout",
     "output_type": "stream",
     "text": [
      "KRR acc: mse 0.22561723204765957, mae 0.3496005140870923, smape 0.054290530398256216\n",
      "time: sample 1.0313260555267334 s, linsolve 0.007259845733642578 s, pred 0.7548613548278809 s\n",
      "Trial 33\n"
     ]
    },
    {
     "name": "stdout",
     "output_type": "stream",
     "text": [
      "KRR acc: mse 0.2285149218356866, mae 0.3527699194000211, smape 0.05481854662701211\n",
      "time: sample 1.0232212543487549 s, linsolve 0.007420063018798828 s, pred 0.7541046142578125 s\n",
      "Trial 34\n"
     ]
    },
    {
     "name": "stdout",
     "output_type": "stream",
     "text": [
      "KRR acc: mse 0.22658560175519138, mae 0.35050546966960666, smape 0.05445331248670792\n",
      "time: sample 1.02927827835083 s, linsolve 0.007233142852783203 s, pred 0.7538704872131348 s\n",
      "Trial 35\n"
     ]
    },
    {
     "name": "stdout",
     "output_type": "stream",
     "text": [
      "KRR acc: mse 0.22403568566732018, mae 0.3486302369200139, smape 0.05417322276389711\n",
      "time: sample 1.0589616298675537 s, linsolve 0.007250070571899414 s, pred 0.7544853687286377 s\n",
      "Trial 36\n"
     ]
    },
    {
     "name": "stdout",
     "output_type": "stream",
     "text": [
      "KRR acc: mse 0.22227148188428497, mae 0.3487310804632042, smape 0.054199219582240755\n",
      "time: sample 1.0244526863098145 s, linsolve 0.00724339485168457 s, pred 0.7534453868865967 s\n",
      "Trial 37\n"
     ]
    },
    {
     "name": "stdout",
     "output_type": "stream",
     "text": [
      "KRR acc: mse 0.23408504548369297, mae 0.3548737532352308, smape 0.05512854265313117\n",
      "time: sample 1.064774513244629 s, linsolve 0.007205486297607422 s, pred 0.7540664672851562 s\n",
      "Trial 38\n"
     ]
    },
    {
     "name": "stdout",
     "output_type": "stream",
     "text": [
      "KRR acc: mse 0.22376099845740682, mae 0.34830937148783264, smape 0.05413710413370277\n",
      "time: sample 1.0227081775665283 s, linsolve 0.007209062576293945 s, pred 0.7549693584442139 s\n",
      "Trial 39\n"
     ]
    },
    {
     "name": "stdout",
     "output_type": "stream",
     "text": [
      "KRR acc: mse 0.22506394067502739, mae 0.3528747533663267, smape 0.05481436491158791\n",
      "time: sample 1.0590736865997314 s, linsolve 0.007329225540161133 s, pred 0.7539513111114502 s\n",
      "Trial 40\n"
     ]
    },
    {
     "name": "stdout",
     "output_type": "stream",
     "text": [
      "KRR acc: mse 0.2256696389771992, mae 0.35037692213744803, smape 0.054468080842872926\n",
      "time: sample 1.0585806369781494 s, linsolve 0.0072154998779296875 s, pred 0.7545630931854248 s\n",
      "Trial 41\n"
     ]
    },
    {
     "name": "stdout",
     "output_type": "stream",
     "text": [
      "KRR acc: mse 0.22985764378979628, mae 0.352373123352022, smape 0.05474051680316695\n",
      "time: sample 1.059784173965454 s, linsolve 0.007322072982788086 s, pred 0.7542805671691895 s\n",
      "Trial 42\n"
     ]
    },
    {
     "name": "stdout",
     "output_type": "stream",
     "text": [
      "KRR acc: mse 0.2230044158566884, mae 0.3482170898597167, smape 0.054099363187455125\n",
      "time: sample 1.0538175106048584 s, linsolve 0.007207155227661133 s, pred 0.7537832260131836 s\n",
      "Trial 43\n"
     ]
    },
    {
     "name": "stdout",
     "output_type": "stream",
     "text": [
      "KRR acc: mse 0.22554493290685665, mae 0.3509549343087504, smape 0.05455468376785748\n",
      "time: sample 1.0288949012756348 s, linsolve 0.007296323776245117 s, pred 0.7540278434753418 s\n",
      "Trial 44\n"
     ]
    },
    {
     "name": "stdout",
     "output_type": "stream",
     "text": [
      "KRR acc: mse 0.22821909921971884, mae 0.35165273812002423, smape 0.0546575041961205\n",
      "time: sample 1.0248184204101562 s, linsolve 0.007189512252807617 s, pred 0.7541463375091553 s\n",
      "Trial 45\n"
     ]
    },
    {
     "name": "stdout",
     "output_type": "stream",
     "text": [
      "KRR acc: mse 0.22072502034380856, mae 0.34804327595197926, smape 0.05408220487260042\n",
      "time: sample 1.056067705154419 s, linsolve 0.0072591304779052734 s, pred 0.7539989948272705 s\n",
      "Trial 46\n"
     ]
    },
    {
     "name": "stdout",
     "output_type": "stream",
     "text": [
      "KRR acc: mse 0.2337474883073014, mae 0.3573205939058984, smape 0.05551582689634747\n",
      "time: sample 1.0555214881896973 s, linsolve 0.007223367691040039 s, pred 0.7534830570220947 s\n",
      "Trial 47\n"
     ]
    },
    {
     "name": "stdout",
     "output_type": "stream",
     "text": [
      "KRR acc: mse 0.22603362176146397, mae 0.3527704995505343, smape 0.0548222293417427\n",
      "time: sample 1.0472254753112793 s, linsolve 0.00717473030090332 s, pred 0.7532815933227539 s\n",
      "Trial 48\n"
     ]
    },
    {
     "name": "stdout",
     "output_type": "stream",
     "text": [
      "KRR acc: mse 0.21914244188074125, mae 0.3469100399609258, smape 0.05389597728818302\n",
      "time: sample 1.0274221897125244 s, linsolve 0.007227659225463867 s, pred 0.7566978931427002 s\n",
      "Trial 49\n"
     ]
    },
    {
     "name": "stdout",
     "output_type": "stream",
     "text": [
      "KRR acc: mse 0.2260161721046754, mae 0.34963371523302617, smape 0.05433915923326564\n",
      "time: sample 1.0304694175720215 s, linsolve 0.007395505905151367 s, pred 0.7555103302001953 s\n",
      "Trial 50\n"
     ]
    },
    {
     "name": "stdout",
     "output_type": "stream",
     "text": [
      "KRR acc: mse 0.21918566476699552, mae 0.3484758649757039, smape 0.05409034577068821\n",
      "time: sample 1.0617785453796387 s, linsolve 0.0072138309478759766 s, pred 0.754601001739502 s\n",
      "Trial 51\n"
     ]
    },
    {
     "name": "stdout",
     "output_type": "stream",
     "text": [
      "KRR acc: mse 0.2266300955152782, mae 0.3504379811838463, smape 0.05444610601224872\n",
      "time: sample 1.032177209854126 s, linsolve 0.007247447967529297 s, pred 0.7550044059753418 s\n",
      "Trial 52\n"
     ]
    },
    {
     "name": "stdout",
     "output_type": "stream",
     "text": [
      "KRR acc: mse 0.2233656152513094, mae 0.34927032640672917, smape 0.054251368749185215\n",
      "time: sample 1.0860936641693115 s, linsolve 0.0072019100189208984 s, pred 0.7543394565582275 s\n",
      "Trial 53\n"
     ]
    },
    {
     "name": "stdout",
     "output_type": "stream",
     "text": [
      "KRR acc: mse 0.22040899098871078, mae 0.3471228912206338, smape 0.0539152895191335\n",
      "time: sample 1.0285978317260742 s, linsolve 0.007234096527099609 s, pred 0.7549905776977539 s\n",
      "Trial 54\n"
     ]
    },
    {
     "name": "stdout",
     "output_type": "stream",
     "text": [
      "KRR acc: mse 0.23093124478987692, mae 0.35426352943742234, smape 0.055065071806069975\n",
      "time: sample 1.021782398223877 s, linsolve 0.0071430206298828125 s, pred 0.7537782192230225 s\n",
      "Trial 55\n"
     ]
    },
    {
     "name": "stdout",
     "output_type": "stream",
     "text": [
      "KRR acc: mse 0.2323659449090976, mae 0.35395696080694045, smape 0.054987442876398424\n",
      "time: sample 1.063152551651001 s, linsolve 0.00754094123840332 s, pred 0.7549872398376465 s\n",
      "Trial 56\n"
     ]
    },
    {
     "name": "stdout",
     "output_type": "stream",
     "text": [
      "KRR acc: mse 0.22673331354094936, mae 0.3507322414574609, smape 0.05449895632449957\n",
      "time: sample 1.0891854763031006 s, linsolve 0.007203340530395508 s, pred 0.754920482635498 s\n",
      "Trial 57\n"
     ]
    },
    {
     "name": "stdout",
     "output_type": "stream",
     "text": [
      "KRR acc: mse 0.22221328563065781, mae 0.34888055062376677, smape 0.05420809542270972\n",
      "time: sample 1.0284428596496582 s, linsolve 0.0072443485260009766 s, pred 0.7535529136657715 s\n",
      "Trial 58\n"
     ]
    },
    {
     "name": "stdout",
     "output_type": "stream",
     "text": [
      "KRR acc: mse 0.21937137743621493, mae 0.3475754803461253, smape 0.053999900728977694\n",
      "time: sample 1.066551923751831 s, linsolve 0.007199287414550781 s, pred 0.7547323703765869 s\n",
      "Trial 59\n"
     ]
    },
    {
     "name": "stdout",
     "output_type": "stream",
     "text": [
      "KRR acc: mse 0.2205747552598691, mae 0.34608629033770527, smape 0.05378376143210124\n",
      "time: sample 1.0235064029693604 s, linsolve 0.007190227508544922 s, pred 0.7543041706085205 s\n",
      "Trial 60\n"
     ]
    },
    {
     "name": "stdout",
     "output_type": "stream",
     "text": [
      "KRR acc: mse 0.2212840739021278, mae 0.34762182153468474, smape 0.054005435577448746\n",
      "time: sample 1.0610063076019287 s, linsolve 0.007197380065917969 s, pred 0.7548849582672119 s\n",
      "Trial 61\n"
     ]
    },
    {
     "name": "stdout",
     "output_type": "stream",
     "text": [
      "KRR acc: mse 0.2167892837590456, mae 0.347818547522815, smape 0.05401596839507987\n",
      "time: sample 1.0326333045959473 s, linsolve 0.0071446895599365234 s, pred 0.7554287910461426 s\n",
      "Trial 62\n"
     ]
    },
    {
     "name": "stdout",
     "output_type": "stream",
     "text": [
      "KRR acc: mse 0.22209176780974677, mae 0.34913264298686963, smape 0.05425726585315241\n",
      "time: sample 1.051743745803833 s, linsolve 0.007184505462646484 s, pred 0.7544920444488525 s\n",
      "Trial 63\n"
     ]
    },
    {
     "name": "stdout",
     "output_type": "stream",
     "text": [
      "KRR acc: mse 0.23381826181756907, mae 0.3559138654341186, smape 0.05528989999640769\n",
      "time: sample 1.0257391929626465 s, linsolve 0.00722956657409668 s, pred 0.7541418075561523 s\n",
      "Trial 64\n"
     ]
    },
    {
     "name": "stdout",
     "output_type": "stream",
     "text": [
      "KRR acc: mse 0.23230616433514828, mae 0.35499670771083136, smape 0.055161904080908916\n",
      "time: sample 1.0627970695495605 s, linsolve 0.0071811676025390625 s, pred 0.7554428577423096 s\n",
      "Trial 65\n"
     ]
    },
    {
     "name": "stdout",
     "output_type": "stream",
     "text": [
      "KRR acc: mse 0.21795373499238832, mae 0.3464339038511092, smape 0.05382080568930556\n",
      "time: sample 1.0606846809387207 s, linsolve 0.0072116851806640625 s, pred 0.7548680305480957 s\n",
      "Trial 66\n"
     ]
    },
    {
     "name": "stdout",
     "output_type": "stream",
     "text": [
      "KRR acc: mse 0.21945979292051424, mae 0.3472000688972953, smape 0.05395444057985231\n",
      "time: sample 1.0879945755004883 s, linsolve 0.007164478302001953 s, pred 0.7546215057373047 s\n",
      "Trial 67\n"
     ]
    },
    {
     "name": "stdout",
     "output_type": "stream",
     "text": [
      "KRR acc: mse 0.23038665126313354, mae 0.35357776907573557, smape 0.054994457835291596\n",
      "time: sample 1.0325546264648438 s, linsolve 0.007349967956542969 s, pred 0.753788948059082 s\n",
      "Trial 68\n"
     ]
    },
    {
     "name": "stdout",
     "output_type": "stream",
     "text": [
      "KRR acc: mse 0.22375911023071948, mae 0.34924107775662205, smape 0.054208004208007934\n",
      "time: sample 1.027275800704956 s, linsolve 0.007216453552246094 s, pred 0.7544398307800293 s\n",
      "Trial 69\n"
     ]
    },
    {
     "name": "stdout",
     "output_type": "stream",
     "text": [
      "KRR acc: mse 0.22317538334763762, mae 0.3472177005513491, smape 0.05393842772816442\n",
      "time: sample 1.055403709411621 s, linsolve 0.007200002670288086 s, pred 0.7536818981170654 s\n",
      "Trial 70\n"
     ]
    },
    {
     "name": "stdout",
     "output_type": "stream",
     "text": [
      "KRR acc: mse 0.22909419243657694, mae 0.3521901367055446, smape 0.054741601010627916\n",
      "time: sample 1.0288114547729492 s, linsolve 0.007181406021118164 s, pred 0.7529904842376709 s\n",
      "Trial 71\n"
     ]
    },
    {
     "name": "stdout",
     "output_type": "stream",
     "text": [
      "KRR acc: mse 0.22585141802004952, mae 0.3503043823130442, smape 0.05442288381668065\n",
      "time: sample 1.0223534107208252 s, linsolve 0.007199525833129883 s, pred 0.7545645236968994 s\n",
      "Trial 72\n"
     ]
    },
    {
     "name": "stdout",
     "output_type": "stream",
     "text": [
      "KRR acc: mse 0.2290946668224244, mae 0.3522437146762116, smape 0.0547325628384345\n",
      "time: sample 1.031764030456543 s, linsolve 0.007222890853881836 s, pred 0.7547824382781982 s\n",
      "Trial 73\n"
     ]
    },
    {
     "name": "stdout",
     "output_type": "stream",
     "text": [
      "KRR acc: mse 0.22634990909126396, mae 0.3497026938082791, smape 0.054347513597881356\n",
      "time: sample 1.021566390991211 s, linsolve 0.0071794986724853516 s, pred 0.755138635635376 s\n",
      "Trial 74\n"
     ]
    },
    {
     "name": "stdout",
     "output_type": "stream",
     "text": [
      "KRR acc: mse 0.22752191254755763, mae 0.3524043019998024, smape 0.054748005579872645\n",
      "time: sample 1.0620615482330322 s, linsolve 0.007206439971923828 s, pred 0.7541055679321289 s\n",
      "Trial 75\n"
     ]
    },
    {
     "name": "stdout",
     "output_type": "stream",
     "text": [
      "KRR acc: mse 0.22558258530539946, mae 0.3504923376505956, smape 0.05447864811121548\n",
      "time: sample 1.060107707977295 s, linsolve 0.007289886474609375 s, pred 0.7552895545959473 s\n",
      "Trial 76\n"
     ]
    },
    {
     "name": "stdout",
     "output_type": "stream",
     "text": [
      "KRR acc: mse 0.22717738158873343, mae 0.3522640828720677, smape 0.05472103699750428\n",
      "time: sample 1.0308661460876465 s, linsolve 0.0071375370025634766 s, pred 0.7538256645202637 s\n",
      "Trial 77\n"
     ]
    },
    {
     "name": "stdout",
     "output_type": "stream",
     "text": [
      "KRR acc: mse 0.2207143470233574, mae 0.3483392391706453, smape 0.05411733985538301\n",
      "time: sample 1.0600292682647705 s, linsolve 0.0071794986724853516 s, pred 0.7533366680145264 s\n",
      "Trial 78\n"
     ]
    },
    {
     "name": "stdout",
     "output_type": "stream",
     "text": [
      "KRR acc: mse 0.22483036721631766, mae 0.350355921161979, smape 0.05440063227254219\n",
      "time: sample 1.0660722255706787 s, linsolve 0.0073206424713134766 s, pred 0.754894495010376 s\n",
      "Trial 79\n"
     ]
    },
    {
     "name": "stdout",
     "output_type": "stream",
     "text": [
      "KRR acc: mse 0.22969416123374908, mae 0.3539832488065641, smape 0.05496953172222279\n",
      "time: sample 1.0653131008148193 s, linsolve 0.007471323013305664 s, pred 0.7540326118469238 s\n",
      "Trial 80\n"
     ]
    },
    {
     "name": "stdout",
     "output_type": "stream",
     "text": [
      "KRR acc: mse 0.22696474342584483, mae 0.3503714439508924, smape 0.05442532949594063\n",
      "time: sample 1.0586962699890137 s, linsolve 0.007309675216674805 s, pred 0.7545926570892334 s\n",
      "Trial 81\n"
     ]
    },
    {
     "name": "stdout",
     "output_type": "stream",
     "text": [
      "KRR acc: mse 0.2207844884488139, mae 0.3476559344803872, smape 0.0539965821098216\n",
      "time: sample 1.061441421508789 s, linsolve 0.007275581359863281 s, pred 0.7544527053833008 s\n",
      "Trial 82\n"
     ]
    },
    {
     "name": "stdout",
     "output_type": "stream",
     "text": [
      "KRR acc: mse 0.23278899116797006, mae 0.35362751031978124, smape 0.05499140094007079\n",
      "time: sample 1.0546340942382812 s, linsolve 0.0072307586669921875 s, pred 0.754021406173706 s\n",
      "Trial 83\n"
     ]
    },
    {
     "name": "stdout",
     "output_type": "stream",
     "text": [
      "KRR acc: mse 0.231653617278116, mae 0.35305885057307396, smape 0.054874121027321324\n",
      "time: sample 1.0632050037384033 s, linsolve 0.007259368896484375 s, pred 0.7558045387268066 s\n",
      "Trial 84\n"
     ]
    },
    {
     "name": "stdout",
     "output_type": "stream",
     "text": [
      "KRR acc: mse 0.23251819399861298, mae 0.3539444305127759, smape 0.054986067852292216\n",
      "time: sample 1.0631043910980225 s, linsolve 0.007230043411254883 s, pred 0.7545738220214844 s\n",
      "Trial 85\n"
     ]
    },
    {
     "name": "stdout",
     "output_type": "stream",
     "text": [
      "KRR acc: mse 0.23293713359055923, mae 0.3539327442942185, smape 0.05499879206409552\n",
      "time: sample 1.0292420387268066 s, linsolve 0.007206439971923828 s, pred 0.7548167705535889 s\n",
      "Trial 86\n"
     ]
    },
    {
     "name": "stdout",
     "output_type": "stream",
     "text": [
      "KRR acc: mse 0.21785462112113463, mae 0.34934231170242713, smape 0.05423081974697599\n",
      "time: sample 1.0295274257659912 s, linsolve 0.007285594940185547 s, pred 0.7549095153808594 s\n",
      "Trial 87\n"
     ]
    },
    {
     "name": "stdout",
     "output_type": "stream",
     "text": [
      "KRR acc: mse 0.22207665404617377, mae 0.34868431054534216, smape 0.05418255654767779\n",
      "time: sample 1.028581142425537 s, linsolve 0.007256031036376953 s, pred 0.7536153793334961 s\n",
      "Trial 88\n"
     ]
    },
    {
     "name": "stdout",
     "output_type": "stream",
     "text": [
      "KRR acc: mse 0.22702918274462167, mae 0.35068511380326856, smape 0.05448285558916008\n",
      "time: sample 1.0303974151611328 s, linsolve 0.007171630859375 s, pred 0.7547957897186279 s\n",
      "Trial 89\n"
     ]
    },
    {
     "name": "stdout",
     "output_type": "stream",
     "text": [
      "KRR acc: mse 0.21674267240881182, mae 0.34218278899738996, smape 0.053186234386889984\n",
      "time: sample 1.030182123184204 s, linsolve 0.0071642398834228516 s, pred 0.7546958923339844 s\n",
      "Trial 90\n"
     ]
    },
    {
     "name": "stdout",
     "output_type": "stream",
     "text": [
      "KRR acc: mse 0.22750801084100902, mae 0.3498018512574839, smape 0.054370228063774485\n",
      "time: sample 1.0631649494171143 s, linsolve 0.007194042205810547 s, pred 0.753936767578125 s\n",
      "Trial 91\n"
     ]
    },
    {
     "name": "stdout",
     "output_type": "stream",
     "text": [
      "KRR acc: mse 0.22087718384460778, mae 0.3468982711881553, smape 0.053931849263054644\n",
      "time: sample 1.0278289318084717 s, linsolve 0.007230997085571289 s, pred 0.7580776214599609 s\n",
      "Trial 92\n"
     ]
    },
    {
     "name": "stdout",
     "output_type": "stream",
     "text": [
      "KRR acc: mse 0.22441878877267726, mae 0.34825476914878156, smape 0.054128532439188894\n",
      "time: sample 1.054659128189087 s, linsolve 0.007350444793701172 s, pred 0.7554481029510498 s\n",
      "Trial 93\n"
     ]
    },
    {
     "name": "stdout",
     "output_type": "stream",
     "text": [
      "KRR acc: mse 0.2233990430557793, mae 0.35025507082030416, smape 0.05443792710892564\n",
      "time: sample 1.020247220993042 s, linsolve 0.0071485042572021484 s, pred 0.7543015480041504 s\n",
      "Trial 94\n"
     ]
    },
    {
     "name": "stdout",
     "output_type": "stream",
     "text": [
      "KRR acc: mse 0.2272047398006536, mae 0.35185786969030125, smape 0.054704419870683786\n",
      "time: sample 1.0561811923980713 s, linsolve 0.0071947574615478516 s, pred 0.7532570362091064 s\n",
      "Trial 95\n"
     ]
    },
    {
     "name": "stdout",
     "output_type": "stream",
     "text": [
      "KRR acc: mse 0.23120835985246854, mae 0.35229455539565313, smape 0.05474153087841861\n",
      "time: sample 1.024329662322998 s, linsolve 0.007293224334716797 s, pred 0.7548747062683105 s\n",
      "Trial 96\n"
     ]
    },
    {
     "name": "stdout",
     "output_type": "stream",
     "text": [
      "KRR acc: mse 0.22321511395864532, mae 0.34946074573026303, smape 0.05428951958870225\n",
      "time: sample 1.0572354793548584 s, linsolve 0.007200717926025391 s, pred 0.7539525032043457 s\n",
      "Trial 97\n"
     ]
    },
    {
     "name": "stdout",
     "output_type": "stream",
     "text": [
      "KRR acc: mse 0.22056315274830304, mae 0.34723951326711083, smape 0.053948275091585104\n",
      "time: sample 1.0503087043762207 s, linsolve 0.007168292999267578 s, pred 0.7544615268707275 s\n",
      "Trial 98\n"
     ]
    },
    {
     "name": "stdout",
     "output_type": "stream",
     "text": [
      "KRR acc: mse 0.21475634196409582, mae 0.3437878168025927, smape 0.05343150731486064\n",
      "time: sample 1.065427303314209 s, linsolve 0.0072116851806640625 s, pred 0.7537314891815186 s\n",
      "Trial 99\n"
     ]
    },
    {
     "name": "stdout",
     "output_type": "stream",
     "text": [
      "KRR acc: mse 0.22438427631031005, mae 0.3500274785908907, smape 0.054372365407029534\n",
      "time: sample 1.0225145816802979 s, linsolve 0.00722050666809082 s, pred 0.7557227611541748 s\n",
      "k = 512\n",
      "Trial 0\n"
     ]
    },
    {
     "name": "stdout",
     "output_type": "stream",
     "text": [
      "KRR acc: mse 0.17540086446678274, mae 0.31612394122146525, smape 0.049071778685404584\n",
      "time: sample 2.082895040512085 s, linsolve 0.029874086380004883 s, pred 1.5342936515808105 s\n",
      "Trial 1\n"
     ]
    },
    {
     "name": "stdout",
     "output_type": "stream",
     "text": [
      "KRR acc: mse 0.19183827668155456, mae 0.324977609900313, smape 0.05046928173388617\n",
      "time: sample 2.0719220638275146 s, linsolve 0.029649734497070312 s, pred 1.5328826904296875 s\n",
      "Trial 2\n"
     ]
    },
    {
     "name": "stdout",
     "output_type": "stream",
     "text": [
      "KRR acc: mse 0.18681944400359635, mae 0.32263352178239874, smape 0.050099735283969174\n",
      "time: sample 2.020321846008301 s, linsolve 0.03005504608154297 s, pred 1.5318922996520996 s\n",
      "Trial 3\n"
     ]
    },
    {
     "name": "stdout",
     "output_type": "stream",
     "text": [
      "KRR acc: mse 0.1931332996048433, mae 0.3250481860696115, smape 0.05045155404863109\n",
      "time: sample 2.0794217586517334 s, linsolve 0.02978229522705078 s, pred 1.5340018272399902 s\n",
      "Trial 4\n"
     ]
    },
    {
     "name": "stdout",
     "output_type": "stream",
     "text": [
      "KRR acc: mse 0.1802440774295437, mae 0.3192103522360026, smape 0.04952765160832913\n",
      "time: sample 2.0183167457580566 s, linsolve 0.02984309196472168 s, pred 1.5322184562683105 s\n",
      "Trial 5\n"
     ]
    },
    {
     "name": "stdout",
     "output_type": "stream",
     "text": [
      "KRR acc: mse 0.17825694124534233, mae 0.3183535053316425, smape 0.049393389404880146\n",
      "time: sample 2.088953733444214 s, linsolve 0.02982306480407715 s, pred 1.534163236618042 s\n",
      "Trial 6\n"
     ]
    },
    {
     "name": "stdout",
     "output_type": "stream",
     "text": [
      "KRR acc: mse 0.18418935144692558, mae 0.3233462549890442, smape 0.05017977421108051\n",
      "time: sample 2.0833048820495605 s, linsolve 0.02976202964782715 s, pred 1.5335562229156494 s\n",
      "Trial 7\n"
     ]
    },
    {
     "name": "stdout",
     "output_type": "stream",
     "text": [
      "KRR acc: mse 0.19012328485331775, mae 0.32349067662812153, smape 0.05018136706451684\n",
      "time: sample 2.090463161468506 s, linsolve 0.029986143112182617 s, pred 1.5330772399902344 s\n",
      "Trial 8\n"
     ]
    },
    {
     "name": "stdout",
     "output_type": "stream",
     "text": [
      "KRR acc: mse 0.18393221565357648, mae 0.3204253526683044, smape 0.04975957446003456\n",
      "time: sample 2.258287191390991 s, linsolve 0.029714584350585938 s, pred 1.5336406230926514 s\n",
      "Trial 9\n"
     ]
    },
    {
     "name": "stdout",
     "output_type": "stream",
     "text": [
      "KRR acc: mse 0.18733736933220102, mae 0.322518621249237, smape 0.05005797676984905\n",
      "time: sample 2.0107998847961426 s, linsolve 0.029671430587768555 s, pred 1.5326275825500488 s\n",
      "Trial 10\n"
     ]
    },
    {
     "name": "stderr",
     "output_type": "stream",
     "text": [
      "/home/ag2435/Randomly-Pivoted-Cholesky/experiments/../KRR_Nystrom.py:54: LinAlgWarning: Ill-conditioned matrix (rcond=1.0314e-17): result may not be accurate.\n",
      "  self.sol = scipy.linalg.solve(KMn @ KnM + KnM.shape[0]*lamb*KMM + 100*KMM.max()*np.finfo(float).eps*np.identity(sample_num), KMn @ Ytr, assume_a='pos')\n"
     ]
    },
    {
     "name": "stdout",
     "output_type": "stream",
     "text": [
      "KRR acc: mse 0.18269155550903907, mae 0.31738923291361243, smape 0.04927949521561868\n",
      "time: sample 2.01458477973938 s, linsolve 0.030655860900878906 s, pred 1.533951997756958 s\n",
      "Trial 11\n"
     ]
    },
    {
     "name": "stdout",
     "output_type": "stream",
     "text": [
      "KRR acc: mse 0.184837886295282, mae 0.3191732845323102, smape 0.04954861352757439\n",
      "time: sample 2.010667562484741 s, linsolve 0.02993011474609375 s, pred 1.5343568325042725 s\n",
      "Trial 12\n"
     ]
    },
    {
     "name": "stdout",
     "output_type": "stream",
     "text": [
      "KRR acc: mse 0.1826716574705076, mae 0.3180658467695838, smape 0.049363531180071404\n",
      "time: sample 2.084073305130005 s, linsolve 0.029610633850097656 s, pred 1.5338835716247559 s\n",
      "Trial 13\n"
     ]
    },
    {
     "name": "stdout",
     "output_type": "stream",
     "text": [
      "KRR acc: mse 0.1862988185923354, mae 0.3210448442861947, smape 0.04985532858289013\n",
      "time: sample 2.006666898727417 s, linsolve 0.029718875885009766 s, pred 1.5346662998199463 s\n",
      "Trial 14\n"
     ]
    },
    {
     "name": "stdout",
     "output_type": "stream",
     "text": [
      "KRR acc: mse 0.18457224754329504, mae 0.320094183627271, smape 0.049673531710737816\n",
      "time: sample 2.0037012100219727 s, linsolve 0.030060529708862305 s, pred 1.5334887504577637 s\n",
      "Trial 15\n"
     ]
    },
    {
     "name": "stdout",
     "output_type": "stream",
     "text": [
      "KRR acc: mse 0.18716077520008392, mae 0.32250794062942834, smape 0.050082007975351145\n",
      "time: sample 2.0913140773773193 s, linsolve 0.029692888259887695 s, pred 1.5337233543395996 s\n",
      "Trial 16\n"
     ]
    },
    {
     "name": "stdout",
     "output_type": "stream",
     "text": [
      "KRR acc: mse 0.1873069909057804, mae 0.3208188585950716, smape 0.0497859655607962\n",
      "time: sample 2.1477105617523193 s, linsolve 0.0296933650970459 s, pred 1.5336694717407227 s\n",
      "Trial 17\n"
     ]
    },
    {
     "name": "stdout",
     "output_type": "stream",
     "text": [
      "KRR acc: mse 0.17566484210286948, mae 0.31617323432901945, smape 0.04907443059915772\n",
      "time: sample 2.0130045413970947 s, linsolve 0.029809951782226562 s, pred 1.5324223041534424 s\n",
      "Trial 18\n"
     ]
    },
    {
     "name": "stdout",
     "output_type": "stream",
     "text": [
      "KRR acc: mse 0.1866778608565883, mae 0.32154873247578464, smape 0.049936080650017825\n",
      "time: sample 2.0951709747314453 s, linsolve 0.029616832733154297 s, pred 1.532562255859375 s\n",
      "Trial 19\n"
     ]
    },
    {
     "name": "stdout",
     "output_type": "stream",
     "text": [
      "KRR acc: mse 0.18592778178278346, mae 0.3195274831081194, smape 0.049595228133401996\n",
      "time: sample 2.0933384895324707 s, linsolve 0.029833078384399414 s, pred 1.533282995223999 s\n",
      "Trial 20\n"
     ]
    },
    {
     "name": "stdout",
     "output_type": "stream",
     "text": [
      "KRR acc: mse 0.1849129495738684, mae 0.31883586873796704, smape 0.0495002115172701\n",
      "time: sample 2.1251213550567627 s, linsolve 0.029677867889404297 s, pred 1.5376579761505127 s\n",
      "Trial 21\n"
     ]
    },
    {
     "name": "stdout",
     "output_type": "stream",
     "text": [
      "KRR acc: mse 0.17567510808974082, mae 0.31667271952283277, smape 0.04913214333761675\n",
      "time: sample 2.0908584594726562 s, linsolve 0.0296630859375 s, pred 1.5332598686218262 s\n",
      "Trial 22\n"
     ]
    },
    {
     "name": "stdout",
     "output_type": "stream",
     "text": [
      "KRR acc: mse 0.18398690529778006, mae 0.3230833946354503, smape 0.050125844248893846\n",
      "time: sample 2.089895725250244 s, linsolve 0.029608726501464844 s, pred 1.533966064453125 s\n",
      "Trial 23\n"
     ]
    },
    {
     "name": "stdout",
     "output_type": "stream",
     "text": [
      "KRR acc: mse 0.19666920440570157, mae 0.32830774134557694, smape 0.05098666533054043\n",
      "time: sample 2.070286989212036 s, linsolve 0.02974534034729004 s, pred 1.5351183414459229 s\n",
      "Trial 24\n"
     ]
    },
    {
     "name": "stdout",
     "output_type": "stream",
     "text": [
      "KRR acc: mse 0.1863466036319058, mae 0.32145232440312493, smape 0.04989652314507755\n",
      "time: sample 2.008307456970215 s, linsolve 0.0296785831451416 s, pred 1.5324807167053223 s\n",
      "Trial 25\n"
     ]
    },
    {
     "name": "stdout",
     "output_type": "stream",
     "text": [
      "KRR acc: mse 0.18875608815168243, mae 0.32109707845336805, smape 0.04982869887382342\n",
      "time: sample 2.076678991317749 s, linsolve 0.029685020446777344 s, pred 1.5344183444976807 s\n",
      "Trial 26\n"
     ]
    },
    {
     "name": "stdout",
     "output_type": "stream",
     "text": [
      "KRR acc: mse 0.18476901892155262, mae 0.31964986476793766, smape 0.04961548516892252\n",
      "time: sample 2.0174121856689453 s, linsolve 0.029642581939697266 s, pred 1.5347633361816406 s\n",
      "Trial 27\n"
     ]
    },
    {
     "name": "stdout",
     "output_type": "stream",
     "text": [
      "KRR acc: mse 0.18148829431481694, mae 0.3216329909488079, smape 0.04989874598912316\n",
      "time: sample 2.0892438888549805 s, linsolve 0.029998064041137695 s, pred 1.5325582027435303 s\n",
      "Trial 28\n"
     ]
    },
    {
     "name": "stdout",
     "output_type": "stream",
     "text": [
      "KRR acc: mse 0.1885028735982107, mae 0.32357759539564085, smape 0.050219671630760736\n",
      "time: sample 2.0296850204467773 s, linsolve 0.029623746871948242 s, pred 1.5323693752288818 s\n",
      "Trial 29\n"
     ]
    },
    {
     "name": "stdout",
     "output_type": "stream",
     "text": [
      "KRR acc: mse 0.17978199375647821, mae 0.3172544929395296, smape 0.04922123446326319\n",
      "time: sample 2.0095155239105225 s, linsolve 0.029648780822753906 s, pred 1.5335729122161865 s\n",
      "Trial 30\n"
     ]
    },
    {
     "name": "stdout",
     "output_type": "stream",
     "text": [
      "KRR acc: mse 0.17697698830134564, mae 0.31664029541426064, smape 0.04912177694096277\n",
      "time: sample 2.090683698654175 s, linsolve 0.029835939407348633 s, pred 1.5322418212890625 s\n",
      "Trial 31\n"
     ]
    },
    {
     "name": "stdout",
     "output_type": "stream",
     "text": [
      "KRR acc: mse 0.1771177638611065, mae 0.31710748422242874, smape 0.04918431537168998\n",
      "time: sample 2.024540662765503 s, linsolve 0.029717683792114258 s, pred 1.5337274074554443 s\n",
      "Trial 32\n"
     ]
    },
    {
     "name": "stdout",
     "output_type": "stream",
     "text": [
      "KRR acc: mse 0.18659191635619748, mae 0.31909945233656456, smape 0.04952017249637636\n",
      "time: sample 2.0212347507476807 s, linsolve 0.029573678970336914 s, pred 1.5321071147918701 s\n",
      "Trial 33\n"
     ]
    },
    {
     "name": "stdout",
     "output_type": "stream",
     "text": [
      "KRR acc: mse 0.18190066243968367, mae 0.31732631215735674, smape 0.04923785007372119\n",
      "time: sample 2.015408754348755 s, linsolve 0.02972126007080078 s, pred 1.5343470573425293 s\n",
      "Trial 34\n"
     ]
    },
    {
     "name": "stdout",
     "output_type": "stream",
     "text": [
      "KRR acc: mse 0.1778245110276159, mae 0.31734552610707123, smape 0.04922483272668233\n",
      "time: sample 2.0805134773254395 s, linsolve 0.029719829559326172 s, pred 1.532994031906128 s\n",
      "Trial 35\n"
     ]
    },
    {
     "name": "stdout",
     "output_type": "stream",
     "text": [
      "KRR acc: mse 0.19123081171832754, mae 0.32353841035851305, smape 0.05021814072509774\n",
      "time: sample 2.0916173458099365 s, linsolve 0.02998638153076172 s, pred 1.5327069759368896 s\n",
      "Trial 36\n"
     ]
    },
    {
     "name": "stdout",
     "output_type": "stream",
     "text": [
      "KRR acc: mse 0.1827597283393535, mae 0.31747778883469174, smape 0.04926590554941009\n",
      "time: sample 2.088510513305664 s, linsolve 0.029891252517700195 s, pred 1.5330822467803955 s\n",
      "Trial 37\n"
     ]
    },
    {
     "name": "stdout",
     "output_type": "stream",
     "text": [
      "KRR acc: mse 0.19010378052359012, mae 0.32264888916850787, smape 0.05007889215799704\n",
      "time: sample 2.0074195861816406 s, linsolve 0.02980327606201172 s, pred 1.5328490734100342 s\n",
      "Trial 38\n"
     ]
    },
    {
     "name": "stdout",
     "output_type": "stream",
     "text": [
      "KRR acc: mse 0.1845459537831453, mae 0.3200503971493922, smape 0.0496578122074132\n",
      "time: sample 2.1383893489837646 s, linsolve 0.029674291610717773 s, pred 1.53556489944458 s\n",
      "Trial 39\n"
     ]
    },
    {
     "name": "stdout",
     "output_type": "stream",
     "text": [
      "KRR acc: mse 0.19042840861214552, mae 0.32296378837915907, smape 0.05013889260921498\n",
      "time: sample 2.0181145668029785 s, linsolve 0.030150413513183594 s, pred 1.533975601196289 s\n",
      "Trial 40\n"
     ]
    },
    {
     "name": "stdout",
     "output_type": "stream",
     "text": [
      "KRR acc: mse 0.1850208418340735, mae 0.32042475560612704, smape 0.049719930198099255\n",
      "time: sample 2.1965057849884033 s, linsolve 0.029599905014038086 s, pred 1.5350351333618164 s\n",
      "Trial 41\n"
     ]
    },
    {
     "name": "stdout",
     "output_type": "stream",
     "text": [
      "KRR acc: mse 0.18506347672150203, mae 0.32082565236957694, smape 0.04980428892775767\n",
      "time: sample 2.0107858180999756 s, linsolve 0.0297396183013916 s, pred 1.5320923328399658 s\n",
      "Trial 42\n"
     ]
    },
    {
     "name": "stdout",
     "output_type": "stream",
     "text": [
      "KRR acc: mse 0.1949550573364822, mae 0.3273128931668745, smape 0.0508154039326032\n",
      "time: sample 2.093215227127075 s, linsolve 0.029741525650024414 s, pred 1.5331346988677979 s\n",
      "Trial 43\n"
     ]
    },
    {
     "name": "stdout",
     "output_type": "stream",
     "text": [
      "KRR acc: mse 0.17819694736675637, mae 0.3193749715996222, smape 0.04953412932785293\n",
      "time: sample 2.0848779678344727 s, linsolve 0.029926300048828125 s, pred 1.5341792106628418 s\n",
      "Trial 44\n"
     ]
    },
    {
     "name": "stdout",
     "output_type": "stream",
     "text": [
      "KRR acc: mse 0.19188151984582877, mae 0.3241128413858452, smape 0.05031936376626198\n",
      "time: sample 2.1361234188079834 s, linsolve 0.029720067977905273 s, pred 1.5322754383087158 s\n",
      "Trial 45\n"
     ]
    },
    {
     "name": "stdout",
     "output_type": "stream",
     "text": [
      "KRR acc: mse 0.18338336250820506, mae 0.3187768400686835, smape 0.04947085608343282\n",
      "time: sample 2.0098729133605957 s, linsolve 0.029777050018310547 s, pred 1.5346229076385498 s\n",
      "Trial 46\n"
     ]
    },
    {
     "name": "stdout",
     "output_type": "stream",
     "text": [
      "KRR acc: mse 0.18580343095280927, mae 0.3217359722209346, smape 0.04994679421187005\n",
      "time: sample 2.0822970867156982 s, linsolve 0.02963709831237793 s, pred 1.53495192527771 s\n",
      "Trial 47\n"
     ]
    },
    {
     "name": "stdout",
     "output_type": "stream",
     "text": [
      "KRR acc: mse 0.18615266286557977, mae 0.31960300152427834, smape 0.04961544772852683\n",
      "time: sample 2.0834813117980957 s, linsolve 0.02974390983581543 s, pred 1.5332081317901611 s\n",
      "Trial 48\n"
     ]
    },
    {
     "name": "stdout",
     "output_type": "stream",
     "text": [
      "KRR acc: mse 0.19520247927064244, mae 0.32613716964888834, smape 0.05065707356884579\n",
      "time: sample 2.1335813999176025 s, linsolve 0.03000164031982422 s, pred 1.533534049987793 s\n",
      "Trial 49\n"
     ]
    },
    {
     "name": "stdout",
     "output_type": "stream",
     "text": [
      "KRR acc: mse 0.18915005069642443, mae 0.32240021059265056, smape 0.05005045189138715\n",
      "time: sample 2.08345890045166 s, linsolve 0.029936790466308594 s, pred 1.534670352935791 s\n",
      "Trial 50\n"
     ]
    },
    {
     "name": "stdout",
     "output_type": "stream",
     "text": [
      "KRR acc: mse 0.1832368433854779, mae 0.3183762421216021, smape 0.049394603593451866\n",
      "time: sample 2.0867156982421875 s, linsolve 0.029768943786621094 s, pred 1.5332505702972412 s\n",
      "Trial 51\n"
     ]
    },
    {
     "name": "stdout",
     "output_type": "stream",
     "text": [
      "KRR acc: mse 0.1869046381215257, mae 0.3226814529329014, smape 0.050071373819883955\n",
      "time: sample 2.0898587703704834 s, linsolve 0.02974414825439453 s, pred 1.5341062545776367 s\n",
      "Trial 52\n"
     ]
    },
    {
     "name": "stdout",
     "output_type": "stream",
     "text": [
      "KRR acc: mse 0.18394507049838615, mae 0.31812752330224287, smape 0.0493547273900955\n",
      "time: sample 2.075474262237549 s, linsolve 0.02976250648498535 s, pred 1.5329375267028809 s\n",
      "Trial 53\n"
     ]
    },
    {
     "name": "stdout",
     "output_type": "stream",
     "text": [
      "KRR acc: mse 0.19300776988931317, mae 0.3241574319777468, smape 0.05030343921326085\n",
      "time: sample 2.1358020305633545 s, linsolve 0.029731035232543945 s, pred 1.5350744724273682 s\n",
      "Trial 54\n"
     ]
    },
    {
     "name": "stdout",
     "output_type": "stream",
     "text": [
      "KRR acc: mse 0.17896398803597544, mae 0.31699316173550224, smape 0.049188229087436065\n",
      "time: sample 2.011185884475708 s, linsolve 0.029983997344970703 s, pred 1.5345535278320312 s\n",
      "Trial 55\n"
     ]
    },
    {
     "name": "stdout",
     "output_type": "stream",
     "text": [
      "KRR acc: mse 0.18993665513959296, mae 0.32220418121971295, smape 0.05005041677872961\n",
      "time: sample 2.0793728828430176 s, linsolve 0.02971029281616211 s, pred 1.5351464748382568 s\n",
      "Trial 56\n"
     ]
    },
    {
     "name": "stdout",
     "output_type": "stream",
     "text": [
      "KRR acc: mse 0.18367579155044897, mae 0.31886848961032005, smape 0.049504005937966875\n",
      "time: sample 2.200559139251709 s, linsolve 0.02977132797241211 s, pred 1.5344326496124268 s\n",
      "Trial 57\n"
     ]
    },
    {
     "name": "stdout",
     "output_type": "stream",
     "text": [
      "KRR acc: mse 0.1864351068563179, mae 0.32099830795613077, smape 0.04983773240824234\n",
      "time: sample 2.0044758319854736 s, linsolve 0.02975153923034668 s, pred 1.5339651107788086 s\n",
      "Trial 58\n"
     ]
    },
    {
     "name": "stdout",
     "output_type": "stream",
     "text": [
      "KRR acc: mse 0.1935888988761687, mae 0.3248598279462887, smape 0.05042935474879571\n",
      "time: sample 2.08992862701416 s, linsolve 0.02976512908935547 s, pred 1.53541898727417 s\n",
      "Trial 59\n"
     ]
    },
    {
     "name": "stdout",
     "output_type": "stream",
     "text": [
      "KRR acc: mse 0.1827134866597909, mae 0.31813889366684717, smape 0.04938233195767987\n",
      "time: sample 2.0143799781799316 s, linsolve 0.029643535614013672 s, pred 1.5336692333221436 s\n",
      "Trial 60\n"
     ]
    },
    {
     "name": "stdout",
     "output_type": "stream",
     "text": [
      "KRR acc: mse 0.19429931236822448, mae 0.32658011374213647, smape 0.0507108285305541\n",
      "time: sample 2.0146875381469727 s, linsolve 0.029686927795410156 s, pred 1.5344080924987793 s\n",
      "Trial 61\n"
     ]
    },
    {
     "name": "stdout",
     "output_type": "stream",
     "text": [
      "KRR acc: mse 0.18077711329544727, mae 0.3159011772158223, smape 0.049027911685795185\n",
      "time: sample 2.0164480209350586 s, linsolve 0.0301358699798584 s, pred 1.5327167510986328 s\n",
      "Trial 62\n"
     ]
    },
    {
     "name": "stdout",
     "output_type": "stream",
     "text": [
      "KRR acc: mse 0.18134454493518995, mae 0.3174858640961085, smape 0.04929313495973612\n",
      "time: sample 2.083785057067871 s, linsolve 0.029714584350585938 s, pred 1.5317614078521729 s\n",
      "Trial 63\n"
     ]
    },
    {
     "name": "stdout",
     "output_type": "stream",
     "text": [
      "KRR acc: mse 0.18313557592889307, mae 0.3187038494231365, smape 0.04946720348952361\n",
      "time: sample 2.0041449069976807 s, linsolve 0.02976250648498535 s, pred 1.532632827758789 s\n",
      "Trial 64\n"
     ]
    },
    {
     "name": "stdout",
     "output_type": "stream",
     "text": [
      "KRR acc: mse 0.18812535309214495, mae 0.3207653630979435, smape 0.04976859350330469\n",
      "time: sample 2.086169719696045 s, linsolve 0.030182600021362305 s, pred 1.531137466430664 s\n",
      "Trial 65\n"
     ]
    },
    {
     "name": "stdout",
     "output_type": "stream",
     "text": [
      "KRR acc: mse 0.18662929008535567, mae 0.3219930234160383, smape 0.0499763476009395\n",
      "time: sample 2.0914406776428223 s, linsolve 0.029726505279541016 s, pred 1.5327107906341553 s\n",
      "Trial 66\n"
     ]
    },
    {
     "name": "stdout",
     "output_type": "stream",
     "text": [
      "KRR acc: mse 0.19116425142566212, mae 0.3231976844710132, smape 0.05018846789528658\n",
      "time: sample 2.0893313884735107 s, linsolve 0.029727697372436523 s, pred 1.5314898490905762 s\n",
      "Trial 67\n"
     ]
    },
    {
     "name": "stdout",
     "output_type": "stream",
     "text": [
      "KRR acc: mse 0.1880096014891943, mae 0.32291383685932235, smape 0.0501166536597658\n",
      "time: sample 2.012814998626709 s, linsolve 0.0296633243560791 s, pred 1.5333008766174316 s\n",
      "Trial 68\n"
     ]
    },
    {
     "name": "stdout",
     "output_type": "stream",
     "text": [
      "KRR acc: mse 0.1895230170810426, mae 0.3228218986785536, smape 0.0501305027279064\n",
      "time: sample 2.140432596206665 s, linsolve 0.029666900634765625 s, pred 1.5332982540130615 s\n",
      "Trial 69\n"
     ]
    },
    {
     "name": "stdout",
     "output_type": "stream",
     "text": [
      "KRR acc: mse 0.18588779397081134, mae 0.3217727211156272, smape 0.04996179799783679\n",
      "time: sample 2.091845989227295 s, linsolve 0.0297849178314209 s, pred 1.5339405536651611 s\n",
      "Trial 70\n"
     ]
    },
    {
     "name": "stdout",
     "output_type": "stream",
     "text": [
      "KRR acc: mse 0.18611366496122428, mae 0.3226131726852808, smape 0.05011481999172811\n",
      "time: sample 2.1332309246063232 s, linsolve 0.029659271240234375 s, pred 1.5337631702423096 s\n",
      "Trial 71\n"
     ]
    },
    {
     "name": "stdout",
     "output_type": "stream",
     "text": [
      "KRR acc: mse 0.18219919512724383, mae 0.31822563415866095, smape 0.049415312070397156\n",
      "time: sample 2.096597671508789 s, linsolve 0.029886484146118164 s, pred 1.5340445041656494 s\n",
      "Trial 72\n"
     ]
    },
    {
     "name": "stdout",
     "output_type": "stream",
     "text": [
      "KRR acc: mse 0.18668200350095654, mae 0.3216644111580778, smape 0.04994685951957386\n",
      "time: sample 2.01210618019104 s, linsolve 0.029810428619384766 s, pred 1.532318353652954 s\n",
      "Trial 73\n"
     ]
    },
    {
     "name": "stdout",
     "output_type": "stream",
     "text": [
      "KRR acc: mse 0.18927880450021622, mae 0.3233057120062921, smape 0.050225467144809244\n",
      "time: sample 2.0076098442077637 s, linsolve 0.029706716537475586 s, pred 1.5335900783538818 s\n",
      "Trial 74\n"
     ]
    },
    {
     "name": "stdout",
     "output_type": "stream",
     "text": [
      "KRR acc: mse 0.1870753799915582, mae 0.3212246548060067, smape 0.049876702157979694\n",
      "time: sample 2.0309829711914062 s, linsolve 0.029739856719970703 s, pred 1.535351037979126 s\n",
      "Trial 75\n"
     ]
    },
    {
     "name": "stdout",
     "output_type": "stream",
     "text": [
      "KRR acc: mse 0.18397397914000754, mae 0.3211280994227358, smape 0.049861405967553465\n",
      "time: sample 2.020219564437866 s, linsolve 0.030179977416992188 s, pred 1.535762071609497 s\n",
      "Trial 76\n"
     ]
    },
    {
     "name": "stdout",
     "output_type": "stream",
     "text": [
      "KRR acc: mse 0.17995038599400645, mae 0.3171758439930244, smape 0.04922067519527768\n",
      "time: sample 2.138709783554077 s, linsolve 0.02971816062927246 s, pred 1.5323233604431152 s\n",
      "Trial 77\n"
     ]
    },
    {
     "name": "stdout",
     "output_type": "stream",
     "text": [
      "KRR acc: mse 0.18453738638505607, mae 0.3198490678984216, smape 0.04961031605233997\n",
      "time: sample 2.080242872238159 s, linsolve 0.029757976531982422 s, pred 1.5334076881408691 s\n",
      "Trial 78\n"
     ]
    },
    {
     "name": "stdout",
     "output_type": "stream",
     "text": [
      "KRR acc: mse 0.185277925819661, mae 0.3203433255087263, smape 0.049726311089272675\n",
      "time: sample 2.019596576690674 s, linsolve 0.029742956161499023 s, pred 1.5339057445526123 s\n",
      "Trial 79\n"
     ]
    },
    {
     "name": "stdout",
     "output_type": "stream",
     "text": [
      "KRR acc: mse 0.1918665043071288, mae 0.32385011056761903, smape 0.050268279544556926\n",
      "time: sample 2.0242016315460205 s, linsolve 0.029627561569213867 s, pred 1.5344526767730713 s\n",
      "Trial 80\n"
     ]
    },
    {
     "name": "stdout",
     "output_type": "stream",
     "text": [
      "KRR acc: mse 0.18352296464586262, mae 0.31973290947999766, smape 0.049645479502270703\n",
      "time: sample 2.0737342834472656 s, linsolve 0.029740571975708008 s, pred 1.5329444408416748 s\n",
      "Trial 81\n"
     ]
    },
    {
     "name": "stdout",
     "output_type": "stream",
     "text": [
      "KRR acc: mse 0.1882619851054244, mae 0.3231793407351242, smape 0.050162040302783296\n",
      "time: sample 2.0115761756896973 s, linsolve 0.029742717742919922 s, pred 1.5334067344665527 s\n",
      "Trial 82\n"
     ]
    },
    {
     "name": "stdout",
     "output_type": "stream",
     "text": [
      "KRR acc: mse 0.1873927383860354, mae 0.3227431157114646, smape 0.05011300342805316\n",
      "time: sample 2.088555097579956 s, linsolve 0.029763221740722656 s, pred 1.533677101135254 s\n",
      "Trial 83\n"
     ]
    },
    {
     "name": "stdout",
     "output_type": "stream",
     "text": [
      "KRR acc: mse 0.18756550606039943, mae 0.32263013448069794, smape 0.05008177724480231\n",
      "time: sample 2.0719058513641357 s, linsolve 0.029627084732055664 s, pred 1.5336902141571045 s\n",
      "Trial 84\n"
     ]
    },
    {
     "name": "stdout",
     "output_type": "stream",
     "text": [
      "KRR acc: mse 0.18471388307447778, mae 0.3199679799945061, smape 0.04965889627321406\n",
      "time: sample 2.0221054553985596 s, linsolve 0.029817581176757812 s, pred 1.5340816974639893 s\n",
      "Trial 85\n"
     ]
    },
    {
     "name": "stdout",
     "output_type": "stream",
     "text": [
      "KRR acc: mse 0.18358308184206695, mae 0.3194442103691434, smape 0.049603686295226\n",
      "time: sample 2.0749120712280273 s, linsolve 0.029753923416137695 s, pred 1.5352058410644531 s\n",
      "Trial 86\n"
     ]
    },
    {
     "name": "stdout",
     "output_type": "stream",
     "text": [
      "KRR acc: mse 0.18268270994201438, mae 0.31822198018949893, smape 0.04941340338502967\n",
      "time: sample 2.0138821601867676 s, linsolve 0.029654264450073242 s, pred 1.5348570346832275 s\n",
      "Trial 87\n"
     ]
    },
    {
     "name": "stdout",
     "output_type": "stream",
     "text": [
      "KRR acc: mse 0.18438661737869083, mae 0.320252833977279, smape 0.0497411555603626\n",
      "time: sample 2.090634822845459 s, linsolve 0.030105113983154297 s, pred 1.5349669456481934 s\n",
      "Trial 88\n"
     ]
    },
    {
     "name": "stdout",
     "output_type": "stream",
     "text": [
      "KRR acc: mse 0.187110471665433, mae 0.3209176353284016, smape 0.04982571119537566\n",
      "time: sample 2.0797221660614014 s, linsolve 0.02976083755493164 s, pred 1.5348048210144043 s\n",
      "Trial 89\n"
     ]
    },
    {
     "name": "stdout",
     "output_type": "stream",
     "text": [
      "KRR acc: mse 0.19035509991415378, mae 0.32529385551283824, smape 0.050493380449816626\n",
      "time: sample 2.0324509143829346 s, linsolve 0.02976250648498535 s, pred 1.5329091548919678 s\n",
      "Trial 90\n"
     ]
    },
    {
     "name": "stdout",
     "output_type": "stream",
     "text": [
      "KRR acc: mse 0.18392906286381022, mae 0.3198080267129752, smape 0.049648947923576436\n",
      "time: sample 2.0134224891662598 s, linsolve 0.029711008071899414 s, pred 1.5339574813842773 s\n",
      "Trial 91\n"
     ]
    },
    {
     "name": "stdout",
     "output_type": "stream",
     "text": [
      "KRR acc: mse 0.18152779549327083, mae 0.3168754997800965, smape 0.049162625617857385\n",
      "time: sample 2.02999210357666 s, linsolve 0.029713869094848633 s, pred 1.534451961517334 s\n",
      "Trial 92\n"
     ]
    },
    {
     "name": "stdout",
     "output_type": "stream",
     "text": [
      "KRR acc: mse 0.1905225361956313, mae 0.3245596952452968, smape 0.05039788780921661\n",
      "time: sample 2.1363372802734375 s, linsolve 0.029622554779052734 s, pred 1.5331172943115234 s\n",
      "Trial 93\n"
     ]
    },
    {
     "name": "stdout",
     "output_type": "stream",
     "text": [
      "KRR acc: mse 0.17667315948324347, mae 0.31796060000515025, smape 0.049315193307501205\n",
      "time: sample 2.024514675140381 s, linsolve 0.03003859519958496 s, pred 1.5369455814361572 s\n",
      "Trial 94\n"
     ]
    },
    {
     "name": "stdout",
     "output_type": "stream",
     "text": [
      "KRR acc: mse 0.19073036353738476, mae 0.32381342261129265, smape 0.05025040571248574\n",
      "time: sample 2.012444257736206 s, linsolve 0.02971649169921875 s, pred 1.5349397659301758 s\n",
      "Trial 95\n"
     ]
    },
    {
     "name": "stdout",
     "output_type": "stream",
     "text": [
      "KRR acc: mse 0.18569193089977057, mae 0.32135601146468773, smape 0.0498795749074517\n",
      "time: sample 2.0800814628601074 s, linsolve 0.029779672622680664 s, pred 1.5345523357391357 s\n",
      "Trial 96\n"
     ]
    },
    {
     "name": "stdout",
     "output_type": "stream",
     "text": [
      "KRR acc: mse 0.19018112056031442, mae 0.3231882594608245, smape 0.05019748208102073\n",
      "time: sample 2.0122179985046387 s, linsolve 0.02973175048828125 s, pred 1.533555269241333 s\n",
      "Trial 97\n"
     ]
    },
    {
     "name": "stdout",
     "output_type": "stream",
     "text": [
      "KRR acc: mse 0.186711816471988, mae 0.32047805824108616, smape 0.04974168324325658\n",
      "time: sample 2.013664722442627 s, linsolve 0.029963970184326172 s, pred 1.5337328910827637 s\n",
      "Trial 98\n"
     ]
    },
    {
     "name": "stdout",
     "output_type": "stream",
     "text": [
      "KRR acc: mse 0.18282727961664963, mae 0.31846993592279893, smape 0.04942413987675344\n",
      "time: sample 2.077598810195923 s, linsolve 0.02968001365661621 s, pred 1.5328903198242188 s\n",
      "Trial 99\n"
     ]
    },
    {
     "name": "stdout",
     "output_type": "stream",
     "text": [
      "KRR acc: mse 0.1916621518691455, mae 0.3235264042198135, smape 0.050205093724791636\n",
      "time: sample 2.087465286254883 s, linsolve 0.029726743698120117 s, pred 1.5356595516204834 s\n",
      "------------- Method: RPCholesky -------------\n",
      "k = 128\n",
      "Trial 0\n"
     ]
    },
    {
     "name": "stdout",
     "output_type": "stream",
     "text": [
      "KRR acc: mse 0.2508203748385296, mae 0.3719286644185985, smape 0.05776749006954156\n",
      "time: sample 4.857656240463257 s, linsolve 0.003008127212524414 s, pred 0.38982415199279785 s\n",
      "Trial 1\n"
     ]
    },
    {
     "name": "stdout",
     "output_type": "stream",
     "text": [
      "KRR acc: mse 0.2650566912214351, mae 0.3838926968217967, smape 0.05956169137825126\n",
      "time: sample 4.8373119831085205 s, linsolve 0.0028204917907714844 s, pred 0.3889474868774414 s\n",
      "Trial 2\n"
     ]
    },
    {
     "name": "stdout",
     "output_type": "stream",
     "text": [
      "KRR acc: mse 0.2693941295303367, mae 0.3843356806335459, smape 0.059708887934675124\n",
      "time: sample 4.859112024307251 s, linsolve 0.0027930736541748047 s, pred 0.388932466506958 s\n",
      "Trial 3\n"
     ]
    },
    {
     "name": "stdout",
     "output_type": "stream",
     "text": [
      "KRR acc: mse 0.2612865387442159, mae 0.38102901003790196, smape 0.05913756065828291\n",
      "time: sample 4.83732795715332 s, linsolve 0.002771139144897461 s, pred 0.3883354663848877 s\n",
      "Trial 4\n"
     ]
    },
    {
     "name": "stdout",
     "output_type": "stream",
     "text": [
      "KRR acc: mse 0.25699448425567306, mae 0.37618411134482466, smape 0.058410046766195184\n",
      "time: sample 4.863707780838013 s, linsolve 0.0028388500213623047 s, pred 0.3880574703216553 s\n",
      "Trial 5\n"
     ]
    },
    {
     "name": "stdout",
     "output_type": "stream",
     "text": [
      "KRR acc: mse 0.25988063333772815, mae 0.3739105764879665, smape 0.05810574552955297\n",
      "time: sample 4.83896803855896 s, linsolve 0.0028035640716552734 s, pred 0.38906359672546387 s\n",
      "Trial 6\n"
     ]
    },
    {
     "name": "stdout",
     "output_type": "stream",
     "text": [
      "KRR acc: mse 0.2578172364185475, mae 0.37569606985593856, smape 0.05835005727555075\n",
      "time: sample 4.86101508140564 s, linsolve 0.0030007362365722656 s, pred 0.3892819881439209 s\n",
      "Trial 7\n"
     ]
    },
    {
     "name": "stdout",
     "output_type": "stream",
     "text": [
      "KRR acc: mse 0.2548697560084257, mae 0.37185813076256463, smape 0.05775373944411292\n",
      "time: sample 4.838997840881348 s, linsolve 0.002753019332885742 s, pred 0.3896639347076416 s\n",
      "Trial 8\n"
     ]
    },
    {
     "name": "stdout",
     "output_type": "stream",
     "text": [
      "KRR acc: mse 0.2612065467919826, mae 0.3797292561878716, smape 0.05897216118397867\n",
      "time: sample 4.861250400543213 s, linsolve 0.002779245376586914 s, pred 0.39656782150268555 s\n",
      "Trial 9\n"
     ]
    },
    {
     "name": "stdout",
     "output_type": "stream",
     "text": [
      "KRR acc: mse 0.2601704006849768, mae 0.3767592119373363, smape 0.05851719733369443\n",
      "time: sample 4.839238405227661 s, linsolve 0.0029833316802978516 s, pred 0.3892040252685547 s\n",
      "Trial 10\n"
     ]
    },
    {
     "name": "stdout",
     "output_type": "stream",
     "text": [
      "KRR acc: mse 0.265444677911606, mae 0.38002724306732033, smape 0.05904060114419071\n",
      "time: sample 4.860670804977417 s, linsolve 0.0028076171875 s, pred 0.3903341293334961 s\n",
      "Trial 11\n"
     ]
    },
    {
     "name": "stdout",
     "output_type": "stream",
     "text": [
      "KRR acc: mse 0.27327782123848704, mae 0.3890122023119411, smape 0.06038183145672838\n",
      "time: sample 4.839570760726929 s, linsolve 0.0028040409088134766 s, pred 0.38859105110168457 s\n",
      "Trial 12\n"
     ]
    },
    {
     "name": "stdout",
     "output_type": "stream",
     "text": [
      "KRR acc: mse 0.2659873956454563, mae 0.37855943415969134, smape 0.058807104483601776\n",
      "time: sample 4.859145164489746 s, linsolve 0.002841472625732422 s, pred 0.3894929885864258 s\n",
      "Trial 13\n"
     ]
    },
    {
     "name": "stdout",
     "output_type": "stream",
     "text": [
      "KRR acc: mse 0.25846084860694746, mae 0.3772673796962123, smape 0.05855981268046467\n",
      "time: sample 4.845295190811157 s, linsolve 0.0029282569885253906 s, pred 0.3886275291442871 s\n",
      "Trial 14\n"
     ]
    },
    {
     "name": "stdout",
     "output_type": "stream",
     "text": [
      "KRR acc: mse 0.2633619510120978, mae 0.3783476679853748, smape 0.058795097565649004\n",
      "time: sample 4.861073017120361 s, linsolve 0.0028145313262939453 s, pred 0.38965344429016113 s\n",
      "Trial 15\n"
     ]
    },
    {
     "name": "stdout",
     "output_type": "stream",
     "text": [
      "KRR acc: mse 0.2755733623951323, mae 0.3864547021636715, smape 0.060052466643321756\n",
      "time: sample 4.840472936630249 s, linsolve 0.002888917922973633 s, pred 0.3890223503112793 s\n",
      "Trial 16\n"
     ]
    },
    {
     "name": "stdout",
     "output_type": "stream",
     "text": [
      "KRR acc: mse 0.2665806883161705, mae 0.3808581992738702, smape 0.05915724270035063\n",
      "time: sample 4.859121561050415 s, linsolve 0.0028274059295654297 s, pred 0.3894023895263672 s\n",
      "Trial 17\n"
     ]
    },
    {
     "name": "stdout",
     "output_type": "stream",
     "text": [
      "KRR acc: mse 0.26699856384237103, mae 0.3817367284897814, smape 0.05923908072804959\n",
      "time: sample 4.8398895263671875 s, linsolve 0.00509333610534668 s, pred 0.39342379570007324 s\n",
      "Trial 18\n"
     ]
    },
    {
     "name": "stdout",
     "output_type": "stream",
     "text": [
      "KRR acc: mse 0.264189269644355, mae 0.37989542578985463, smape 0.058959506624921554\n",
      "time: sample 4.858233451843262 s, linsolve 0.0028531551361083984 s, pred 0.38909387588500977 s\n",
      "Trial 19\n"
     ]
    },
    {
     "name": "stdout",
     "output_type": "stream",
     "text": [
      "KRR acc: mse 0.26393903224259946, mae 0.381692326455704, smape 0.05926662913342052\n",
      "time: sample 4.8417463302612305 s, linsolve 0.002825498580932617 s, pred 0.3887143135070801 s\n",
      "Trial 20\n"
     ]
    },
    {
     "name": "stdout",
     "output_type": "stream",
     "text": [
      "KRR acc: mse 0.2614446246475038, mae 0.37621775713288214, smape 0.05844660016364237\n",
      "time: sample 4.8620007038116455 s, linsolve 0.0028159618377685547 s, pred 0.3895711898803711 s\n",
      "Trial 21\n"
     ]
    },
    {
     "name": "stdout",
     "output_type": "stream",
     "text": [
      "KRR acc: mse 0.2505706536572901, mae 0.371262835929575, smape 0.05767771647043344\n",
      "time: sample 4.841043949127197 s, linsolve 0.002789020538330078 s, pred 0.38919663429260254 s\n",
      "Trial 22\n"
     ]
    },
    {
     "name": "stdout",
     "output_type": "stream",
     "text": [
      "KRR acc: mse 0.25369189547567345, mae 0.37265303618970663, smape 0.057861977375977515\n",
      "time: sample 4.867311716079712 s, linsolve 0.0029959678649902344 s, pred 0.38905882835388184 s\n",
      "Trial 23\n"
     ]
    },
    {
     "name": "stdout",
     "output_type": "stream",
     "text": [
      "KRR acc: mse 0.2595583458122766, mae 0.37791973986871746, smape 0.05871902686016814\n",
      "time: sample 4.841384410858154 s, linsolve 0.002822399139404297 s, pred 0.389376163482666 s\n",
      "Trial 24\n"
     ]
    },
    {
     "name": "stdout",
     "output_type": "stream",
     "text": [
      "KRR acc: mse 0.2691500895926505, mae 0.3821902286399626, smape 0.05938178501523138\n",
      "time: sample 4.863276481628418 s, linsolve 0.005629777908325195 s, pred 0.388383150100708 s\n",
      "Trial 25\n"
     ]
    },
    {
     "name": "stdout",
     "output_type": "stream",
     "text": [
      "KRR acc: mse 0.27399784090754015, mae 0.38746288102811977, smape 0.06012274302042116\n",
      "time: sample 4.841022968292236 s, linsolve 0.0028192996978759766 s, pred 0.3892996311187744 s\n",
      "Trial 26\n"
     ]
    },
    {
     "name": "stdout",
     "output_type": "stream",
     "text": [
      "KRR acc: mse 0.26566530654293086, mae 0.37964098607115504, smape 0.0589725727672875\n",
      "time: sample 4.862053632736206 s, linsolve 0.0028519630432128906 s, pred 0.3895082473754883 s\n",
      "Trial 27\n"
     ]
    },
    {
     "name": "stdout",
     "output_type": "stream",
     "text": [
      "KRR acc: mse 0.26950116581380407, mae 0.38189368281642844, smape 0.05932771409987515\n",
      "time: sample 4.83991003036499 s, linsolve 0.0028181076049804688 s, pred 0.38976454734802246 s\n",
      "Trial 28\n"
     ]
    },
    {
     "name": "stdout",
     "output_type": "stream",
     "text": [
      "KRR acc: mse 0.25891358368064676, mae 0.3739485572083151, smape 0.058052234172562715\n",
      "time: sample 4.8589866161346436 s, linsolve 0.0027713775634765625 s, pred 0.38902735710144043 s\n",
      "Trial 29\n"
     ]
    },
    {
     "name": "stdout",
     "output_type": "stream",
     "text": [
      "KRR acc: mse 0.2566266926164417, mae 0.3754540536408413, smape 0.05830452395336506\n",
      "time: sample 4.844092607498169 s, linsolve 0.0029332637786865234 s, pred 0.38890910148620605 s\n",
      "Trial 30\n"
     ]
    },
    {
     "name": "stdout",
     "output_type": "stream",
     "text": [
      "KRR acc: mse 0.25521326478541334, mae 0.37631592341782927, smape 0.05840577162433802\n",
      "time: sample 4.861120223999023 s, linsolve 0.002765655517578125 s, pred 0.390239953994751 s\n",
      "Trial 31\n"
     ]
    },
    {
     "name": "stdout",
     "output_type": "stream",
     "text": [
      "KRR acc: mse 0.2593163789621435, mae 0.37919936805131566, smape 0.058898697765888866\n",
      "time: sample 4.842000246047974 s, linsolve 0.002887248992919922 s, pred 0.3889122009277344 s\n",
      "Trial 32\n"
     ]
    },
    {
     "name": "stdout",
     "output_type": "stream",
     "text": [
      "KRR acc: mse 0.26466982595560223, mae 0.37769379861121316, smape 0.058641266115360205\n",
      "time: sample 4.860734462738037 s, linsolve 0.002826690673828125 s, pred 0.38936877250671387 s\n",
      "Trial 33\n"
     ]
    },
    {
     "name": "stdout",
     "output_type": "stream",
     "text": [
      "KRR acc: mse 0.2530422255509441, mae 0.3747721709173705, smape 0.05816807900904732\n",
      "time: sample 4.841978073120117 s, linsolve 0.005625724792480469 s, pred 0.3885824680328369 s\n",
      "Trial 34\n"
     ]
    },
    {
     "name": "stdout",
     "output_type": "stream",
     "text": [
      "KRR acc: mse 0.26263246871846957, mae 0.3784463724533837, smape 0.058777676073192786\n",
      "time: sample 4.86126708984375 s, linsolve 0.0027642250061035156 s, pred 0.3888270854949951 s\n",
      "Trial 35\n"
     ]
    },
    {
     "name": "stdout",
     "output_type": "stream",
     "text": [
      "KRR acc: mse 0.27036187946384654, mae 0.38320093839889713, smape 0.05949977015357069\n",
      "time: sample 4.842975854873657 s, linsolve 0.0028073787689208984 s, pred 0.38945674896240234 s\n",
      "Trial 36\n"
     ]
    },
    {
     "name": "stdout",
     "output_type": "stream",
     "text": [
      "KRR acc: mse 0.26588296663607414, mae 0.3826415551514958, smape 0.059431249711210034\n",
      "time: sample 4.860870838165283 s, linsolve 0.002788066864013672 s, pred 0.3888864517211914 s\n",
      "Trial 37\n"
     ]
    },
    {
     "name": "stdout",
     "output_type": "stream",
     "text": [
      "KRR acc: mse 0.258984991735199, mae 0.37767529395372396, smape 0.05861012258546907\n",
      "time: sample 4.83959436416626 s, linsolve 0.0028014183044433594 s, pred 0.3889658451080322 s\n",
      "Trial 38\n"
     ]
    },
    {
     "name": "stdout",
     "output_type": "stream",
     "text": [
      "KRR acc: mse 0.2729695194006605, mae 0.38381482548547263, smape 0.059584689682518774\n",
      "time: sample 4.865232706069946 s, linsolve 0.0029211044311523438 s, pred 0.3894202709197998 s\n",
      "Trial 39\n"
     ]
    },
    {
     "name": "stdout",
     "output_type": "stream",
     "text": [
      "KRR acc: mse 0.25904675919736003, mae 0.3783939547634414, smape 0.05872976467889113\n",
      "time: sample 4.84147310256958 s, linsolve 0.0028121471405029297 s, pred 0.38883161544799805 s\n",
      "Trial 40\n"
     ]
    },
    {
     "name": "stdout",
     "output_type": "stream",
     "text": [
      "KRR acc: mse 0.28532426833011915, mae 0.39238398113780354, smape 0.06095431628346629\n",
      "time: sample 4.863431692123413 s, linsolve 0.0029134750366210938 s, pred 0.3887925148010254 s\n",
      "Trial 41\n"
     ]
    },
    {
     "name": "stdout",
     "output_type": "stream",
     "text": [
      "KRR acc: mse 0.2637571462773395, mae 0.3804704543386767, smape 0.05908077812069591\n",
      "time: sample 4.84341025352478 s, linsolve 0.002779245376586914 s, pred 0.3894381523132324 s\n",
      "Trial 42\n"
     ]
    },
    {
     "name": "stdout",
     "output_type": "stream",
     "text": [
      "KRR acc: mse 0.26183516810889723, mae 0.38300831527842366, smape 0.059428807252126625\n",
      "time: sample 4.865406513214111 s, linsolve 0.005545616149902344 s, pred 0.3897252082824707 s\n",
      "Trial 43\n"
     ]
    },
    {
     "name": "stdout",
     "output_type": "stream",
     "text": [
      "KRR acc: mse 0.258389688901704, mae 0.37885927448993506, smape 0.05885181899305563\n",
      "time: sample 4.840805292129517 s, linsolve 0.002789020538330078 s, pred 0.389005184173584 s\n",
      "Trial 44\n"
     ]
    },
    {
     "name": "stdout",
     "output_type": "stream",
     "text": [
      "KRR acc: mse 0.2594348872514816, mae 0.3758618549936149, smape 0.058312863920264406\n",
      "time: sample 4.862977743148804 s, linsolve 0.002835512161254883 s, pred 0.38988780975341797 s\n",
      "Trial 45\n"
     ]
    },
    {
     "name": "stdout",
     "output_type": "stream",
     "text": [
      "KRR acc: mse 0.2697576457020587, mae 0.38316017527740953, smape 0.059492727492489246\n",
      "time: sample 4.84087872505188 s, linsolve 0.002815723419189453 s, pred 0.38883471488952637 s\n",
      "Trial 46\n"
     ]
    },
    {
     "name": "stdout",
     "output_type": "stream",
     "text": [
      "KRR acc: mse 0.269519613137447, mae 0.38639340198668026, smape 0.05999144115720422\n",
      "time: sample 4.86117148399353 s, linsolve 0.002846956253051758 s, pred 0.3889930248260498 s\n",
      "Trial 47\n"
     ]
    },
    {
     "name": "stdout",
     "output_type": "stream",
     "text": [
      "KRR acc: mse 0.2579713942419405, mae 0.37640999574411116, smape 0.05843775103229965\n",
      "time: sample 4.936892509460449 s, linsolve 0.002901315689086914 s, pred 0.39011311531066895 s\n",
      "Trial 48\n"
     ]
    },
    {
     "name": "stdout",
     "output_type": "stream",
     "text": [
      "KRR acc: mse 0.2594725047720504, mae 0.37711065549556905, smape 0.05853601191740939\n",
      "time: sample 4.959503650665283 s, linsolve 0.0028383731842041016 s, pred 0.39043259620666504 s\n",
      "Trial 49\n"
     ]
    },
    {
     "name": "stdout",
     "output_type": "stream",
     "text": [
      "KRR acc: mse 0.25784551629438063, mae 0.3775979425745375, smape 0.058607942344286894\n",
      "time: sample 4.93560528755188 s, linsolve 0.002932310104370117 s, pred 0.39130353927612305 s\n",
      "Trial 50\n"
     ]
    },
    {
     "name": "stdout",
     "output_type": "stream",
     "text": [
      "KRR acc: mse 0.256127374723622, mae 0.37774669089476537, smape 0.05866081396695371\n",
      "time: sample 4.9565112590789795 s, linsolve 0.0028412342071533203 s, pred 0.3900134563446045 s\n",
      "Trial 51\n"
     ]
    },
    {
     "name": "stdout",
     "output_type": "stream",
     "text": [
      "KRR acc: mse 0.2735176437544119, mae 0.3845400425963319, smape 0.05969220442031134\n",
      "time: sample 4.938777923583984 s, linsolve 0.0052373409271240234 s, pred 0.38964104652404785 s\n",
      "Trial 52\n"
     ]
    },
    {
     "name": "stdout",
     "output_type": "stream",
     "text": [
      "KRR acc: mse 0.26704652517312, mae 0.38456279754760414, smape 0.059669023344756655\n",
      "time: sample 4.956132411956787 s, linsolve 0.0027604103088378906 s, pred 0.3892025947570801 s\n",
      "Trial 53\n"
     ]
    },
    {
     "name": "stdout",
     "output_type": "stream",
     "text": [
      "KRR acc: mse 0.2667448687937049, mae 0.3798979707746637, smape 0.058987853551061495\n",
      "time: sample 4.9377851486206055 s, linsolve 0.0028188228607177734 s, pred 0.3910069465637207 s\n",
      "Trial 54\n"
     ]
    },
    {
     "name": "stdout",
     "output_type": "stream",
     "text": [
      "KRR acc: mse 0.26752510008550145, mae 0.38199139889094347, smape 0.059357614957206706\n",
      "time: sample 4.959068536758423 s, linsolve 0.0029015541076660156 s, pred 0.3895230293273926 s\n",
      "Trial 55\n"
     ]
    },
    {
     "name": "stdout",
     "output_type": "stream",
     "text": [
      "KRR acc: mse 0.2749741610801999, mae 0.3858772839242416, smape 0.05991871477563849\n",
      "time: sample 4.938138484954834 s, linsolve 0.002794981002807617 s, pred 0.39356112480163574 s\n",
      "Trial 56\n"
     ]
    },
    {
     "name": "stdout",
     "output_type": "stream",
     "text": [
      "KRR acc: mse 0.26809214335516984, mae 0.38460027638257427, smape 0.059686242267114116\n",
      "time: sample 4.961059808731079 s, linsolve 0.0029113292694091797 s, pred 0.38906383514404297 s\n",
      "Trial 57\n"
     ]
    },
    {
     "name": "stdout",
     "output_type": "stream",
     "text": [
      "KRR acc: mse 0.2657052798081755, mae 0.3780561136456067, smape 0.05872189481398395\n",
      "time: sample 4.939875364303589 s, linsolve 0.002862691879272461 s, pred 0.39050841331481934 s\n",
      "Trial 58\n"
     ]
    },
    {
     "name": "stdout",
     "output_type": "stream",
     "text": [
      "KRR acc: mse 0.25960320404574133, mae 0.37533306046262493, smape 0.058297905320897056\n",
      "time: sample 4.95953631401062 s, linsolve 0.002939462661743164 s, pred 0.39007568359375 s\n",
      "Trial 59\n"
     ]
    },
    {
     "name": "stdout",
     "output_type": "stream",
     "text": [
      "KRR acc: mse 0.2549271678465805, mae 0.3758040157764219, smape 0.058314925944772424\n",
      "time: sample 4.9394731521606445 s, linsolve 0.0027894973754882812 s, pred 0.38991522789001465 s\n",
      "Trial 60\n"
     ]
    },
    {
     "name": "stdout",
     "output_type": "stream",
     "text": [
      "KRR acc: mse 0.25805433594649374, mae 0.3750954066563012, smape 0.05830065250312765\n",
      "time: sample 4.961577415466309 s, linsolve 0.004610776901245117 s, pred 0.38918614387512207 s\n",
      "Trial 61\n"
     ]
    },
    {
     "name": "stdout",
     "output_type": "stream",
     "text": [
      "KRR acc: mse 0.25769154759534496, mae 0.3745244943875903, smape 0.05815663995398929\n",
      "time: sample 4.939174652099609 s, linsolve 0.0027904510498046875 s, pred 0.39083266258239746 s\n",
      "Trial 62\n"
     ]
    },
    {
     "name": "stdout",
     "output_type": "stream",
     "text": [
      "KRR acc: mse 0.2626504096984077, mae 0.3789675752208137, smape 0.05882122466092408\n",
      "time: sample 4.958818197250366 s, linsolve 0.002888202667236328 s, pred 0.38919544219970703 s\n",
      "Trial 63\n"
     ]
    },
    {
     "name": "stdout",
     "output_type": "stream",
     "text": [
      "KRR acc: mse 0.26079266384505106, mae 0.37705829802652313, smape 0.058557822638958326\n",
      "time: sample 4.93675684928894 s, linsolve 0.002814769744873047 s, pred 0.3905775547027588 s\n",
      "Trial 64\n"
     ]
    },
    {
     "name": "stdout",
     "output_type": "stream",
     "text": [
      "KRR acc: mse 0.25307904395495184, mae 0.37396270182493835, smape 0.05806410002644853\n",
      "time: sample 4.962374448776245 s, linsolve 0.002904176712036133 s, pred 0.39002466201782227 s\n",
      "Trial 65\n"
     ]
    },
    {
     "name": "stdout",
     "output_type": "stream",
     "text": [
      "KRR acc: mse 0.2550253168201035, mae 0.3766690073263656, smape 0.05847395430388815\n",
      "time: sample 4.938737154006958 s, linsolve 0.0028438568115234375 s, pred 0.38951563835144043 s\n",
      "Trial 66\n"
     ]
    },
    {
     "name": "stdout",
     "output_type": "stream",
     "text": [
      "KRR acc: mse 0.2664585766017928, mae 0.38229955951692757, smape 0.05937095502152679\n",
      "time: sample 4.959149122238159 s, linsolve 0.002819061279296875 s, pred 0.3908805847167969 s\n",
      "Trial 67\n"
     ]
    },
    {
     "name": "stdout",
     "output_type": "stream",
     "text": [
      "KRR acc: mse 0.2556816266705927, mae 0.3754912316320947, smape 0.05830321387717313\n",
      "time: sample 4.938235521316528 s, linsolve 0.0029191970825195312 s, pred 0.3908557891845703 s\n",
      "Trial 68\n"
     ]
    },
    {
     "name": "stdout",
     "output_type": "stream",
     "text": [
      "KRR acc: mse 0.25977764619513266, mae 0.37671663428620045, smape 0.058542325061792154\n",
      "time: sample 4.958508014678955 s, linsolve 0.0028438568115234375 s, pred 0.3902583122253418 s\n",
      "Trial 69\n"
     ]
    },
    {
     "name": "stdout",
     "output_type": "stream",
     "text": [
      "KRR acc: mse 0.2662742059595985, mae 0.3800969669409961, smape 0.05900576693901285\n",
      "time: sample 4.9384636878967285 s, linsolve 0.003795146942138672 s, pred 0.38930606842041016 s\n",
      "Trial 70\n"
     ]
    },
    {
     "name": "stdout",
     "output_type": "stream",
     "text": [
      "KRR acc: mse 0.26277500596700154, mae 0.3793176646903902, smape 0.05890161590627518\n",
      "time: sample 4.957616090774536 s, linsolve 0.0028226375579833984 s, pred 0.3896753787994385 s\n",
      "Trial 71\n"
     ]
    },
    {
     "name": "stdout",
     "output_type": "stream",
     "text": [
      "KRR acc: mse 0.2753617947061421, mae 0.38437090086907627, smape 0.05970602818652267\n",
      "time: sample 4.93634033203125 s, linsolve 0.002805471420288086 s, pred 0.39014625549316406 s\n",
      "Trial 72\n"
     ]
    },
    {
     "name": "stdout",
     "output_type": "stream",
     "text": [
      "KRR acc: mse 0.27042671108469396, mae 0.38693121496559063, smape 0.060061376537943315\n",
      "time: sample 4.955923557281494 s, linsolve 0.002811431884765625 s, pred 0.39000439643859863 s\n",
      "Trial 73\n"
     ]
    },
    {
     "name": "stdout",
     "output_type": "stream",
     "text": [
      "KRR acc: mse 0.2554892127317401, mae 0.3741406770410305, smape 0.05810302866825995\n",
      "time: sample 4.93930196762085 s, linsolve 0.002880096435546875 s, pred 0.39004015922546387 s\n",
      "Trial 74\n"
     ]
    },
    {
     "name": "stdout",
     "output_type": "stream",
     "text": [
      "KRR acc: mse 0.26656837719387233, mae 0.38493730605513754, smape 0.05974503215392821\n",
      "time: sample 4.956780910491943 s, linsolve 0.002794027328491211 s, pred 0.38962817192077637 s\n",
      "Trial 75\n"
     ]
    },
    {
     "name": "stdout",
     "output_type": "stream",
     "text": [
      "KRR acc: mse 0.2600190946502238, mae 0.3784239947694578, smape 0.05874706306340857\n",
      "time: sample 4.937680006027222 s, linsolve 0.002911090850830078 s, pred 0.389965295791626 s\n",
      "Trial 76\n"
     ]
    },
    {
     "name": "stdout",
     "output_type": "stream",
     "text": [
      "KRR acc: mse 0.2593846191243105, mae 0.3769447130587569, smape 0.058512553524993016\n",
      "time: sample 4.9582679271698 s, linsolve 0.0028100013732910156 s, pred 0.39027857780456543 s\n",
      "Trial 77\n"
     ]
    },
    {
     "name": "stdout",
     "output_type": "stream",
     "text": [
      "KRR acc: mse 0.26029421237852723, mae 0.3793488117602645, smape 0.05889395427097799\n",
      "time: sample 4.936182022094727 s, linsolve 0.0027551651000976562 s, pred 0.39038825035095215 s\n",
      "Trial 78\n"
     ]
    },
    {
     "name": "stdout",
     "output_type": "stream",
     "text": [
      "KRR acc: mse 0.2592376127275888, mae 0.3788991574409433, smape 0.05881629927477745\n",
      "time: sample 4.959662675857544 s, linsolve 0.0030715465545654297 s, pred 0.3900282382965088 s\n",
      "Trial 79\n"
     ]
    },
    {
     "name": "stdout",
     "output_type": "stream",
     "text": [
      "KRR acc: mse 0.26475535527209454, mae 0.3815265278266679, smape 0.059279201990967964\n",
      "time: sample 4.937671184539795 s, linsolve 0.002790689468383789 s, pred 0.39020586013793945 s\n",
      "Trial 80\n"
     ]
    },
    {
     "name": "stdout",
     "output_type": "stream",
     "text": [
      "KRR acc: mse 0.27407241584854386, mae 0.3860404483679289, smape 0.0599389948715668\n",
      "time: sample 4.958497524261475 s, linsolve 0.0028090476989746094 s, pred 0.3901236057281494 s\n",
      "Trial 81\n"
     ]
    },
    {
     "name": "stdout",
     "output_type": "stream",
     "text": [
      "KRR acc: mse 0.24851909140802164, mae 0.3703692579030889, smape 0.057494535564458236\n",
      "time: sample 4.936160087585449 s, linsolve 0.002789020538330078 s, pred 0.390289306640625 s\n",
      "Trial 82\n"
     ]
    },
    {
     "name": "stdout",
     "output_type": "stream",
     "text": [
      "KRR acc: mse 0.2635383412215491, mae 0.3814317740763217, smape 0.059215867443362456\n",
      "time: sample 4.963245630264282 s, linsolve 0.002874612808227539 s, pred 0.3900918960571289 s\n",
      "Trial 83\n"
     ]
    },
    {
     "name": "stdout",
     "output_type": "stream",
     "text": [
      "KRR acc: mse 0.26521459533846864, mae 0.38190084282470543, smape 0.05924661576255893\n",
      "time: sample 4.935153007507324 s, linsolve 0.002813100814819336 s, pred 0.38959383964538574 s\n",
      "Trial 84\n"
     ]
    },
    {
     "name": "stdout",
     "output_type": "stream",
     "text": [
      "KRR acc: mse 0.2689645206777912, mae 0.3809741145773588, smape 0.059180374415061694\n",
      "time: sample 4.958557367324829 s, linsolve 0.002961397171020508 s, pred 0.3901400566101074 s\n",
      "Trial 85\n"
     ]
    },
    {
     "name": "stdout",
     "output_type": "stream",
     "text": [
      "KRR acc: mse 0.2679963581045364, mae 0.3829628623743884, smape 0.05945324470700487\n",
      "time: sample 4.936804533004761 s, linsolve 0.002800464630126953 s, pred 0.3892669677734375 s\n",
      "Trial 86\n"
     ]
    },
    {
     "name": "stdout",
     "output_type": "stream",
     "text": [
      "KRR acc: mse 0.2572720453240417, mae 0.37890169222891307, smape 0.05879906871483027\n",
      "time: sample 4.959826707839966 s, linsolve 0.0064051151275634766 s, pred 0.38971638679504395 s\n",
      "Trial 87\n"
     ]
    },
    {
     "name": "stdout",
     "output_type": "stream",
     "text": [
      "KRR acc: mse 0.2608175064148132, mae 0.37753611405136833, smape 0.05864183057886978\n",
      "time: sample 4.936040639877319 s, linsolve 0.002789735794067383 s, pred 0.39048099517822266 s\n",
      "Trial 88\n"
     ]
    },
    {
     "name": "stdout",
     "output_type": "stream",
     "text": [
      "KRR acc: mse 0.2687794793088882, mae 0.3853449517353875, smape 0.05980911880555559\n",
      "time: sample 4.956946611404419 s, linsolve 0.0028076171875 s, pred 0.3906545639038086 s\n",
      "Trial 89\n"
     ]
    },
    {
     "name": "stdout",
     "output_type": "stream",
     "text": [
      "KRR acc: mse 0.26317844640267285, mae 0.38278730481978684, smape 0.059415447841250135\n",
      "time: sample 4.938552618026733 s, linsolve 0.0028612613677978516 s, pred 0.3912050724029541 s\n",
      "Trial 90\n"
     ]
    },
    {
     "name": "stdout",
     "output_type": "stream",
     "text": [
      "KRR acc: mse 0.26192918153983713, mae 0.3809283195703786, smape 0.059136640415264015\n",
      "time: sample 4.956889390945435 s, linsolve 0.0027701854705810547 s, pred 0.3891727924346924 s\n",
      "Trial 91\n"
     ]
    },
    {
     "name": "stdout",
     "output_type": "stream",
     "text": [
      "KRR acc: mse 0.262996756807045, mae 0.3774217764760695, smape 0.05862721660643565\n",
      "time: sample 4.851868152618408 s, linsolve 0.0028526782989501953 s, pred 0.389754056930542 s\n",
      "Trial 92\n"
     ]
    },
    {
     "name": "stdout",
     "output_type": "stream",
     "text": [
      "KRR acc: mse 0.26980402662692843, mae 0.38391205159813496, smape 0.0596297721980002\n",
      "time: sample 4.861712217330933 s, linsolve 0.002803802490234375 s, pred 0.3884854316711426 s\n",
      "Trial 93\n"
     ]
    },
    {
     "name": "stdout",
     "output_type": "stream",
     "text": [
      "KRR acc: mse 0.2567091557696112, mae 0.3771380962979767, smape 0.058542949160137206\n",
      "time: sample 4.84061074256897 s, linsolve 0.0028977394104003906 s, pred 0.38893651962280273 s\n",
      "Trial 94\n"
     ]
    },
    {
     "name": "stdout",
     "output_type": "stream",
     "text": [
      "KRR acc: mse 0.26741838344876906, mae 0.3823314303787768, smape 0.05936812001500717\n",
      "time: sample 4.860196828842163 s, linsolve 0.0028162002563476562 s, pred 0.3889148235321045 s\n",
      "Trial 95\n"
     ]
    },
    {
     "name": "stdout",
     "output_type": "stream",
     "text": [
      "KRR acc: mse 0.25867419732481545, mae 0.37548339675593795, smape 0.05831229567849407\n",
      "time: sample 4.848656892776489 s, linsolve 0.0059549808502197266 s, pred 0.38916444778442383 s\n",
      "Trial 96\n"
     ]
    },
    {
     "name": "stdout",
     "output_type": "stream",
     "text": [
      "KRR acc: mse 0.26146271229063395, mae 0.3815781059524744, smape 0.05922582728257055\n",
      "time: sample 4.862948417663574 s, linsolve 0.002803802490234375 s, pred 0.3892941474914551 s\n",
      "Trial 97\n"
     ]
    },
    {
     "name": "stdout",
     "output_type": "stream",
     "text": [
      "KRR acc: mse 0.2638826779390731, mae 0.379183419856402, smape 0.058898390450044656\n",
      "time: sample 4.841793775558472 s, linsolve 0.0027883052825927734 s, pred 0.38924479484558105 s\n",
      "Trial 98\n"
     ]
    },
    {
     "name": "stdout",
     "output_type": "stream",
     "text": [
      "KRR acc: mse 0.2743726697462181, mae 0.38388128901730456, smape 0.059617400606543074\n",
      "time: sample 4.861634254455566 s, linsolve 0.0027418136596679688 s, pred 0.3886089324951172 s\n",
      "Trial 99\n"
     ]
    },
    {
     "name": "stdout",
     "output_type": "stream",
     "text": [
      "KRR acc: mse 0.25530490938449985, mae 0.37571330602444153, smape 0.05831892509758478\n",
      "time: sample 4.839752912521362 s, linsolve 0.0028226375579833984 s, pred 0.3892338275909424 s\n",
      "k = 256\n",
      "Trial 0\n"
     ]
    },
    {
     "name": "stdout",
     "output_type": "stream",
     "text": [
      "KRR acc: mse 0.22288157417631246, mae 0.352010049803019, smape 0.05467810950870896\n",
      "time: sample 9.701369524002075 s, linsolve 0.008015632629394531 s, pred 0.7560372352600098 s\n",
      "Trial 1\n"
     ]
    },
    {
     "name": "stdout",
     "output_type": "stream",
     "text": [
      "KRR acc: mse 0.2163989234740851, mae 0.3474018184009797, smape 0.0539414249050669\n",
      "time: sample 9.651494979858398 s, linsolve 0.007482767105102539 s, pred 0.7561638355255127 s\n",
      "Trial 2\n"
     ]
    },
    {
     "name": "stdout",
     "output_type": "stream",
     "text": [
      "KRR acc: mse 0.2165843635696246, mae 0.3482648109273525, smape 0.054115675005562504\n",
      "time: sample 9.67969822883606 s, linsolve 0.011218070983886719 s, pred 0.7563905715942383 s\n",
      "Trial 3\n"
     ]
    },
    {
     "name": "stdout",
     "output_type": "stream",
     "text": [
      "KRR acc: mse 0.22103410430334558, mae 0.3512245520173095, smape 0.0545272350640569\n",
      "time: sample 9.659017562866211 s, linsolve 0.007386207580566406 s, pred 0.7567124366760254 s\n",
      "Trial 4\n"
     ]
    },
    {
     "name": "stdout",
     "output_type": "stream",
     "text": [
      "KRR acc: mse 0.2219281858735484, mae 0.35025235806338606, smape 0.0544032405944521\n",
      "time: sample 9.702171802520752 s, linsolve 0.00750732421875 s, pred 0.7551639080047607 s\n",
      "Trial 5\n"
     ]
    },
    {
     "name": "stdout",
     "output_type": "stream",
     "text": [
      "KRR acc: mse 0.2217020654542815, mae 0.35181720600317934, smape 0.054641851497522737\n",
      "time: sample 9.643007278442383 s, linsolve 0.007441997528076172 s, pred 0.7568762302398682 s\n",
      "Trial 6\n"
     ]
    },
    {
     "name": "stdout",
     "output_type": "stream",
     "text": [
      "KRR acc: mse 0.22091138300669882, mae 0.35075319672824634, smape 0.0544530900560737\n",
      "time: sample 9.678831577301025 s, linsolve 0.0073833465576171875 s, pred 0.7569448947906494 s\n",
      "Trial 7\n"
     ]
    },
    {
     "name": "stdout",
     "output_type": "stream",
     "text": [
      "KRR acc: mse 0.22696819031116003, mae 0.3555115696281256, smape 0.05519920259750364\n",
      "time: sample 9.655569076538086 s, linsolve 0.007915496826171875 s, pred 0.7566170692443848 s\n",
      "Trial 8\n"
     ]
    },
    {
     "name": "stdout",
     "output_type": "stream",
     "text": [
      "KRR acc: mse 0.2222437285783121, mae 0.35045710479122444, smape 0.05441199785353859\n",
      "time: sample 9.698429822921753 s, linsolve 0.007444858551025391 s, pred 0.7582805156707764 s\n",
      "Trial 9\n"
     ]
    },
    {
     "name": "stdout",
     "output_type": "stream",
     "text": [
      "KRR acc: mse 0.2260579880781228, mae 0.3536719238761578, smape 0.05491498100429389\n",
      "time: sample 9.655099630355835 s, linsolve 0.007430076599121094 s, pred 0.7566530704498291 s\n",
      "Trial 10\n"
     ]
    },
    {
     "name": "stdout",
     "output_type": "stream",
     "text": [
      "KRR acc: mse 0.22221094556711968, mae 0.3521490957046719, smape 0.054695623392308095\n",
      "time: sample 9.677917957305908 s, linsolve 0.007471561431884766 s, pred 0.7578363418579102 s\n",
      "Trial 11\n"
     ]
    },
    {
     "name": "stdout",
     "output_type": "stream",
     "text": [
      "KRR acc: mse 0.22873399968191807, mae 0.35477822045393087, smape 0.055111612387169225\n",
      "time: sample 9.667293310165405 s, linsolve 0.012202978134155273 s, pred 0.7563371658325195 s\n",
      "Trial 12\n"
     ]
    },
    {
     "name": "stdout",
     "output_type": "stream",
     "text": [
      "KRR acc: mse 0.2289391529036488, mae 0.35539075476142773, smape 0.055218811480927284\n",
      "time: sample 9.702277183532715 s, linsolve 0.007384061813354492 s, pred 0.7558703422546387 s\n",
      "Trial 13\n"
     ]
    },
    {
     "name": "stdout",
     "output_type": "stream",
     "text": [
      "KRR acc: mse 0.224369353153671, mae 0.35567606219901565, smape 0.05523818755020718\n",
      "time: sample 9.656106233596802 s, linsolve 0.0074977874755859375 s, pred 0.7562582492828369 s\n",
      "Trial 14\n"
     ]
    },
    {
     "name": "stdout",
     "output_type": "stream",
     "text": [
      "KRR acc: mse 0.2175077975052719, mae 0.348644725929814, smape 0.054128732573489866\n",
      "time: sample 9.673695802688599 s, linsolve 0.007399320602416992 s, pred 0.7560756206512451 s\n",
      "Trial 15\n"
     ]
    },
    {
     "name": "stdout",
     "output_type": "stream",
     "text": [
      "KRR acc: mse 0.2168796245255552, mae 0.3474483607028287, smape 0.0539633240626228\n",
      "time: sample 9.662854671478271 s, linsolve 0.007436513900756836 s, pred 0.7561056613922119 s\n",
      "Trial 16\n"
     ]
    },
    {
     "name": "stdout",
     "output_type": "stream",
     "text": [
      "KRR acc: mse 0.22007333678584856, mae 0.3519725986472687, smape 0.05465797058970779\n",
      "time: sample 9.704556465148926 s, linsolve 0.008597373962402344 s, pred 0.7570912837982178 s\n",
      "Trial 17\n"
     ]
    },
    {
     "name": "stdout",
     "output_type": "stream",
     "text": [
      "KRR acc: mse 0.2185125096129833, mae 0.34964673732421214, smape 0.05431249938196733\n",
      "time: sample 9.649447441101074 s, linsolve 0.007376194000244141 s, pred 0.7567234039306641 s\n",
      "Trial 18\n"
     ]
    },
    {
     "name": "stdout",
     "output_type": "stream",
     "text": [
      "KRR acc: mse 0.2202608674185642, mae 0.3495697294592576, smape 0.0542811731199611\n",
      "time: sample 9.679242134094238 s, linsolve 0.007476329803466797 s, pred 0.7565121650695801 s\n",
      "Trial 19\n"
     ]
    },
    {
     "name": "stdout",
     "output_type": "stream",
     "text": [
      "KRR acc: mse 0.2260679384990637, mae 0.3510113402087726, smape 0.05455937795606095\n",
      "time: sample 9.658150672912598 s, linsolve 0.0074214935302734375 s, pred 0.7561788558959961 s\n",
      "Trial 20\n"
     ]
    },
    {
     "name": "stdout",
     "output_type": "stream",
     "text": [
      "KRR acc: mse 0.22990551984352697, mae 0.3566720976039602, smape 0.05538303030089651\n",
      "time: sample 9.702626705169678 s, linsolve 0.013020038604736328 s, pred 0.7573201656341553 s\n",
      "Trial 21\n"
     ]
    },
    {
     "name": "stdout",
     "output_type": "stream",
     "text": [
      "KRR acc: mse 0.2185630858453816, mae 0.3453539488297857, smape 0.053675693622105704\n",
      "time: sample 9.651518106460571 s, linsolve 0.007422447204589844 s, pred 0.7556960582733154 s\n",
      "Trial 22\n"
     ]
    },
    {
     "name": "stdout",
     "output_type": "stream",
     "text": [
      "KRR acc: mse 0.22210543888878337, mae 0.3528172536016587, smape 0.05477518228536882\n",
      "time: sample 9.677424907684326 s, linsolve 0.007536172866821289 s, pred 0.7562894821166992 s\n",
      "Trial 23\n"
     ]
    },
    {
     "name": "stdout",
     "output_type": "stream",
     "text": [
      "KRR acc: mse 0.2158045801674682, mae 0.3481469217265411, smape 0.05405824751478942\n",
      "time: sample 9.660961389541626 s, linsolve 0.0073468685150146484 s, pred 0.756962776184082 s\n",
      "Trial 24\n"
     ]
    },
    {
     "name": "stdout",
     "output_type": "stream",
     "text": [
      "KRR acc: mse 0.2214472089620811, mae 0.35273700176515566, smape 0.05477861511519302\n",
      "time: sample 9.70030426979065 s, linsolve 0.007500648498535156 s, pred 0.7564311027526855 s\n",
      "Trial 25\n"
     ]
    },
    {
     "name": "stdout",
     "output_type": "stream",
     "text": [
      "KRR acc: mse 0.2206013880779957, mae 0.3510094673585797, smape 0.05449813436957351\n",
      "time: sample 9.658495903015137 s, linsolve 0.00954127311706543 s, pred 0.7558739185333252 s\n",
      "Trial 26\n"
     ]
    },
    {
     "name": "stdout",
     "output_type": "stream",
     "text": [
      "KRR acc: mse 0.22508045323471118, mae 0.35382143402307736, smape 0.054939449560321894\n",
      "time: sample 9.678711891174316 s, linsolve 0.007418394088745117 s, pred 0.7563605308532715 s\n",
      "Trial 27\n"
     ]
    },
    {
     "name": "stdout",
     "output_type": "stream",
     "text": [
      "KRR acc: mse 0.22486802727356875, mae 0.3551067760564774, smape 0.055133115858785074\n",
      "time: sample 9.665200471878052 s, linsolve 0.007540464401245117 s, pred 0.7552046775817871 s\n",
      "Trial 28\n"
     ]
    },
    {
     "name": "stdout",
     "output_type": "stream",
     "text": [
      "KRR acc: mse 0.2173567185026604, mae 0.3478010186821688, smape 0.05401411965459414\n",
      "time: sample 9.698655843734741 s, linsolve 0.007424116134643555 s, pred 0.7570133209228516 s\n",
      "Trial 29\n"
     ]
    },
    {
     "name": "stdout",
     "output_type": "stream",
     "text": [
      "KRR acc: mse 0.22444444480899464, mae 0.3508205805986763, smape 0.05450602499389172\n",
      "time: sample 9.651413440704346 s, linsolve 0.013893842697143555 s, pred 0.756267786026001 s\n",
      "Trial 30\n"
     ]
    },
    {
     "name": "stdout",
     "output_type": "stream",
     "text": [
      "KRR acc: mse 0.22365225042119874, mae 0.3497800795613825, smape 0.054357661440416226\n",
      "time: sample 9.674299955368042 s, linsolve 0.007511138916015625 s, pred 0.7563941478729248 s\n",
      "Trial 31\n"
     ]
    },
    {
     "name": "stdout",
     "output_type": "stream",
     "text": [
      "KRR acc: mse 0.2256279394372692, mae 0.3544633280121338, smape 0.0550727233373209\n",
      "time: sample 9.65933609008789 s, linsolve 0.007372617721557617 s, pred 0.7582406997680664 s\n",
      "Trial 32\n"
     ]
    },
    {
     "name": "stdout",
     "output_type": "stream",
     "text": [
      "KRR acc: mse 0.21981879237184293, mae 0.3497332138534239, smape 0.05437016319254956\n",
      "time: sample 9.703487157821655 s, linsolve 0.007512331008911133 s, pred 0.7566118240356445 s\n",
      "Trial 33\n"
     ]
    },
    {
     "name": "stdout",
     "output_type": "stream",
     "text": [
      "KRR acc: mse 0.21723223910088973, mae 0.34953603388601423, smape 0.05428589538006072\n",
      "time: sample 9.64765453338623 s, linsolve 0.00742793083190918 s, pred 0.7567579746246338 s\n",
      "Trial 34\n"
     ]
    },
    {
     "name": "stdout",
     "output_type": "stream",
     "text": [
      "KRR acc: mse 0.22888028297267032, mae 0.3565967140004726, smape 0.05538128061656376\n",
      "time: sample 9.679090023040771 s, linsolve 0.010499000549316406 s, pred 0.7565793991088867 s\n",
      "Trial 35\n"
     ]
    },
    {
     "name": "stdout",
     "output_type": "stream",
     "text": [
      "KRR acc: mse 0.2160942979270117, mae 0.34670364010237414, smape 0.05384253515962278\n",
      "time: sample 9.675547361373901 s, linsolve 0.007435321807861328 s, pred 0.756417989730835 s\n",
      "Trial 36\n"
     ]
    },
    {
     "name": "stdout",
     "output_type": "stream",
     "text": [
      "KRR acc: mse 0.21794785156980662, mae 0.3473252785991696, smape 0.053943454716800975\n",
      "time: sample 9.71738600730896 s, linsolve 0.00754237174987793 s, pred 0.7558753490447998 s\n",
      "Trial 37\n"
     ]
    },
    {
     "name": "stdout",
     "output_type": "stream",
     "text": [
      "KRR acc: mse 0.22739429111977866, mae 0.3548565231474623, smape 0.05509844491242261\n",
      "time: sample 9.664576530456543 s, linsolve 0.007426261901855469 s, pred 0.7557499408721924 s\n",
      "Trial 38\n"
     ]
    },
    {
     "name": "stdout",
     "output_type": "stream",
     "text": [
      "KRR acc: mse 0.2167737929631874, mae 0.3485894937362315, smape 0.0541340313888746\n",
      "time: sample 9.692607879638672 s, linsolve 0.01471090316772461 s, pred 0.7556819915771484 s\n",
      "Trial 39\n"
     ]
    },
    {
     "name": "stdout",
     "output_type": "stream",
     "text": [
      "KRR acc: mse 0.21802995434303366, mae 0.34885716788081916, smape 0.054173080024756064\n",
      "time: sample 9.672117710113525 s, linsolve 0.007460117340087891 s, pred 0.7570075988769531 s\n",
      "Trial 40\n"
     ]
    },
    {
     "name": "stdout",
     "output_type": "stream",
     "text": [
      "KRR acc: mse 0.22126168556948464, mae 0.3502978965905082, smape 0.05442745249587591\n",
      "time: sample 9.715386629104614 s, linsolve 0.007449626922607422 s, pred 0.7568867206573486 s\n",
      "Trial 41\n"
     ]
    },
    {
     "name": "stdout",
     "output_type": "stream",
     "text": [
      "KRR acc: mse 0.226219370152925, mae 0.35287927115065015, smape 0.054829547586380395\n",
      "time: sample 9.663808822631836 s, linsolve 0.0075342655181884766 s, pred 0.7556376457214355 s\n",
      "Trial 42\n"
     ]
    },
    {
     "name": "stdout",
     "output_type": "stream",
     "text": [
      "KRR acc: mse 0.2255830483265041, mae 0.35395561010304866, smape 0.05494488985913684\n",
      "time: sample 9.689512729644775 s, linsolve 0.007561683654785156 s, pred 0.755720853805542 s\n",
      "Trial 43\n"
     ]
    },
    {
     "name": "stdout",
     "output_type": "stream",
     "text": [
      "KRR acc: mse 0.21974334405238183, mae 0.34969332454219465, smape 0.054333252914488754\n",
      "time: sample 9.677327156066895 s, linsolve 0.011429786682128906 s, pred 0.757286548614502 s\n",
      "Trial 44\n"
     ]
    },
    {
     "name": "stdout",
     "output_type": "stream",
     "text": [
      "KRR acc: mse 0.2200732556598205, mae 0.349636618335437, smape 0.05430876556551743\n",
      "time: sample 9.710766553878784 s, linsolve 0.007428407669067383 s, pred 0.7568702697753906 s\n",
      "Trial 45\n"
     ]
    },
    {
     "name": "stdout",
     "output_type": "stream",
     "text": [
      "KRR acc: mse 0.21371040765854973, mae 0.34597413605369437, smape 0.05374176280477321\n",
      "time: sample 9.664727926254272 s, linsolve 0.007500886917114258 s, pred 0.7554566860198975 s\n",
      "Trial 46\n"
     ]
    },
    {
     "name": "stdout",
     "output_type": "stream",
     "text": [
      "KRR acc: mse 0.22029660434108186, mae 0.3500153623912328, smape 0.05434262213422792\n",
      "time: sample 9.68822979927063 s, linsolve 0.007469892501831055 s, pred 0.7556600570678711 s\n",
      "Trial 47\n"
     ]
    },
    {
     "name": "stdout",
     "output_type": "stream",
     "text": [
      "KRR acc: mse 0.2308704545527424, mae 0.3549510439201136, smape 0.055164597252411705\n",
      "time: sample 9.675923109054565 s, linsolve 0.0074841976165771484 s, pred 0.7567870616912842 s\n",
      "Trial 48\n"
     ]
    },
    {
     "name": "stdout",
     "output_type": "stream",
     "text": [
      "KRR acc: mse 0.22639728271517207, mae 0.3539022279392504, smape 0.05495040850636537\n",
      "time: sample 9.712158679962158 s, linsolve 0.007934331893920898 s, pred 0.7587273120880127 s\n",
      "Trial 49\n"
     ]
    },
    {
     "name": "stdout",
     "output_type": "stream",
     "text": [
      "KRR acc: mse 0.23110186360032267, mae 0.3573982212176194, smape 0.05552580842237661\n",
      "time: sample 9.664900779724121 s, linsolve 0.007414340972900391 s, pred 0.7563502788543701 s\n",
      "Trial 50\n"
     ]
    },
    {
     "name": "stdout",
     "output_type": "stream",
     "text": [
      "KRR acc: mse 0.22347308007340344, mae 0.3515773355151946, smape 0.054609447707531275\n",
      "time: sample 9.695425748825073 s, linsolve 0.007559061050415039 s, pred 0.7580068111419678 s\n",
      "Trial 51\n"
     ]
    },
    {
     "name": "stdout",
     "output_type": "stream",
     "text": [
      "KRR acc: mse 0.22755362687198435, mae 0.35217752272556885, smape 0.05471333787304313\n",
      "time: sample 9.677907943725586 s, linsolve 0.007563591003417969 s, pred 0.7558565139770508 s\n",
      "Trial 52\n"
     ]
    },
    {
     "name": "stdout",
     "output_type": "stream",
     "text": [
      "KRR acc: mse 0.2288503926525654, mae 0.35588781570190287, smape 0.05524401514887661\n",
      "time: sample 9.718332052230835 s, linsolve 0.012129783630371094 s, pred 0.7562663555145264 s\n",
      "Trial 53\n"
     ]
    },
    {
     "name": "stdout",
     "output_type": "stream",
     "text": [
      "KRR acc: mse 0.21358468721035437, mae 0.3450107587077519, smape 0.053574506120582635\n",
      "time: sample 9.656238794326782 s, linsolve 0.00742340087890625 s, pred 0.7567698955535889 s\n",
      "Trial 54\n"
     ]
    },
    {
     "name": "stdout",
     "output_type": "stream",
     "text": [
      "KRR acc: mse 0.22274888312309277, mae 0.352194039548667, smape 0.05470508269480587\n",
      "time: sample 9.692430019378662 s, linsolve 0.007525444030761719 s, pred 0.7570056915283203 s\n",
      "Trial 55\n"
     ]
    },
    {
     "name": "stdout",
     "output_type": "stream",
     "text": [
      "KRR acc: mse 0.21851956887092638, mae 0.34830560237615094, smape 0.05408149361964804\n",
      "time: sample 9.671765089035034 s, linsolve 0.0074422359466552734 s, pred 0.7567965984344482 s\n",
      "Trial 56\n"
     ]
    },
    {
     "name": "stdout",
     "output_type": "stream",
     "text": [
      "KRR acc: mse 0.21943699255643542, mae 0.35082175931884174, smape 0.05446324980486766\n",
      "time: sample 9.714412450790405 s, linsolve 0.0074787139892578125 s, pred 0.7576568126678467 s\n",
      "Trial 57\n"
     ]
    },
    {
     "name": "stdout",
     "output_type": "stream",
     "text": [
      "KRR acc: mse 0.22122994066826213, mae 0.35103911251032643, smape 0.05450167087669424\n",
      "time: sample 9.659948348999023 s, linsolve 0.008517742156982422 s, pred 0.7560701370239258 s\n",
      "Trial 58\n"
     ]
    },
    {
     "name": "stdout",
     "output_type": "stream",
     "text": [
      "KRR acc: mse 0.22367615400713012, mae 0.3521172420152603, smape 0.054677732009615274\n",
      "time: sample 9.693109273910522 s, linsolve 0.007389545440673828 s, pred 0.7557854652404785 s\n",
      "Trial 59\n"
     ]
    },
    {
     "name": "stdout",
     "output_type": "stream",
     "text": [
      "KRR acc: mse 0.21641436890543983, mae 0.3475967425202493, smape 0.05396790936863829\n",
      "time: sample 9.67457890510559 s, linsolve 0.0075795650482177734 s, pred 0.7573909759521484 s\n",
      "Trial 60\n"
     ]
    },
    {
     "name": "stdout",
     "output_type": "stream",
     "text": [
      "KRR acc: mse 0.21958901615664736, mae 0.3499462694565665, smape 0.0543338572016152\n",
      "time: sample 9.71350908279419 s, linsolve 0.0073931217193603516 s, pred 0.7553467750549316 s\n",
      "Trial 61\n"
     ]
    },
    {
     "name": "stdout",
     "output_type": "stream",
     "text": [
      "KRR acc: mse 0.21809648875836493, mae 0.3493080015393143, smape 0.054240821096821365\n",
      "time: sample 9.664424180984497 s, linsolve 0.012979984283447266 s, pred 0.7553577423095703 s\n",
      "Trial 62\n"
     ]
    },
    {
     "name": "stdout",
     "output_type": "stream",
     "text": [
      "KRR acc: mse 0.2192218277374036, mae 0.34841502073662217, smape 0.05412716776991027\n",
      "time: sample 9.686897277832031 s, linsolve 0.007359504699707031 s, pred 0.7553925514221191 s\n",
      "Trial 63\n"
     ]
    },
    {
     "name": "stdout",
     "output_type": "stream",
     "text": [
      "KRR acc: mse 0.22189461506686212, mae 0.3516136543324043, smape 0.05457688993375391\n",
      "time: sample 9.676167488098145 s, linsolve 0.007519721984863281 s, pred 0.7557079792022705 s\n",
      "Trial 64\n"
     ]
    },
    {
     "name": "stdout",
     "output_type": "stream",
     "text": [
      "KRR acc: mse 0.21965993340143022, mae 0.3493679637187756, smape 0.054267153413202526\n",
      "time: sample 9.714866638183594 s, linsolve 0.00738525390625 s, pred 0.7560930252075195 s\n",
      "Trial 65\n"
     ]
    },
    {
     "name": "stdout",
     "output_type": "stream",
     "text": [
      "KRR acc: mse 0.2196639391328651, mae 0.3509875950952921, smape 0.054486812441439096\n",
      "time: sample 9.65866756439209 s, linsolve 0.007452249526977539 s, pred 0.7553844451904297 s\n",
      "Trial 66\n"
     ]
    },
    {
     "name": "stdout",
     "output_type": "stream",
     "text": [
      "KRR acc: mse 0.21982005359437717, mae 0.3491254561089576, smape 0.05423274322291817\n",
      "time: sample 9.69004511833191 s, linsolve 0.009481668472290039 s, pred 0.7568671703338623 s\n",
      "Trial 67\n"
     ]
    },
    {
     "name": "stdout",
     "output_type": "stream",
     "text": [
      "KRR acc: mse 0.22317036323588083, mae 0.34927119257889255, smape 0.054281184228462016\n",
      "time: sample 9.67267894744873 s, linsolve 0.007392406463623047 s, pred 0.7560877799987793 s\n",
      "Trial 68\n"
     ]
    },
    {
     "name": "stdout",
     "output_type": "stream",
     "text": [
      "KRR acc: mse 0.2194243121749134, mae 0.34920918184254335, smape 0.05424262588284188\n",
      "time: sample 9.714494466781616 s, linsolve 0.00748753547668457 s, pred 0.7562863826751709 s\n",
      "Trial 69\n"
     ]
    },
    {
     "name": "stdout",
     "output_type": "stream",
     "text": [
      "KRR acc: mse 0.22021923096731466, mae 0.35156516175510205, smape 0.05459504471564877\n",
      "time: sample 9.661031723022461 s, linsolve 0.007506847381591797 s, pred 0.7554702758789062 s\n",
      "Trial 70\n"
     ]
    },
    {
     "name": "stdout",
     "output_type": "stream",
     "text": [
      "KRR acc: mse 0.22459386013883423, mae 0.35292657610684236, smape 0.05479304113468851\n",
      "time: sample 9.69596791267395 s, linsolve 0.01381540298461914 s, pred 0.7560513019561768 s\n",
      "Trial 71\n"
     ]
    },
    {
     "name": "stdout",
     "output_type": "stream",
     "text": [
      "KRR acc: mse 0.2223099868639547, mae 0.3520717496668213, smape 0.05465402432110227\n",
      "time: sample 9.678362131118774 s, linsolve 0.007360935211181641 s, pred 0.7568714618682861 s\n",
      "Trial 72\n"
     ]
    },
    {
     "name": "stdout",
     "output_type": "stream",
     "text": [
      "KRR acc: mse 0.21918694822925727, mae 0.3483141722540756, smape 0.05407816835819538\n",
      "time: sample 9.717227220535278 s, linsolve 0.007433891296386719 s, pred 0.7572147846221924 s\n",
      "Trial 73\n"
     ]
    },
    {
     "name": "stdout",
     "output_type": "stream",
     "text": [
      "KRR acc: mse 0.21867952339859284, mae 0.3489449140758703, smape 0.05423225780750696\n",
      "time: sample 9.667840480804443 s, linsolve 0.0075604915618896484 s, pred 0.7557156085968018 s\n",
      "Trial 74\n"
     ]
    },
    {
     "name": "stdout",
     "output_type": "stream",
     "text": [
      "KRR acc: mse 0.2231436952201985, mae 0.3534091284749815, smape 0.054895173064930455\n",
      "time: sample 9.697068691253662 s, linsolve 0.007544755935668945 s, pred 0.756201982498169 s\n",
      "Trial 75\n"
     ]
    },
    {
     "name": "stdout",
     "output_type": "stream",
     "text": [
      "KRR acc: mse 0.22228531208238564, mae 0.35231779729921153, smape 0.05469068467117479\n",
      "time: sample 9.67972469329834 s, linsolve 0.010298013687133789 s, pred 0.7562477588653564 s\n",
      "Trial 76\n"
     ]
    },
    {
     "name": "stdout",
     "output_type": "stream",
     "text": [
      "KRR acc: mse 0.22314755938830025, mae 0.3515472597328805, smape 0.054576769813044566\n",
      "time: sample 9.717483282089233 s, linsolve 0.0074083805084228516 s, pred 0.7561454772949219 s\n",
      "Trial 77\n"
     ]
    },
    {
     "name": "stdout",
     "output_type": "stream",
     "text": [
      "KRR acc: mse 0.22123753229203316, mae 0.3510287146393064, smape 0.05451939832984559\n",
      "time: sample 9.669280767440796 s, linsolve 0.0075647830963134766 s, pred 0.7558431625366211 s\n",
      "Trial 78\n"
     ]
    },
    {
     "name": "stdout",
     "output_type": "stream",
     "text": [
      "KRR acc: mse 0.22373344485288416, mae 0.3532895664021654, smape 0.054840917568841394\n",
      "time: sample 9.694576025009155 s, linsolve 0.007429838180541992 s, pred 0.7557647228240967 s\n",
      "Trial 79\n"
     ]
    },
    {
     "name": "stdout",
     "output_type": "stream",
     "text": [
      "KRR acc: mse 0.22366367826839187, mae 0.3531874370800844, smape 0.05483276481361165\n",
      "time: sample 9.678594589233398 s, linsolve 0.014553308486938477 s, pred 0.7566537857055664 s\n",
      "Trial 80\n"
     ]
    },
    {
     "name": "stdout",
     "output_type": "stream",
     "text": [
      "KRR acc: mse 0.22341752894975958, mae 0.35290779592989346, smape 0.054825542633279226\n",
      "time: sample 9.709946870803833 s, linsolve 0.007483482360839844 s, pred 0.7565536499023438 s\n",
      "Trial 81\n"
     ]
    },
    {
     "name": "stdout",
     "output_type": "stream",
     "text": [
      "KRR acc: mse 0.22140613063359732, mae 0.35063035829620254, smape 0.054454440399345244\n",
      "time: sample 9.665335893630981 s, linsolve 0.007347583770751953 s, pred 0.7563679218292236 s\n",
      "Trial 82\n"
     ]
    },
    {
     "name": "stdout",
     "output_type": "stream",
     "text": [
      "KRR acc: mse 0.22747796290496022, mae 0.35719713593739794, smape 0.05544209400058312\n",
      "time: sample 9.685351133346558 s, linsolve 0.00748133659362793 s, pred 0.7555403709411621 s\n",
      "Trial 83\n"
     ]
    },
    {
     "name": "stdout",
     "output_type": "stream",
     "text": [
      "KRR acc: mse 0.2243210797498704, mae 0.3544969685079136, smape 0.055071039823653085\n",
      "time: sample 9.664512634277344 s, linsolve 0.007482051849365234 s, pred 0.756702184677124 s\n",
      "Trial 84\n"
     ]
    },
    {
     "name": "stdout",
     "output_type": "stream",
     "text": [
      "KRR acc: mse 0.21772712018684778, mae 0.34941300813362536, smape 0.0542633339781643\n",
      "time: sample 9.71636438369751 s, linsolve 0.011141061782836914 s, pred 0.7552616596221924 s\n",
      "Trial 85\n"
     ]
    },
    {
     "name": "stdout",
     "output_type": "stream",
     "text": [
      "KRR acc: mse 0.22463917678315892, mae 0.354781105065019, smape 0.05506263540419693\n",
      "time: sample 9.664238452911377 s, linsolve 0.0074045658111572266 s, pred 0.7563843727111816 s\n",
      "Trial 86\n"
     ]
    },
    {
     "name": "stdout",
     "output_type": "stream",
     "text": [
      "KRR acc: mse 0.22449620830277914, mae 0.35347651049294704, smape 0.0548835839052872\n",
      "time: sample 9.697858572006226 s, linsolve 0.007601022720336914 s, pred 0.7554285526275635 s\n",
      "Trial 87\n"
     ]
    },
    {
     "name": "stdout",
     "output_type": "stream",
     "text": [
      "KRR acc: mse 0.22489876632042302, mae 0.35145194820225717, smape 0.054574144054828855\n",
      "time: sample 9.677770376205444 s, linsolve 0.007491350173950195 s, pred 0.7562863826751709 s\n",
      "Trial 88\n"
     ]
    },
    {
     "name": "stdout",
     "output_type": "stream",
     "text": [
      "KRR acc: mse 0.21970258462646447, mae 0.3496064194100227, smape 0.054319336829422846\n",
      "time: sample 9.718034267425537 s, linsolve 0.007481575012207031 s, pred 0.7567527294158936 s\n",
      "Trial 89\n"
     ]
    },
    {
     "name": "stdout",
     "output_type": "stream",
     "text": [
      "KRR acc: mse 0.2220683506814017, mae 0.3527827390015964, smape 0.05476488700552977\n",
      "time: sample 9.660184621810913 s, linsolve 0.007901668548583984 s, pred 0.7559168338775635 s\n",
      "Trial 90\n"
     ]
    },
    {
     "name": "stdout",
     "output_type": "stream",
     "text": [
      "KRR acc: mse 0.22417399048434358, mae 0.3487256450185217, smape 0.05420938182819215\n",
      "time: sample 9.685889482498169 s, linsolve 0.007409811019897461 s, pred 0.756697416305542 s\n",
      "Trial 91\n"
     ]
    },
    {
     "name": "stdout",
     "output_type": "stream",
     "text": [
      "KRR acc: mse 0.22105623680754508, mae 0.35087676375294236, smape 0.05448270592924312\n",
      "time: sample 9.677527666091919 s, linsolve 0.007517337799072266 s, pred 0.7552692890167236 s\n",
      "Trial 92\n"
     ]
    },
    {
     "name": "stdout",
     "output_type": "stream",
     "text": [
      "KRR acc: mse 0.22832982586510783, mae 0.35667384221513576, smape 0.05538780434917791\n",
      "time: sample 9.712837934494019 s, linsolve 0.0075528621673583984 s, pred 0.7561476230621338 s\n",
      "Trial 93\n"
     ]
    },
    {
     "name": "stdout",
     "output_type": "stream",
     "text": [
      "KRR acc: mse 0.22775562472037245, mae 0.3568085193940462, smape 0.05544253146600695\n",
      "time: sample 9.670837879180908 s, linsolve 0.011929988861083984 s, pred 0.7574458122253418 s\n",
      "Trial 94\n"
     ]
    },
    {
     "name": "stdout",
     "output_type": "stream",
     "text": [
      "KRR acc: mse 0.23289100418947836, mae 0.35538314761750117, smape 0.055225907347378894\n",
      "time: sample 9.693408012390137 s, linsolve 0.007437229156494141 s, pred 0.7565462589263916 s\n",
      "Trial 95\n"
     ]
    },
    {
     "name": "stdout",
     "output_type": "stream",
     "text": [
      "KRR acc: mse 0.22095227107008814, mae 0.34851127619878935, smape 0.05413406392538932\n",
      "time: sample 9.677979946136475 s, linsolve 0.007523298263549805 s, pred 0.7558844089508057 s\n",
      "Trial 96\n"
     ]
    },
    {
     "name": "stdout",
     "output_type": "stream",
     "text": [
      "KRR acc: mse 0.22784305954259343, mae 0.3518761612867954, smape 0.05467642163005262\n",
      "time: sample 9.713451623916626 s, linsolve 0.007491350173950195 s, pred 0.7563071250915527 s\n",
      "Trial 97\n"
     ]
    },
    {
     "name": "stdout",
     "output_type": "stream",
     "text": [
      "KRR acc: mse 0.23043103189131453, mae 0.354452770147081, smape 0.05505673247450559\n",
      "time: sample 9.66252875328064 s, linsolve 0.007385730743408203 s, pred 0.7568857669830322 s\n",
      "Trial 98\n"
     ]
    },
    {
     "name": "stdout",
     "output_type": "stream",
     "text": [
      "KRR acc: mse 0.21780844152696763, mae 0.34909886519066224, smape 0.05423880923987333\n",
      "time: sample 9.693105220794678 s, linsolve 0.008325815200805664 s, pred 0.7570116519927979 s\n",
      "Trial 99\n"
     ]
    },
    {
     "name": "stdout",
     "output_type": "stream",
     "text": [
      "KRR acc: mse 0.22287096189855088, mae 0.3520157218006639, smape 0.05466370560160576\n",
      "time: sample 9.67351746559143 s, linsolve 0.007454395294189453 s, pred 0.7556276321411133 s\n",
      "k = 512\n",
      "Trial 0\n"
     ]
    },
    {
     "name": "stdout",
     "output_type": "stream",
     "text": [
      "KRR acc: mse 0.18544196207018093, mae 0.3232586088623591, smape 0.0501619149035805\n",
      "time: sample 19.764348030090332 s, linsolve 0.03154778480529785 s, pred 1.5338108539581299 s\n",
      "Trial 1\n"
     ]
    },
    {
     "name": "stdout",
     "output_type": "stream",
     "text": [
      "KRR acc: mse 0.18570630216312173, mae 0.32518125937945114, smape 0.05047050179120683\n",
      "time: sample 19.75409698486328 s, linsolve 0.03607463836669922 s, pred 1.533463716506958 s\n",
      "Trial 2\n"
     ]
    },
    {
     "name": "stdout",
     "output_type": "stream",
     "text": [
      "KRR acc: mse 0.18937952306116887, mae 0.32682666559067847, smape 0.050721516111517505\n",
      "time: sample 19.668909549713135 s, linsolve 0.03042435646057129 s, pred 1.5389468669891357 s\n",
      "Trial 3\n"
     ]
    },
    {
     "name": "stdout",
     "output_type": "stream",
     "text": [
      "KRR acc: mse 0.1842780442914712, mae 0.32359303255226995, smape 0.05022284697091742\n",
      "time: sample 19.71612048149109 s, linsolve 0.03975558280944824 s, pred 1.534480094909668 s\n",
      "Trial 4\n"
     ]
    },
    {
     "name": "stdout",
     "output_type": "stream",
     "text": [
      "KRR acc: mse 0.18480302027911735, mae 0.3229644226626892, smape 0.0501385730039403\n",
      "time: sample 19.76079821586609 s, linsolve 0.030685901641845703 s, pred 1.5349056720733643 s\n",
      "Trial 5\n"
     ]
    },
    {
     "name": "stdout",
     "output_type": "stream",
     "text": [
      "KRR acc: mse 0.18571857444647585, mae 0.3231271916566763, smape 0.05012820471272312\n",
      "time: sample 19.733044147491455 s, linsolve 0.03054332733154297 s, pred 1.532968282699585 s\n",
      "Trial 6\n"
     ]
    },
    {
     "name": "stdout",
     "output_type": "stream",
     "text": [
      "KRR acc: mse 0.18929873885490098, mae 0.32691458631620096, smape 0.05073477194740201\n",
      "time: sample 19.719375371932983 s, linsolve 0.036994218826293945 s, pred 1.535810947418213 s\n",
      "Trial 7\n"
     ]
    },
    {
     "name": "stdout",
     "output_type": "stream",
     "text": [
      "KRR acc: mse 0.1826010022100542, mae 0.32097878206530156, smape 0.049768456968212506\n",
      "time: sample 19.703284740447998 s, linsolve 0.030450820922851562 s, pred 1.536177396774292 s\n",
      "Trial 8\n"
     ]
    },
    {
     "name": "stdout",
     "output_type": "stream",
     "text": [
      "KRR acc: mse 0.1875217656997033, mae 0.3260295961541584, smape 0.05059436178458706\n",
      "time: sample 19.754525661468506 s, linsolve 0.040755510330200195 s, pred 1.5332951545715332 s\n",
      "Trial 9\n"
     ]
    },
    {
     "name": "stdout",
     "output_type": "stream",
     "text": [
      "KRR acc: mse 0.1866282752960099, mae 0.3255979492239706, smape 0.05048692302946541\n",
      "time: sample 19.70085096359253 s, linsolve 0.030747175216674805 s, pred 1.5348823070526123 s\n",
      "Trial 10\n"
     ]
    },
    {
     "name": "stdout",
     "output_type": "stream",
     "text": [
      "KRR acc: mse 0.18425372296264883, mae 0.3237958731851574, smape 0.05023686016862932\n",
      "time: sample 19.64357829093933 s, linsolve 0.030551671981811523 s, pred 1.5346453189849854 s\n",
      "Trial 11\n"
     ]
    },
    {
     "name": "stdout",
     "output_type": "stream",
     "text": [
      "KRR acc: mse 0.18329486335567252, mae 0.32210337277268175, smape 0.049978372760009444\n",
      "time: sample 19.640159368515015 s, linsolve 0.043195486068725586 s, pred 1.5353739261627197 s\n",
      "Trial 12\n"
     ]
    },
    {
     "name": "stdout",
     "output_type": "stream",
     "text": [
      "KRR acc: mse 0.18139330270953044, mae 0.320805827483843, smape 0.049813037467494346\n",
      "time: sample 19.73398518562317 s, linsolve 0.0306704044342041 s, pred 1.5343115329742432 s\n",
      "Trial 13\n"
     ]
    },
    {
     "name": "stdout",
     "output_type": "stream",
     "text": [
      "KRR acc: mse 0.18412124872185018, mae 0.32421470900840993, smape 0.050325253888163536\n",
      "time: sample 19.686248779296875 s, linsolve 0.030579090118408203 s, pred 1.5350055694580078 s\n",
      "Trial 14\n"
     ]
    },
    {
     "name": "stdout",
     "output_type": "stream",
     "text": [
      "KRR acc: mse 0.1860710750882776, mae 0.32368542316324594, smape 0.05022782940090707\n",
      "time: sample 19.67711591720581 s, linsolve 0.035053253173828125 s, pred 1.5364694595336914 s\n",
      "Trial 15\n"
     ]
    },
    {
     "name": "stdout",
     "output_type": "stream",
     "text": [
      "KRR acc: mse 0.18853809640238658, mae 0.32650074966159054, smape 0.05064906852358222\n",
      "time: sample 19.676124334335327 s, linsolve 0.03058481216430664 s, pred 1.5350303649902344 s\n",
      "Trial 16\n"
     ]
    },
    {
     "name": "stdout",
     "output_type": "stream",
     "text": [
      "KRR acc: mse 0.1834400051840525, mae 0.32124253180926854, smape 0.049842022256184455\n",
      "time: sample 19.716090440750122 s, linsolve 0.04065537452697754 s, pred 1.534388780593872 s\n",
      "Trial 17\n"
     ]
    },
    {
     "name": "stdout",
     "output_type": "stream",
     "text": [
      "KRR acc: mse 0.18429441998988585, mae 0.3243534654233892, smape 0.05031696129886661\n",
      "time: sample 19.68253231048584 s, linsolve 0.03081798553466797 s, pred 1.5354926586151123 s\n",
      "Trial 18\n"
     ]
    },
    {
     "name": "stdout",
     "output_type": "stream",
     "text": [
      "KRR acc: mse 0.1849405862523907, mae 0.3243158386237242, smape 0.05033182745100843\n",
      "time: sample 19.680681467056274 s, linsolve 0.03054523468017578 s, pred 1.5343482494354248 s\n",
      "Trial 19\n"
     ]
    },
    {
     "name": "stdout",
     "output_type": "stream",
     "text": [
      "KRR acc: mse 0.18217471105937474, mae 0.3219900131658545, smape 0.049987680821246244\n",
      "time: sample 19.699798583984375 s, linsolve 0.04057121276855469 s, pred 1.5350191593170166 s\n",
      "Trial 20\n"
     ]
    },
    {
     "name": "stdout",
     "output_type": "stream",
     "text": [
      "KRR acc: mse 0.1863015881112642, mae 0.325020863156527, smape 0.050450701517555374\n",
      "time: sample 19.7446186542511 s, linsolve 0.030642986297607422 s, pred 1.5356783866882324 s\n",
      "Trial 21\n"
     ]
    },
    {
     "name": "stdout",
     "output_type": "stream",
     "text": [
      "KRR acc: mse 0.18822014820939473, mae 0.32484592647274296, smape 0.05041048082322228\n",
      "time: sample 19.722416639328003 s, linsolve 0.03057694435119629 s, pred 1.5359656810760498 s\n",
      "Trial 22\n"
     ]
    },
    {
     "name": "stdout",
     "output_type": "stream",
     "text": [
      "KRR acc: mse 0.187114444280407, mae 0.32466408356912424, smape 0.05034236742885923\n",
      "time: sample 19.699116706848145 s, linsolve 0.03971052169799805 s, pred 1.5348687171936035 s\n",
      "Trial 23\n"
     ]
    },
    {
     "name": "stdout",
     "output_type": "stream",
     "text": [
      "KRR acc: mse 0.18878426002496412, mae 0.32657878162964143, smape 0.0507162739079404\n",
      "time: sample 19.693097352981567 s, linsolve 0.03070211410522461 s, pred 1.5350499153137207 s\n",
      "Trial 24\n"
     ]
    },
    {
     "name": "stdout",
     "output_type": "stream",
     "text": [
      "KRR acc: mse 0.187857852569131, mae 0.32545181418713426, smape 0.05053816944837772\n",
      "time: sample 19.73701810836792 s, linsolve 0.03070378303527832 s, pred 1.535414218902588 s\n",
      "Trial 25\n"
     ]
    },
    {
     "name": "stdout",
     "output_type": "stream",
     "text": [
      "KRR acc: mse 0.18024656298659406, mae 0.3189612825871969, smape 0.049507100138685464\n",
      "time: sample 19.69635844230652 s, linsolve 0.04027199745178223 s, pred 1.5336284637451172 s\n",
      "Trial 26\n"
     ]
    },
    {
     "name": "stdout",
     "output_type": "stream",
     "text": [
      "KRR acc: mse 0.1879755317082487, mae 0.3266846092809845, smape 0.05068734589963825\n",
      "time: sample 19.658214807510376 s, linsolve 0.030747413635253906 s, pred 1.5342214107513428 s\n",
      "Trial 27\n"
     ]
    },
    {
     "name": "stdout",
     "output_type": "stream",
     "text": [
      "KRR acc: mse 0.1867257826631271, mae 0.3249066471224709, smape 0.050449927390434184\n",
      "time: sample 19.698102474212646 s, linsolve 0.030710935592651367 s, pred 1.5364243984222412 s\n",
      "Trial 28\n"
     ]
    },
    {
     "name": "stdout",
     "output_type": "stream",
     "text": [
      "KRR acc: mse 0.18469411258592103, mae 0.321847548140457, smape 0.04996072387907904\n",
      "time: sample 19.709937572479248 s, linsolve 0.03275871276855469 s, pred 1.5327203273773193 s\n",
      "Trial 29\n"
     ]
    },
    {
     "name": "stdout",
     "output_type": "stream",
     "text": [
      "KRR acc: mse 0.182078346164554, mae 0.32112871942892884, smape 0.049840511322772986\n",
      "time: sample 19.72946286201477 s, linsolve 0.030554533004760742 s, pred 1.535374402999878 s\n",
      "Trial 30\n"
     ]
    },
    {
     "name": "stdout",
     "output_type": "stream",
     "text": [
      "KRR acc: mse 0.1861378441456208, mae 0.325457119802336, smape 0.050522916146829425\n",
      "time: sample 19.652631044387817 s, linsolve 0.030499935150146484 s, pred 1.5348126888275146 s\n",
      "Trial 31\n"
     ]
    },
    {
     "name": "stdout",
     "output_type": "stream",
     "text": [
      "KRR acc: mse 0.18397304509410864, mae 0.32384382746964946, smape 0.05027425013476333\n",
      "time: sample 19.735741138458252 s, linsolve 0.031542301177978516 s, pred 1.5368084907531738 s\n",
      "Trial 32\n"
     ]
    },
    {
     "name": "stdout",
     "output_type": "stream",
     "text": [
      "KRR acc: mse 0.18558100409882095, mae 0.3245152883684225, smape 0.05036741865427876\n",
      "time: sample 19.742250680923462 s, linsolve 0.030648231506347656 s, pred 1.5327551364898682 s\n",
      "Trial 33\n"
     ]
    },
    {
     "name": "stdout",
     "output_type": "stream",
     "text": [
      "KRR acc: mse 0.18782154777723564, mae 0.32711211573231486, smape 0.05078391894623603\n",
      "time: sample 19.751426696777344 s, linsolve 0.035100460052490234 s, pred 1.5335547924041748 s\n",
      "Trial 34\n"
     ]
    },
    {
     "name": "stdout",
     "output_type": "stream",
     "text": [
      "KRR acc: mse 0.1877423851755157, mae 0.3256798433375143, smape 0.050544130252974225\n",
      "time: sample 19.72698187828064 s, linsolve 0.03054070472717285 s, pred 1.5358002185821533 s\n",
      "Trial 35\n"
     ]
    },
    {
     "name": "stdout",
     "output_type": "stream",
     "text": [
      "KRR acc: mse 0.18581624936170613, mae 0.32556271404233006, smape 0.05050970790880686\n",
      "time: sample 19.741230726242065 s, linsolve 0.042883872985839844 s, pred 1.5355260372161865 s\n",
      "Trial 36\n"
     ]
    },
    {
     "name": "stdout",
     "output_type": "stream",
     "text": [
      "KRR acc: mse 0.1884570301960108, mae 0.3255083490469413, smape 0.05056108185588438\n",
      "time: sample 19.71092677116394 s, linsolve 0.030717134475708008 s, pred 1.5350453853607178 s\n",
      "Trial 37\n"
     ]
    },
    {
     "name": "stdout",
     "output_type": "stream",
     "text": [
      "KRR acc: mse 0.18383544605413818, mae 0.3238900408762792, smape 0.05028874851179523\n",
      "time: sample 19.738855123519897 s, linsolve 0.030594587326049805 s, pred 1.5344111919403076 s\n",
      "Trial 38\n"
     ]
    },
    {
     "name": "stdout",
     "output_type": "stream",
     "text": [
      "KRR acc: mse 0.18558862223788292, mae 0.32361945428564903, smape 0.05022673424696426\n",
      "time: sample 19.738885164260864 s, linsolve 0.04259848594665527 s, pred 1.5337121486663818 s\n",
      "Trial 39\n"
     ]
    },
    {
     "name": "stdout",
     "output_type": "stream",
     "text": [
      "KRR acc: mse 0.1826955473467191, mae 0.32167932605688365, smape 0.04990317743272014\n",
      "time: sample 19.715592622756958 s, linsolve 0.030701637268066406 s, pred 1.536125659942627 s\n",
      "Trial 40\n"
     ]
    },
    {
     "name": "stdout",
     "output_type": "stream",
     "text": [
      "KRR acc: mse 0.18880976146533962, mae 0.3271343208855698, smape 0.05075560512431282\n",
      "time: sample 19.71094512939453 s, linsolve 0.030585289001464844 s, pred 1.5350456237792969 s\n",
      "Trial 41\n"
     ]
    },
    {
     "name": "stdout",
     "output_type": "stream",
     "text": [
      "KRR acc: mse 0.18485042841912677, mae 0.3231128157671911, smape 0.05016535875161632\n",
      "time: sample 19.664813995361328 s, linsolve 0.03959059715270996 s, pred 1.533195972442627 s\n",
      "Trial 42\n"
     ]
    },
    {
     "name": "stdout",
     "output_type": "stream",
     "text": [
      "KRR acc: mse 0.18696955383190927, mae 0.3253871226720446, smape 0.05051821760286799\n",
      "time: sample 19.746388912200928 s, linsolve 0.030657052993774414 s, pred 1.5357067584991455 s\n",
      "Trial 43\n"
     ]
    },
    {
     "name": "stdout",
     "output_type": "stream",
     "text": [
      "KRR acc: mse 0.18402416912653669, mae 0.32294004737802295, smape 0.05009850314281884\n",
      "time: sample 19.747043132781982 s, linsolve 0.03065013885498047 s, pred 1.536266565322876 s\n",
      "Trial 44\n"
     ]
    },
    {
     "name": "stdout",
     "output_type": "stream",
     "text": [
      "KRR acc: mse 0.18689426177211949, mae 0.32489648149928774, smape 0.050436317136993945\n",
      "time: sample 19.75051784515381 s, linsolve 0.03687286376953125 s, pred 1.5363028049468994 s\n",
      "Trial 45\n"
     ]
    },
    {
     "name": "stdout",
     "output_type": "stream",
     "text": [
      "KRR acc: mse 0.1850725305186371, mae 0.3241677724933283, smape 0.05031695820749366\n",
      "time: sample 19.640154123306274 s, linsolve 0.0303957462310791 s, pred 1.5345172882080078 s\n",
      "Trial 46\n"
     ]
    },
    {
     "name": "stdout",
     "output_type": "stream",
     "text": [
      "KRR acc: mse 0.18724035073667225, mae 0.32531855789208014, smape 0.05054401014985561\n",
      "time: sample 19.740779161453247 s, linsolve 0.04066967964172363 s, pred 1.5356724262237549 s\n",
      "Trial 47\n"
     ]
    },
    {
     "name": "stdout",
     "output_type": "stream",
     "text": [
      "KRR acc: mse 0.18812494566791255, mae 0.3246164871138841, smape 0.05043685050112079\n",
      "time: sample 19.668771743774414 s, linsolve 0.030647754669189453 s, pred 1.5347940921783447 s\n",
      "Trial 48\n"
     ]
    },
    {
     "name": "stdout",
     "output_type": "stream",
     "text": [
      "KRR acc: mse 0.18842591575692827, mae 0.32685549203024183, smape 0.05072971023600312\n",
      "time: sample 19.75028705596924 s, linsolve 0.030625581741333008 s, pred 1.5364482402801514 s\n",
      "Trial 49\n"
     ]
    },
    {
     "name": "stdout",
     "output_type": "stream",
     "text": [
      "KRR acc: mse 0.19414750645844858, mae 0.3287905139956925, smape 0.05103222148211682\n",
      "time: sample 19.68724822998047 s, linsolve 0.037464141845703125 s, pred 1.535292148590088 s\n",
      "Trial 50\n"
     ]
    },
    {
     "name": "stdout",
     "output_type": "stream",
     "text": [
      "KRR acc: mse 0.1870795029985837, mae 0.32648663069509454, smape 0.0506759164142884\n",
      "time: sample 19.716618537902832 s, linsolve 0.030664443969726562 s, pred 1.5348482131958008 s\n",
      "Trial 51\n"
     ]
    },
    {
     "name": "stdout",
     "output_type": "stream",
     "text": [
      "KRR acc: mse 0.1840341095711481, mae 0.3232846390751852, smape 0.05017276609767707\n",
      "time: sample 19.673927307128906 s, linsolve 0.041475534439086914 s, pred 1.5335631370544434 s\n",
      "Trial 52\n"
     ]
    },
    {
     "name": "stdout",
     "output_type": "stream",
     "text": [
      "KRR acc: mse 0.19174193826987615, mae 0.32954997248795664, smape 0.05115777366717493\n",
      "time: sample 19.709651947021484 s, linsolve 0.030701160430908203 s, pred 1.5318262577056885 s\n",
      "Trial 53\n"
     ]
    },
    {
     "name": "stdout",
     "output_type": "stream",
     "text": [
      "KRR acc: mse 0.18627376439614932, mae 0.32425037134075096, smape 0.05033814417324805\n",
      "time: sample 19.71555995941162 s, linsolve 0.03075408935546875 s, pred 1.5347564220428467 s\n",
      "Trial 54\n"
     ]
    },
    {
     "name": "stdout",
     "output_type": "stream",
     "text": [
      "KRR acc: mse 0.1841896410381186, mae 0.3233632495110656, smape 0.0502322415815137\n",
      "time: sample 19.726027011871338 s, linsolve 0.043943166732788086 s, pred 1.535360336303711 s\n",
      "Trial 55\n"
     ]
    },
    {
     "name": "stdout",
     "output_type": "stream",
     "text": [
      "KRR acc: mse 0.18133022262278947, mae 0.3200356310256447, smape 0.04968035135345512\n",
      "time: sample 19.69537878036499 s, linsolve 0.030682086944580078 s, pred 1.5347580909729004 s\n",
      "Trial 56\n"
     ]
    },
    {
     "name": "stdout",
     "output_type": "stream",
     "text": [
      "KRR acc: mse 0.18572145218676572, mae 0.3252922268903797, smape 0.05050067311824942\n",
      "time: sample 19.724636793136597 s, linsolve 0.030602455139160156 s, pred 1.5340533256530762 s\n",
      "Trial 57\n"
     ]
    },
    {
     "name": "stdout",
     "output_type": "stream",
     "text": [
      "KRR acc: mse 0.18497486484564504, mae 0.3234470376744065, smape 0.05021683262327559\n",
      "time: sample 19.68471097946167 s, linsolve 0.0356137752532959 s, pred 1.5356910228729248 s\n",
      "Trial 58\n"
     ]
    },
    {
     "name": "stdout",
     "output_type": "stream",
     "text": [
      "KRR acc: mse 0.18329695515178965, mae 0.32280159197261754, smape 0.05008566605207264\n",
      "time: sample 19.726300716400146 s, linsolve 0.030385494232177734 s, pred 1.5400266647338867 s\n",
      "Trial 59\n"
     ]
    },
    {
     "name": "stdout",
     "output_type": "stream",
     "text": [
      "KRR acc: mse 0.1867421145349643, mae 0.32603597921909944, smape 0.05060107262915868\n",
      "time: sample 19.697722911834717 s, linsolve 0.039185285568237305 s, pred 1.5348131656646729 s\n",
      "Trial 60\n"
     ]
    },
    {
     "name": "stdout",
     "output_type": "stream",
     "text": [
      "KRR acc: mse 0.1910137458145757, mae 0.3283848691597822, smape 0.05096660935019243\n",
      "time: sample 19.709390878677368 s, linsolve 0.030704736709594727 s, pred 1.5335030555725098 s\n",
      "Trial 61\n"
     ]
    },
    {
     "name": "stdout",
     "output_type": "stream",
     "text": [
      "KRR acc: mse 0.18773734195610992, mae 0.32568148189993534, smape 0.05056863911472534\n",
      "time: sample 19.66988706588745 s, linsolve 0.030602693557739258 s, pred 1.5340566635131836 s\n",
      "Trial 62\n"
     ]
    },
    {
     "name": "stdout",
     "output_type": "stream",
     "text": [
      "KRR acc: mse 0.18496537334414428, mae 0.3226926097377169, smape 0.05008050939489522\n",
      "time: sample 19.7172110080719 s, linsolve 0.036370038986206055 s, pred 1.5349714756011963 s\n",
      "Trial 63\n"
     ]
    },
    {
     "name": "stdout",
     "output_type": "stream",
     "text": [
      "KRR acc: mse 0.18775952900788023, mae 0.3262936922986588, smape 0.05064878513945677\n",
      "time: sample 19.720200300216675 s, linsolve 0.030419349670410156 s, pred 1.5391786098480225 s\n",
      "Trial 64\n"
     ]
    },
    {
     "name": "stdout",
     "output_type": "stream",
     "text": [
      "KRR acc: mse 0.19029169488392983, mae 0.3269112792138729, smape 0.050726285486249766\n",
      "time: sample 19.724424839019775 s, linsolve 0.040090084075927734 s, pred 1.534203052520752 s\n",
      "Trial 65\n"
     ]
    },
    {
     "name": "stdout",
     "output_type": "stream",
     "text": [
      "KRR acc: mse 0.1893013483728144, mae 0.32692879675840764, smape 0.05074743084985656\n",
      "time: sample 19.653244018554688 s, linsolve 0.030716896057128906 s, pred 1.5343542098999023 s\n",
      "Trial 66\n"
     ]
    },
    {
     "name": "stdout",
     "output_type": "stream",
     "text": [
      "KRR acc: mse 0.18135496520507546, mae 0.3213793188670562, smape 0.049869077248838906\n",
      "time: sample 19.72514033317566 s, linsolve 0.030568599700927734 s, pred 1.5353965759277344 s\n",
      "Trial 67\n"
     ]
    },
    {
     "name": "stdout",
     "output_type": "stream",
     "text": [
      "KRR acc: mse 0.18530283468265715, mae 0.3243467184013558, smape 0.05031950152156241\n",
      "time: sample 19.725650787353516 s, linsolve 0.03737282752990723 s, pred 1.5351743698120117 s\n",
      "Trial 68\n"
     ]
    },
    {
     "name": "stdout",
     "output_type": "stream",
     "text": [
      "KRR acc: mse 0.18935528581626698, mae 0.32784574935150984, smape 0.050877969215559836\n",
      "time: sample 19.731119632720947 s, linsolve 0.030542612075805664 s, pred 1.5342965126037598 s\n",
      "Trial 69\n"
     ]
    },
    {
     "name": "stdout",
     "output_type": "stream",
     "text": [
      "KRR acc: mse 0.18367145163926243, mae 0.3224689405616769, smape 0.05005835549065807\n",
      "time: sample 19.755028009414673 s, linsolve 0.04125857353210449 s, pred 1.5348713397979736 s\n",
      "Trial 70\n"
     ]
    },
    {
     "name": "stdout",
     "output_type": "stream",
     "text": [
      "KRR acc: mse 0.18665631451025544, mae 0.3254557055117319, smape 0.050509969793547826\n",
      "time: sample 19.71022343635559 s, linsolve 0.030515432357788086 s, pred 1.536012887954712 s\n",
      "Trial 71\n"
     ]
    },
    {
     "name": "stdout",
     "output_type": "stream",
     "text": [
      "KRR acc: mse 0.18405894111150087, mae 0.3234258969875203, smape 0.050198617198616055\n",
      "time: sample 19.733985424041748 s, linsolve 0.04470658302307129 s, pred 1.5331032276153564 s\n",
      "Trial 72\n"
     ]
    },
    {
     "name": "stdout",
     "output_type": "stream",
     "text": [
      "KRR acc: mse 0.1900144303722176, mae 0.3278840780171235, smape 0.05090954890018952\n",
      "time: sample 19.673909187316895 s, linsolve 0.030667543411254883 s, pred 1.535358190536499 s\n",
      "Trial 73\n"
     ]
    },
    {
     "name": "stdout",
     "output_type": "stream",
     "text": [
      "KRR acc: mse 0.18682669400771212, mae 0.3266187356160998, smape 0.05067765783650879\n",
      "time: sample 19.736725330352783 s, linsolve 0.0305025577545166 s, pred 1.5342881679534912 s\n",
      "Trial 74\n"
     ]
    },
    {
     "name": "stdout",
     "output_type": "stream",
     "text": [
      "KRR acc: mse 0.18496723790829472, mae 0.32377542524023406, smape 0.05024197459434284\n",
      "time: sample 19.70967984199524 s, linsolve 0.041586875915527344 s, pred 1.5338444709777832 s\n",
      "Trial 75\n"
     ]
    },
    {
     "name": "stdout",
     "output_type": "stream",
     "text": [
      "KRR acc: mse 0.18728275817938608, mae 0.3259527157977274, smape 0.05063319613198387\n",
      "time: sample 19.699953079223633 s, linsolve 0.030702829360961914 s, pred 1.534008502960205 s\n",
      "Trial 76\n"
     ]
    },
    {
     "name": "stdout",
     "output_type": "stream",
     "text": [
      "KRR acc: mse 0.18403160384730322, mae 0.32199507156153817, smape 0.04998302094272086\n",
      "time: sample 19.711371898651123 s, linsolve 0.030664920806884766 s, pred 1.5357680320739746 s\n",
      "Trial 77\n"
     ]
    },
    {
     "name": "stdout",
     "output_type": "stream",
     "text": [
      "KRR acc: mse 0.1886891743574318, mae 0.3264885786513649, smape 0.05065008591908114\n",
      "time: sample 19.733075857162476 s, linsolve 0.04204535484313965 s, pred 1.5336339473724365 s\n",
      "Trial 78\n"
     ]
    },
    {
     "name": "stdout",
     "output_type": "stream",
     "text": [
      "KRR acc: mse 0.18820911626749934, mae 0.3262162460672308, smape 0.050633848654203485\n",
      "time: sample 19.738231897354126 s, linsolve 0.030670881271362305 s, pred 1.5343236923217773 s\n",
      "Trial 79\n"
     ]
    },
    {
     "name": "stdout",
     "output_type": "stream",
     "text": [
      "KRR acc: mse 0.18376826676334437, mae 0.3227198492394979, smape 0.050091940163453676\n",
      "time: sample 19.694833993911743 s, linsolve 0.030611515045166016 s, pred 1.5341227054595947 s\n",
      "Trial 80\n"
     ]
    },
    {
     "name": "stdout",
     "output_type": "stream",
     "text": [
      "KRR acc: mse 0.1825055688808742, mae 0.3214091711061198, smape 0.049908287937232655\n",
      "time: sample 19.659667491912842 s, linsolve 0.03461170196533203 s, pred 1.5358452796936035 s\n",
      "Trial 81\n"
     ]
    },
    {
     "name": "stdout",
     "output_type": "stream",
     "text": [
      "KRR acc: mse 0.18597571681488886, mae 0.3243474496873242, smape 0.05032078356837725\n",
      "time: sample 19.701849937438965 s, linsolve 0.030384540557861328 s, pred 1.5394551753997803 s\n",
      "Trial 82\n"
     ]
    },
    {
     "name": "stdout",
     "output_type": "stream",
     "text": [
      "KRR acc: mse 0.18952383438807166, mae 0.32775551878275283, smape 0.05083314437887656\n",
      "time: sample 19.755777835845947 s, linsolve 0.0395665168762207 s, pred 1.5356311798095703 s\n",
      "Trial 83\n"
     ]
    },
    {
     "name": "stdout",
     "output_type": "stream",
     "text": [
      "KRR acc: mse 0.18397475423948345, mae 0.3231723405781215, smape 0.050167357619660354\n",
      "time: sample 19.69994068145752 s, linsolve 0.030629396438598633 s, pred 1.5353498458862305 s\n",
      "Trial 84\n"
     ]
    },
    {
     "name": "stdout",
     "output_type": "stream",
     "text": [
      "KRR acc: mse 0.1823050229174442, mae 0.32260269463693686, smape 0.05005452747406609\n",
      "time: sample 19.649065017700195 s, linsolve 0.030586719512939453 s, pred 1.5349080562591553 s\n",
      "Trial 85\n"
     ]
    },
    {
     "name": "stdout",
     "output_type": "stream",
     "text": [
      "KRR acc: mse 0.18464796476060916, mae 0.3242951822669228, smape 0.050330421200926616\n",
      "time: sample 19.732070446014404 s, linsolve 0.0367279052734375 s, pred 1.5344135761260986 s\n",
      "Trial 86\n"
     ]
    },
    {
     "name": "stdout",
     "output_type": "stream",
     "text": [
      "KRR acc: mse 0.1839892436398067, mae 0.3236600905901314, smape 0.05023887908717978\n",
      "time: sample 19.680785655975342 s, linsolve 0.03033137321472168 s, pred 1.5367035865783691 s\n",
      "Trial 87\n"
     ]
    },
    {
     "name": "stdout",
     "output_type": "stream",
     "text": [
      "KRR acc: mse 0.1817634315183627, mae 0.321739739627678, smape 0.04991318986161464\n",
      "time: sample 19.692304134368896 s, linsolve 0.04059267044067383 s, pred 1.533620834350586 s\n",
      "Trial 88\n"
     ]
    },
    {
     "name": "stdout",
     "output_type": "stream",
     "text": [
      "KRR acc: mse 0.18380214563785024, mae 0.3240876360347282, smape 0.0503177516172254\n",
      "time: sample 19.64594054222107 s, linsolve 0.030755281448364258 s, pred 1.533369541168213 s\n",
      "Trial 89\n"
     ]
    },
    {
     "name": "stdout",
     "output_type": "stream",
     "text": [
      "KRR acc: mse 0.1853798098732111, mae 0.323210922139784, smape 0.05013983867998044\n",
      "time: sample 19.70563578605652 s, linsolve 0.03061985969543457 s, pred 1.535202980041504 s\n",
      "Trial 90\n"
     ]
    },
    {
     "name": "stdout",
     "output_type": "stream",
     "text": [
      "KRR acc: mse 0.1815430158828477, mae 0.3203078657174326, smape 0.049698487259899934\n",
      "time: sample 19.689814567565918 s, linsolve 0.03753519058227539 s, pred 1.5338201522827148 s\n",
      "Trial 91\n"
     ]
    },
    {
     "name": "stdout",
     "output_type": "stream",
     "text": [
      "KRR acc: mse 0.18588936688771596, mae 0.3251363360679845, smape 0.05046965970733233\n",
      "time: sample 19.654626607894897 s, linsolve 0.030620813369750977 s, pred 1.5350377559661865 s\n",
      "Trial 92\n"
     ]
    },
    {
     "name": "stdout",
     "output_type": "stream",
     "text": [
      "KRR acc: mse 0.18441230924544857, mae 0.32302624737639873, smape 0.05011407871915432\n",
      "time: sample 19.670518159866333 s, linsolve 0.04154372215270996 s, pred 1.5352282524108887 s\n",
      "Trial 93\n"
     ]
    },
    {
     "name": "stdout",
     "output_type": "stream",
     "text": [
      "KRR acc: mse 0.18954412207445412, mae 0.3276556091399371, smape 0.05085383836675601\n",
      "time: sample 19.706537008285522 s, linsolve 0.030811548233032227 s, pred 1.5346956253051758 s\n",
      "Trial 94\n"
     ]
    },
    {
     "name": "stdout",
     "output_type": "stream",
     "text": [
      "KRR acc: mse 0.18318032807141077, mae 0.32225175575643705, smape 0.0499632140245753\n",
      "time: sample 19.656075716018677 s, linsolve 0.030626773834228516 s, pred 1.5335474014282227 s\n",
      "Trial 95\n"
     ]
    },
    {
     "name": "stdout",
     "output_type": "stream",
     "text": [
      "KRR acc: mse 0.1843796973219143, mae 0.3238640841245693, smape 0.050282755636370406\n",
      "time: sample 19.633238077163696 s, linsolve 0.041991472244262695 s, pred 1.535597324371338 s\n",
      "Trial 96\n"
     ]
    },
    {
     "name": "stdout",
     "output_type": "stream",
     "text": [
      "KRR acc: mse 0.1881022456033901, mae 0.32657208064191345, smape 0.0506833043648896\n",
      "time: sample 19.658344745635986 s, linsolve 0.030612468719482422 s, pred 1.534229040145874 s\n",
      "Trial 97\n"
     ]
    },
    {
     "name": "stdout",
     "output_type": "stream",
     "text": [
      "KRR acc: mse 0.18987959911551944, mae 0.32694116471641, smape 0.05074140788986011\n",
      "time: sample 19.763796091079712 s, linsolve 0.030555248260498047 s, pred 1.5339622497558594 s\n",
      "Trial 98\n"
     ]
    },
    {
     "name": "stdout",
     "output_type": "stream",
     "text": [
      "KRR acc: mse 0.18467459116943963, mae 0.3225970254185806, smape 0.05004531869487157\n",
      "time: sample 19.69439387321472 s, linsolve 0.03467535972595215 s, pred 1.534703254699707 s\n",
      "Trial 99\n"
     ]
    },
    {
     "name": "stdout",
     "output_type": "stream",
     "text": [
      "KRR acc: mse 0.1884082816751129, mae 0.3275441943450179, smape 0.050788826176056304\n",
      "time: sample 19.650574207305908 s, linsolve 0.030350446701049805 s, pred 1.5380733013153076 s\n",
      "------------- Method: RLS -------------\n",
      "k = 128\n",
      "Trial 0\n"
     ]
    },
    {
     "name": "stdout",
     "output_type": "stream",
     "text": [
      "KRR acc: mse 0.26400265905388653, mae 0.3756735607947933, smape 0.0583321106929867\n",
      "time: sample 1.3762776851654053 s, linsolve 0.0028378963470458984 s, pred 0.3944852352142334 s\n",
      "Trial 1\n"
     ]
    },
    {
     "name": "stdout",
     "output_type": "stream",
     "text": [
      "KRR acc: mse 0.2587907981963753, mae 0.3770782824166633, smape 0.05855063344482502\n",
      "time: sample 1.3119146823883057 s, linsolve 0.0027799606323242188 s, pred 0.39464664459228516 s\n",
      "Trial 2\n"
     ]
    },
    {
     "name": "stdout",
     "output_type": "stream",
     "text": [
      "KRR acc: mse 0.2706323010552268, mae 0.38260959936398214, smape 0.05941653082695782\n",
      "time: sample 1.4097752571105957 s, linsolve 0.0027201175689697266 s, pred 0.3946692943572998 s\n",
      "Trial 3\n"
     ]
    },
    {
     "name": "stdout",
     "output_type": "stream",
     "text": [
      "KRR acc: mse 0.26521867538623545, mae 0.37802196819982964, smape 0.0586458161796027\n",
      "time: sample 1.3532922267913818 s, linsolve 0.002685070037841797 s, pred 0.39451122283935547 s\n",
      "Trial 4\n"
     ]
    },
    {
     "name": "stdout",
     "output_type": "stream",
     "text": [
      "KRR acc: mse 0.2660750284221204, mae 0.3829147172303224, smape 0.05943008284559244\n",
      "time: sample 1.3250205516815186 s, linsolve 0.0026934146881103516 s, pred 0.395294189453125 s\n",
      "Trial 5\n"
     ]
    },
    {
     "name": "stdout",
     "output_type": "stream",
     "text": [
      "KRR acc: mse 0.26889480717188424, mae 0.38156789259793356, smape 0.05926383569020246\n",
      "time: sample 1.331294059753418 s, linsolve 0.0028481483459472656 s, pred 0.39521217346191406 s\n",
      "Trial 6\n"
     ]
    },
    {
     "name": "stdout",
     "output_type": "stream",
     "text": [
      "KRR acc: mse 0.2663596227727898, mae 0.37926855603404247, smape 0.05892508739232726\n",
      "time: sample 1.3666908740997314 s, linsolve 0.002709627151489258 s, pred 0.39466118812561035 s\n",
      "Trial 7\n"
     ]
    },
    {
     "name": "stdout",
     "output_type": "stream",
     "text": [
      "KRR acc: mse 0.27062797789074133, mae 0.3835277551409296, smape 0.059564855361691094\n",
      "time: sample 1.3563804626464844 s, linsolve 0.0026340484619140625 s, pred 0.39455127716064453 s\n",
      "Trial 8\n"
     ]
    },
    {
     "name": "stdout",
     "output_type": "stream",
     "text": [
      "KRR acc: mse 0.26272317801051254, mae 0.3792130352657045, smape 0.058885679890179426\n",
      "time: sample 1.3347599506378174 s, linsolve 0.002755403518676758 s, pred 0.3952929973602295 s\n",
      "Trial 9\n"
     ]
    },
    {
     "name": "stdout",
     "output_type": "stream",
     "text": [
      "KRR acc: mse 0.26792116231737034, mae 0.38087680434598076, smape 0.05913693985127479\n",
      "time: sample 1.3948266506195068 s, linsolve 0.0027065277099609375 s, pred 0.3941383361816406 s\n",
      "Trial 10\n"
     ]
    },
    {
     "name": "stdout",
     "output_type": "stream",
     "text": [
      "KRR acc: mse 0.25968773696538233, mae 0.3744924176668202, smape 0.05818553326154335\n",
      "time: sample 1.3327608108520508 s, linsolve 0.002729177474975586 s, pred 0.3944242000579834 s\n",
      "Trial 11\n"
     ]
    },
    {
     "name": "stdout",
     "output_type": "stream",
     "text": [
      "KRR acc: mse 0.2592372720453234, mae 0.37527292563207876, smape 0.05829383744594196\n",
      "time: sample 1.4166443347930908 s, linsolve 0.0027174949645996094 s, pred 0.3953969478607178 s\n",
      "Trial 12\n"
     ]
    },
    {
     "name": "stdout",
     "output_type": "stream",
     "text": [
      "KRR acc: mse 0.2645233100167466, mae 0.3778282601863779, smape 0.05868907613650024\n",
      "time: sample 1.371948003768921 s, linsolve 0.0027637481689453125 s, pred 0.3942546844482422 s\n",
      "Trial 13\n"
     ]
    },
    {
     "name": "stdout",
     "output_type": "stream",
     "text": [
      "KRR acc: mse 0.26535626889034375, mae 0.37776615680276876, smape 0.058707661715584586\n",
      "time: sample 1.3732004165649414 s, linsolve 0.0026903152465820312 s, pred 0.39551568031311035 s\n",
      "Trial 14\n"
     ]
    },
    {
     "name": "stdout",
     "output_type": "stream",
     "text": [
      "KRR acc: mse 0.256886084865536, mae 0.37431096705886374, smape 0.05815373710866527\n",
      "time: sample 1.3696942329406738 s, linsolve 0.002731800079345703 s, pred 0.3948686122894287 s\n",
      "Trial 15\n"
     ]
    },
    {
     "name": "stdout",
     "output_type": "stream",
     "text": [
      "KRR acc: mse 0.2522687830747348, mae 0.371995386244969, smape 0.057781183820047065\n",
      "time: sample 1.299666166305542 s, linsolve 0.0026679039001464844 s, pred 0.3947277069091797 s\n",
      "Trial 16\n"
     ]
    },
    {
     "name": "stdout",
     "output_type": "stream",
     "text": [
      "KRR acc: mse 0.26741796609698015, mae 0.38303397502945247, smape 0.059472783707359055\n",
      "time: sample 1.407726764678955 s, linsolve 0.002751588821411133 s, pred 0.39449477195739746 s\n",
      "Trial 17\n"
     ]
    },
    {
     "name": "stdout",
     "output_type": "stream",
     "text": [
      "KRR acc: mse 0.2669376632197681, mae 0.38054121769787214, smape 0.059125987971853144\n",
      "time: sample 1.3830699920654297 s, linsolve 0.0026412010192871094 s, pred 0.3945739269256592 s\n",
      "Trial 18\n"
     ]
    },
    {
     "name": "stdout",
     "output_type": "stream",
     "text": [
      "KRR acc: mse 0.2612809957685882, mae 0.37960982678795824, smape 0.05894746339714977\n",
      "time: sample 1.4233691692352295 s, linsolve 0.0027379989624023438 s, pred 0.39474058151245117 s\n",
      "Trial 19\n"
     ]
    },
    {
     "name": "stdout",
     "output_type": "stream",
     "text": [
      "KRR acc: mse 0.2679653064145579, mae 0.38195287567659725, smape 0.05936436768293966\n",
      "time: sample 1.4249000549316406 s, linsolve 0.0027120113372802734 s, pred 0.39539051055908203 s\n",
      "Trial 20\n"
     ]
    },
    {
     "name": "stdout",
     "output_type": "stream",
     "text": [
      "KRR acc: mse 0.2534102684983623, mae 0.3733080582234658, smape 0.05796521905611876\n",
      "time: sample 1.38338041305542 s, linsolve 0.0027463436126708984 s, pred 0.39632272720336914 s\n",
      "Trial 21\n"
     ]
    },
    {
     "name": "stdout",
     "output_type": "stream",
     "text": [
      "KRR acc: mse 0.26311853442802674, mae 0.37982729881467225, smape 0.05894465817864052\n",
      "time: sample 1.3917741775512695 s, linsolve 0.002722501754760742 s, pred 0.39507389068603516 s\n",
      "Trial 22\n"
     ]
    },
    {
     "name": "stdout",
     "output_type": "stream",
     "text": [
      "KRR acc: mse 0.2618402596633856, mae 0.37971960310904357, smape 0.058954686036954716\n",
      "time: sample 1.405611276626587 s, linsolve 0.0027174949645996094 s, pred 0.39449429512023926 s\n",
      "Trial 23\n"
     ]
    },
    {
     "name": "stdout",
     "output_type": "stream",
     "text": [
      "KRR acc: mse 0.25338027579581396, mae 0.37320621453281666, smape 0.0579486924307062\n",
      "time: sample 1.352548360824585 s, linsolve 0.0027103424072265625 s, pred 0.3942737579345703 s\n",
      "Trial 24\n"
     ]
    },
    {
     "name": "stdout",
     "output_type": "stream",
     "text": [
      "KRR acc: mse 0.26003020010221434, mae 0.3800695109247062, smape 0.05897835040092279\n",
      "time: sample 1.3496849536895752 s, linsolve 0.0027990341186523438 s, pred 0.3950471878051758 s\n",
      "Trial 25\n"
     ]
    },
    {
     "name": "stdout",
     "output_type": "stream",
     "text": [
      "KRR acc: mse 0.26614321061817864, mae 0.3824740015948501, smape 0.05938675524486575\n",
      "time: sample 1.3318912982940674 s, linsolve 0.0027532577514648438 s, pred 0.39464449882507324 s\n",
      "Trial 26\n"
     ]
    },
    {
     "name": "stdout",
     "output_type": "stream",
     "text": [
      "KRR acc: mse 0.25875996368982584, mae 0.3791657478356321, smape 0.058849122562483466\n",
      "time: sample 1.3514480590820312 s, linsolve 0.0027265548706054688 s, pred 0.39516711235046387 s\n",
      "Trial 27\n"
     ]
    },
    {
     "name": "stdout",
     "output_type": "stream",
     "text": [
      "KRR acc: mse 0.26160563211409144, mae 0.377640507250477, smape 0.0586733659635803\n",
      "time: sample 1.4116244316101074 s, linsolve 0.0027408599853515625 s, pred 0.39499616622924805 s\n",
      "Trial 28\n"
     ]
    },
    {
     "name": "stdout",
     "output_type": "stream",
     "text": [
      "KRR acc: mse 0.2494142503712934, mae 0.37069564334477073, smape 0.05755381831743616\n",
      "time: sample 1.3562228679656982 s, linsolve 0.0027322769165039062 s, pred 0.39493370056152344 s\n",
      "Trial 29\n"
     ]
    },
    {
     "name": "stdout",
     "output_type": "stream",
     "text": [
      "KRR acc: mse 0.25352926613984356, mae 0.37435549568835524, smape 0.0581123798205408\n",
      "time: sample 1.381760597229004 s, linsolve 0.002718687057495117 s, pred 0.39472317695617676 s\n",
      "Trial 30\n"
     ]
    },
    {
     "name": "stdout",
     "output_type": "stream",
     "text": [
      "KRR acc: mse 0.26351911190474014, mae 0.37919045858328393, smape 0.05889696818417201\n",
      "time: sample 1.3994176387786865 s, linsolve 0.002762317657470703 s, pred 0.3947594165802002 s\n",
      "Trial 31\n"
     ]
    },
    {
     "name": "stdout",
     "output_type": "stream",
     "text": [
      "KRR acc: mse 0.2679191610397514, mae 0.3809158857563294, smape 0.05920145725174251\n",
      "time: sample 1.399491548538208 s, linsolve 0.0027484893798828125 s, pred 0.3947420120239258 s\n",
      "Trial 32\n"
     ]
    },
    {
     "name": "stdout",
     "output_type": "stream",
     "text": [
      "KRR acc: mse 0.2668794107021945, mae 0.3816143256792971, smape 0.05927845447045277\n",
      "time: sample 1.3536670207977295 s, linsolve 0.00272369384765625 s, pred 0.3948509693145752 s\n",
      "Trial 33\n"
     ]
    },
    {
     "name": "stdout",
     "output_type": "stream",
     "text": [
      "KRR acc: mse 0.24996143936611484, mae 0.3733259672763823, smape 0.05795590072112118\n",
      "time: sample 1.4170453548431396 s, linsolve 0.0027370452880859375 s, pred 0.3941185474395752 s\n",
      "Trial 34\n"
     ]
    },
    {
     "name": "stdout",
     "output_type": "stream",
     "text": [
      "KRR acc: mse 0.2614582247506275, mae 0.38038192768732426, smape 0.05903975904246129\n",
      "time: sample 1.379533290863037 s, linsolve 0.0027399063110351562 s, pred 0.3943486213684082 s\n",
      "Trial 35\n"
     ]
    },
    {
     "name": "stdout",
     "output_type": "stream",
     "text": [
      "KRR acc: mse 0.26409259616871106, mae 0.3759898201093922, smape 0.058400163802736174\n",
      "time: sample 1.372307300567627 s, linsolve 0.002727985382080078 s, pred 0.3949887752532959 s\n",
      "Trial 36\n"
     ]
    },
    {
     "name": "stdout",
     "output_type": "stream",
     "text": [
      "KRR acc: mse 0.2660593880940334, mae 0.3791772717310053, smape 0.058901423793083225\n",
      "time: sample 1.353125810623169 s, linsolve 0.002724885940551758 s, pred 0.3942751884460449 s\n",
      "Trial 37\n"
     ]
    },
    {
     "name": "stdout",
     "output_type": "stream",
     "text": [
      "KRR acc: mse 0.2800894341725912, mae 0.3899410229563744, smape 0.06060678048352233\n",
      "time: sample 1.4103245735168457 s, linsolve 0.0028967857360839844 s, pred 0.3943452835083008 s\n",
      "Trial 38\n"
     ]
    },
    {
     "name": "stdout",
     "output_type": "stream",
     "text": [
      "KRR acc: mse 0.2572268837134824, mae 0.3734595855288438, smape 0.05801891569223549\n",
      "time: sample 1.3794515132904053 s, linsolve 0.0027379989624023438 s, pred 0.39493584632873535 s\n",
      "Trial 39\n"
     ]
    },
    {
     "name": "stdout",
     "output_type": "stream",
     "text": [
      "KRR acc: mse 0.26805680796398607, mae 0.38404845623194117, smape 0.05962006883296356\n",
      "time: sample 1.3615477085113525 s, linsolve 0.002749204635620117 s, pred 0.39447569847106934 s\n",
      "Trial 40\n"
     ]
    },
    {
     "name": "stdout",
     "output_type": "stream",
     "text": [
      "KRR acc: mse 0.2582457015898461, mae 0.3768871509408259, smape 0.05855175600323759\n",
      "time: sample 1.4593088626861572 s, linsolve 0.002709627151489258 s, pred 0.3941805362701416 s\n",
      "Trial 41\n"
     ]
    },
    {
     "name": "stdout",
     "output_type": "stream",
     "text": [
      "KRR acc: mse 0.2697778258697746, mae 0.3821325239355303, smape 0.05935285670428441\n",
      "time: sample 1.3964076042175293 s, linsolve 0.002696514129638672 s, pred 0.3951241970062256 s\n",
      "Trial 42\n"
     ]
    },
    {
     "name": "stdout",
     "output_type": "stream",
     "text": [
      "KRR acc: mse 0.25676589670762595, mae 0.37516055009013183, smape 0.05823606288482144\n",
      "time: sample 1.3884963989257812 s, linsolve 0.0027234554290771484 s, pred 0.3948819637298584 s\n",
      "Trial 43\n"
     ]
    },
    {
     "name": "stdout",
     "output_type": "stream",
     "text": [
      "KRR acc: mse 0.25998490809874697, mae 0.37667712646611373, smape 0.058513093044027895\n",
      "time: sample 1.3948631286621094 s, linsolve 0.0026712417602539062 s, pred 0.3954036235809326 s\n",
      "Trial 44\n"
     ]
    },
    {
     "name": "stdout",
     "output_type": "stream",
     "text": [
      "KRR acc: mse 0.26515804160291334, mae 0.3836402028780396, smape 0.0595472039035047\n",
      "time: sample 1.417973279953003 s, linsolve 0.0027201175689697266 s, pred 0.39446544647216797 s\n",
      "Trial 45\n"
     ]
    },
    {
     "name": "stdout",
     "output_type": "stream",
     "text": [
      "KRR acc: mse 0.2643158924349321, mae 0.3774157687034611, smape 0.05866041170646765\n",
      "time: sample 1.406233310699463 s, linsolve 0.0027565956115722656 s, pred 0.3946514129638672 s\n",
      "Trial 46\n"
     ]
    },
    {
     "name": "stdout",
     "output_type": "stream",
     "text": [
      "KRR acc: mse 0.27244030845164313, mae 0.38813102340757405, smape 0.060230606666916035\n",
      "time: sample 1.2934374809265137 s, linsolve 0.002710580825805664 s, pred 0.394014835357666 s\n",
      "Trial 47\n"
     ]
    },
    {
     "name": "stdout",
     "output_type": "stream",
     "text": [
      "KRR acc: mse 0.269193471786079, mae 0.3846020565637334, smape 0.05975278370615026\n",
      "time: sample 1.3454105854034424 s, linsolve 0.002714872360229492 s, pred 0.3947293758392334 s\n",
      "Trial 48\n"
     ]
    },
    {
     "name": "stdout",
     "output_type": "stream",
     "text": [
      "KRR acc: mse 0.2593093131061302, mae 0.37820446356223464, smape 0.05871720341498949\n",
      "time: sample 1.3727147579193115 s, linsolve 0.002708911895751953 s, pred 0.39430809020996094 s\n",
      "Trial 49\n"
     ]
    },
    {
     "name": "stdout",
     "output_type": "stream",
     "text": [
      "KRR acc: mse 0.2566699108056799, mae 0.3737182489812479, smape 0.058018958017513514\n",
      "time: sample 1.3998053073883057 s, linsolve 0.002718210220336914 s, pred 0.3951387405395508 s\n",
      "Trial 50\n"
     ]
    },
    {
     "name": "stdout",
     "output_type": "stream",
     "text": [
      "KRR acc: mse 0.24814529774034208, mae 0.37055279702963284, smape 0.05753265878980673\n",
      "time: sample 1.346811294555664 s, linsolve 0.002803325653076172 s, pred 0.3950657844543457 s\n",
      "Trial 51\n"
     ]
    },
    {
     "name": "stdout",
     "output_type": "stream",
     "text": [
      "KRR acc: mse 0.25949284968088704, mae 0.3753500841747961, smape 0.05830988815009027\n",
      "time: sample 1.360872745513916 s, linsolve 0.0027284622192382812 s, pred 0.3949577808380127 s\n",
      "Trial 52\n"
     ]
    },
    {
     "name": "stdout",
     "output_type": "stream",
     "text": [
      "KRR acc: mse 0.25714787094968744, mae 0.3757484670719572, smape 0.058382738410229625\n",
      "time: sample 1.4587101936340332 s, linsolve 0.0027320384979248047 s, pred 0.3947887420654297 s\n",
      "Trial 53\n"
     ]
    },
    {
     "name": "stdout",
     "output_type": "stream",
     "text": [
      "KRR acc: mse 0.27428385608176975, mae 0.38504144497002035, smape 0.05980953268926119\n",
      "time: sample 1.3206253051757812 s, linsolve 0.0026972293853759766 s, pred 0.39436793327331543 s\n",
      "Trial 54\n"
     ]
    },
    {
     "name": "stdout",
     "output_type": "stream",
     "text": [
      "KRR acc: mse 0.2529946515492955, mae 0.37424599986436424, smape 0.05810190832998783\n",
      "time: sample 1.411036491394043 s, linsolve 0.0027091503143310547 s, pred 0.3945317268371582 s\n",
      "Trial 55\n"
     ]
    },
    {
     "name": "stdout",
     "output_type": "stream",
     "text": [
      "KRR acc: mse 0.25761794425165685, mae 0.37505178722950583, smape 0.058253162310357424\n",
      "time: sample 1.370753288269043 s, linsolve 0.0027289390563964844 s, pred 0.39463043212890625 s\n",
      "Trial 56\n"
     ]
    },
    {
     "name": "stdout",
     "output_type": "stream",
     "text": [
      "KRR acc: mse 0.2697765067206249, mae 0.38459898177822205, smape 0.05966891094236869\n",
      "time: sample 1.4737303256988525 s, linsolve 0.002695322036743164 s, pred 0.39502763748168945 s\n",
      "Trial 57\n"
     ]
    },
    {
     "name": "stdout",
     "output_type": "stream",
     "text": [
      "KRR acc: mse 0.28131278133839066, mae 0.3892271387817144, smape 0.06049748523836816\n",
      "time: sample 1.3624262809753418 s, linsolve 0.002653360366821289 s, pred 0.3946962356567383 s\n",
      "Trial 58\n"
     ]
    },
    {
     "name": "stdout",
     "output_type": "stream",
     "text": [
      "KRR acc: mse 0.25534198011299447, mae 0.3743843694199551, smape 0.05809406070695886\n",
      "time: sample 1.32490873336792 s, linsolve 0.0027303695678710938 s, pred 0.3953824043273926 s\n",
      "Trial 59\n"
     ]
    },
    {
     "name": "stdout",
     "output_type": "stream",
     "text": [
      "KRR acc: mse 0.2611225555868112, mae 0.3794442131146424, smape 0.05889024965324338\n",
      "time: sample 1.4122710227966309 s, linsolve 0.0027320384979248047 s, pred 0.39443111419677734 s\n",
      "Trial 60\n"
     ]
    },
    {
     "name": "stdout",
     "output_type": "stream",
     "text": [
      "KRR acc: mse 0.25698200319577547, mae 0.37475122832058844, smape 0.058195600493915915\n",
      "time: sample 1.311230182647705 s, linsolve 0.0027408599853515625 s, pred 0.39458799362182617 s\n",
      "Trial 61\n"
     ]
    },
    {
     "name": "stdout",
     "output_type": "stream",
     "text": [
      "KRR acc: mse 0.2578470882421524, mae 0.3792981693550021, smape 0.058893906811084605\n",
      "time: sample 1.3954508304595947 s, linsolve 0.0027549266815185547 s, pred 0.3951115608215332 s\n",
      "Trial 62\n"
     ]
    },
    {
     "name": "stdout",
     "output_type": "stream",
     "text": [
      "KRR acc: mse 0.26763425595069895, mae 0.3837583930904118, smape 0.059615419902770715\n",
      "time: sample 1.3096106052398682 s, linsolve 0.0029115676879882812 s, pred 0.3945131301879883 s\n",
      "Trial 63\n"
     ]
    },
    {
     "name": "stdout",
     "output_type": "stream",
     "text": [
      "KRR acc: mse 0.2609002920244793, mae 0.37614858587661004, smape 0.05841112055160961\n",
      "time: sample 1.304459810256958 s, linsolve 0.0026955604553222656 s, pred 0.3948943614959717 s\n",
      "Trial 64\n"
     ]
    },
    {
     "name": "stdout",
     "output_type": "stream",
     "text": [
      "KRR acc: mse 0.25686441414418415, mae 0.3761379617446013, smape 0.05840739460541929\n",
      "time: sample 1.397794246673584 s, linsolve 0.002754688262939453 s, pred 0.39470934867858887 s\n",
      "Trial 65\n"
     ]
    },
    {
     "name": "stdout",
     "output_type": "stream",
     "text": [
      "KRR acc: mse 0.2704339377254395, mae 0.38120528931694814, smape 0.05915735021119353\n",
      "time: sample 1.3940250873565674 s, linsolve 0.0026938915252685547 s, pred 0.3951880931854248 s\n",
      "Trial 66\n"
     ]
    },
    {
     "name": "stdout",
     "output_type": "stream",
     "text": [
      "KRR acc: mse 0.2712971310611743, mae 0.382979044101504, smape 0.059514324589239435\n",
      "time: sample 1.3142361640930176 s, linsolve 0.002695798873901367 s, pred 0.3944694995880127 s\n",
      "Trial 67\n"
     ]
    },
    {
     "name": "stdout",
     "output_type": "stream",
     "text": [
      "KRR acc: mse 0.2664470333407244, mae 0.3847530373102176, smape 0.059713881906440926\n",
      "time: sample 1.329901933670044 s, linsolve 0.0027608871459960938 s, pred 0.39498305320739746 s\n",
      "Trial 68\n"
     ]
    },
    {
     "name": "stdout",
     "output_type": "stream",
     "text": [
      "KRR acc: mse 0.25933283550976594, mae 0.3780900485014753, smape 0.05870373728186879\n",
      "time: sample 1.3483390808105469 s, linsolve 0.0026938915252685547 s, pred 0.3945128917694092 s\n",
      "Trial 69\n"
     ]
    },
    {
     "name": "stdout",
     "output_type": "stream",
     "text": [
      "KRR acc: mse 0.2618714798657254, mae 0.37601467106280534, smape 0.05840136804064218\n",
      "time: sample 1.3172993659973145 s, linsolve 0.0026700496673583984 s, pred 0.39450716972351074 s\n",
      "Trial 70\n"
     ]
    },
    {
     "name": "stdout",
     "output_type": "stream",
     "text": [
      "KRR acc: mse 0.2651464850123047, mae 0.3795167764195902, smape 0.05890905553472545\n",
      "time: sample 1.3849194049835205 s, linsolve 0.002692699432373047 s, pred 0.39424705505371094 s\n",
      "Trial 71\n"
     ]
    },
    {
     "name": "stdout",
     "output_type": "stream",
     "text": [
      "KRR acc: mse 0.26564797186747635, mae 0.3861492718620363, smape 0.059931071786156656\n",
      "time: sample 1.3442766666412354 s, linsolve 0.0027217864990234375 s, pred 0.3950166702270508 s\n",
      "Trial 72\n"
     ]
    },
    {
     "name": "stdout",
     "output_type": "stream",
     "text": [
      "KRR acc: mse 0.266703505330536, mae 0.38559363600812374, smape 0.05983664704064662\n",
      "time: sample 1.3547446727752686 s, linsolve 0.002727031707763672 s, pred 0.39392757415771484 s\n",
      "Trial 73\n"
     ]
    },
    {
     "name": "stdout",
     "output_type": "stream",
     "text": [
      "KRR acc: mse 0.2706258611381582, mae 0.38285263969037797, smape 0.059463544137251086\n",
      "time: sample 1.3550641536712646 s, linsolve 0.0027484893798828125 s, pred 0.3949899673461914 s\n",
      "Trial 74\n"
     ]
    },
    {
     "name": "stdout",
     "output_type": "stream",
     "text": [
      "KRR acc: mse 0.26117772293831587, mae 0.3805730847409545, smape 0.05912623810810234\n",
      "time: sample 1.310692310333252 s, linsolve 0.0027441978454589844 s, pred 0.39452147483825684 s\n",
      "Trial 75\n"
     ]
    },
    {
     "name": "stdout",
     "output_type": "stream",
     "text": [
      "KRR acc: mse 0.25823928305938776, mae 0.3765970407028244, smape 0.058458844061234444\n",
      "time: sample 1.3174793720245361 s, linsolve 0.0028297901153564453 s, pred 0.3950064182281494 s\n",
      "Trial 76\n"
     ]
    },
    {
     "name": "stdout",
     "output_type": "stream",
     "text": [
      "KRR acc: mse 0.275377160031255, mae 0.3839795632748517, smape 0.05965569027193851\n",
      "time: sample 1.3842442035675049 s, linsolve 0.0027313232421875 s, pred 0.39473438262939453 s\n",
      "Trial 77\n"
     ]
    },
    {
     "name": "stdout",
     "output_type": "stream",
     "text": [
      "KRR acc: mse 0.2658609698042032, mae 0.380956680183721, smape 0.05915264755977396\n",
      "time: sample 1.4055876731872559 s, linsolve 0.0027391910552978516 s, pred 0.394787073135376 s\n",
      "Trial 78\n"
     ]
    },
    {
     "name": "stdout",
     "output_type": "stream",
     "text": [
      "KRR acc: mse 0.26830314253628945, mae 0.37896497416389785, smape 0.05884082120579135\n",
      "time: sample 1.3325347900390625 s, linsolve 0.002731800079345703 s, pred 0.3945341110229492 s\n",
      "Trial 79\n"
     ]
    },
    {
     "name": "stdout",
     "output_type": "stream",
     "text": [
      "KRR acc: mse 0.26937367939074897, mae 0.3846504741485841, smape 0.059751610904595756\n",
      "time: sample 1.4518835544586182 s, linsolve 0.0026938915252685547 s, pred 0.39485979080200195 s\n",
      "Trial 80\n"
     ]
    },
    {
     "name": "stdout",
     "output_type": "stream",
     "text": [
      "KRR acc: mse 0.2697553349658162, mae 0.3857026128663312, smape 0.05986813240623926\n",
      "time: sample 1.399580478668213 s, linsolve 0.002726316452026367 s, pred 0.39537572860717773 s\n",
      "Trial 81\n"
     ]
    },
    {
     "name": "stdout",
     "output_type": "stream",
     "text": [
      "KRR acc: mse 0.2609539776609126, mae 0.3786656369327145, smape 0.05884182364410747\n",
      "time: sample 1.4091827869415283 s, linsolve 0.0027565956115722656 s, pred 0.39503026008605957 s\n",
      "Trial 82\n"
     ]
    },
    {
     "name": "stdout",
     "output_type": "stream",
     "text": [
      "KRR acc: mse 0.2574279225291011, mae 0.37715424867413505, smape 0.05857565729779061\n",
      "time: sample 1.3695547580718994 s, linsolve 0.0027632713317871094 s, pred 0.39436793327331543 s\n",
      "Trial 83\n"
     ]
    },
    {
     "name": "stdout",
     "output_type": "stream",
     "text": [
      "KRR acc: mse 0.2656630570168146, mae 0.37971516213642953, smape 0.058941874270043625\n",
      "time: sample 1.335575819015503 s, linsolve 0.0027475357055664062 s, pred 0.39435243606567383 s\n",
      "Trial 84\n"
     ]
    },
    {
     "name": "stdout",
     "output_type": "stream",
     "text": [
      "KRR acc: mse 0.26129216871039335, mae 0.3755271836672845, smape 0.05836402896903013\n",
      "time: sample 1.3228890895843506 s, linsolve 0.0027370452880859375 s, pred 0.39434027671813965 s\n",
      "Trial 85\n"
     ]
    },
    {
     "name": "stdout",
     "output_type": "stream",
     "text": [
      "KRR acc: mse 0.2588358459509415, mae 0.37915274482318334, smape 0.05890356828588955\n",
      "time: sample 1.4255731105804443 s, linsolve 0.002721548080444336 s, pred 0.3957223892211914 s\n",
      "Trial 86\n"
     ]
    },
    {
     "name": "stdout",
     "output_type": "stream",
     "text": [
      "KRR acc: mse 0.2605360563912626, mae 0.37410136277350636, smape 0.05815004094551141\n",
      "time: sample 1.3815937042236328 s, linsolve 0.0027573108673095703 s, pred 0.39423179626464844 s\n",
      "Trial 87\n"
     ]
    },
    {
     "name": "stdout",
     "output_type": "stream",
     "text": [
      "KRR acc: mse 0.2628543830365149, mae 0.37923823843259963, smape 0.05887713873961376\n",
      "time: sample 1.439326524734497 s, linsolve 0.0027327537536621094 s, pred 0.39453959465026855 s\n",
      "Trial 88\n"
     ]
    },
    {
     "name": "stdout",
     "output_type": "stream",
     "text": [
      "KRR acc: mse 0.26217121544685096, mae 0.3799820715175895, smape 0.05899521485339052\n",
      "time: sample 1.413635015487671 s, linsolve 0.0028302669525146484 s, pred 0.3947875499725342 s\n",
      "Trial 89\n"
     ]
    },
    {
     "name": "stdout",
     "output_type": "stream",
     "text": [
      "KRR acc: mse 0.26638952044807196, mae 0.3829086567026694, smape 0.05940501230653971\n",
      "time: sample 1.354731798171997 s, linsolve 0.0027463436126708984 s, pred 0.3946058750152588 s\n",
      "Trial 90\n"
     ]
    },
    {
     "name": "stdout",
     "output_type": "stream",
     "text": [
      "KRR acc: mse 0.2608827354107644, mae 0.3761113099986886, smape 0.058429425456224815\n",
      "time: sample 1.3773245811462402 s, linsolve 0.0026764869689941406 s, pred 0.3944516181945801 s\n",
      "Trial 91\n"
     ]
    },
    {
     "name": "stdout",
     "output_type": "stream",
     "text": [
      "KRR acc: mse 0.2586289457362456, mae 0.3735446724995267, smape 0.058025725758366176\n",
      "time: sample 1.3323094844818115 s, linsolve 0.002722024917602539 s, pred 0.3942222595214844 s\n",
      "Trial 92\n"
     ]
    },
    {
     "name": "stdout",
     "output_type": "stream",
     "text": [
      "KRR acc: mse 0.2569054473184797, mae 0.37503587867032484, smape 0.0582594119146696\n",
      "time: sample 1.3321616649627686 s, linsolve 0.0027191638946533203 s, pred 0.3952038288116455 s\n",
      "Trial 93\n"
     ]
    },
    {
     "name": "stdout",
     "output_type": "stream",
     "text": [
      "KRR acc: mse 0.2518028505002248, mae 0.3705203300557976, smape 0.05754306122894757\n",
      "time: sample 1.3754591941833496 s, linsolve 0.0027523040771484375 s, pred 0.3942909240722656 s\n",
      "Trial 94\n"
     ]
    },
    {
     "name": "stdout",
     "output_type": "stream",
     "text": [
      "KRR acc: mse 0.2704437684142949, mae 0.38317591770319287, smape 0.0595401732402405\n",
      "time: sample 1.3878161907196045 s, linsolve 0.002719402313232422 s, pred 0.39516186714172363 s\n",
      "Trial 95\n"
     ]
    },
    {
     "name": "stdout",
     "output_type": "stream",
     "text": [
      "KRR acc: mse 0.261125349166197, mae 0.37760997303022587, smape 0.05863659997983095\n",
      "time: sample 1.4482791423797607 s, linsolve 0.002724170684814453 s, pred 0.39467549324035645 s\n",
      "Trial 96\n"
     ]
    },
    {
     "name": "stdout",
     "output_type": "stream",
     "text": [
      "KRR acc: mse 0.26696198285633665, mae 0.37924683837877793, smape 0.05888219983028655\n",
      "time: sample 1.3725299835205078 s, linsolve 0.0027227401733398438 s, pred 0.3940856456756592 s\n",
      "Trial 97\n"
     ]
    },
    {
     "name": "stdout",
     "output_type": "stream",
     "text": [
      "KRR acc: mse 0.2696102808824123, mae 0.3802283937119423, smape 0.05902507739541266\n",
      "time: sample 1.3525092601776123 s, linsolve 0.0027091503143310547 s, pred 0.39481139183044434 s\n",
      "Trial 98\n"
     ]
    },
    {
     "name": "stdout",
     "output_type": "stream",
     "text": [
      "KRR acc: mse 0.2656533728796274, mae 0.378707034517349, smape 0.05881487462694825\n",
      "time: sample 1.4006891250610352 s, linsolve 0.0027408599853515625 s, pred 0.39421916007995605 s\n",
      "Trial 99\n"
     ]
    },
    {
     "name": "stdout",
     "output_type": "stream",
     "text": [
      "KRR acc: mse 0.2619207443828888, mae 0.3760837880121168, smape 0.058380397909440024\n",
      "time: sample 1.3483712673187256 s, linsolve 0.002706289291381836 s, pred 0.39438867568969727 s\n",
      "k = 256\n",
      "Trial 0\n"
     ]
    },
    {
     "name": "stdout",
     "output_type": "stream",
     "text": [
      "KRR acc: mse 0.2269670096637075, mae 0.3519185295600625, smape 0.054690831908434004\n",
      "time: sample 2.422886371612549 s, linsolve 0.007529735565185547 s, pred 0.754230260848999 s\n",
      "Trial 1\n"
     ]
    },
    {
     "name": "stdout",
     "output_type": "stream",
     "text": [
      "KRR acc: mse 0.22672394105205498, mae 0.356228033591756, smape 0.055313580338863605\n",
      "time: sample 2.5148816108703613 s, linsolve 0.007195949554443359 s, pred 0.7540271282196045 s\n",
      "Trial 2\n"
     ]
    },
    {
     "name": "stdout",
     "output_type": "stream",
     "text": [
      "KRR acc: mse 0.2260171367206612, mae 0.35566838926014316, smape 0.055207253305193625\n",
      "time: sample 2.394765615463257 s, linsolve 0.007212638854980469 s, pred 0.7538716793060303 s\n",
      "Trial 3\n"
     ]
    },
    {
     "name": "stdout",
     "output_type": "stream",
     "text": [
      "KRR acc: mse 0.22863577847769312, mae 0.35507358504434167, smape 0.05519320864973578\n",
      "time: sample 2.3801755905151367 s, linsolve 0.007173061370849609 s, pred 0.7539820671081543 s\n",
      "Trial 4\n"
     ]
    },
    {
     "name": "stdout",
     "output_type": "stream",
     "text": [
      "KRR acc: mse 0.220957938054724, mae 0.3511979844242453, smape 0.05455440887895437\n",
      "time: sample 2.3580307960510254 s, linsolve 0.007265806198120117 s, pred 0.7541561126708984 s\n",
      "Trial 5\n"
     ]
    },
    {
     "name": "stdout",
     "output_type": "stream",
     "text": [
      "KRR acc: mse 0.22346137971398716, mae 0.3517275357222534, smape 0.05463113787163719\n",
      "time: sample 2.4252679347991943 s, linsolve 0.0072400569915771484 s, pred 0.754483699798584 s\n",
      "Trial 6\n"
     ]
    },
    {
     "name": "stdout",
     "output_type": "stream",
     "text": [
      "KRR acc: mse 0.21862106068861867, mae 0.35083478776561694, smape 0.0544858233706775\n",
      "time: sample 2.4511868953704834 s, linsolve 0.007207632064819336 s, pred 0.7543728351593018 s\n",
      "Trial 7\n"
     ]
    },
    {
     "name": "stdout",
     "output_type": "stream",
     "text": [
      "KRR acc: mse 0.22408275403425176, mae 0.353379648244317, smape 0.054837972712801386\n",
      "time: sample 2.470548629760742 s, linsolve 0.007565498352050781 s, pred 0.7546079158782959 s\n",
      "Trial 8\n"
     ]
    },
    {
     "name": "stdout",
     "output_type": "stream",
     "text": [
      "KRR acc: mse 0.2238618723323863, mae 0.3491889977650996, smape 0.054251384254091366\n",
      "time: sample 2.5309391021728516 s, linsolve 0.007204532623291016 s, pred 0.7542710304260254 s\n",
      "Trial 9\n"
     ]
    },
    {
     "name": "stdout",
     "output_type": "stream",
     "text": [
      "KRR acc: mse 0.2192428597167397, mae 0.3503490154244374, smape 0.054406334780657935\n",
      "time: sample 2.4377682209014893 s, linsolve 0.007205963134765625 s, pred 0.7549419403076172 s\n",
      "Trial 10\n"
     ]
    },
    {
     "name": "stdout",
     "output_type": "stream",
     "text": [
      "KRR acc: mse 0.22458796122669422, mae 0.35206173297995935, smape 0.054654156360925445\n",
      "time: sample 2.4164810180664062 s, linsolve 0.007114410400390625 s, pred 0.754187822341919 s\n",
      "Trial 11\n"
     ]
    },
    {
     "name": "stdout",
     "output_type": "stream",
     "text": [
      "KRR acc: mse 0.22533326289804245, mae 0.35393664224129223, smape 0.0549334294167802\n",
      "time: sample 2.459949254989624 s, linsolve 0.007215023040771484 s, pred 0.7544512748718262 s\n",
      "Trial 12\n"
     ]
    },
    {
     "name": "stdout",
     "output_type": "stream",
     "text": [
      "KRR acc: mse 0.23496982795874902, mae 0.3578845588603147, smape 0.0555630378228302\n",
      "time: sample 2.3787410259246826 s, linsolve 0.007203340530395508 s, pred 0.7543637752532959 s\n",
      "Trial 13\n"
     ]
    },
    {
     "name": "stdout",
     "output_type": "stream",
     "text": [
      "KRR acc: mse 0.22092379394439232, mae 0.3502289356789108, smape 0.05437756111095537\n",
      "time: sample 2.4685513973236084 s, linsolve 0.0072193145751953125 s, pred 0.7535996437072754 s\n",
      "Trial 14\n"
     ]
    },
    {
     "name": "stdout",
     "output_type": "stream",
     "text": [
      "KRR acc: mse 0.2197832597593575, mae 0.3490181620216395, smape 0.054209800288967394\n",
      "time: sample 2.406834840774536 s, linsolve 0.007277488708496094 s, pred 0.7596361637115479 s\n",
      "Trial 15\n"
     ]
    },
    {
     "name": "stdout",
     "output_type": "stream",
     "text": [
      "KRR acc: mse 0.2284637203651498, mae 0.3540845021038857, smape 0.05499839898481798\n",
      "time: sample 2.5779383182525635 s, linsolve 0.007184505462646484 s, pred 0.7555460929870605 s\n",
      "Trial 16\n"
     ]
    },
    {
     "name": "stdout",
     "output_type": "stream",
     "text": [
      "KRR acc: mse 0.22377169010791131, mae 0.3511589927460713, smape 0.05454106465790518\n",
      "time: sample 2.435826539993286 s, linsolve 0.007143259048461914 s, pred 0.7546288967132568 s\n",
      "Trial 17\n"
     ]
    },
    {
     "name": "stdout",
     "output_type": "stream",
     "text": [
      "KRR acc: mse 0.22766935245187442, mae 0.3555679893565026, smape 0.055242728787273016\n",
      "time: sample 2.425950288772583 s, linsolve 0.0072023868560791016 s, pred 0.7544829845428467 s\n",
      "Trial 18\n"
     ]
    },
    {
     "name": "stdout",
     "output_type": "stream",
     "text": [
      "KRR acc: mse 0.22622504765199591, mae 0.35276846666745043, smape 0.05481630716336937\n",
      "time: sample 2.336329221725464 s, linsolve 0.007282733917236328 s, pred 0.7559189796447754 s\n",
      "Trial 19\n"
     ]
    },
    {
     "name": "stdout",
     "output_type": "stream",
     "text": [
      "KRR acc: mse 0.2276387285682245, mae 0.3553386476636797, smape 0.05519981669431793\n",
      "time: sample 2.3956398963928223 s, linsolve 0.007203578948974609 s, pred 0.7550575733184814 s\n",
      "Trial 20\n"
     ]
    },
    {
     "name": "stdout",
     "output_type": "stream",
     "text": [
      "KRR acc: mse 0.22064405682005273, mae 0.3510670691069885, smape 0.05452794302494131\n",
      "time: sample 2.3079121112823486 s, linsolve 0.007208585739135742 s, pred 0.7549090385437012 s\n",
      "Trial 21\n"
     ]
    },
    {
     "name": "stdout",
     "output_type": "stream",
     "text": [
      "KRR acc: mse 0.22624148634998578, mae 0.35063149596351406, smape 0.05447226319756862\n",
      "time: sample 2.4275832176208496 s, linsolve 0.0072367191314697266 s, pred 0.7544317245483398 s\n",
      "Trial 22\n"
     ]
    },
    {
     "name": "stdout",
     "output_type": "stream",
     "text": [
      "KRR acc: mse 0.2199647596855434, mae 0.35048719251916766, smape 0.05443260152049552\n",
      "time: sample 2.4544360637664795 s, linsolve 0.0074920654296875 s, pred 0.7481296062469482 s\n",
      "Trial 23\n"
     ]
    },
    {
     "name": "stdout",
     "output_type": "stream",
     "text": [
      "KRR acc: mse 0.22339158421495664, mae 0.3528286638734443, smape 0.05480702381268434\n",
      "time: sample 2.280017137527466 s, linsolve 0.007222414016723633 s, pred 0.755448579788208 s\n",
      "Trial 24\n"
     ]
    },
    {
     "name": "stdout",
     "output_type": "stream",
     "text": [
      "KRR acc: mse 0.21807497387342722, mae 0.347241619196778, smape 0.05394689496999847\n",
      "time: sample 2.3794636726379395 s, linsolve 0.007178783416748047 s, pred 0.754338264465332 s\n",
      "Trial 25\n"
     ]
    },
    {
     "name": "stdout",
     "output_type": "stream",
     "text": [
      "KRR acc: mse 0.21801803516087112, mae 0.34688186607359467, smape 0.05389403012077779\n",
      "time: sample 2.356304168701172 s, linsolve 0.007294416427612305 s, pred 0.7538199424743652 s\n",
      "Trial 26\n"
     ]
    },
    {
     "name": "stdout",
     "output_type": "stream",
     "text": [
      "KRR acc: mse 0.22458381834633329, mae 0.3539537617217994, smape 0.054952598615667286\n",
      "time: sample 2.4364593029022217 s, linsolve 0.007177591323852539 s, pred 0.7543482780456543 s\n",
      "Trial 27\n"
     ]
    },
    {
     "name": "stdout",
     "output_type": "stream",
     "text": [
      "KRR acc: mse 0.2231357073107688, mae 0.35276883668822795, smape 0.054766476141071725\n",
      "time: sample 2.462892770767212 s, linsolve 0.00719761848449707 s, pred 0.7551546096801758 s\n",
      "Trial 28\n"
     ]
    },
    {
     "name": "stdout",
     "output_type": "stream",
     "text": [
      "KRR acc: mse 0.2206850212696946, mae 0.34859183622552886, smape 0.05410571711288306\n",
      "time: sample 2.364405870437622 s, linsolve 0.00722193717956543 s, pred 0.7541372776031494 s\n",
      "Trial 29\n"
     ]
    },
    {
     "name": "stdout",
     "output_type": "stream",
     "text": [
      "KRR acc: mse 0.22783297454118734, mae 0.35338430224735395, smape 0.054889357668930834\n",
      "time: sample 2.350104808807373 s, linsolve 0.00726628303527832 s, pred 0.7550592422485352 s\n",
      "Trial 30\n"
     ]
    },
    {
     "name": "stdout",
     "output_type": "stream",
     "text": [
      "KRR acc: mse 0.22952635721187709, mae 0.35168421271247857, smape 0.05467639718633047\n",
      "time: sample 2.2796170711517334 s, linsolve 0.007136821746826172 s, pred 0.7543861865997314 s\n",
      "Trial 31\n"
     ]
    },
    {
     "name": "stderr",
     "output_type": "stream",
     "text": [
      "/home/ag2435/Randomly-Pivoted-Cholesky/experiments/../KRR_Nystrom.py:54: LinAlgWarning: Ill-conditioned matrix (rcond=3.25504e-17): result may not be accurate.\n",
      "  self.sol = scipy.linalg.solve(KMn @ KnM + KnM.shape[0]*lamb*KMM + 100*KMM.max()*np.finfo(float).eps*np.identity(sample_num), KMn @ Ytr, assume_a='pos')\n"
     ]
    },
    {
     "name": "stdout",
     "output_type": "stream",
     "text": [
      "KRR acc: mse 0.21386843033030814, mae 0.34640276425292127, smape 0.05380524305450599\n",
      "time: sample 2.4646430015563965 s, linsolve 0.007292747497558594 s, pred 0.7546889781951904 s\n",
      "Trial 32\n"
     ]
    },
    {
     "name": "stdout",
     "output_type": "stream",
     "text": [
      "KRR acc: mse 0.22056074763853717, mae 0.35059911551735684, smape 0.0544388810304152\n",
      "time: sample 2.3621037006378174 s, linsolve 0.007185935974121094 s, pred 0.7547106742858887 s\n",
      "Trial 33\n"
     ]
    },
    {
     "name": "stdout",
     "output_type": "stream",
     "text": [
      "KRR acc: mse 0.2213064133407861, mae 0.35022254870081576, smape 0.054401047994812976\n",
      "time: sample 2.407174825668335 s, linsolve 0.007258176803588867 s, pred 0.7543261051177979 s\n",
      "Trial 34\n"
     ]
    },
    {
     "name": "stdout",
     "output_type": "stream",
     "text": [
      "KRR acc: mse 0.21898982696003608, mae 0.3505908864682404, smape 0.0544558296237815\n",
      "time: sample 2.463210344314575 s, linsolve 0.007149219512939453 s, pred 0.7545335292816162 s\n",
      "Trial 35\n"
     ]
    },
    {
     "name": "stdout",
     "output_type": "stream",
     "text": [
      "KRR acc: mse 0.22646746015524555, mae 0.3544283215504331, smape 0.05501741386745385\n",
      "time: sample 2.3776443004608154 s, linsolve 0.007236003875732422 s, pred 0.7539589405059814 s\n",
      "Trial 36\n"
     ]
    },
    {
     "name": "stdout",
     "output_type": "stream",
     "text": [
      "KRR acc: mse 0.229177838912371, mae 0.3530191816695137, smape 0.05486009922140372\n",
      "time: sample 2.5989913940429688 s, linsolve 0.007524728775024414 s, pred 0.7536470890045166 s\n",
      "Trial 37\n"
     ]
    },
    {
     "name": "stdout",
     "output_type": "stream",
     "text": [
      "KRR acc: mse 0.2157132740786785, mae 0.3486593133245739, smape 0.054178873085377055\n",
      "time: sample 2.394918203353882 s, linsolve 0.007302284240722656 s, pred 0.7537119388580322 s\n",
      "Trial 38\n"
     ]
    },
    {
     "name": "stdout",
     "output_type": "stream",
     "text": [
      "KRR acc: mse 0.2223414198963635, mae 0.3517596459777405, smape 0.05463147856485215\n",
      "time: sample 2.3522446155548096 s, linsolve 0.007162570953369141 s, pred 0.7546050548553467 s\n",
      "Trial 39\n"
     ]
    },
    {
     "name": "stdout",
     "output_type": "stream",
     "text": [
      "KRR acc: mse 0.2199232761339756, mae 0.3486188016430877, smape 0.054172330178178234\n",
      "time: sample 2.476881265640259 s, linsolve 0.007184505462646484 s, pred 0.7547180652618408 s\n",
      "Trial 40\n"
     ]
    },
    {
     "name": "stdout",
     "output_type": "stream",
     "text": [
      "KRR acc: mse 0.22983146092604476, mae 0.35829290806680164, smape 0.055641635214811434\n",
      "time: sample 2.4036827087402344 s, linsolve 0.007188558578491211 s, pred 0.7544975280761719 s\n",
      "Trial 41\n"
     ]
    },
    {
     "name": "stdout",
     "output_type": "stream",
     "text": [
      "KRR acc: mse 0.22353440786963924, mae 0.35250188086160295, smape 0.05473746509896098\n",
      "time: sample 2.3496127128601074 s, linsolve 0.007193565368652344 s, pred 0.7536871433258057 s\n",
      "Trial 42\n"
     ]
    },
    {
     "name": "stdout",
     "output_type": "stream",
     "text": [
      "KRR acc: mse 0.21779926471307787, mae 0.3492571675362673, smape 0.05422047732562022\n",
      "time: sample 2.4121527671813965 s, linsolve 0.0072400569915771484 s, pred 0.7548048496246338 s\n",
      "Trial 43\n"
     ]
    },
    {
     "name": "stdout",
     "output_type": "stream",
     "text": [
      "KRR acc: mse 0.22283880515552792, mae 0.3497027121290143, smape 0.05434030519767332\n",
      "time: sample 2.47097110748291 s, linsolve 0.0072362422943115234 s, pred 0.7480912208557129 s\n",
      "Trial 44\n"
     ]
    },
    {
     "name": "stdout",
     "output_type": "stream",
     "text": [
      "KRR acc: mse 0.22544299523467617, mae 0.35354086026193654, smape 0.054931245031593995\n",
      "time: sample 2.6199100017547607 s, linsolve 0.007228374481201172 s, pred 0.748908281326294 s\n",
      "Trial 45\n"
     ]
    },
    {
     "name": "stdout",
     "output_type": "stream",
     "text": [
      "KRR acc: mse 0.22225943681688773, mae 0.35108907143324475, smape 0.05452442169531762\n",
      "time: sample 2.515005350112915 s, linsolve 0.007245302200317383 s, pred 0.7544057369232178 s\n",
      "Trial 46\n"
     ]
    },
    {
     "name": "stdout",
     "output_type": "stream",
     "text": [
      "KRR acc: mse 0.2219199844652153, mae 0.34791059564139876, smape 0.05407230504246358\n",
      "time: sample 2.4517712593078613 s, linsolve 0.007131338119506836 s, pred 0.7542083263397217 s\n",
      "Trial 47\n"
     ]
    },
    {
     "name": "stdout",
     "output_type": "stream",
     "text": [
      "KRR acc: mse 0.22782764267319858, mae 0.3524182228580764, smape 0.054732110055317924\n",
      "time: sample 2.419081211090088 s, linsolve 0.007243156433105469 s, pred 0.7536282539367676 s\n",
      "Trial 48\n"
     ]
    },
    {
     "name": "stdout",
     "output_type": "stream",
     "text": [
      "KRR acc: mse 0.2192609665342267, mae 0.3489774890745267, smape 0.05418588389561199\n",
      "time: sample 2.5292248725891113 s, linsolve 0.0073659420013427734 s, pred 0.7549872398376465 s\n",
      "Trial 49\n"
     ]
    },
    {
     "name": "stdout",
     "output_type": "stream",
     "text": [
      "KRR acc: mse 0.22980021881075377, mae 0.3548068914496751, smape 0.05512225818862771\n",
      "time: sample 2.3431177139282227 s, linsolve 0.007222175598144531 s, pred 0.7554454803466797 s\n",
      "Trial 50\n"
     ]
    },
    {
     "name": "stdout",
     "output_type": "stream",
     "text": [
      "KRR acc: mse 0.22855206856143906, mae 0.3556861340417291, smape 0.05524824473994722\n",
      "time: sample 2.3442623615264893 s, linsolve 0.007227182388305664 s, pred 0.7548229694366455 s\n",
      "Trial 51\n"
     ]
    },
    {
     "name": "stdout",
     "output_type": "stream",
     "text": [
      "KRR acc: mse 0.22434051708435168, mae 0.3530162220504393, smape 0.05483159018140842\n",
      "time: sample 2.4583969116210938 s, linsolve 0.00745391845703125 s, pred 0.7466332912445068 s\n",
      "Trial 52\n"
     ]
    },
    {
     "name": "stdout",
     "output_type": "stream",
     "text": [
      "KRR acc: mse 0.22895971025116796, mae 0.35475000446617133, smape 0.05509873915352182\n",
      "time: sample 2.3323326110839844 s, linsolve 0.0072247982025146484 s, pred 0.754335880279541 s\n",
      "Trial 53\n"
     ]
    },
    {
     "name": "stdout",
     "output_type": "stream",
     "text": [
      "KRR acc: mse 0.2235441691319252, mae 0.34973974943977354, smape 0.05434456672136896\n",
      "time: sample 2.344442844390869 s, linsolve 0.0071718692779541016 s, pred 0.7538623809814453 s\n",
      "Trial 54\n"
     ]
    },
    {
     "name": "stdout",
     "output_type": "stream",
     "text": [
      "KRR acc: mse 0.21934014674561977, mae 0.3485835290478828, smape 0.05412077731933255\n",
      "time: sample 2.4106876850128174 s, linsolve 0.0071794986724853516 s, pred 0.7554881572723389 s\n",
      "Trial 55\n"
     ]
    },
    {
     "name": "stdout",
     "output_type": "stream",
     "text": [
      "KRR acc: mse 0.22795766010200874, mae 0.35549961128266744, smape 0.055241870454627404\n",
      "time: sample 2.5151681900024414 s, linsolve 0.007350444793701172 s, pred 0.7471120357513428 s\n",
      "Trial 56\n"
     ]
    },
    {
     "name": "stdout",
     "output_type": "stream",
     "text": [
      "KRR acc: mse 0.22035352493926944, mae 0.3515668687596388, smape 0.05459031085395344\n",
      "time: sample 2.437455892562866 s, linsolve 0.007166862487792969 s, pred 0.7543628215789795 s\n",
      "Trial 57\n"
     ]
    },
    {
     "name": "stdout",
     "output_type": "stream",
     "text": [
      "KRR acc: mse 0.22243507165881501, mae 0.35164834321925176, smape 0.054625588579345255\n",
      "time: sample 2.444373607635498 s, linsolve 0.00725102424621582 s, pred 0.7548973560333252 s\n",
      "Trial 58\n"
     ]
    },
    {
     "name": "stdout",
     "output_type": "stream",
     "text": [
      "KRR acc: mse 0.22347142110474888, mae 0.35028485159653605, smape 0.054404148917539565\n",
      "time: sample 2.4403445720672607 s, linsolve 0.0072209835052490234 s, pred 0.7482080459594727 s\n",
      "Trial 59\n"
     ]
    },
    {
     "name": "stdout",
     "output_type": "stream",
     "text": [
      "KRR acc: mse 0.2177457752980718, mae 0.34820039314772777, smape 0.05407304231104181\n",
      "time: sample 2.5539846420288086 s, linsolve 0.007236480712890625 s, pred 0.7547397613525391 s\n",
      "Trial 60\n"
     ]
    },
    {
     "name": "stdout",
     "output_type": "stream",
     "text": [
      "KRR acc: mse 0.22055324476627752, mae 0.3507261988814973, smape 0.05446019782129343\n",
      "time: sample 2.375427722930908 s, linsolve 0.007225751876831055 s, pred 0.7541038990020752 s\n",
      "Trial 61\n"
     ]
    },
    {
     "name": "stdout",
     "output_type": "stream",
     "text": [
      "KRR acc: mse 0.22625923907220213, mae 0.35516868761350734, smape 0.05518324629297139\n",
      "time: sample 2.3691446781158447 s, linsolve 0.007297039031982422 s, pred 0.7548384666442871 s\n",
      "Trial 62\n"
     ]
    },
    {
     "name": "stdout",
     "output_type": "stream",
     "text": [
      "KRR acc: mse 0.2215906944942899, mae 0.35138410052277524, smape 0.054542964134002045\n",
      "time: sample 2.4815356731414795 s, linsolve 0.0071926116943359375 s, pred 0.7553389072418213 s\n",
      "Trial 63\n"
     ]
    },
    {
     "name": "stdout",
     "output_type": "stream",
     "text": [
      "KRR acc: mse 0.21666218448078017, mae 0.34688840808311044, smape 0.053854820210392645\n",
      "time: sample 2.3955416679382324 s, linsolve 0.0072443485260009766 s, pred 0.746558427810669 s\n",
      "Trial 64\n"
     ]
    },
    {
     "name": "stdout",
     "output_type": "stream",
     "text": [
      "KRR acc: mse 0.21892079472845358, mae 0.3493797188390596, smape 0.054258466865479284\n",
      "time: sample 2.3407087326049805 s, linsolve 0.0072100162506103516 s, pred 0.7536494731903076 s\n",
      "Trial 65\n"
     ]
    },
    {
     "name": "stdout",
     "output_type": "stream",
     "text": [
      "KRR acc: mse 0.21922738057223304, mae 0.3495911609828262, smape 0.05430655987271217\n",
      "time: sample 2.559898614883423 s, linsolve 0.007414102554321289 s, pred 0.7547149658203125 s\n",
      "Trial 66\n"
     ]
    },
    {
     "name": "stdout",
     "output_type": "stream",
     "text": [
      "KRR acc: mse 0.22845317986380456, mae 0.3533617804221117, smape 0.0548839708609068\n",
      "time: sample 2.410738945007324 s, linsolve 0.0071697235107421875 s, pred 0.7547345161437988 s\n",
      "Trial 67\n"
     ]
    },
    {
     "name": "stdout",
     "output_type": "stream",
     "text": [
      "KRR acc: mse 0.22690260684026775, mae 0.35215293358523064, smape 0.054712762186624866\n",
      "time: sample 2.4662585258483887 s, linsolve 0.007260560989379883 s, pred 0.7552649974822998 s\n",
      "Trial 68\n"
     ]
    },
    {
     "name": "stdout",
     "output_type": "stream",
     "text": [
      "KRR acc: mse 0.22795544616384797, mae 0.35553467282487333, smape 0.05521095770617794\n",
      "time: sample 2.547445774078369 s, linsolve 0.0072057247161865234 s, pred 0.7544834613800049 s\n",
      "Trial 69\n"
     ]
    },
    {
     "name": "stdout",
     "output_type": "stream",
     "text": [
      "KRR acc: mse 0.22139839530131986, mae 0.3497700269229671, smape 0.05430220719715851\n",
      "time: sample 2.3712289333343506 s, linsolve 0.007216930389404297 s, pred 0.7551388740539551 s\n",
      "Trial 70\n"
     ]
    },
    {
     "name": "stdout",
     "output_type": "stream",
     "text": [
      "KRR acc: mse 0.21624586811906288, mae 0.34621698076273844, smape 0.05375499082734361\n",
      "time: sample 2.373708724975586 s, linsolve 0.007200479507446289 s, pred 0.7545969486236572 s\n",
      "Trial 71\n"
     ]
    },
    {
     "name": "stdout",
     "output_type": "stream",
     "text": [
      "KRR acc: mse 0.2353807871795348, mae 0.35888904794263865, smape 0.055757390868168895\n",
      "time: sample 2.41434383392334 s, linsolve 0.007223606109619141 s, pred 0.7554357051849365 s\n",
      "Trial 72\n"
     ]
    },
    {
     "name": "stdout",
     "output_type": "stream",
     "text": [
      "KRR acc: mse 0.2225244133192382, mae 0.35175880658988307, smape 0.05461448951776701\n",
      "time: sample 2.344614028930664 s, linsolve 0.0072515010833740234 s, pred 0.7544617652893066 s\n",
      "Trial 73\n"
     ]
    },
    {
     "name": "stdout",
     "output_type": "stream",
     "text": [
      "KRR acc: mse 0.224872854459238, mae 0.34995245337089986, smape 0.05434994222806936\n",
      "time: sample 2.3722591400146484 s, linsolve 0.007202625274658203 s, pred 0.7563040256500244 s\n",
      "Trial 74\n"
     ]
    },
    {
     "name": "stdout",
     "output_type": "stream",
     "text": [
      "KRR acc: mse 0.225724009424246, mae 0.35600369029855, smape 0.05530622659636569\n",
      "time: sample 2.3579752445220947 s, linsolve 0.007163524627685547 s, pred 0.7563714981079102 s\n",
      "Trial 75\n"
     ]
    },
    {
     "name": "stdout",
     "output_type": "stream",
     "text": [
      "KRR acc: mse 0.22993231561066033, mae 0.3530305812230957, smape 0.05487960868880597\n",
      "time: sample 2.4143879413604736 s, linsolve 0.007272243499755859 s, pred 0.7574388980865479 s\n",
      "Trial 76\n"
     ]
    },
    {
     "name": "stdout",
     "output_type": "stream",
     "text": [
      "KRR acc: mse 0.22586976260603087, mae 0.35219934705789546, smape 0.054694736264851725\n",
      "time: sample 2.4177229404449463 s, linsolve 0.007207393646240234 s, pred 0.7555661201477051 s\n",
      "Trial 77\n"
     ]
    },
    {
     "name": "stdout",
     "output_type": "stream",
     "text": [
      "KRR acc: mse 0.2148509029897064, mae 0.34508193151369587, smape 0.05361676868742877\n",
      "time: sample 2.4381251335144043 s, linsolve 0.00714564323425293 s, pred 0.75504469871521 s\n",
      "Trial 78\n"
     ]
    },
    {
     "name": "stdout",
     "output_type": "stream",
     "text": [
      "KRR acc: mse 0.21848489098768, mae 0.3483658058910185, smape 0.05411426600745784\n",
      "time: sample 2.3190832138061523 s, linsolve 0.007195472717285156 s, pred 0.753101110458374 s\n",
      "Trial 79\n"
     ]
    },
    {
     "name": "stdout",
     "output_type": "stream",
     "text": [
      "KRR acc: mse 0.2238890285368778, mae 0.3525586740788081, smape 0.05471919806299163\n",
      "time: sample 2.367487907409668 s, linsolve 0.007542133331298828 s, pred 0.755378007888794 s\n",
      "Trial 80\n"
     ]
    },
    {
     "name": "stdout",
     "output_type": "stream",
     "text": [
      "KRR acc: mse 0.2239146486260626, mae 0.35384666355884115, smape 0.05493266074619366\n",
      "time: sample 2.646450996398926 s, linsolve 0.007163524627685547 s, pred 0.7544829845428467 s\n",
      "Trial 81\n"
     ]
    },
    {
     "name": "stdout",
     "output_type": "stream",
     "text": [
      "KRR acc: mse 0.21761444151226714, mae 0.3494372573746734, smape 0.05430385821463646\n",
      "time: sample 2.3678786754608154 s, linsolve 0.00723576545715332 s, pred 0.7550537586212158 s\n",
      "Trial 82\n"
     ]
    },
    {
     "name": "stdout",
     "output_type": "stream",
     "text": [
      "KRR acc: mse 0.23691249952190505, mae 0.35872450952594864, smape 0.055729367079187034\n",
      "time: sample 2.386902332305908 s, linsolve 0.007264614105224609 s, pred 0.7561118602752686 s\n",
      "Trial 83\n"
     ]
    },
    {
     "name": "stdout",
     "output_type": "stream",
     "text": [
      "KRR acc: mse 0.22119505993397529, mae 0.35083434812577463, smape 0.05447023332478159\n",
      "time: sample 2.356531858444214 s, linsolve 0.007175922393798828 s, pred 0.7543478012084961 s\n",
      "Trial 84\n"
     ]
    },
    {
     "name": "stdout",
     "output_type": "stream",
     "text": [
      "KRR acc: mse 0.22423425465847244, mae 0.3521399552310156, smape 0.054686544286242214\n",
      "time: sample 2.4184277057647705 s, linsolve 0.007193326950073242 s, pred 0.7547104358673096 s\n",
      "Trial 85\n"
     ]
    },
    {
     "name": "stdout",
     "output_type": "stream",
     "text": [
      "KRR acc: mse 0.22833655289265276, mae 0.3523218700185705, smape 0.05473492302388456\n",
      "time: sample 2.3517777919769287 s, linsolve 0.007204532623291016 s, pred 0.7538976669311523 s\n",
      "Trial 86\n"
     ]
    },
    {
     "name": "stdout",
     "output_type": "stream",
     "text": [
      "KRR acc: mse 0.2322362823521912, mae 0.35552200666068356, smape 0.055255906261885854\n",
      "time: sample 2.430459976196289 s, linsolve 0.007200956344604492 s, pred 0.7577595710754395 s\n",
      "Trial 87\n"
     ]
    },
    {
     "name": "stdout",
     "output_type": "stream",
     "text": [
      "KRR acc: mse 0.22172761836649849, mae 0.3496737506716112, smape 0.05430031747073776\n",
      "time: sample 2.422403573989868 s, linsolve 0.0072023868560791016 s, pred 0.7541439533233643 s\n",
      "Trial 88\n"
     ]
    },
    {
     "name": "stdout",
     "output_type": "stream",
     "text": [
      "KRR acc: mse 0.22011317743583964, mae 0.3483903012807774, smape 0.0541062801631317\n",
      "time: sample 2.4643912315368652 s, linsolve 0.0072553157806396484 s, pred 0.7535772323608398 s\n",
      "Trial 89\n"
     ]
    },
    {
     "name": "stdout",
     "output_type": "stream",
     "text": [
      "KRR acc: mse 0.22401473177066064, mae 0.3513170353921832, smape 0.05457523090158096\n",
      "time: sample 2.495692729949951 s, linsolve 0.007241725921630859 s, pred 0.7537591457366943 s\n",
      "Trial 90\n"
     ]
    },
    {
     "name": "stdout",
     "output_type": "stream",
     "text": [
      "KRR acc: mse 0.22594378067684, mae 0.3537369311812406, smape 0.05493266388346207\n",
      "time: sample 2.4467852115631104 s, linsolve 0.007195472717285156 s, pred 0.7550373077392578 s\n",
      "Trial 91\n"
     ]
    },
    {
     "name": "stdout",
     "output_type": "stream",
     "text": [
      "KRR acc: mse 0.22540145288359903, mae 0.3516614362025051, smape 0.054634917653276\n",
      "time: sample 2.3567984104156494 s, linsolve 0.0072247982025146484 s, pred 0.755469799041748 s\n",
      "Trial 92\n"
     ]
    },
    {
     "name": "stdout",
     "output_type": "stream",
     "text": [
      "KRR acc: mse 0.2223388737030809, mae 0.3472221211258508, smape 0.053963458134108\n",
      "time: sample 2.3135437965393066 s, linsolve 0.0072231292724609375 s, pred 0.7552008628845215 s\n",
      "Trial 93\n"
     ]
    },
    {
     "name": "stdout",
     "output_type": "stream",
     "text": [
      "KRR acc: mse 0.22345884244920236, mae 0.35280360293538093, smape 0.05479095633721809\n",
      "time: sample 2.428701877593994 s, linsolve 0.007215023040771484 s, pred 0.7559113502502441 s\n",
      "Trial 94\n"
     ]
    },
    {
     "name": "stdout",
     "output_type": "stream",
     "text": [
      "KRR acc: mse 0.22295496334876624, mae 0.3513801230320507, smape 0.054606613477403095\n",
      "time: sample 2.4446146488189697 s, linsolve 0.007472038269042969 s, pred 0.7546188831329346 s\n",
      "Trial 95\n"
     ]
    },
    {
     "name": "stdout",
     "output_type": "stream",
     "text": [
      "KRR acc: mse 0.21998254471009387, mae 0.3495477608917986, smape 0.054292856885932224\n",
      "time: sample 2.431668996810913 s, linsolve 0.0072116851806640625 s, pred 0.7474615573883057 s\n",
      "Trial 96\n"
     ]
    },
    {
     "name": "stdout",
     "output_type": "stream",
     "text": [
      "KRR acc: mse 0.22361571997308582, mae 0.3517723252172552, smape 0.054624197544501624\n",
      "time: sample 2.4141807556152344 s, linsolve 0.007215261459350586 s, pred 0.7545604705810547 s\n",
      "Trial 97\n"
     ]
    },
    {
     "name": "stdout",
     "output_type": "stream",
     "text": [
      "KRR acc: mse 0.22440747318771942, mae 0.3532416573077899, smape 0.054853046772659536\n",
      "time: sample 2.3942525386810303 s, linsolve 0.007280588150024414 s, pred 0.7540135383605957 s\n",
      "Trial 98\n"
     ]
    },
    {
     "name": "stdout",
     "output_type": "stream",
     "text": [
      "KRR acc: mse 0.23066949893743163, mae 0.35539762776878575, smape 0.05521354890703043\n",
      "time: sample 2.3769240379333496 s, linsolve 0.0071828365325927734 s, pred 0.7548112869262695 s\n",
      "Trial 99\n"
     ]
    },
    {
     "name": "stdout",
     "output_type": "stream",
     "text": [
      "KRR acc: mse 0.22427372455334244, mae 0.35464249653869845, smape 0.055060069191949335\n",
      "time: sample 2.4824330806732178 s, linsolve 0.007146596908569336 s, pred 0.7545435428619385 s\n",
      "k = 512\n",
      "Trial 0\n"
     ]
    },
    {
     "name": "stdout",
     "output_type": "stream",
     "text": [
      "KRR acc: mse 0.18162727396843076, mae 0.3207254177660655, smape 0.049762724883840016\n",
      "time: sample 4.464862108230591 s, linsolve 0.029518842697143555 s, pred 1.5338451862335205 s\n",
      "Trial 1\n"
     ]
    },
    {
     "name": "stdout",
     "output_type": "stream",
     "text": [
      "KRR acc: mse 0.18694192468566617, mae 0.3257103236331626, smape 0.05053294377662776\n",
      "time: sample 4.334812164306641 s, linsolve 0.02953481674194336 s, pred 1.5340938568115234 s\n",
      "Trial 2\n"
     ]
    },
    {
     "name": "stdout",
     "output_type": "stream",
     "text": [
      "KRR acc: mse 0.18289776657184673, mae 0.32139803223141744, smape 0.04989961356718263\n",
      "time: sample 4.430174827575684 s, linsolve 0.029783248901367188 s, pred 1.5333731174468994 s\n",
      "Trial 3\n"
     ]
    },
    {
     "name": "stdout",
     "output_type": "stream",
     "text": [
      "KRR acc: mse 0.18520224303430452, mae 0.32018181498047643, smape 0.0497131304678922\n",
      "time: sample 4.443302869796753 s, linsolve 0.02956390380859375 s, pred 1.5342135429382324 s\n",
      "Trial 4\n"
     ]
    },
    {
     "name": "stdout",
     "output_type": "stream",
     "text": [
      "KRR acc: mse 0.18887110975453725, mae 0.3260385094189078, smape 0.05060135549168924\n",
      "time: sample 4.387443780899048 s, linsolve 0.029596805572509766 s, pred 1.534430742263794 s\n",
      "Trial 5\n"
     ]
    },
    {
     "name": "stdout",
     "output_type": "stream",
     "text": [
      "KRR acc: mse 0.18404985789475323, mae 0.3231695692908715, smape 0.05017468449548001\n",
      "time: sample 4.455490589141846 s, linsolve 0.02912449836730957 s, pred 1.5358595848083496 s\n",
      "Trial 6\n"
     ]
    },
    {
     "name": "stdout",
     "output_type": "stream",
     "text": [
      "KRR acc: mse 0.1839403833196652, mae 0.32290000938166197, smape 0.0501293475136343\n",
      "time: sample 4.5496416091918945 s, linsolve 0.029019832611083984 s, pred 1.5339503288269043 s\n",
      "Trial 7\n"
     ]
    },
    {
     "name": "stdout",
     "output_type": "stream",
     "text": [
      "KRR acc: mse 0.18606130946509677, mae 0.3249511551654759, smape 0.05044898235860854\n",
      "time: sample 4.42548680305481 s, linsolve 0.029192447662353516 s, pred 1.5347363948822021 s\n",
      "Trial 8\n"
     ]
    },
    {
     "name": "stdout",
     "output_type": "stream",
     "text": [
      "KRR acc: mse 0.18470528183160884, mae 0.3232817183076503, smape 0.050153345786753074\n",
      "time: sample 4.46162223815918 s, linsolve 0.02906966209411621 s, pred 1.5353443622589111 s\n",
      "Trial 9\n"
     ]
    },
    {
     "name": "stdout",
     "output_type": "stream",
     "text": [
      "KRR acc: mse 0.18418558197438342, mae 0.32343411860384685, smape 0.05015992986228851\n",
      "time: sample 4.255184173583984 s, linsolve 0.029134035110473633 s, pred 1.532294750213623 s\n",
      "Trial 10\n"
     ]
    },
    {
     "name": "stdout",
     "output_type": "stream",
     "text": [
      "KRR acc: mse 0.1872820270599966, mae 0.32201810045079293, smape 0.049975630267857465\n",
      "time: sample 4.663543224334717 s, linsolve 0.02902054786682129 s, pred 1.5335164070129395 s\n",
      "Trial 11\n"
     ]
    },
    {
     "name": "stdout",
     "output_type": "stream",
     "text": [
      "KRR acc: mse 0.18766233482554498, mae 0.32495210108549943, smape 0.05044583611509326\n",
      "time: sample 4.503425598144531 s, linsolve 0.02925395965576172 s, pred 1.5338664054870605 s\n",
      "Trial 12\n"
     ]
    },
    {
     "name": "stdout",
     "output_type": "stream",
     "text": [
      "KRR acc: mse 0.18296248778048277, mae 0.3222829125070321, smape 0.05000167740240593\n",
      "time: sample 4.519342660903931 s, linsolve 0.02905726432800293 s, pred 1.5320420265197754 s\n",
      "Trial 13\n"
     ]
    },
    {
     "name": "stdout",
     "output_type": "stream",
     "text": [
      "KRR acc: mse 0.18035930717262108, mae 0.320290865125312, smape 0.04970122327215685\n",
      "time: sample 4.465105295181274 s, linsolve 0.02909994125366211 s, pred 1.533428430557251 s\n",
      "Trial 14\n"
     ]
    },
    {
     "name": "stdout",
     "output_type": "stream",
     "text": [
      "KRR acc: mse 0.184950596489129, mae 0.3232589266984497, smape 0.05021343250994088\n",
      "time: sample 4.430117845535278 s, linsolve 0.029328107833862305 s, pred 1.5336828231811523 s\n",
      "Trial 15\n"
     ]
    },
    {
     "name": "stdout",
     "output_type": "stream",
     "text": [
      "KRR acc: mse 0.187281408812543, mae 0.32459785599098884, smape 0.05040465554861592\n",
      "time: sample 4.446412086486816 s, linsolve 0.028898239135742188 s, pred 1.532825231552124 s\n",
      "Trial 16\n"
     ]
    },
    {
     "name": "stdout",
     "output_type": "stream",
     "text": [
      "KRR acc: mse 0.1937819004927616, mae 0.32692530980925216, smape 0.05075121704108717\n",
      "time: sample 4.430985450744629 s, linsolve 0.029015302658081055 s, pred 1.533137559890747 s\n",
      "Trial 17\n"
     ]
    },
    {
     "name": "stdout",
     "output_type": "stream",
     "text": [
      "KRR acc: mse 0.1839691719122129, mae 0.323363525375324, smape 0.05019862812000234\n",
      "time: sample 4.476259231567383 s, linsolve 0.02898550033569336 s, pred 1.5370075702667236 s\n",
      "Trial 18\n"
     ]
    },
    {
     "name": "stdout",
     "output_type": "stream",
     "text": [
      "KRR acc: mse 0.18347073313742698, mae 0.3228433808651466, smape 0.050081980677426495\n",
      "time: sample 4.789510250091553 s, linsolve 0.029007673263549805 s, pred 1.532280683517456 s\n",
      "Trial 19\n"
     ]
    },
    {
     "name": "stdout",
     "output_type": "stream",
     "text": [
      "KRR acc: mse 0.18793689712633357, mae 0.32584264681592157, smape 0.05061288096945488\n",
      "time: sample 4.580410957336426 s, linsolve 0.029094934463500977 s, pred 1.535447359085083 s\n",
      "Trial 20\n"
     ]
    },
    {
     "name": "stdout",
     "output_type": "stream",
     "text": [
      "KRR acc: mse 0.18142525688496636, mae 0.3204890370808089, smape 0.04972958131056912\n",
      "time: sample 4.320361852645874 s, linsolve 0.02903914451599121 s, pred 1.533081293106079 s\n",
      "Trial 21\n"
     ]
    },
    {
     "name": "stdout",
     "output_type": "stream",
     "text": [
      "KRR acc: mse 0.18370559004590037, mae 0.32293455814148603, smape 0.05011224736656435\n",
      "time: sample 4.567192077636719 s, linsolve 0.02938365936279297 s, pred 1.5338714122772217 s\n",
      "Trial 22\n"
     ]
    },
    {
     "name": "stdout",
     "output_type": "stream",
     "text": [
      "KRR acc: mse 0.1844659706588172, mae 0.322835370055079, smape 0.05011186796496488\n",
      "time: sample 4.622084140777588 s, linsolve 0.02897047996520996 s, pred 1.5337355136871338 s\n",
      "Trial 23\n"
     ]
    },
    {
     "name": "stdout",
     "output_type": "stream",
     "text": [
      "KRR acc: mse 0.18432790055796416, mae 0.32322703051009266, smape 0.0501538890302526\n",
      "time: sample 4.681847810745239 s, linsolve 0.029025554656982422 s, pred 1.5353457927703857 s\n",
      "Trial 24\n"
     ]
    },
    {
     "name": "stdout",
     "output_type": "stream",
     "text": [
      "KRR acc: mse 0.1850567701728206, mae 0.3240797854679855, smape 0.050288470947605336\n",
      "time: sample 4.4009270668029785 s, linsolve 0.029163837432861328 s, pred 1.5343453884124756 s\n",
      "Trial 25\n"
     ]
    },
    {
     "name": "stdout",
     "output_type": "stream",
     "text": [
      "KRR acc: mse 0.1841471554877572, mae 0.3227609468960481, smape 0.050085627077052206\n",
      "time: sample 4.400512456893921 s, linsolve 0.029110193252563477 s, pred 1.533630132675171 s\n",
      "Trial 26\n"
     ]
    },
    {
     "name": "stdout",
     "output_type": "stream",
     "text": [
      "KRR acc: mse 0.18602669696175617, mae 0.32466471450697587, smape 0.05038364219735442\n",
      "time: sample 4.3965513706207275 s, linsolve 0.02895641326904297 s, pred 1.5314064025878906 s\n",
      "Trial 27\n"
     ]
    },
    {
     "name": "stdout",
     "output_type": "stream",
     "text": [
      "KRR acc: mse 0.1844516764080277, mae 0.3232817358291412, smape 0.05017731068604187\n",
      "time: sample 4.52266001701355 s, linsolve 0.02924203872680664 s, pred 1.533384084701538 s\n",
      "Trial 28\n"
     ]
    },
    {
     "name": "stdout",
     "output_type": "stream",
     "text": [
      "KRR acc: mse 0.18494582005466415, mae 0.32428683890522464, smape 0.05033347485131507\n",
      "time: sample 4.4728124141693115 s, linsolve 0.029083967208862305 s, pred 1.534308671951294 s\n",
      "Trial 29\n"
     ]
    },
    {
     "name": "stdout",
     "output_type": "stream",
     "text": [
      "KRR acc: mse 0.19164481260900665, mae 0.325546293745777, smape 0.050567352543996504\n",
      "time: sample 4.568613529205322 s, linsolve 0.02898430824279785 s, pred 1.534330129623413 s\n",
      "Trial 30\n"
     ]
    },
    {
     "name": "stdout",
     "output_type": "stream",
     "text": [
      "KRR acc: mse 0.1852739977843779, mae 0.3239359885286419, smape 0.05029745464514871\n",
      "time: sample 4.438066244125366 s, linsolve 0.02921605110168457 s, pred 1.535287857055664 s\n",
      "Trial 31\n"
     ]
    },
    {
     "name": "stdout",
     "output_type": "stream",
     "text": [
      "KRR acc: mse 0.1841076874091093, mae 0.32242025939126595, smape 0.05002826822049486\n",
      "time: sample 4.639852046966553 s, linsolve 0.029041767120361328 s, pred 1.5350046157836914 s\n",
      "Trial 32\n"
     ]
    },
    {
     "name": "stdout",
     "output_type": "stream",
     "text": [
      "KRR acc: mse 0.17766156840093264, mae 0.3181121410749953, smape 0.04936390846134479\n",
      "time: sample 4.52273964881897 s, linsolve 0.029094457626342773 s, pred 1.53297758102417 s\n",
      "Trial 33\n"
     ]
    },
    {
     "name": "stdout",
     "output_type": "stream",
     "text": [
      "KRR acc: mse 0.18149277725682736, mae 0.3207776623578772, smape 0.04980175593154413\n",
      "time: sample 4.542573690414429 s, linsolve 0.02892899513244629 s, pred 1.5338809490203857 s\n",
      "Trial 34\n"
     ]
    },
    {
     "name": "stdout",
     "output_type": "stream",
     "text": [
      "KRR acc: mse 0.18346370030252607, mae 0.3216524584831937, smape 0.04988396432358099\n",
      "time: sample 4.437731742858887 s, linsolve 0.029115676879882812 s, pred 1.5329957008361816 s\n",
      "Trial 35\n"
     ]
    },
    {
     "name": "stdout",
     "output_type": "stream",
     "text": [
      "KRR acc: mse 0.18076352129855092, mae 0.320926879740419, smape 0.049797706537054044\n",
      "time: sample 4.539310693740845 s, linsolve 0.029191017150878906 s, pred 1.5328807830810547 s\n",
      "Trial 36\n"
     ]
    },
    {
     "name": "stdout",
     "output_type": "stream",
     "text": [
      "KRR acc: mse 0.18255520140828183, mae 0.3222518101435035, smape 0.05002948818959139\n",
      "time: sample 4.530557870864868 s, linsolve 0.029000282287597656 s, pred 1.5362493991851807 s\n",
      "Trial 37\n"
     ]
    },
    {
     "name": "stdout",
     "output_type": "stream",
     "text": [
      "KRR acc: mse 0.18359072595086437, mae 0.32251872425140704, smape 0.05006632320801843\n",
      "time: sample 4.4527411460876465 s, linsolve 0.02922511100769043 s, pred 1.5333683490753174 s\n",
      "Trial 38\n"
     ]
    },
    {
     "name": "stdout",
     "output_type": "stream",
     "text": [
      "KRR acc: mse 0.18400164344047548, mae 0.32366590179550053, smape 0.050230935711975164\n",
      "time: sample 4.374194145202637 s, linsolve 0.02928328514099121 s, pred 1.5340533256530762 s\n",
      "Trial 39\n"
     ]
    },
    {
     "name": "stdout",
     "output_type": "stream",
     "text": [
      "KRR acc: mse 0.1823649754825506, mae 0.32268502266760385, smape 0.05006106954529738\n",
      "time: sample 4.5674662590026855 s, linsolve 0.029014110565185547 s, pred 1.5352132320404053 s\n",
      "Trial 40\n"
     ]
    },
    {
     "name": "stdout",
     "output_type": "stream",
     "text": [
      "KRR acc: mse 0.184247529109686, mae 0.3234374568337359, smape 0.05019668385684382\n",
      "time: sample 4.402536630630493 s, linsolve 0.028866052627563477 s, pred 1.5319008827209473 s\n",
      "Trial 41\n"
     ]
    },
    {
     "name": "stdout",
     "output_type": "stream",
     "text": [
      "KRR acc: mse 0.18444819683423797, mae 0.3227007714803153, smape 0.0500755693452079\n",
      "time: sample 4.478677749633789 s, linsolve 0.029701948165893555 s, pred 1.5346627235412598 s\n",
      "Trial 42\n"
     ]
    },
    {
     "name": "stdout",
     "output_type": "stream",
     "text": [
      "KRR acc: mse 0.1847273016671008, mae 0.32306382711936205, smape 0.0501726322756798\n",
      "time: sample 4.40058970451355 s, linsolve 0.0297086238861084 s, pred 1.5329205989837646 s\n",
      "Trial 43\n"
     ]
    },
    {
     "name": "stdout",
     "output_type": "stream",
     "text": [
      "KRR acc: mse 0.1907820722143681, mae 0.3280277904793592, smape 0.050898127126798545\n",
      "time: sample 4.595815896987915 s, linsolve 0.02982020378112793 s, pred 1.5331265926361084 s\n",
      "Trial 44\n"
     ]
    },
    {
     "name": "stdout",
     "output_type": "stream",
     "text": [
      "KRR acc: mse 0.18363412714596553, mae 0.323757987508484, smape 0.050242180877662135\n",
      "time: sample 4.338134288787842 s, linsolve 0.029717683792114258 s, pred 1.5330746173858643 s\n",
      "Trial 45\n"
     ]
    },
    {
     "name": "stdout",
     "output_type": "stream",
     "text": [
      "KRR acc: mse 0.18315887925144603, mae 0.32224117939589986, smape 0.05001436004879105\n",
      "time: sample 4.332840442657471 s, linsolve 0.02974414825439453 s, pred 1.5344159603118896 s\n",
      "Trial 46\n"
     ]
    },
    {
     "name": "stdout",
     "output_type": "stream",
     "text": [
      "KRR acc: mse 0.18259870043190082, mae 0.3213599243234094, smape 0.04985122235074317\n",
      "time: sample 4.404037237167358 s, linsolve 0.029755353927612305 s, pred 1.5333657264709473 s\n",
      "Trial 47\n"
     ]
    },
    {
     "name": "stdout",
     "output_type": "stream",
     "text": [
      "KRR acc: mse 0.18969056045250396, mae 0.32266181342286193, smape 0.05006902199883465\n",
      "time: sample 4.35292911529541 s, linsolve 0.02964949607849121 s, pred 1.534593105316162 s\n",
      "Trial 48\n"
     ]
    },
    {
     "name": "stdout",
     "output_type": "stream",
     "text": [
      "KRR acc: mse 0.18273916668938686, mae 0.3219007068616213, smape 0.04995411177167595\n",
      "time: sample 4.489925384521484 s, linsolve 0.02968454360961914 s, pred 1.5346918106079102 s\n",
      "Trial 49\n"
     ]
    },
    {
     "name": "stdout",
     "output_type": "stream",
     "text": [
      "KRR acc: mse 0.17943577543346015, mae 0.3196795488229912, smape 0.04960803734935536\n",
      "time: sample 4.399854898452759 s, linsolve 0.02975177764892578 s, pred 1.536280632019043 s\n",
      "Trial 50\n"
     ]
    },
    {
     "name": "stdout",
     "output_type": "stream",
     "text": [
      "KRR acc: mse 0.18292126019930696, mae 0.32283671346093334, smape 0.05008608668937666\n",
      "time: sample 4.370229959487915 s, linsolve 0.02978372573852539 s, pred 1.5319733619689941 s\n",
      "Trial 51\n"
     ]
    },
    {
     "name": "stdout",
     "output_type": "stream",
     "text": [
      "KRR acc: mse 0.18507530184725662, mae 0.32134597981949364, smape 0.04988482606232225\n",
      "time: sample 4.63844108581543 s, linsolve 0.030002593994140625 s, pred 1.5336408615112305 s\n",
      "Trial 52\n"
     ]
    },
    {
     "name": "stdout",
     "output_type": "stream",
     "text": [
      "KRR acc: mse 0.18433112509908223, mae 0.3232841411966614, smape 0.05019700908290192\n",
      "time: sample 4.493971109390259 s, linsolve 0.029789209365844727 s, pred 1.5333216190338135 s\n",
      "Trial 53\n"
     ]
    },
    {
     "name": "stdout",
     "output_type": "stream",
     "text": [
      "KRR acc: mse 0.18794100686849122, mae 0.32618736064764864, smape 0.050643215631011686\n",
      "time: sample 4.5248472690582275 s, linsolve 0.029425621032714844 s, pred 1.532536268234253 s\n",
      "Trial 54\n"
     ]
    },
    {
     "name": "stdout",
     "output_type": "stream",
     "text": [
      "KRR acc: mse 0.1831619317912134, mae 0.32240504810145193, smape 0.050046439492802484\n",
      "time: sample 4.461565971374512 s, linsolve 0.02961111068725586 s, pred 1.5325448513031006 s\n",
      "Trial 55\n"
     ]
    },
    {
     "name": "stdout",
     "output_type": "stream",
     "text": [
      "KRR acc: mse 0.1863940513810712, mae 0.3239047615447171, smape 0.05027561764990188\n",
      "time: sample 4.360755920410156 s, linsolve 0.028926610946655273 s, pred 1.532923936843872 s\n",
      "Trial 56\n"
     ]
    },
    {
     "name": "stdout",
     "output_type": "stream",
     "text": [
      "KRR acc: mse 0.18528444706082367, mae 0.32451028269655724, smape 0.050359665171349925\n",
      "time: sample 4.432903289794922 s, linsolve 0.029120683670043945 s, pred 1.5338456630706787 s\n",
      "Trial 57\n"
     ]
    },
    {
     "name": "stdout",
     "output_type": "stream",
     "text": [
      "KRR acc: mse 0.18284478416703576, mae 0.3217133837939234, smape 0.04994768562785415\n",
      "time: sample 4.382470607757568 s, linsolve 0.02908015251159668 s, pred 1.5342936515808105 s\n",
      "Trial 58\n"
     ]
    },
    {
     "name": "stdout",
     "output_type": "stream",
     "text": [
      "KRR acc: mse 0.1837997326906896, mae 0.32338579845172516, smape 0.050173659004262745\n",
      "time: sample 4.455731630325317 s, linsolve 0.02901172637939453 s, pred 1.534761905670166 s\n",
      "Trial 59\n"
     ]
    },
    {
     "name": "stdout",
     "output_type": "stream",
     "text": [
      "KRR acc: mse 0.18340562443392697, mae 0.32251132592916365, smape 0.050025862260408206\n",
      "time: sample 4.5516746044158936 s, linsolve 0.029180288314819336 s, pred 1.533642292022705 s\n",
      "Trial 60\n"
     ]
    },
    {
     "name": "stdout",
     "output_type": "stream",
     "text": [
      "KRR acc: mse 0.18046412266718198, mae 0.31994631316747935, smape 0.04966700645243335\n",
      "time: sample 4.448159217834473 s, linsolve 0.029224395751953125 s, pred 1.533355951309204 s\n",
      "Trial 61\n"
     ]
    },
    {
     "name": "stdout",
     "output_type": "stream",
     "text": [
      "KRR acc: mse 0.18081103010377134, mae 0.3212004423028706, smape 0.04986662914290466\n",
      "time: sample 4.675052642822266 s, linsolve 0.02911233901977539 s, pred 1.5338587760925293 s\n",
      "Trial 62\n"
     ]
    },
    {
     "name": "stdout",
     "output_type": "stream",
     "text": [
      "KRR acc: mse 0.1854687454010158, mae 0.3242570898757893, smape 0.050342665514639576\n",
      "time: sample 4.610418319702148 s, linsolve 0.02916121482849121 s, pred 1.5342659950256348 s\n",
      "Trial 63\n"
     ]
    },
    {
     "name": "stdout",
     "output_type": "stream",
     "text": [
      "KRR acc: mse 0.1842823560607708, mae 0.3245078821070639, smape 0.05035729713643055\n",
      "time: sample 4.447774887084961 s, linsolve 0.029148578643798828 s, pred 1.5352611541748047 s\n",
      "Trial 64\n"
     ]
    },
    {
     "name": "stdout",
     "output_type": "stream",
     "text": [
      "KRR acc: mse 0.19054108177268403, mae 0.32819388784468895, smape 0.05095408794186975\n",
      "time: sample 4.576187610626221 s, linsolve 0.028997421264648438 s, pred 1.534343957901001 s\n",
      "Trial 65\n"
     ]
    },
    {
     "name": "stdout",
     "output_type": "stream",
     "text": [
      "KRR acc: mse 0.18244086928847827, mae 0.3221130965465244, smape 0.04999704133999882\n",
      "time: sample 4.404386520385742 s, linsolve 0.029181480407714844 s, pred 1.533259391784668 s\n",
      "Trial 66\n"
     ]
    },
    {
     "name": "stdout",
     "output_type": "stream",
     "text": [
      "KRR acc: mse 0.17835580807437673, mae 0.31723300918037967, smape 0.049246847685942126\n",
      "time: sample 4.497067213058472 s, linsolve 0.02929973602294922 s, pred 1.5344963073730469 s\n",
      "Trial 67\n"
     ]
    },
    {
     "name": "stdout",
     "output_type": "stream",
     "text": [
      "KRR acc: mse 0.1863372108548252, mae 0.32444201888101315, smape 0.05036447069646124\n",
      "time: sample 4.411691904067993 s, linsolve 0.02924180030822754 s, pred 1.532670021057129 s\n",
      "Trial 68\n"
     ]
    },
    {
     "name": "stdout",
     "output_type": "stream",
     "text": [
      "KRR acc: mse 0.18458145477438626, mae 0.3247199291703563, smape 0.05038364562167316\n",
      "time: sample 4.425124645233154 s, linsolve 0.029080867767333984 s, pred 1.5336577892303467 s\n",
      "Trial 69\n"
     ]
    },
    {
     "name": "stdout",
     "output_type": "stream",
     "text": [
      "KRR acc: mse 0.18472612398718, mae 0.3242637410340667, smape 0.050311521122649853\n",
      "time: sample 4.432136297225952 s, linsolve 0.028962373733520508 s, pred 1.5344650745391846 s\n",
      "Trial 70\n"
     ]
    },
    {
     "name": "stdout",
     "output_type": "stream",
     "text": [
      "KRR acc: mse 0.18347391907018482, mae 0.32312386045884284, smape 0.05017019585401463\n",
      "time: sample 4.511642217636108 s, linsolve 0.02907848358154297 s, pred 1.531857967376709 s\n",
      "Trial 71\n"
     ]
    },
    {
     "name": "stdout",
     "output_type": "stream",
     "text": [
      "KRR acc: mse 0.1859549332751945, mae 0.3252983846777867, smape 0.050461391988011715\n",
      "time: sample 4.428014755249023 s, linsolve 0.02911853790283203 s, pred 1.5332341194152832 s\n",
      "Trial 72\n"
     ]
    },
    {
     "name": "stdout",
     "output_type": "stream",
     "text": [
      "KRR acc: mse 0.18523425662546011, mae 0.32400849884668625, smape 0.0503159786403927\n",
      "time: sample 4.389561891555786 s, linsolve 0.029035329818725586 s, pred 1.5314393043518066 s\n",
      "Trial 73\n"
     ]
    },
    {
     "name": "stdout",
     "output_type": "stream",
     "text": [
      "KRR acc: mse 0.1803464056431698, mae 0.31904250095016534, smape 0.04948049346475566\n",
      "time: sample 4.4132936000823975 s, linsolve 0.029232263565063477 s, pred 1.5328013896942139 s\n",
      "Trial 74\n"
     ]
    },
    {
     "name": "stdout",
     "output_type": "stream",
     "text": [
      "KRR acc: mse 0.19502265060814647, mae 0.3279912107573958, smape 0.05096561342723843\n",
      "time: sample 4.299356937408447 s, linsolve 0.029102087020874023 s, pred 1.5334389209747314 s\n",
      "Trial 75\n"
     ]
    },
    {
     "name": "stdout",
     "output_type": "stream",
     "text": [
      "KRR acc: mse 0.1923463877248873, mae 0.32665661468524265, smape 0.05073029449990019\n",
      "time: sample 4.527380466461182 s, linsolve 0.029443025588989258 s, pred 1.5337567329406738 s\n",
      "Trial 76\n"
     ]
    },
    {
     "name": "stdout",
     "output_type": "stream",
     "text": [
      "KRR acc: mse 0.1847189054463813, mae 0.3239322901114586, smape 0.05027801886214635\n",
      "time: sample 4.484210968017578 s, linsolve 0.02900528907775879 s, pred 1.5314931869506836 s\n",
      "Trial 77\n"
     ]
    },
    {
     "name": "stdout",
     "output_type": "stream",
     "text": [
      "KRR acc: mse 0.18325877678910754, mae 0.3222987492005548, smape 0.05002565253460535\n",
      "time: sample 4.54727840423584 s, linsolve 0.029032468795776367 s, pred 1.5328869819641113 s\n",
      "Trial 78\n"
     ]
    },
    {
     "name": "stdout",
     "output_type": "stream",
     "text": [
      "KRR acc: mse 0.17891815162595445, mae 0.31895705897283333, smape 0.04948442843989564\n",
      "time: sample 4.50653600692749 s, linsolve 0.02914285659790039 s, pred 1.5334711074829102 s\n",
      "Trial 79\n"
     ]
    },
    {
     "name": "stdout",
     "output_type": "stream",
     "text": [
      "KRR acc: mse 0.18540943436285426, mae 0.3257327123422905, smape 0.05057010472143616\n",
      "time: sample 4.46377158164978 s, linsolve 0.02906322479248047 s, pred 1.5323810577392578 s\n",
      "Trial 80\n"
     ]
    },
    {
     "name": "stdout",
     "output_type": "stream",
     "text": [
      "KRR acc: mse 0.18420557034362756, mae 0.3240621906017567, smape 0.05030560489020208\n",
      "time: sample 4.910162687301636 s, linsolve 0.029191970825195312 s, pred 1.5329267978668213 s\n",
      "Trial 81\n"
     ]
    },
    {
     "name": "stdout",
     "output_type": "stream",
     "text": [
      "KRR acc: mse 0.18561976869717003, mae 0.32425822982007596, smape 0.050326646012700586\n",
      "time: sample 4.520817518234253 s, linsolve 0.02912139892578125 s, pred 1.533491611480713 s\n",
      "Trial 82\n"
     ]
    },
    {
     "name": "stdout",
     "output_type": "stream",
     "text": [
      "KRR acc: mse 0.18830520564570621, mae 0.3254915919280449, smape 0.05050840894523862\n",
      "time: sample 4.546498537063599 s, linsolve 0.029270172119140625 s, pred 1.5324034690856934 s\n",
      "Trial 83\n"
     ]
    },
    {
     "name": "stdout",
     "output_type": "stream",
     "text": [
      "KRR acc: mse 0.1872197249501013, mae 0.3259790043072087, smape 0.050605555716279414\n",
      "time: sample 4.492106676101685 s, linsolve 0.029020309448242188 s, pred 1.532503366470337 s\n",
      "Trial 84\n"
     ]
    },
    {
     "name": "stdout",
     "output_type": "stream",
     "text": [
      "KRR acc: mse 0.1888530524561181, mae 0.3274860746905283, smape 0.050830455817299856\n",
      "time: sample 4.573794364929199 s, linsolve 0.029427528381347656 s, pred 1.5346405506134033 s\n",
      "Trial 85\n"
     ]
    },
    {
     "name": "stdout",
     "output_type": "stream",
     "text": [
      "KRR acc: mse 0.1817912142919477, mae 0.3224925111054936, smape 0.050076749888661835\n",
      "time: sample 4.44342303276062 s, linsolve 0.029059886932373047 s, pred 1.5327777862548828 s\n",
      "Trial 86\n"
     ]
    },
    {
     "name": "stdout",
     "output_type": "stream",
     "text": [
      "KRR acc: mse 0.18254421652550198, mae 0.32275091145764107, smape 0.050024230399385826\n",
      "time: sample 4.487412214279175 s, linsolve 0.029048442840576172 s, pred 1.5332374572753906 s\n",
      "Trial 87\n"
     ]
    },
    {
     "name": "stdout",
     "output_type": "stream",
     "text": [
      "KRR acc: mse 0.18164813327958423, mae 0.3202873150697956, smape 0.049701927275430685\n",
      "time: sample 4.466683864593506 s, linsolve 0.028867721557617188 s, pred 1.532949447631836 s\n",
      "Trial 88\n"
     ]
    },
    {
     "name": "stdout",
     "output_type": "stream",
     "text": [
      "KRR acc: mse 0.1828356658381142, mae 0.32125655633321637, smape 0.04987074394843099\n",
      "time: sample 4.475613355636597 s, linsolve 0.029129743576049805 s, pred 1.5329062938690186 s\n",
      "Trial 89\n"
     ]
    },
    {
     "name": "stdout",
     "output_type": "stream",
     "text": [
      "KRR acc: mse 0.18569987128496218, mae 0.32418696028603033, smape 0.050322887852433336\n",
      "time: sample 4.515929698944092 s, linsolve 0.029139041900634766 s, pred 1.53411865234375 s\n",
      "Trial 90\n"
     ]
    },
    {
     "name": "stdout",
     "output_type": "stream",
     "text": [
      "KRR acc: mse 0.18167413407309524, mae 0.32158849506711706, smape 0.049911826840946825\n",
      "time: sample 4.554147243499756 s, linsolve 0.029230594635009766 s, pred 1.5353004932403564 s\n",
      "Trial 91\n"
     ]
    },
    {
     "name": "stdout",
     "output_type": "stream",
     "text": [
      "KRR acc: mse 0.18537708136011719, mae 0.3238573591192149, smape 0.050238486992876634\n",
      "time: sample 4.48216986656189 s, linsolve 0.029211997985839844 s, pred 1.5329477787017822 s\n",
      "Trial 92\n"
     ]
    },
    {
     "name": "stdout",
     "output_type": "stream",
     "text": [
      "KRR acc: mse 0.18506927161933878, mae 0.32396342989716803, smape 0.0502887392575568\n",
      "time: sample 4.499134540557861 s, linsolve 0.02920818328857422 s, pred 1.5340244770050049 s\n",
      "Trial 93\n"
     ]
    },
    {
     "name": "stdout",
     "output_type": "stream",
     "text": [
      "KRR acc: mse 0.18365887300647965, mae 0.32345794558194396, smape 0.0501954004882432\n",
      "time: sample 4.402218580245972 s, linsolve 0.029033660888671875 s, pred 1.5328373908996582 s\n",
      "Trial 94\n"
     ]
    },
    {
     "name": "stdout",
     "output_type": "stream",
     "text": [
      "KRR acc: mse 0.18415809764172195, mae 0.32240640925911135, smape 0.05005964608994104\n",
      "time: sample 4.808971405029297 s, linsolve 0.029202699661254883 s, pred 1.532559871673584 s\n",
      "Trial 95\n"
     ]
    },
    {
     "name": "stdout",
     "output_type": "stream",
     "text": [
      "KRR acc: mse 0.17761268406570646, mae 0.31799088737799214, smape 0.0493248675362432\n",
      "time: sample 4.335733890533447 s, linsolve 0.02901434898376465 s, pred 1.5317273139953613 s\n",
      "Trial 96\n"
     ]
    },
    {
     "name": "stdout",
     "output_type": "stream",
     "text": [
      "KRR acc: mse 0.18096660525268798, mae 0.3199539702114176, smape 0.049657112953317525\n",
      "time: sample 4.490941524505615 s, linsolve 0.029103517532348633 s, pred 1.5337305068969727 s\n",
      "Trial 97\n"
     ]
    },
    {
     "name": "stdout",
     "output_type": "stream",
     "text": [
      "KRR acc: mse 0.18151943041069044, mae 0.32071187335698736, smape 0.04973724094141768\n",
      "time: sample 4.428612232208252 s, linsolve 0.029095172882080078 s, pred 1.5331215858459473 s\n",
      "Trial 98\n"
     ]
    },
    {
     "name": "stdout",
     "output_type": "stream",
     "text": [
      "KRR acc: mse 0.18141028330559178, mae 0.3208374753887613, smape 0.049794093411522085\n",
      "time: sample 4.644887685775757 s, linsolve 0.029140233993530273 s, pred 1.5352590084075928 s\n",
      "Trial 99\n"
     ]
    },
    {
     "name": "stdout",
     "output_type": "stream",
     "text": [
      "KRR acc: mse 0.18517502352310447, mae 0.32320024243517664, smape 0.05018197964463353\n",
      "time: sample 4.289015531539917 s, linsolve 0.029061079025268555 s, pred 1.5339672565460205 s\n",
      "------------- Method: block50RPCholesky -------------\n",
      "k = 128\n",
      "Trial 0\n"
     ]
    },
    {
     "name": "stdout",
     "output_type": "stream",
     "text": [
      "KRR acc: mse 0.2504008875047748, mae 0.37101946302200556, smape 0.05759554374084747\n",
      "time: sample 0.7207074165344238 s, linsolve 0.0027680397033691406 s, pred 0.38581085205078125 s\n",
      "Trial 1\n"
     ]
    },
    {
     "name": "stdout",
     "output_type": "stream",
     "text": [
      "KRR acc: mse 0.259282916054426, mae 0.37565190487380923, smape 0.058316252556330946\n",
      "time: sample 0.714503288269043 s, linsolve 0.002768993377685547 s, pred 0.3872542381286621 s\n",
      "Trial 2\n"
     ]
    },
    {
     "name": "stdout",
     "output_type": "stream",
     "text": [
      "KRR acc: mse 0.26152592275672687, mae 0.3801523823832286, smape 0.05902764697053535\n",
      "time: sample 0.715076208114624 s, linsolve 0.002865314483642578 s, pred 0.3856024742126465 s\n",
      "Trial 3\n"
     ]
    },
    {
     "name": "stdout",
     "output_type": "stream",
     "text": [
      "KRR acc: mse 0.2600428955172601, mae 0.37978483314213024, smape 0.058958335926567074\n",
      "time: sample 0.7141110897064209 s, linsolve 0.002759695053100586 s, pred 0.3857698440551758 s\n",
      "Trial 4\n"
     ]
    },
    {
     "name": "stdout",
     "output_type": "stream",
     "text": [
      "KRR acc: mse 0.26805302659382635, mae 0.3829341835482438, smape 0.05947000736032092\n",
      "time: sample 0.7140839099884033 s, linsolve 0.0027611255645751953 s, pred 0.3871140480041504 s\n",
      "Trial 5\n"
     ]
    },
    {
     "name": "stdout",
     "output_type": "stream",
     "text": [
      "KRR acc: mse 0.269799297140014, mae 0.381952818186473, smape 0.059332272678758305\n",
      "time: sample 0.7137916088104248 s, linsolve 0.0027649402618408203 s, pred 0.387026309967041 s\n",
      "Trial 6\n"
     ]
    },
    {
     "name": "stdout",
     "output_type": "stream",
     "text": [
      "KRR acc: mse 0.24838307065949888, mae 0.37055367102053377, smape 0.05753604235496973\n",
      "time: sample 0.7141063213348389 s, linsolve 0.0027923583984375 s, pred 0.38587450981140137 s\n",
      "Trial 7\n"
     ]
    },
    {
     "name": "stdout",
     "output_type": "stream",
     "text": [
      "KRR acc: mse 0.2621961077243782, mae 0.376237484450873, smape 0.058440228370967635\n",
      "time: sample 0.7139384746551514 s, linsolve 0.002781391143798828 s, pred 0.38600873947143555 s\n",
      "Trial 8\n"
     ]
    },
    {
     "name": "stdout",
     "output_type": "stream",
     "text": [
      "KRR acc: mse 0.25597357218532596, mae 0.37477305521605975, smape 0.05821181433152942\n",
      "time: sample 0.7140419483184814 s, linsolve 0.0027637481689453125 s, pred 0.3853645324707031 s\n",
      "Trial 9\n"
     ]
    },
    {
     "name": "stdout",
     "output_type": "stream",
     "text": [
      "KRR acc: mse 0.25531396501418496, mae 0.3727496800534828, smape 0.057882902115684934\n",
      "time: sample 0.7145037651062012 s, linsolve 0.0027670860290527344 s, pred 0.3865492343902588 s\n",
      "Trial 10\n"
     ]
    },
    {
     "name": "stdout",
     "output_type": "stream",
     "text": [
      "KRR acc: mse 0.26855221692371234, mae 0.3804715231452451, smape 0.05906518335105493\n",
      "time: sample 0.7154192924499512 s, linsolve 0.0027709007263183594 s, pred 0.38604116439819336 s\n",
      "Trial 11\n"
     ]
    },
    {
     "name": "stdout",
     "output_type": "stream",
     "text": [
      "KRR acc: mse 0.2659831662156617, mae 0.38361534918682366, smape 0.05954308007719469\n",
      "time: sample 0.7138781547546387 s, linsolve 0.0027697086334228516 s, pred 0.39255213737487793 s\n",
      "Trial 12\n"
     ]
    },
    {
     "name": "stdout",
     "output_type": "stream",
     "text": [
      "KRR acc: mse 0.2575870335323903, mae 0.3772821454529283, smape 0.05858278384781223\n",
      "time: sample 0.7137932777404785 s, linsolve 0.0028934478759765625 s, pred 0.3867483139038086 s\n",
      "Trial 13\n"
     ]
    },
    {
     "name": "stdout",
     "output_type": "stream",
     "text": [
      "KRR acc: mse 0.26348317107460695, mae 0.37727217198796165, smape 0.05857313691221032\n",
      "time: sample 0.7133369445800781 s, linsolve 0.002736806869506836 s, pred 0.3876008987426758 s\n",
      "Trial 14\n"
     ]
    },
    {
     "name": "stdout",
     "output_type": "stream",
     "text": [
      "KRR acc: mse 0.2678883867573478, mae 0.3815433085114978, smape 0.05925905736059101\n",
      "time: sample 0.7133889198303223 s, linsolve 0.0027718544006347656 s, pred 0.38680124282836914 s\n",
      "Trial 15\n"
     ]
    },
    {
     "name": "stdout",
     "output_type": "stream",
     "text": [
      "KRR acc: mse 0.2676042348645198, mae 0.38304922945008996, smape 0.05950386255563349\n",
      "time: sample 0.7133834362030029 s, linsolve 0.002753019332885742 s, pred 0.38559722900390625 s\n",
      "Trial 16\n"
     ]
    },
    {
     "name": "stdout",
     "output_type": "stream",
     "text": [
      "KRR acc: mse 0.25166605028235783, mae 0.37258038671906046, smape 0.05780957525541462\n",
      "time: sample 0.7136270999908447 s, linsolve 0.002763986587524414 s, pred 0.3865060806274414 s\n",
      "Trial 17\n"
     ]
    },
    {
     "name": "stdout",
     "output_type": "stream",
     "text": [
      "KRR acc: mse 0.25994439589296614, mae 0.37748354502055625, smape 0.0586468256999014\n",
      "time: sample 0.7130286693572998 s, linsolve 0.002696514129638672 s, pred 0.3857846260070801 s\n",
      "Trial 18\n"
     ]
    },
    {
     "name": "stdout",
     "output_type": "stream",
     "text": [
      "KRR acc: mse 0.27182141413241667, mae 0.3836832061200875, smape 0.05957962308986911\n",
      "time: sample 0.7132842540740967 s, linsolve 0.0027360916137695312 s, pred 0.38615965843200684 s\n",
      "Trial 19\n"
     ]
    },
    {
     "name": "stdout",
     "output_type": "stream",
     "text": [
      "KRR acc: mse 0.26343035442369217, mae 0.37766678017397026, smape 0.058687888218049974\n",
      "time: sample 0.7135655879974365 s, linsolve 0.0026972293853759766 s, pred 0.3864574432373047 s\n",
      "Trial 20\n"
     ]
    },
    {
     "name": "stdout",
     "output_type": "stream",
     "text": [
      "KRR acc: mse 0.26247691121419336, mae 0.37630901946819184, smape 0.05843571784571006\n",
      "time: sample 0.713886022567749 s, linsolve 0.0026938915252685547 s, pred 0.3867454528808594 s\n",
      "Trial 21\n"
     ]
    },
    {
     "name": "stdout",
     "output_type": "stream",
     "text": [
      "KRR acc: mse 0.25856353961815887, mae 0.3773963356811445, smape 0.05860555045332512\n",
      "time: sample 0.7139241695404053 s, linsolve 0.0027837753295898438 s, pred 0.3868284225463867 s\n",
      "Trial 22\n"
     ]
    },
    {
     "name": "stdout",
     "output_type": "stream",
     "text": [
      "KRR acc: mse 0.2601442042604612, mae 0.3784006778630477, smape 0.05874639755403415\n",
      "time: sample 0.7139146327972412 s, linsolve 0.0027844905853271484 s, pred 0.38669705390930176 s\n",
      "Trial 23\n"
     ]
    },
    {
     "name": "stdout",
     "output_type": "stream",
     "text": [
      "KRR acc: mse 0.261986119607304, mae 0.3753639475055351, smape 0.05829204548794454\n",
      "time: sample 0.7134006023406982 s, linsolve 0.0027403831481933594 s, pred 0.38606882095336914 s\n",
      "Trial 24\n"
     ]
    },
    {
     "name": "stdout",
     "output_type": "stream",
     "text": [
      "KRR acc: mse 0.26208322643840426, mae 0.37785561844842114, smape 0.058688525153269756\n",
      "time: sample 0.7127306461334229 s, linsolve 0.002752542495727539 s, pred 0.38620781898498535 s\n",
      "Trial 25\n"
     ]
    },
    {
     "name": "stdout",
     "output_type": "stream",
     "text": [
      "KRR acc: mse 0.2704400414737442, mae 0.3826879051003505, smape 0.05946935877901482\n",
      "time: sample 0.7134544849395752 s, linsolve 0.002779722213745117 s, pred 0.38595032691955566 s\n",
      "Trial 26\n"
     ]
    },
    {
     "name": "stdout",
     "output_type": "stream",
     "text": [
      "KRR acc: mse 0.2715726542285755, mae 0.38611493160758864, smape 0.05993241848243126\n",
      "time: sample 0.7138006687164307 s, linsolve 0.002796173095703125 s, pred 0.38579607009887695 s\n",
      "Trial 27\n"
     ]
    },
    {
     "name": "stdout",
     "output_type": "stream",
     "text": [
      "KRR acc: mse 0.25114849159438013, mae 0.37241252269913466, smape 0.05779530345877436\n",
      "time: sample 0.7134208679199219 s, linsolve 0.0029489994049072266 s, pred 0.3861830234527588 s\n",
      "Trial 28\n"
     ]
    },
    {
     "name": "stdout",
     "output_type": "stream",
     "text": [
      "KRR acc: mse 0.2501250249360986, mae 0.3724287277917155, smape 0.05784348934425915\n",
      "time: sample 0.7137398719787598 s, linsolve 0.002750873565673828 s, pred 0.3859245777130127 s\n",
      "Trial 29\n"
     ]
    },
    {
     "name": "stdout",
     "output_type": "stream",
     "text": [
      "KRR acc: mse 0.24685942013759932, mae 0.369230585949191, smape 0.057319997360395065\n",
      "time: sample 0.7139084339141846 s, linsolve 0.0027532577514648438 s, pred 0.3859546184539795 s\n",
      "Trial 30\n"
     ]
    },
    {
     "name": "stdout",
     "output_type": "stream",
     "text": [
      "KRR acc: mse 0.25723437536922794, mae 0.37747428057177396, smape 0.05859878349197022\n",
      "time: sample 0.7137808799743652 s, linsolve 0.002730131149291992 s, pred 0.38645100593566895 s\n",
      "Trial 31\n"
     ]
    },
    {
     "name": "stdout",
     "output_type": "stream",
     "text": [
      "KRR acc: mse 0.2550485358827787, mae 0.3761948694543384, smape 0.05840777890196855\n",
      "time: sample 0.7141244411468506 s, linsolve 0.0027642250061035156 s, pred 0.388746976852417 s\n",
      "Trial 32\n"
     ]
    },
    {
     "name": "stdout",
     "output_type": "stream",
     "text": [
      "KRR acc: mse 0.27051667987025696, mae 0.3814579826129292, smape 0.05923860244776993\n",
      "time: sample 0.7137246131896973 s, linsolve 0.0027008056640625 s, pred 0.38671445846557617 s\n",
      "Trial 33\n"
     ]
    },
    {
     "name": "stdout",
     "output_type": "stream",
     "text": [
      "KRR acc: mse 0.261704941069727, mae 0.38002721514034904, smape 0.059003188934440925\n",
      "time: sample 0.7136545181274414 s, linsolve 0.0027077198028564453 s, pred 0.3858492374420166 s\n",
      "Trial 34\n"
     ]
    },
    {
     "name": "stdout",
     "output_type": "stream",
     "text": [
      "KRR acc: mse 0.26541488280241565, mae 0.37790795991920545, smape 0.058696384626912616\n",
      "time: sample 0.7134227752685547 s, linsolve 0.002740144729614258 s, pred 0.38578081130981445 s\n",
      "Trial 35\n"
     ]
    },
    {
     "name": "stdout",
     "output_type": "stream",
     "text": [
      "KRR acc: mse 0.2768973239424046, mae 0.38721998122820483, smape 0.06016387132653646\n",
      "time: sample 0.7162153720855713 s, linsolve 0.002761363983154297 s, pred 0.3865828514099121 s\n",
      "Trial 36\n"
     ]
    },
    {
     "name": "stdout",
     "output_type": "stream",
     "text": [
      "KRR acc: mse 0.24396174150304137, mae 0.3680838280746917, smape 0.057182580292748454\n",
      "time: sample 0.7138080596923828 s, linsolve 0.0027244091033935547 s, pred 0.38605356216430664 s\n",
      "Trial 37\n"
     ]
    },
    {
     "name": "stdout",
     "output_type": "stream",
     "text": [
      "KRR acc: mse 0.2639378414333895, mae 0.38046728131405905, smape 0.0590729067852754\n",
      "time: sample 0.7137942314147949 s, linsolve 0.0027480125427246094 s, pred 0.38535404205322266 s\n",
      "Trial 38\n"
     ]
    },
    {
     "name": "stdout",
     "output_type": "stream",
     "text": [
      "KRR acc: mse 0.2685314830252979, mae 0.38214444963598193, smape 0.059387726760229465\n",
      "time: sample 0.7137463092803955 s, linsolve 0.002779722213745117 s, pred 0.3864247798919678 s\n",
      "Trial 39\n"
     ]
    },
    {
     "name": "stdout",
     "output_type": "stream",
     "text": [
      "KRR acc: mse 0.25354149013909755, mae 0.37513120402598915, smape 0.05825074340053727\n",
      "time: sample 0.7134592533111572 s, linsolve 0.002735137939453125 s, pred 0.3866004943847656 s\n",
      "Trial 40\n"
     ]
    },
    {
     "name": "stdout",
     "output_type": "stream",
     "text": [
      "KRR acc: mse 0.26408273945068905, mae 0.37802127440910316, smape 0.058695988725373356\n",
      "time: sample 0.7137734889984131 s, linsolve 0.002725362777709961 s, pred 0.38585782051086426 s\n",
      "Trial 41\n"
     ]
    },
    {
     "name": "stdout",
     "output_type": "stream",
     "text": [
      "KRR acc: mse 0.2507209423821042, mae 0.3709163337745989, smape 0.05760196506470394\n",
      "time: sample 0.7139630317687988 s, linsolve 0.0027136802673339844 s, pred 0.3868882656097412 s\n",
      "Trial 42\n"
     ]
    },
    {
     "name": "stdout",
     "output_type": "stream",
     "text": [
      "KRR acc: mse 0.26068760890227943, mae 0.37646552967519564, smape 0.058488854105311086\n",
      "time: sample 0.7143728733062744 s, linsolve 0.0028467178344726562 s, pred 0.3870713710784912 s\n",
      "Trial 43\n"
     ]
    },
    {
     "name": "stdout",
     "output_type": "stream",
     "text": [
      "KRR acc: mse 0.260388285628011, mae 0.3783384278338117, smape 0.05880942437091005\n",
      "time: sample 0.7133955955505371 s, linsolve 0.0027451515197753906 s, pred 0.386594295501709 s\n",
      "Trial 44\n"
     ]
    },
    {
     "name": "stdout",
     "output_type": "stream",
     "text": [
      "KRR acc: mse 0.26617317829765463, mae 0.38130864414267435, smape 0.059201049338956216\n",
      "time: sample 0.7135419845581055 s, linsolve 0.002752065658569336 s, pred 0.385526180267334 s\n",
      "Trial 45\n"
     ]
    },
    {
     "name": "stdout",
     "output_type": "stream",
     "text": [
      "KRR acc: mse 0.2611454683262707, mae 0.37868507428109616, smape 0.05878534774205949\n",
      "time: sample 0.7135477066040039 s, linsolve 0.002724885940551758 s, pred 0.38558483123779297 s\n",
      "Trial 46\n"
     ]
    },
    {
     "name": "stdout",
     "output_type": "stream",
     "text": [
      "KRR acc: mse 0.2670649226540512, mae 0.38208452575023605, smape 0.05932844352684176\n",
      "time: sample 0.714026927947998 s, linsolve 0.0027740001678466797 s, pred 0.3865201473236084 s\n",
      "Trial 47\n"
     ]
    },
    {
     "name": "stdout",
     "output_type": "stream",
     "text": [
      "KRR acc: mse 0.26289419933201025, mae 0.3807106389019823, smape 0.059107643095293816\n",
      "time: sample 0.7133033275604248 s, linsolve 0.0027174949645996094 s, pred 0.3862748146057129 s\n",
      "Trial 48\n"
     ]
    },
    {
     "name": "stdout",
     "output_type": "stream",
     "text": [
      "KRR acc: mse 0.25876725695964964, mae 0.3786009947149556, smape 0.05875904827778472\n",
      "time: sample 0.7134678363800049 s, linsolve 0.0027637481689453125 s, pred 0.3857131004333496 s\n",
      "Trial 49\n"
     ]
    },
    {
     "name": "stdout",
     "output_type": "stream",
     "text": [
      "KRR acc: mse 0.25912468992040505, mae 0.37776462812839956, smape 0.05865195882973415\n",
      "time: sample 0.713325023651123 s, linsolve 0.0027375221252441406 s, pred 0.3857564926147461 s\n",
      "Trial 50\n"
     ]
    },
    {
     "name": "stdout",
     "output_type": "stream",
     "text": [
      "KRR acc: mse 0.25618596927936493, mae 0.37883614028836554, smape 0.05882672877408939\n",
      "time: sample 0.713768720626831 s, linsolve 0.0028455257415771484 s, pred 0.38619399070739746 s\n",
      "Trial 51\n"
     ]
    },
    {
     "name": "stdout",
     "output_type": "stream",
     "text": [
      "KRR acc: mse 0.24952584143067996, mae 0.3704732595274474, smape 0.05753987939278826\n",
      "time: sample 0.7136383056640625 s, linsolve 0.0027849674224853516 s, pred 0.3890523910522461 s\n",
      "Trial 52\n"
     ]
    },
    {
     "name": "stdout",
     "output_type": "stream",
     "text": [
      "KRR acc: mse 0.25037304331816024, mae 0.3725806594369289, smape 0.05783924883863276\n",
      "time: sample 0.7138302326202393 s, linsolve 0.0028524398803710938 s, pred 0.3862588405609131 s\n",
      "Trial 53\n"
     ]
    },
    {
     "name": "stdout",
     "output_type": "stream",
     "text": [
      "KRR acc: mse 0.2557720254282407, mae 0.37577661243610694, smape 0.058345090236866744\n",
      "time: sample 0.7140231132507324 s, linsolve 0.0027310848236083984 s, pred 0.38646936416625977 s\n",
      "Trial 54\n"
     ]
    },
    {
     "name": "stdout",
     "output_type": "stream",
     "text": [
      "KRR acc: mse 0.26435004740358653, mae 0.37765269503588134, smape 0.05868321679100923\n",
      "time: sample 0.7138311862945557 s, linsolve 0.002720355987548828 s, pred 0.38704895973205566 s\n",
      "Trial 55\n"
     ]
    },
    {
     "name": "stdout",
     "output_type": "stream",
     "text": [
      "KRR acc: mse 0.2752872584480024, mae 0.38900911476284267, smape 0.060393005784359126\n",
      "time: sample 0.7138791084289551 s, linsolve 0.002753019332885742 s, pred 0.3854639530181885 s\n",
      "Trial 56\n"
     ]
    },
    {
     "name": "stdout",
     "output_type": "stream",
     "text": [
      "KRR acc: mse 0.2574567556885683, mae 0.3755665140593958, smape 0.058323063250574105\n",
      "time: sample 0.7139694690704346 s, linsolve 0.0027055740356445312 s, pred 0.38566064834594727 s\n",
      "Trial 57\n"
     ]
    },
    {
     "name": "stdout",
     "output_type": "stream",
     "text": [
      "KRR acc: mse 0.25808663541357146, mae 0.37699631320396015, smape 0.05850310507284282\n",
      "time: sample 0.7139222621917725 s, linsolve 0.002732992172241211 s, pred 0.38569092750549316 s\n",
      "Trial 58\n"
     ]
    },
    {
     "name": "stdout",
     "output_type": "stream",
     "text": [
      "KRR acc: mse 0.26381276589191205, mae 0.38116894310531046, smape 0.05915086695570489\n",
      "time: sample 0.7132580280303955 s, linsolve 0.002798318862915039 s, pred 0.38639283180236816 s\n",
      "Trial 59\n"
     ]
    },
    {
     "name": "stdout",
     "output_type": "stream",
     "text": [
      "KRR acc: mse 0.2617438355862829, mae 0.37797648140807066, smape 0.0586812997870869\n",
      "time: sample 0.7137100696563721 s, linsolve 0.002779722213745117 s, pred 0.38561129570007324 s\n",
      "Trial 60\n"
     ]
    },
    {
     "name": "stdout",
     "output_type": "stream",
     "text": [
      "KRR acc: mse 0.26879001910642625, mae 0.3843892436254568, smape 0.05967741897380039\n",
      "time: sample 0.7160549163818359 s, linsolve 0.002727031707763672 s, pred 0.3863370418548584 s\n",
      "Trial 61\n"
     ]
    },
    {
     "name": "stdout",
     "output_type": "stream",
     "text": [
      "KRR acc: mse 0.2527071952764824, mae 0.3726435032601114, smape 0.057864186467350934\n",
      "time: sample 0.7134976387023926 s, linsolve 0.0027387142181396484 s, pred 0.38725876808166504 s\n",
      "Trial 62\n"
     ]
    },
    {
     "name": "stdout",
     "output_type": "stream",
     "text": [
      "KRR acc: mse 0.2618862730571523, mae 0.3799354951327768, smape 0.058998018972547084\n",
      "time: sample 0.7142176628112793 s, linsolve 0.0027878284454345703 s, pred 0.3855562210083008 s\n",
      "Trial 63\n"
     ]
    },
    {
     "name": "stdout",
     "output_type": "stream",
     "text": [
      "KRR acc: mse 0.25227862134662044, mae 0.3743449582757616, smape 0.05812508783235443\n",
      "time: sample 0.713484525680542 s, linsolve 0.0027740001678466797 s, pred 0.38623642921447754 s\n",
      "Trial 64\n"
     ]
    },
    {
     "name": "stdout",
     "output_type": "stream",
     "text": [
      "KRR acc: mse 0.2575308426114013, mae 0.3793381996434246, smape 0.058865080795723806\n",
      "time: sample 0.7136001586914062 s, linsolve 0.0027549266815185547 s, pred 0.38614892959594727 s\n",
      "Trial 65\n"
     ]
    },
    {
     "name": "stdout",
     "output_type": "stream",
     "text": [
      "KRR acc: mse 0.263675846676869, mae 0.38145812961061, smape 0.059210848413210684\n",
      "time: sample 0.7133281230926514 s, linsolve 0.002735614776611328 s, pred 0.38619232177734375 s\n",
      "Trial 66\n"
     ]
    },
    {
     "name": "stdout",
     "output_type": "stream",
     "text": [
      "KRR acc: mse 0.26787447987774643, mae 0.38447728066792386, smape 0.059694445785019\n",
      "time: sample 0.7135438919067383 s, linsolve 0.0027196407318115234 s, pred 0.38741087913513184 s\n",
      "Trial 67\n"
     ]
    },
    {
     "name": "stdout",
     "output_type": "stream",
     "text": [
      "KRR acc: mse 0.2508635599643066, mae 0.3716612303356299, smape 0.0577171279621387\n",
      "time: sample 0.7127788066864014 s, linsolve 0.0027780532836914062 s, pred 0.3851661682128906 s\n",
      "Trial 68\n"
     ]
    },
    {
     "name": "stdout",
     "output_type": "stream",
     "text": [
      "KRR acc: mse 0.2490851382930151, mae 0.37103739353108495, smape 0.0575809252958473\n",
      "time: sample 0.7132511138916016 s, linsolve 0.0027120113372802734 s, pred 0.38765478134155273 s\n",
      "Trial 69\n"
     ]
    },
    {
     "name": "stdout",
     "output_type": "stream",
     "text": [
      "KRR acc: mse 0.2545195407773234, mae 0.3760449048492799, smape 0.05840844280936627\n",
      "time: sample 0.714078426361084 s, linsolve 0.002744436264038086 s, pred 0.38553595542907715 s\n",
      "Trial 70\n"
     ]
    },
    {
     "name": "stdout",
     "output_type": "stream",
     "text": [
      "KRR acc: mse 0.2502007236892817, mae 0.37106157755701463, smape 0.05758949082899774\n",
      "time: sample 0.7136261463165283 s, linsolve 0.0027265548706054688 s, pred 0.38570332527160645 s\n",
      "Trial 71\n"
     ]
    },
    {
     "name": "stdout",
     "output_type": "stream",
     "text": [
      "KRR acc: mse 0.2588734673212319, mae 0.3757946507486083, smape 0.05840883710250575\n",
      "time: sample 0.7143337726593018 s, linsolve 0.0027594566345214844 s, pred 0.38881611824035645 s\n",
      "Trial 72\n"
     ]
    },
    {
     "name": "stdout",
     "output_type": "stream",
     "text": [
      "KRR acc: mse 0.2623222132235215, mae 0.3792555291940881, smape 0.058864997377435384\n",
      "time: sample 0.7138512134552002 s, linsolve 0.002744436264038086 s, pred 0.38654112815856934 s\n",
      "Trial 73\n"
     ]
    },
    {
     "name": "stdout",
     "output_type": "stream",
     "text": [
      "KRR acc: mse 0.25931736848511144, mae 0.3779083486923423, smape 0.05868872919735239\n",
      "time: sample 0.7139763832092285 s, linsolve 0.002749204635620117 s, pred 0.38577699661254883 s\n",
      "Trial 74\n"
     ]
    },
    {
     "name": "stdout",
     "output_type": "stream",
     "text": [
      "KRR acc: mse 0.26247352852206407, mae 0.378395853400076, smape 0.058723744799760676\n",
      "time: sample 0.7130751609802246 s, linsolve 0.0027570724487304688 s, pred 0.38535594940185547 s\n",
      "Trial 75\n"
     ]
    },
    {
     "name": "stdout",
     "output_type": "stream",
     "text": [
      "KRR acc: mse 0.25678044690660934, mae 0.37715584398679436, smape 0.05852839645793154\n",
      "time: sample 0.7132527828216553 s, linsolve 0.002716064453125 s, pred 0.3872256278991699 s\n",
      "Trial 76\n"
     ]
    },
    {
     "name": "stdout",
     "output_type": "stream",
     "text": [
      "KRR acc: mse 0.2556766016226794, mae 0.3748655081845923, smape 0.05819289114105584\n",
      "time: sample 0.71390700340271 s, linsolve 0.002735614776611328 s, pred 0.38634729385375977 s\n",
      "Trial 77\n"
     ]
    },
    {
     "name": "stdout",
     "output_type": "stream",
     "text": [
      "KRR acc: mse 0.2689646034045234, mae 0.3838322502423005, smape 0.05953280531271838\n",
      "time: sample 0.713465690612793 s, linsolve 0.0027599334716796875 s, pred 0.385974645614624 s\n",
      "Trial 78\n"
     ]
    },
    {
     "name": "stdout",
     "output_type": "stream",
     "text": [
      "KRR acc: mse 0.2557045955731945, mae 0.3766398676615671, smape 0.05847496955080812\n",
      "time: sample 0.7137088775634766 s, linsolve 0.0027322769165039062 s, pred 0.385634183883667 s\n",
      "Trial 79\n"
     ]
    },
    {
     "name": "stdout",
     "output_type": "stream",
     "text": [
      "KRR acc: mse 0.2610458687974698, mae 0.37836431267291654, smape 0.05872253985979669\n",
      "time: sample 0.713517427444458 s, linsolve 0.002748250961303711 s, pred 0.3857381343841553 s\n",
      "Trial 80\n"
     ]
    },
    {
     "name": "stdout",
     "output_type": "stream",
     "text": [
      "KRR acc: mse 0.25899021764317004, mae 0.3792979200505967, smape 0.05886489717931593\n",
      "time: sample 0.7135391235351562 s, linsolve 0.0027282238006591797 s, pred 0.38611841201782227 s\n",
      "Trial 81\n"
     ]
    },
    {
     "name": "stdout",
     "output_type": "stream",
     "text": [
      "KRR acc: mse 0.2600295792590768, mae 0.3738953952861944, smape 0.058094780413965576\n",
      "time: sample 0.7141299247741699 s, linsolve 0.002786397933959961 s, pred 0.38718652725219727 s\n",
      "Trial 82\n"
     ]
    },
    {
     "name": "stdout",
     "output_type": "stream",
     "text": [
      "KRR acc: mse 0.2606221966367432, mae 0.3790575052263828, smape 0.05880997840516044\n",
      "time: sample 0.714299201965332 s, linsolve 0.002841472625732422 s, pred 0.3856992721557617 s\n",
      "Trial 83\n"
     ]
    },
    {
     "name": "stdout",
     "output_type": "stream",
     "text": [
      "KRR acc: mse 0.2628715443112706, mae 0.3804772390313755, smape 0.0590489863849625\n",
      "time: sample 0.713878870010376 s, linsolve 0.00275421142578125 s, pred 0.38558220863342285 s\n",
      "Trial 84\n"
     ]
    },
    {
     "name": "stdout",
     "output_type": "stream",
     "text": [
      "KRR acc: mse 0.2582417432376027, mae 0.37434628314758045, smape 0.058098314314054905\n",
      "time: sample 0.7139256000518799 s, linsolve 0.0027196407318115234 s, pred 0.38622069358825684 s\n",
      "Trial 85\n"
     ]
    },
    {
     "name": "stdout",
     "output_type": "stream",
     "text": [
      "KRR acc: mse 0.2645078505682959, mae 0.380146792047976, smape 0.05905729315395988\n",
      "time: sample 0.7157201766967773 s, linsolve 0.0027227401733398438 s, pred 0.3865022659301758 s\n",
      "Trial 86\n"
     ]
    },
    {
     "name": "stdout",
     "output_type": "stream",
     "text": [
      "KRR acc: mse 0.2545931333397372, mae 0.37663503848718494, smape 0.058509478878138704\n",
      "time: sample 0.7138023376464844 s, linsolve 0.0027587413787841797 s, pred 0.38659071922302246 s\n",
      "Trial 87\n"
     ]
    },
    {
     "name": "stdout",
     "output_type": "stream",
     "text": [
      "KRR acc: mse 0.2554710561650979, mae 0.37646846662893657, smape 0.05844754564560059\n",
      "time: sample 0.7132630348205566 s, linsolve 0.002726316452026367 s, pred 0.3857536315917969 s\n",
      "Trial 88\n"
     ]
    },
    {
     "name": "stdout",
     "output_type": "stream",
     "text": [
      "KRR acc: mse 0.26892932182958107, mae 0.3815612169219052, smape 0.05924863454147659\n",
      "time: sample 0.7137444019317627 s, linsolve 0.002703428268432617 s, pred 0.38594675064086914 s\n",
      "Trial 89\n"
     ]
    },
    {
     "name": "stdout",
     "output_type": "stream",
     "text": [
      "KRR acc: mse 0.2538911934974676, mae 0.37486139234756155, smape 0.05817035793132944\n",
      "time: sample 0.7136456966400146 s, linsolve 0.0028076171875 s, pred 0.3864603042602539 s\n",
      "Trial 90\n"
     ]
    },
    {
     "name": "stdout",
     "output_type": "stream",
     "text": [
      "KRR acc: mse 0.2605336384227585, mae 0.38181642439514446, smape 0.059295347346598075\n",
      "time: sample 0.7140860557556152 s, linsolve 0.002727508544921875 s, pred 0.3855133056640625 s\n",
      "Trial 91\n"
     ]
    },
    {
     "name": "stdout",
     "output_type": "stream",
     "text": [
      "KRR acc: mse 0.2705288404576939, mae 0.38351852550998294, smape 0.0595652730713271\n",
      "time: sample 0.713616132736206 s, linsolve 0.0027027130126953125 s, pred 0.38799071311950684 s\n",
      "Trial 92\n"
     ]
    },
    {
     "name": "stdout",
     "output_type": "stream",
     "text": [
      "KRR acc: mse 0.25922168033267456, mae 0.3786247907185642, smape 0.05879757910933945\n",
      "time: sample 0.7141001224517822 s, linsolve 0.002936840057373047 s, pred 0.3861362934112549 s\n",
      "Trial 93\n"
     ]
    },
    {
     "name": "stdout",
     "output_type": "stream",
     "text": [
      "KRR acc: mse 0.25102382861443584, mae 0.37199324465345346, smape 0.05774850956225561\n",
      "time: sample 0.7131550312042236 s, linsolve 0.002777099609375 s, pred 0.3861081600189209 s\n",
      "Trial 94\n"
     ]
    },
    {
     "name": "stdout",
     "output_type": "stream",
     "text": [
      "KRR acc: mse 0.2588595092958671, mae 0.3775987541338962, smape 0.05860611423626816\n",
      "time: sample 0.7132017612457275 s, linsolve 0.002784252166748047 s, pred 0.385542631149292 s\n",
      "Trial 95\n"
     ]
    },
    {
     "name": "stdout",
     "output_type": "stream",
     "text": [
      "KRR acc: mse 0.2516913052129014, mae 0.37195236429757195, smape 0.05778820385213155\n",
      "time: sample 0.7136948108673096 s, linsolve 0.002777576446533203 s, pred 0.3867189884185791 s\n",
      "Trial 96\n"
     ]
    },
    {
     "name": "stdout",
     "output_type": "stream",
     "text": [
      "KRR acc: mse 0.25482167576653925, mae 0.375345066262742, smape 0.05829131075070562\n",
      "time: sample 0.7132086753845215 s, linsolve 0.0027589797973632812 s, pred 0.3875424861907959 s\n",
      "Trial 97\n"
     ]
    },
    {
     "name": "stdout",
     "output_type": "stream",
     "text": [
      "KRR acc: mse 0.2453886122396765, mae 0.3704729508079612, smape 0.05754199260957582\n",
      "time: sample 0.713221549987793 s, linsolve 0.002774477005004883 s, pred 0.3871021270751953 s\n",
      "Trial 98\n"
     ]
    },
    {
     "name": "stdout",
     "output_type": "stream",
     "text": [
      "KRR acc: mse 0.2580588353212808, mae 0.37712977258580455, smape 0.0585553689860664\n",
      "time: sample 0.713536262512207 s, linsolve 0.0027642250061035156 s, pred 0.38625597953796387 s\n",
      "Trial 99\n"
     ]
    },
    {
     "name": "stdout",
     "output_type": "stream",
     "text": [
      "KRR acc: mse 0.24966193065701314, mae 0.36885037450106367, smape 0.05725781025324164\n",
      "time: sample 0.7142202854156494 s, linsolve 0.002750396728515625 s, pred 0.38619375228881836 s\n",
      "k = 256\n",
      "Trial 0\n"
     ]
    },
    {
     "name": "stdout",
     "output_type": "stream",
     "text": [
      "KRR acc: mse 0.21842076732640808, mae 0.3497132145752976, smape 0.054311165638066816\n",
      "time: sample 1.3423092365264893 s, linsolve 0.0076639652252197266 s, pred 0.7485496997833252 s\n",
      "Trial 1\n"
     ]
    },
    {
     "name": "stdout",
     "output_type": "stream",
     "text": [
      "KRR acc: mse 0.2225781204395596, mae 0.3521359369876951, smape 0.0546966839688297\n",
      "time: sample 1.333853006362915 s, linsolve 0.007375955581665039 s, pred 0.7480762004852295 s\n",
      "Trial 2\n"
     ]
    },
    {
     "name": "stdout",
     "output_type": "stream",
     "text": [
      "KRR acc: mse 0.21566066865097847, mae 0.3468785935554358, smape 0.05384427576478772\n",
      "time: sample 1.3816335201263428 s, linsolve 0.007250785827636719 s, pred 0.7480976581573486 s\n",
      "Trial 3\n"
     ]
    },
    {
     "name": "stdout",
     "output_type": "stream",
     "text": [
      "KRR acc: mse 0.2205274353219261, mae 0.35060122794131104, smape 0.054457954354763874\n",
      "time: sample 1.3391010761260986 s, linsolve 0.0073337554931640625 s, pred 0.7486209869384766 s\n",
      "Trial 4\n"
     ]
    },
    {
     "name": "stdout",
     "output_type": "stream",
     "text": [
      "KRR acc: mse 0.2121883360671664, mae 0.34562541319246864, smape 0.05368321952411174\n",
      "time: sample 1.3345444202423096 s, linsolve 0.007300138473510742 s, pred 0.7491106986999512 s\n",
      "Trial 5\n"
     ]
    },
    {
     "name": "stdout",
     "output_type": "stream",
     "text": [
      "KRR acc: mse 0.2223732258012452, mae 0.35151603501226486, smape 0.05458956384304199\n",
      "time: sample 1.3865599632263184 s, linsolve 0.007313251495361328 s, pred 0.748211145401001 s\n",
      "Trial 6\n"
     ]
    },
    {
     "name": "stdout",
     "output_type": "stream",
     "text": [
      "KRR acc: mse 0.22386991370430293, mae 0.35319311552323834, smape 0.05482926266014353\n",
      "time: sample 1.3411767482757568 s, linsolve 0.007272958755493164 s, pred 0.7494826316833496 s\n",
      "Trial 7\n"
     ]
    },
    {
     "name": "stdout",
     "output_type": "stream",
     "text": [
      "KRR acc: mse 0.22089598945171873, mae 0.35188226712000803, smape 0.05466613641520747\n",
      "time: sample 1.3332915306091309 s, linsolve 0.0072591304779052734 s, pred 0.7479007244110107 s\n",
      "Trial 8\n"
     ]
    },
    {
     "name": "stdout",
     "output_type": "stream",
     "text": [
      "KRR acc: mse 0.2208713350832841, mae 0.35090423739861637, smape 0.05447957300501853\n",
      "time: sample 1.381349802017212 s, linsolve 0.007325887680053711 s, pred 0.74924635887146 s\n",
      "Trial 9\n"
     ]
    },
    {
     "name": "stdout",
     "output_type": "stream",
     "text": [
      "KRR acc: mse 0.2172247830457869, mae 0.3480778781057226, smape 0.05402092139447707\n",
      "time: sample 1.339421272277832 s, linsolve 0.007309913635253906 s, pred 0.7510471343994141 s\n",
      "Trial 10\n"
     ]
    },
    {
     "name": "stdout",
     "output_type": "stream",
     "text": [
      "KRR acc: mse 0.22119253926411483, mae 0.3501926902931269, smape 0.05438665110992647\n",
      "time: sample 1.3323957920074463 s, linsolve 0.007223844528198242 s, pred 0.748201847076416 s\n",
      "Trial 11\n"
     ]
    },
    {
     "name": "stdout",
     "output_type": "stream",
     "text": [
      "KRR acc: mse 0.2175782097632964, mae 0.3477735280114827, smape 0.053988412381600515\n",
      "time: sample 1.3815155029296875 s, linsolve 0.007249116897583008 s, pred 0.7527618408203125 s\n",
      "Trial 12\n"
     ]
    },
    {
     "name": "stdout",
     "output_type": "stream",
     "text": [
      "KRR acc: mse 0.22297574745229704, mae 0.3524351985434102, smape 0.054750428546191145\n",
      "time: sample 1.339925765991211 s, linsolve 0.0073719024658203125 s, pred 0.74884033203125 s\n",
      "Trial 13\n"
     ]
    },
    {
     "name": "stdout",
     "output_type": "stream",
     "text": [
      "KRR acc: mse 0.22309791731646045, mae 0.3526182700843073, smape 0.05475281316365611\n",
      "time: sample 1.3331475257873535 s, linsolve 0.007245302200317383 s, pred 0.7477293014526367 s\n",
      "Trial 14\n"
     ]
    },
    {
     "name": "stdout",
     "output_type": "stream",
     "text": [
      "KRR acc: mse 0.214953640334775, mae 0.34647244247533054, smape 0.05381225120186216\n",
      "time: sample 1.3815851211547852 s, linsolve 0.007320404052734375 s, pred 0.749392032623291 s\n",
      "Trial 15\n"
     ]
    },
    {
     "name": "stdout",
     "output_type": "stream",
     "text": [
      "KRR acc: mse 0.21472895836332404, mae 0.34557870791058504, smape 0.05366845895274641\n",
      "time: sample 1.3402597904205322 s, linsolve 0.007270097732543945 s, pred 0.7491307258605957 s\n",
      "Trial 16\n"
     ]
    },
    {
     "name": "stdout",
     "output_type": "stream",
     "text": [
      "KRR acc: mse 0.2235145970650835, mae 0.3523053692244527, smape 0.05469476095524658\n",
      "time: sample 1.3343451023101807 s, linsolve 0.007272243499755859 s, pred 0.7484261989593506 s\n",
      "Trial 17\n"
     ]
    },
    {
     "name": "stdout",
     "output_type": "stream",
     "text": [
      "KRR acc: mse 0.22077158647753467, mae 0.3500694635464532, smape 0.05436305163284234\n",
      "time: sample 1.3830451965332031 s, linsolve 0.0074117183685302734 s, pred 0.7492778301239014 s\n",
      "Trial 18\n"
     ]
    },
    {
     "name": "stdout",
     "output_type": "stream",
     "text": [
      "KRR acc: mse 0.214761532417449, mae 0.34631309710887465, smape 0.053794030108684526\n",
      "time: sample 1.3384292125701904 s, linsolve 0.00728607177734375 s, pred 0.7493820190429688 s\n",
      "Trial 19\n"
     ]
    },
    {
     "name": "stdout",
     "output_type": "stream",
     "text": [
      "KRR acc: mse 0.21809850487352078, mae 0.34885702643618616, smape 0.054181344386660814\n",
      "time: sample 1.333078145980835 s, linsolve 0.0072858333587646484 s, pred 0.7495908737182617 s\n",
      "Trial 20\n"
     ]
    },
    {
     "name": "stdout",
     "output_type": "stream",
     "text": [
      "KRR acc: mse 0.21707039756038188, mae 0.3482524990145858, smape 0.054096914831200216\n",
      "time: sample 1.3833389282226562 s, linsolve 0.007353067398071289 s, pred 0.7496562004089355 s\n",
      "Trial 21\n"
     ]
    },
    {
     "name": "stdout",
     "output_type": "stream",
     "text": [
      "KRR acc: mse 0.21761031323371452, mae 0.3476294008379303, smape 0.05395389455785234\n",
      "time: sample 1.339465856552124 s, linsolve 0.0072591304779052734 s, pred 0.7502391338348389 s\n",
      "Trial 22\n"
     ]
    },
    {
     "name": "stdout",
     "output_type": "stream",
     "text": [
      "KRR acc: mse 0.22191818506814834, mae 0.3507460522424433, smape 0.05445487097921889\n",
      "time: sample 1.333122968673706 s, linsolve 0.007335662841796875 s, pred 0.7525031566619873 s\n",
      "Trial 23\n"
     ]
    },
    {
     "name": "stdout",
     "output_type": "stream",
     "text": [
      "KRR acc: mse 0.23115156183336366, mae 0.3578669824538058, smape 0.05558455322036683\n",
      "time: sample 1.3825511932373047 s, linsolve 0.0078067779541015625 s, pred 0.7495145797729492 s\n",
      "Trial 24\n"
     ]
    },
    {
     "name": "stdout",
     "output_type": "stream",
     "text": [
      "KRR acc: mse 0.22682460351783815, mae 0.35512246970417943, smape 0.05517164170711878\n",
      "time: sample 1.338785171508789 s, linsolve 0.007320404052734375 s, pred 0.7479920387268066 s\n",
      "Trial 25\n"
     ]
    },
    {
     "name": "stdout",
     "output_type": "stream",
     "text": [
      "KRR acc: mse 0.22378826783892392, mae 0.3528489466852496, smape 0.05478013040705398\n",
      "time: sample 1.3337252140045166 s, linsolve 0.007261514663696289 s, pred 0.7482583522796631 s\n",
      "Trial 26\n"
     ]
    },
    {
     "name": "stdout",
     "output_type": "stream",
     "text": [
      "KRR acc: mse 0.22506599168861785, mae 0.3548098529473322, smape 0.05512946630998905\n",
      "time: sample 1.3816642761230469 s, linsolve 0.007292032241821289 s, pred 0.748145580291748 s\n",
      "Trial 27\n"
     ]
    },
    {
     "name": "stdout",
     "output_type": "stream",
     "text": [
      "KRR acc: mse 0.21845428424773292, mae 0.34836298836718216, smape 0.05408235064268508\n",
      "time: sample 1.3399906158447266 s, linsolve 0.007241249084472656 s, pred 0.7489821910858154 s\n",
      "Trial 28\n"
     ]
    },
    {
     "name": "stdout",
     "output_type": "stream",
     "text": [
      "KRR acc: mse 0.22064012877735453, mae 0.35182024118185007, smape 0.05463828853129585\n",
      "time: sample 1.334653377532959 s, linsolve 0.008454561233520508 s, pred 0.7486674785614014 s\n",
      "Trial 29\n"
     ]
    },
    {
     "name": "stdout",
     "output_type": "stream",
     "text": [
      "KRR acc: mse 0.2166202740331464, mae 0.34689175189674354, smape 0.05387427861681959\n",
      "time: sample 1.3813729286193848 s, linsolve 0.007347822189331055 s, pred 0.7481119632720947 s\n",
      "Trial 30\n"
     ]
    },
    {
     "name": "stdout",
     "output_type": "stream",
     "text": [
      "KRR acc: mse 0.2109868620771988, mae 0.3443363556258516, smape 0.0534602379244646\n",
      "time: sample 1.3383450508117676 s, linsolve 0.0072803497314453125 s, pred 0.7483205795288086 s\n",
      "Trial 31\n"
     ]
    },
    {
     "name": "stdout",
     "output_type": "stream",
     "text": [
      "KRR acc: mse 0.21212428239164233, mae 0.3463863202859472, smape 0.05377870871358378\n",
      "time: sample 1.3331315517425537 s, linsolve 0.0073816776275634766 s, pred 0.7491166591644287 s\n",
      "Trial 32\n"
     ]
    },
    {
     "name": "stdout",
     "output_type": "stream",
     "text": [
      "KRR acc: mse 0.22539507608027926, mae 0.3542943412233393, smape 0.05501211295985783\n",
      "time: sample 1.3808600902557373 s, linsolve 0.0072591304779052734 s, pred 0.74977707862854 s\n",
      "Trial 33\n"
     ]
    },
    {
     "name": "stdout",
     "output_type": "stream",
     "text": [
      "KRR acc: mse 0.21966771689941098, mae 0.3502083594089455, smape 0.05438063166962213\n",
      "time: sample 1.3393123149871826 s, linsolve 0.00736689567565918 s, pred 0.7494657039642334 s\n",
      "Trial 34\n"
     ]
    },
    {
     "name": "stdout",
     "output_type": "stream",
     "text": [
      "KRR acc: mse 0.2228280036272845, mae 0.34709295788408123, smape 0.05391673003241815\n",
      "time: sample 1.337489128112793 s, linsolve 0.007280111312866211 s, pred 0.7480816841125488 s\n",
      "Trial 35\n"
     ]
    },
    {
     "name": "stdout",
     "output_type": "stream",
     "text": [
      "KRR acc: mse 0.22717347857993556, mae 0.35459529747839114, smape 0.05507875477865946\n",
      "time: sample 1.3804469108581543 s, linsolve 0.0073337554931640625 s, pred 0.7480089664459229 s\n",
      "Trial 36\n"
     ]
    },
    {
     "name": "stdout",
     "output_type": "stream",
     "text": [
      "KRR acc: mse 0.2220850579091346, mae 0.3523642234732496, smape 0.05471987178520219\n",
      "time: sample 1.3400416374206543 s, linsolve 0.007263660430908203 s, pred 0.7490024566650391 s\n",
      "Trial 37\n"
     ]
    },
    {
     "name": "stdout",
     "output_type": "stream",
     "text": [
      "KRR acc: mse 0.22569970534441808, mae 0.3531463820963917, smape 0.0548250766483219\n",
      "time: sample 1.3331174850463867 s, linsolve 0.007337093353271484 s, pred 0.7483181953430176 s\n",
      "Trial 38\n"
     ]
    },
    {
     "name": "stdout",
     "output_type": "stream",
     "text": [
      "KRR acc: mse 0.21658329248528352, mae 0.3471760500188404, smape 0.05392336555204455\n",
      "time: sample 1.3829081058502197 s, linsolve 0.007345676422119141 s, pred 0.7473092079162598 s\n",
      "Trial 39\n"
     ]
    },
    {
     "name": "stdout",
     "output_type": "stream",
     "text": [
      "KRR acc: mse 0.2271088234894521, mae 0.35503355874056064, smape 0.055106598235732406\n",
      "time: sample 1.342376708984375 s, linsolve 0.007384061813354492 s, pred 0.7493839263916016 s\n",
      "Trial 40\n"
     ]
    },
    {
     "name": "stdout",
     "output_type": "stream",
     "text": [
      "KRR acc: mse 0.219207647757835, mae 0.34902631711173376, smape 0.05417530612949736\n",
      "time: sample 1.3331892490386963 s, linsolve 0.007276296615600586 s, pred 0.749819278717041 s\n",
      "Trial 41\n"
     ]
    },
    {
     "name": "stdout",
     "output_type": "stream",
     "text": [
      "KRR acc: mse 0.21585791349599986, mae 0.34539489390462186, smape 0.05362766880397314\n",
      "time: sample 1.3809599876403809 s, linsolve 0.007292032241821289 s, pred 0.7487339973449707 s\n",
      "Trial 42\n"
     ]
    },
    {
     "name": "stdout",
     "output_type": "stream",
     "text": [
      "KRR acc: mse 0.21693634689183178, mae 0.3488031519615868, smape 0.05416730314785225\n",
      "time: sample 1.3390278816223145 s, linsolve 0.007215261459350586 s, pred 0.7499337196350098 s\n",
      "Trial 43\n"
     ]
    },
    {
     "name": "stdout",
     "output_type": "stream",
     "text": [
      "KRR acc: mse 0.21641226577284015, mae 0.3484526615092183, smape 0.054092789028261756\n",
      "time: sample 1.334529161453247 s, linsolve 0.007333993911743164 s, pred 0.7488589286804199 s\n",
      "Trial 44\n"
     ]
    },
    {
     "name": "stdout",
     "output_type": "stream",
     "text": [
      "KRR acc: mse 0.21475895880349613, mae 0.34758855950728246, smape 0.05397364297017542\n",
      "time: sample 1.38189697265625 s, linsolve 0.007366657257080078 s, pred 0.7508032321929932 s\n",
      "Trial 45\n"
     ]
    },
    {
     "name": "stdout",
     "output_type": "stream",
     "text": [
      "KRR acc: mse 0.22583689182216646, mae 0.35247558830428305, smape 0.054746478991754416\n",
      "time: sample 1.3392345905303955 s, linsolve 0.007319211959838867 s, pred 0.7494676113128662 s\n",
      "Trial 46\n"
     ]
    },
    {
     "name": "stdout",
     "output_type": "stream",
     "text": [
      "KRR acc: mse 0.227670854981243, mae 0.35508517606322915, smape 0.05514046738665965\n",
      "time: sample 1.3332476615905762 s, linsolve 0.007391452789306641 s, pred 0.748063325881958 s\n",
      "Trial 47\n"
     ]
    },
    {
     "name": "stdout",
     "output_type": "stream",
     "text": [
      "KRR acc: mse 0.22486191249235962, mae 0.3543438550914185, smape 0.055036655848160865\n",
      "time: sample 1.3825230598449707 s, linsolve 0.0072553157806396484 s, pred 0.7492728233337402 s\n",
      "Trial 48\n"
     ]
    },
    {
     "name": "stdout",
     "output_type": "stream",
     "text": [
      "KRR acc: mse 0.2228974557828653, mae 0.3523277843747886, smape 0.054724149792195746\n",
      "time: sample 1.3413159847259521 s, linsolve 0.007254600524902344 s, pred 0.7483706474304199 s\n",
      "Trial 49\n"
     ]
    },
    {
     "name": "stdout",
     "output_type": "stream",
     "text": [
      "KRR acc: mse 0.2213177731887594, mae 0.35189426492783593, smape 0.054657528227196585\n",
      "time: sample 1.3336069583892822 s, linsolve 0.007279872894287109 s, pred 0.7500302791595459 s\n",
      "Trial 50\n"
     ]
    },
    {
     "name": "stdout",
     "output_type": "stream",
     "text": [
      "KRR acc: mse 0.2159137678319251, mae 0.34829941932461833, smape 0.054081875429270676\n",
      "time: sample 1.3821439743041992 s, linsolve 0.007749319076538086 s, pred 0.7492885589599609 s\n",
      "Trial 51\n"
     ]
    },
    {
     "name": "stdout",
     "output_type": "stream",
     "text": [
      "KRR acc: mse 0.2208139719329887, mae 0.3513653262985864, smape 0.05455202875881834\n",
      "time: sample 1.3401646614074707 s, linsolve 0.007259368896484375 s, pred 0.748399019241333 s\n",
      "Trial 52\n"
     ]
    },
    {
     "name": "stdout",
     "output_type": "stream",
     "text": [
      "KRR acc: mse 0.22739495782984964, mae 0.35721032784971624, smape 0.05547979103462291\n",
      "time: sample 1.3337063789367676 s, linsolve 0.007297992706298828 s, pred 0.7492523193359375 s\n",
      "Trial 53\n"
     ]
    },
    {
     "name": "stdout",
     "output_type": "stream",
     "text": [
      "KRR acc: mse 0.22281472116697387, mae 0.35239820728406096, smape 0.05469010997087866\n",
      "time: sample 1.38140869140625 s, linsolve 0.0072782039642333984 s, pred 0.7491650581359863 s\n",
      "Trial 54\n"
     ]
    },
    {
     "name": "stdout",
     "output_type": "stream",
     "text": [
      "KRR acc: mse 0.22556576139220968, mae 0.35462023394852976, smape 0.055070663805092145\n",
      "time: sample 1.3399615287780762 s, linsolve 0.0073146820068359375 s, pred 0.7479310035705566 s\n",
      "Trial 55\n"
     ]
    },
    {
     "name": "stdout",
     "output_type": "stream",
     "text": [
      "KRR acc: mse 0.2200115485671771, mae 0.3491863231656685, smape 0.05422129923261211\n",
      "time: sample 1.3329572677612305 s, linsolve 0.010965347290039062 s, pred 0.7487854957580566 s\n",
      "Trial 56\n"
     ]
    },
    {
     "name": "stdout",
     "output_type": "stream",
     "text": [
      "KRR acc: mse 0.22479835454973046, mae 0.35274602456274584, smape 0.054806922326901666\n",
      "time: sample 1.3822896480560303 s, linsolve 0.007292985916137695 s, pred 0.7494523525238037 s\n",
      "Trial 57\n"
     ]
    },
    {
     "name": "stdout",
     "output_type": "stream",
     "text": [
      "KRR acc: mse 0.22545700506903013, mae 0.3559705728892067, smape 0.055283868943199914\n",
      "time: sample 1.3408706188201904 s, linsolve 0.0073354244232177734 s, pred 0.7485785484313965 s\n",
      "Trial 58\n"
     ]
    },
    {
     "name": "stdout",
     "output_type": "stream",
     "text": [
      "KRR acc: mse 0.22464563858016245, mae 0.3511319105351823, smape 0.05451933767664893\n",
      "time: sample 1.3331067562103271 s, linsolve 0.00725102424621582 s, pred 0.7495908737182617 s\n",
      "Trial 59\n"
     ]
    },
    {
     "name": "stdout",
     "output_type": "stream",
     "text": [
      "KRR acc: mse 0.22079150848909584, mae 0.3510058396327135, smape 0.05449517957174296\n",
      "time: sample 1.3816986083984375 s, linsolve 0.007260560989379883 s, pred 0.7479567527770996 s\n",
      "Trial 60\n"
     ]
    },
    {
     "name": "stdout",
     "output_type": "stream",
     "text": [
      "KRR acc: mse 0.22213614378306676, mae 0.35219560991720583, smape 0.054675778982912676\n",
      "time: sample 1.3374946117401123 s, linsolve 0.007307291030883789 s, pred 0.7503845691680908 s\n",
      "Trial 61\n"
     ]
    },
    {
     "name": "stdout",
     "output_type": "stream",
     "text": [
      "KRR acc: mse 0.225881977166171, mae 0.35287471490578626, smape 0.05480643791877972\n",
      "time: sample 1.333211898803711 s, linsolve 0.007294654846191406 s, pred 0.7499256134033203 s\n",
      "Trial 62\n"
     ]
    },
    {
     "name": "stdout",
     "output_type": "stream",
     "text": [
      "KRR acc: mse 0.2185656604100748, mae 0.34936728433461006, smape 0.054242461956205947\n",
      "time: sample 1.3836455345153809 s, linsolve 0.007311820983886719 s, pred 0.7473154067993164 s\n",
      "Trial 63\n"
     ]
    },
    {
     "name": "stdout",
     "output_type": "stream",
     "text": [
      "KRR acc: mse 0.21659898031707608, mae 0.34967109877603236, smape 0.05430571843091855\n",
      "time: sample 1.3390586376190186 s, linsolve 0.007250308990478516 s, pred 0.7488269805908203 s\n",
      "Trial 64\n"
     ]
    },
    {
     "name": "stdout",
     "output_type": "stream",
     "text": [
      "KRR acc: mse 0.22150930366603294, mae 0.35368847661919045, smape 0.054920941631958285\n",
      "time: sample 1.3332586288452148 s, linsolve 0.007380485534667969 s, pred 0.7483971118927002 s\n",
      "Trial 65\n"
     ]
    },
    {
     "name": "stdout",
     "output_type": "stream",
     "text": [
      "KRR acc: mse 0.2201729646841266, mae 0.3505193771560177, smape 0.054454996136923714\n",
      "time: sample 1.3812625408172607 s, linsolve 0.007258415222167969 s, pred 0.7488625049591064 s\n",
      "Trial 66\n"
     ]
    },
    {
     "name": "stdout",
     "output_type": "stream",
     "text": [
      "KRR acc: mse 0.22018514094180383, mae 0.35004012599838424, smape 0.054362715388783726\n",
      "time: sample 1.3440260887145996 s, linsolve 0.007363319396972656 s, pred 0.7493593692779541 s\n",
      "Trial 67\n"
     ]
    },
    {
     "name": "stdout",
     "output_type": "stream",
     "text": [
      "KRR acc: mse 0.21355318475528098, mae 0.345491412010887, smape 0.053653381863861566\n",
      "time: sample 1.333688497543335 s, linsolve 0.007296323776245117 s, pred 0.7508697509765625 s\n",
      "Trial 68\n"
     ]
    },
    {
     "name": "stdout",
     "output_type": "stream",
     "text": [
      "KRR acc: mse 0.2243916688450314, mae 0.3535453380639246, smape 0.05489844254779002\n",
      "time: sample 1.3815555572509766 s, linsolve 0.0073125362396240234 s, pred 0.7509298324584961 s\n",
      "Trial 69\n"
     ]
    },
    {
     "name": "stdout",
     "output_type": "stream",
     "text": [
      "KRR acc: mse 0.22214676956999518, mae 0.35193630919377195, smape 0.05465612251058335\n",
      "time: sample 1.3398246765136719 s, linsolve 0.0072672367095947266 s, pred 0.7476980686187744 s\n",
      "Trial 70\n"
     ]
    },
    {
     "name": "stdout",
     "output_type": "stream",
     "text": [
      "KRR acc: mse 0.2213860850407535, mae 0.351570208725455, smape 0.05459022243306456\n",
      "time: sample 1.3339831829071045 s, linsolve 0.007299184799194336 s, pred 0.7484803199768066 s\n",
      "Trial 71\n"
     ]
    },
    {
     "name": "stdout",
     "output_type": "stream",
     "text": [
      "KRR acc: mse 0.22467594603302832, mae 0.35419748434493015, smape 0.05501125026019874\n",
      "time: sample 1.3807649612426758 s, linsolve 0.007289886474609375 s, pred 0.7494196891784668 s\n",
      "Trial 72\n"
     ]
    },
    {
     "name": "stdout",
     "output_type": "stream",
     "text": [
      "KRR acc: mse 0.22150267940377422, mae 0.35136613441383446, smape 0.05457605744230123\n",
      "time: sample 1.340383768081665 s, linsolve 0.007306575775146484 s, pred 0.7495672702789307 s\n",
      "Trial 73\n"
     ]
    },
    {
     "name": "stdout",
     "output_type": "stream",
     "text": [
      "KRR acc: mse 0.22849901494909755, mae 0.3573670583944703, smape 0.05547240913988652\n",
      "time: sample 1.3332102298736572 s, linsolve 0.007343292236328125 s, pred 0.7498886585235596 s\n",
      "Trial 74\n"
     ]
    },
    {
     "name": "stdout",
     "output_type": "stream",
     "text": [
      "KRR acc: mse 0.22363021835083818, mae 0.3525912191066771, smape 0.054776524435423406\n",
      "time: sample 1.3812494277954102 s, linsolve 0.007241964340209961 s, pred 0.7485408782958984 s\n",
      "Trial 75\n"
     ]
    },
    {
     "name": "stdout",
     "output_type": "stream",
     "text": [
      "KRR acc: mse 0.22252648481453344, mae 0.354925678026525, smape 0.055122859446022174\n",
      "time: sample 1.3387179374694824 s, linsolve 0.007297992706298828 s, pred 0.748396635055542 s\n",
      "Trial 76\n"
     ]
    },
    {
     "name": "stdout",
     "output_type": "stream",
     "text": [
      "KRR acc: mse 0.22094769396371963, mae 0.3510031359227026, smape 0.05449365860244665\n",
      "time: sample 1.335010051727295 s, linsolve 0.0073184967041015625 s, pred 0.7501342296600342 s\n",
      "Trial 77\n"
     ]
    },
    {
     "name": "stdout",
     "output_type": "stream",
     "text": [
      "KRR acc: mse 0.21975924037258118, mae 0.3502063241778412, smape 0.05438172127941861\n",
      "time: sample 1.3852651119232178 s, linsolve 0.007880449295043945 s, pred 0.7475409507751465 s\n",
      "Trial 78\n"
     ]
    },
    {
     "name": "stdout",
     "output_type": "stream",
     "text": [
      "KRR acc: mse 0.2220413007041224, mae 0.3499870943930389, smape 0.05435650327492094\n",
      "time: sample 1.3397207260131836 s, linsolve 0.007246732711791992 s, pred 0.7469022274017334 s\n",
      "Trial 79\n"
     ]
    },
    {
     "name": "stdout",
     "output_type": "stream",
     "text": [
      "KRR acc: mse 0.22218119736714328, mae 0.3521848824655425, smape 0.05469017382043039\n",
      "time: sample 1.3339238166809082 s, linsolve 0.007276773452758789 s, pred 0.7502515316009521 s\n",
      "Trial 80\n"
     ]
    },
    {
     "name": "stdout",
     "output_type": "stream",
     "text": [
      "KRR acc: mse 0.21783595997404082, mae 0.3483500911151708, smape 0.05412275040283647\n",
      "time: sample 1.381181001663208 s, linsolve 0.007307291030883789 s, pred 0.7492456436157227 s\n",
      "Trial 81\n"
     ]
    },
    {
     "name": "stdout",
     "output_type": "stream",
     "text": [
      "KRR acc: mse 0.22565553559905902, mae 0.35432155568847296, smape 0.05501753613154267\n",
      "time: sample 1.3393115997314453 s, linsolve 0.00731205940246582 s, pred 0.7483813762664795 s\n",
      "Trial 82\n"
     ]
    },
    {
     "name": "stdout",
     "output_type": "stream",
     "text": [
      "KRR acc: mse 0.21818891268002694, mae 0.34884635558869087, smape 0.05419308635020523\n",
      "time: sample 1.3338851928710938 s, linsolve 0.012331247329711914 s, pred 0.7492282390594482 s\n",
      "Trial 83\n"
     ]
    },
    {
     "name": "stdout",
     "output_type": "stream",
     "text": [
      "KRR acc: mse 0.22255903140692576, mae 0.35219973854617764, smape 0.05470461403323982\n",
      "time: sample 1.3814587593078613 s, linsolve 0.007300376892089844 s, pred 0.7488374710083008 s\n",
      "Trial 84\n"
     ]
    },
    {
     "name": "stdout",
     "output_type": "stream",
     "text": [
      "KRR acc: mse 0.2208274418454186, mae 0.350051925983609, smape 0.054370675146896245\n",
      "time: sample 1.3379406929016113 s, linsolve 0.007355928421020508 s, pred 0.7485029697418213 s\n",
      "Trial 85\n"
     ]
    },
    {
     "name": "stdout",
     "output_type": "stream",
     "text": [
      "KRR acc: mse 0.22463078157703473, mae 0.3523719756296582, smape 0.054727014032873146\n",
      "time: sample 1.3332998752593994 s, linsolve 0.00730443000793457 s, pred 0.74820876121521 s\n",
      "Trial 86\n"
     ]
    },
    {
     "name": "stdout",
     "output_type": "stream",
     "text": [
      "KRR acc: mse 0.22358320814782015, mae 0.3535494250824595, smape 0.0548815917077097\n",
      "time: sample 1.3818023204803467 s, linsolve 0.00729823112487793 s, pred 0.7477715015411377 s\n",
      "Trial 87\n"
     ]
    },
    {
     "name": "stdout",
     "output_type": "stream",
     "text": [
      "KRR acc: mse 0.22034064990653568, mae 0.3510889022388755, smape 0.05452073491141282\n",
      "time: sample 1.3399837017059326 s, linsolve 0.007331132888793945 s, pred 0.7486648559570312 s\n",
      "Trial 88\n"
     ]
    },
    {
     "name": "stdout",
     "output_type": "stream",
     "text": [
      "KRR acc: mse 0.2241776555762563, mae 0.3529347488101253, smape 0.05480214194540333\n",
      "time: sample 1.3324730396270752 s, linsolve 0.007272958755493164 s, pred 0.7504973411560059 s\n",
      "Trial 89\n"
     ]
    },
    {
     "name": "stdout",
     "output_type": "stream",
     "text": [
      "KRR acc: mse 0.22371900810752804, mae 0.351075933256843, smape 0.05453048752666979\n",
      "time: sample 1.380868673324585 s, linsolve 0.0072383880615234375 s, pred 0.7482926845550537 s\n",
      "Trial 90\n"
     ]
    },
    {
     "name": "stdout",
     "output_type": "stream",
     "text": [
      "KRR acc: mse 0.2150594532637152, mae 0.34742781891041397, smape 0.053940245608188164\n",
      "time: sample 1.3431658744812012 s, linsolve 0.007344245910644531 s, pred 0.7487878799438477 s\n",
      "Trial 91\n"
     ]
    },
    {
     "name": "stdout",
     "output_type": "stream",
     "text": [
      "KRR acc: mse 0.2203702962385339, mae 0.3515813217951474, smape 0.054580443546809874\n",
      "time: sample 1.3338403701782227 s, linsolve 0.007279634475708008 s, pred 0.7479753494262695 s\n",
      "Trial 92\n"
     ]
    },
    {
     "name": "stdout",
     "output_type": "stream",
     "text": [
      "KRR acc: mse 0.2161809345345071, mae 0.3471343193274198, smape 0.0538978215759307\n",
      "time: sample 1.380772352218628 s, linsolve 0.007272005081176758 s, pred 0.7482843399047852 s\n",
      "Trial 93\n"
     ]
    },
    {
     "name": "stdout",
     "output_type": "stream",
     "text": [
      "KRR acc: mse 0.22410298837508172, mae 0.3530487891582736, smape 0.05483810679649523\n",
      "time: sample 1.3449783325195312 s, linsolve 0.0073587894439697266 s, pred 0.7489233016967773 s\n",
      "Trial 94\n"
     ]
    },
    {
     "name": "stdout",
     "output_type": "stream",
     "text": [
      "KRR acc: mse 0.22209034870689137, mae 0.35255145738222265, smape 0.05474647509454401\n",
      "time: sample 1.3335554599761963 s, linsolve 0.0072498321533203125 s, pred 0.7501399517059326 s\n",
      "Trial 95\n"
     ]
    },
    {
     "name": "stdout",
     "output_type": "stream",
     "text": [
      "KRR acc: mse 0.222297040291791, mae 0.35217620561743057, smape 0.05470864466360097\n",
      "time: sample 1.38130521774292 s, linsolve 0.0072479248046875 s, pred 0.7490816116333008 s\n",
      "Trial 96\n"
     ]
    },
    {
     "name": "stdout",
     "output_type": "stream",
     "text": [
      "KRR acc: mse 0.21496115928757772, mae 0.34498596958451105, smape 0.05355692600677735\n",
      "time: sample 1.340014934539795 s, linsolve 0.007254123687744141 s, pred 0.7496085166931152 s\n",
      "Trial 97\n"
     ]
    },
    {
     "name": "stdout",
     "output_type": "stream",
     "text": [
      "KRR acc: mse 0.21664335983252125, mae 0.34702730621901606, smape 0.0538774780452627\n",
      "time: sample 1.3336353302001953 s, linsolve 0.007293701171875 s, pred 0.7486081123352051 s\n",
      "Trial 98\n"
     ]
    },
    {
     "name": "stdout",
     "output_type": "stream",
     "text": [
      "KRR acc: mse 0.2226825635953951, mae 0.3516868970980772, smape 0.05460432581036832\n",
      "time: sample 1.3811562061309814 s, linsolve 0.007278919219970703 s, pred 0.7488734722137451 s\n",
      "Trial 99\n"
     ]
    },
    {
     "name": "stdout",
     "output_type": "stream",
     "text": [
      "KRR acc: mse 0.22390776047949276, mae 0.35256183537916486, smape 0.05477035315273029\n",
      "time: sample 1.339904546737671 s, linsolve 0.0073125362396240234 s, pred 0.7480459213256836 s\n",
      "k = 512\n",
      "Trial 0\n"
     ]
    },
    {
     "name": "stdout",
     "output_type": "stream",
     "text": [
      "KRR acc: mse 0.18390481659803026, mae 0.3218787280827839, smape 0.049928293089932164\n",
      "time: sample 2.5949718952178955 s, linsolve 0.029543161392211914 s, pred 1.5362846851348877 s\n",
      "Trial 1\n"
     ]
    },
    {
     "name": "stdout",
     "output_type": "stream",
     "text": [
      "KRR acc: mse 0.18727710140965537, mae 0.3236453457110509, smape 0.05022786306732034\n",
      "time: sample 2.615694284439087 s, linsolve 0.029569149017333984 s, pred 1.5345892906188965 s\n",
      "Trial 2\n"
     ]
    },
    {
     "name": "stdout",
     "output_type": "stream",
     "text": [
      "KRR acc: mse 0.1854789277651846, mae 0.3230320603358999, smape 0.050136030864588205\n",
      "time: sample 2.691141366958618 s, linsolve 0.03222298622131348 s, pred 1.5354533195495605 s\n",
      "Trial 3\n"
     ]
    },
    {
     "name": "stdout",
     "output_type": "stream",
     "text": [
      "KRR acc: mse 0.18280983251493288, mae 0.3213001821001881, smape 0.049853043783952784\n",
      "time: sample 2.662362575531006 s, linsolve 0.02956366539001465 s, pred 1.53438138961792 s\n",
      "Trial 4\n"
     ]
    },
    {
     "name": "stdout",
     "output_type": "stream",
     "text": [
      "KRR acc: mse 0.18982572591121466, mae 0.3280571547453636, smape 0.05091564942198856\n",
      "time: sample 2.62133526802063 s, linsolve 0.029535770416259766 s, pred 1.5353965759277344 s\n",
      "Trial 5\n"
     ]
    },
    {
     "name": "stdout",
     "output_type": "stream",
     "text": [
      "KRR acc: mse 0.18738610873079728, mae 0.32596753432431, smape 0.05061595930594648\n",
      "time: sample 2.6184370517730713 s, linsolve 0.02979445457458496 s, pred 1.5342226028442383 s\n",
      "Trial 6\n"
     ]
    },
    {
     "name": "stdout",
     "output_type": "stream",
     "text": [
      "KRR acc: mse 0.1907550384803797, mae 0.3282784103648345, smape 0.05096619513962317\n",
      "time: sample 2.63378643989563 s, linsolve 0.029473304748535156 s, pred 1.5345492362976074 s\n",
      "Trial 7\n"
     ]
    },
    {
     "name": "stdout",
     "output_type": "stream",
     "text": [
      "KRR acc: mse 0.18464855337496436, mae 0.32351994919518573, smape 0.05020982607922633\n",
      "time: sample 2.6060526371002197 s, linsolve 0.029447078704833984 s, pred 1.535829782485962 s\n",
      "Trial 8\n"
     ]
    },
    {
     "name": "stdout",
     "output_type": "stream",
     "text": [
      "KRR acc: mse 0.18697471347044628, mae 0.3245437078140363, smape 0.05038286000208271\n",
      "time: sample 2.609804391860962 s, linsolve 0.029512405395507812 s, pred 1.5342175960540771 s\n",
      "Trial 9\n"
     ]
    },
    {
     "name": "stdout",
     "output_type": "stream",
     "text": [
      "KRR acc: mse 0.18219898130376833, mae 0.31937585138335106, smape 0.04961418821735782\n",
      "time: sample 2.5987329483032227 s, linsolve 0.029519319534301758 s, pred 1.5349035263061523 s\n",
      "Trial 10\n"
     ]
    },
    {
     "name": "stdout",
     "output_type": "stream",
     "text": [
      "KRR acc: mse 0.18256137189698046, mae 0.322051385591383, smape 0.04998361790089615\n",
      "time: sample 2.6399590969085693 s, linsolve 0.02964949607849121 s, pred 1.5362329483032227 s\n",
      "Trial 11\n"
     ]
    },
    {
     "name": "stdout",
     "output_type": "stream",
     "text": [
      "KRR acc: mse 0.186867514632152, mae 0.3250853593498032, smape 0.05049909199733197\n",
      "time: sample 2.605011224746704 s, linsolve 0.029388427734375 s, pred 1.533618688583374 s\n",
      "Trial 12\n"
     ]
    },
    {
     "name": "stdout",
     "output_type": "stream",
     "text": [
      "KRR acc: mse 0.19041764730759103, mae 0.3273097349868611, smape 0.05080867346038968\n",
      "time: sample 2.667452573776245 s, linsolve 0.0295562744140625 s, pred 1.534346103668213 s\n",
      "Trial 13\n"
     ]
    },
    {
     "name": "stdout",
     "output_type": "stream",
     "text": [
      "KRR acc: mse 0.1847992063127435, mae 0.32353688130246117, smape 0.05023741410146205\n",
      "time: sample 2.5954506397247314 s, linsolve 0.02950453758239746 s, pred 1.5348930358886719 s\n",
      "Trial 14\n"
     ]
    },
    {
     "name": "stdout",
     "output_type": "stream",
     "text": [
      "KRR acc: mse 0.18505394636954553, mae 0.3252889789879538, smape 0.050502694488084976\n",
      "time: sample 2.6355960369110107 s, linsolve 0.029634952545166016 s, pred 1.5358827114105225 s\n",
      "Trial 15\n"
     ]
    },
    {
     "name": "stdout",
     "output_type": "stream",
     "text": [
      "KRR acc: mse 0.18705656737199308, mae 0.3258084682799465, smape 0.05057592438916619\n",
      "time: sample 2.591491222381592 s, linsolve 0.02950453758239746 s, pred 1.5336968898773193 s\n",
      "Trial 16\n"
     ]
    },
    {
     "name": "stdout",
     "output_type": "stream",
     "text": [
      "KRR acc: mse 0.18431031666889486, mae 0.32340632095373, smape 0.050196820465719744\n",
      "time: sample 2.6326563358306885 s, linsolve 0.03571677207946777 s, pred 1.5353429317474365 s\n",
      "Trial 17\n"
     ]
    },
    {
     "name": "stdout",
     "output_type": "stream",
     "text": [
      "KRR acc: mse 0.18592440727906798, mae 0.3244114276858006, smape 0.05033397517264004\n",
      "time: sample 2.618748664855957 s, linsolve 0.029392004013061523 s, pred 1.5342657566070557 s\n",
      "Trial 18\n"
     ]
    },
    {
     "name": "stdout",
     "output_type": "stream",
     "text": [
      "KRR acc: mse 0.18408045755388253, mae 0.3232343663320686, smape 0.05017022412591001\n",
      "time: sample 2.6373815536499023 s, linsolve 0.029428482055664062 s, pred 1.5370805263519287 s\n",
      "Trial 19\n"
     ]
    },
    {
     "name": "stdout",
     "output_type": "stream",
     "text": [
      "KRR acc: mse 0.18291383296615069, mae 0.32332813481216033, smape 0.05018797191653211\n",
      "time: sample 2.6006107330322266 s, linsolve 0.029904842376708984 s, pred 1.5354893207550049 s\n",
      "Trial 20\n"
     ]
    },
    {
     "name": "stdout",
     "output_type": "stream",
     "text": [
      "KRR acc: mse 0.18666370954252734, mae 0.3247754184822914, smape 0.050412759361895806\n",
      "time: sample 2.6210012435913086 s, linsolve 0.029562950134277344 s, pred 1.537259817123413 s\n",
      "Trial 21\n"
     ]
    },
    {
     "name": "stdout",
     "output_type": "stream",
     "text": [
      "KRR acc: mse 0.18389918025828259, mae 0.32275125478016914, smape 0.05007950936997371\n",
      "time: sample 2.605350971221924 s, linsolve 0.029402494430541992 s, pred 1.5354299545288086 s\n",
      "Trial 22\n"
     ]
    },
    {
     "name": "stdout",
     "output_type": "stream",
     "text": [
      "KRR acc: mse 0.18504323782355853, mae 0.32317948864478857, smape 0.050176390732000906\n",
      "time: sample 2.691042184829712 s, linsolve 0.02955460548400879 s, pred 1.534881830215454 s\n",
      "Trial 23\n"
     ]
    },
    {
     "name": "stdout",
     "output_type": "stream",
     "text": [
      "KRR acc: mse 0.18092134559023976, mae 0.32050318737862993, smape 0.04971993742072509\n",
      "time: sample 2.6045844554901123 s, linsolve 0.029593229293823242 s, pred 1.535841941833496 s\n",
      "Trial 24\n"
     ]
    },
    {
     "name": "stdout",
     "output_type": "stream",
     "text": [
      "KRR acc: mse 0.19085819494489678, mae 0.3293051383807654, smape 0.05110144637246956\n",
      "time: sample 2.620957851409912 s, linsolve 0.029537200927734375 s, pred 1.5359148979187012 s\n",
      "Trial 25\n"
     ]
    },
    {
     "name": "stdout",
     "output_type": "stream",
     "text": [
      "KRR acc: mse 0.19146345124383224, mae 0.3292190320989493, smape 0.05108571243334373\n",
      "time: sample 2.6202187538146973 s, linsolve 0.0296475887298584 s, pred 1.5341682434082031 s\n",
      "Trial 26\n"
     ]
    },
    {
     "name": "stdout",
     "output_type": "stream",
     "text": [
      "KRR acc: mse 0.19065058832913065, mae 0.32734499143242657, smape 0.0507881651303369\n",
      "time: sample 2.686589002609253 s, linsolve 0.029595136642456055 s, pred 1.5358564853668213 s\n",
      "Trial 27\n"
     ]
    },
    {
     "name": "stdout",
     "output_type": "stream",
     "text": [
      "KRR acc: mse 0.1845480429571273, mae 0.3235794449465402, smape 0.050238786646272\n",
      "time: sample 2.617741107940674 s, linsolve 0.029446125030517578 s, pred 1.5363798141479492 s\n",
      "Trial 28\n"
     ]
    },
    {
     "name": "stdout",
     "output_type": "stream",
     "text": [
      "KRR acc: mse 0.183104386648448, mae 0.32197630015705875, smape 0.04997840938498567\n",
      "time: sample 2.6188950538635254 s, linsolve 0.029775381088256836 s, pred 1.534830093383789 s\n",
      "Trial 29\n"
     ]
    },
    {
     "name": "stdout",
     "output_type": "stream",
     "text": [
      "KRR acc: mse 0.1844854067376531, mae 0.3251080593935334, smape 0.05045906815689363\n",
      "time: sample 2.620603561401367 s, linsolve 0.029495954513549805 s, pred 1.5358762741088867 s\n",
      "Trial 30\n"
     ]
    },
    {
     "name": "stdout",
     "output_type": "stream",
     "text": [
      "KRR acc: mse 0.18347105361853128, mae 0.32250899669050676, smape 0.05006860417976499\n",
      "time: sample 2.6865122318267822 s, linsolve 0.02961897850036621 s, pred 1.534226417541504 s\n",
      "Trial 31\n"
     ]
    },
    {
     "name": "stdout",
     "output_type": "stream",
     "text": [
      "KRR acc: mse 0.185881516131252, mae 0.32395401146523545, smape 0.050299376250244505\n",
      "time: sample 2.6270573139190674 s, linsolve 0.029375314712524414 s, pred 1.535381555557251 s\n",
      "Trial 32\n"
     ]
    },
    {
     "name": "stdout",
     "output_type": "stream",
     "text": [
      "KRR acc: mse 0.1860751674064446, mae 0.32505930686966933, smape 0.050473567570146295\n",
      "time: sample 2.6674623489379883 s, linsolve 0.029380083084106445 s, pred 1.5343246459960938 s\n",
      "Trial 33\n"
     ]
    },
    {
     "name": "stdout",
     "output_type": "stream",
     "text": [
      "KRR acc: mse 0.1889919865666582, mae 0.32642192752272364, smape 0.05067962360502994\n",
      "time: sample 2.6037683486938477 s, linsolve 0.0294950008392334 s, pred 1.5342936515808105 s\n",
      "Trial 34\n"
     ]
    },
    {
     "name": "stdout",
     "output_type": "stream",
     "text": [
      "KRR acc: mse 0.1885968382650281, mae 0.32617296927758654, smape 0.050613274984092974\n",
      "time: sample 2.636172294616699 s, linsolve 0.029508352279663086 s, pred 1.5356600284576416 s\n",
      "Trial 35\n"
     ]
    },
    {
     "name": "stdout",
     "output_type": "stream",
     "text": [
      "KRR acc: mse 0.187917895412488, mae 0.32569446921558803, smape 0.05054484747404982\n",
      "time: sample 2.6314408779144287 s, linsolve 0.02935957908630371 s, pred 1.5347037315368652 s\n",
      "Trial 36\n"
     ]
    },
    {
     "name": "stdout",
     "output_type": "stream",
     "text": [
      "KRR acc: mse 0.17893746494408916, mae 0.318417793750745, smape 0.049400136634698014\n",
      "time: sample 2.6351325511932373 s, linsolve 0.029556751251220703 s, pred 1.5353622436523438 s\n",
      "Trial 37\n"
     ]
    },
    {
     "name": "stdout",
     "output_type": "stream",
     "text": [
      "KRR acc: mse 0.18959666734969366, mae 0.32706652292344424, smape 0.05078285139871687\n",
      "time: sample 2.604124069213867 s, linsolve 0.029590368270874023 s, pred 1.5348789691925049 s\n",
      "Trial 38\n"
     ]
    },
    {
     "name": "stdout",
     "output_type": "stream",
     "text": [
      "KRR acc: mse 0.18448129997101856, mae 0.32301402372668736, smape 0.0501477748699929\n",
      "time: sample 2.616844892501831 s, linsolve 0.029432058334350586 s, pred 1.5356121063232422 s\n",
      "Trial 39\n"
     ]
    },
    {
     "name": "stdout",
     "output_type": "stream",
     "text": [
      "KRR acc: mse 0.1886807466839819, mae 0.3255898549789826, smape 0.05052025972944919\n",
      "time: sample 2.6178832054138184 s, linsolve 0.02963709831237793 s, pred 1.5346026420593262 s\n",
      "Trial 40\n"
     ]
    },
    {
     "name": "stdout",
     "output_type": "stream",
     "text": [
      "KRR acc: mse 0.1785327374084229, mae 0.31856150780736037, smape 0.04944567879685753\n",
      "time: sample 2.6016883850097656 s, linsolve 0.029367685317993164 s, pred 1.5356085300445557 s\n",
      "Trial 41\n"
     ]
    },
    {
     "name": "stdout",
     "output_type": "stream",
     "text": [
      "KRR acc: mse 0.18830420262551825, mae 0.3265967853230488, smape 0.05071750782755275\n",
      "time: sample 2.692275285720825 s, linsolve 0.029453039169311523 s, pred 1.5363471508026123 s\n",
      "Trial 42\n"
     ]
    },
    {
     "name": "stdout",
     "output_type": "stream",
     "text": [
      "KRR acc: mse 0.18597104235777237, mae 0.32452930164212224, smape 0.0503832965100485\n",
      "time: sample 2.616408586502075 s, linsolve 0.02995467185974121 s, pred 1.5352747440338135 s\n",
      "Trial 43\n"
     ]
    },
    {
     "name": "stdout",
     "output_type": "stream",
     "text": [
      "KRR acc: mse 0.1887384522057973, mae 0.3271425447972703, smape 0.05077734646031631\n",
      "time: sample 2.60451340675354 s, linsolve 0.02966904640197754 s, pred 1.534519910812378 s\n",
      "Trial 44\n"
     ]
    },
    {
     "name": "stdout",
     "output_type": "stream",
     "text": [
      "KRR acc: mse 0.183258916981451, mae 0.3225287393313413, smape 0.05009059847350439\n",
      "time: sample 2.6048431396484375 s, linsolve 0.029584407806396484 s, pred 1.5343494415283203 s\n",
      "Trial 45\n"
     ]
    },
    {
     "name": "stdout",
     "output_type": "stream",
     "text": [
      "KRR acc: mse 0.18192156638849197, mae 0.3221987715241477, smape 0.04995763379245881\n",
      "time: sample 2.7896385192871094 s, linsolve 0.029365062713623047 s, pred 1.5355949401855469 s\n",
      "Trial 46\n"
     ]
    },
    {
     "name": "stdout",
     "output_type": "stream",
     "text": [
      "KRR acc: mse 0.1818512860810006, mae 0.319971718072684, smape 0.0496378485852229\n",
      "time: sample 2.6822686195373535 s, linsolve 0.0294344425201416 s, pred 1.5345180034637451 s\n",
      "Trial 47\n"
     ]
    },
    {
     "name": "stdout",
     "output_type": "stream",
     "text": [
      "KRR acc: mse 0.18087422034986003, mae 0.3205212248560643, smape 0.04972692795587559\n",
      "time: sample 2.6059210300445557 s, linsolve 0.0294644832611084 s, pred 1.5333442687988281 s\n",
      "Trial 48\n"
     ]
    },
    {
     "name": "stdout",
     "output_type": "stream",
     "text": [
      "KRR acc: mse 0.1825780648887075, mae 0.32225355099051595, smape 0.050004659973081365\n",
      "time: sample 2.622464179992676 s, linsolve 0.02943253517150879 s, pred 1.5370752811431885 s\n",
      "Trial 49\n"
     ]
    },
    {
     "name": "stdout",
     "output_type": "stream",
     "text": [
      "KRR acc: mse 0.18815594756461176, mae 0.3260369526678261, smape 0.050602213601330485\n",
      "time: sample 2.7344796657562256 s, linsolve 0.029439210891723633 s, pred 1.5339081287384033 s\n",
      "Trial 50\n"
     ]
    },
    {
     "name": "stdout",
     "output_type": "stream",
     "text": [
      "KRR acc: mse 0.18693400440079994, mae 0.3250542449038198, smape 0.05044541675505262\n",
      "time: sample 2.6914191246032715 s, linsolve 0.029546737670898438 s, pred 1.536123514175415 s\n",
      "Trial 51\n"
     ]
    },
    {
     "name": "stdout",
     "output_type": "stream",
     "text": [
      "KRR acc: mse 0.18337416588342637, mae 0.32254218312420546, smape 0.050082935298297215\n",
      "time: sample 2.6111340522766113 s, linsolve 0.029455184936523438 s, pred 1.5332822799682617 s\n",
      "Trial 52\n"
     ]
    },
    {
     "name": "stdout",
     "output_type": "stream",
     "text": [
      "KRR acc: mse 0.1820613619559992, mae 0.32261589875106894, smape 0.05006360480054907\n",
      "time: sample 2.6210036277770996 s, linsolve 0.029584169387817383 s, pred 1.5355842113494873 s\n",
      "Trial 53\n"
     ]
    },
    {
     "name": "stdout",
     "output_type": "stream",
     "text": [
      "KRR acc: mse 0.1828791476468103, mae 0.3222868215320321, smape 0.0500145228661888\n",
      "time: sample 2.776510238647461 s, linsolve 0.02970600128173828 s, pred 1.5361602306365967 s\n",
      "Trial 54\n"
     ]
    },
    {
     "name": "stdout",
     "output_type": "stream",
     "text": [
      "KRR acc: mse 0.18681739539897063, mae 0.32446904860145687, smape 0.05034547803223091\n",
      "time: sample 2.6291658878326416 s, linsolve 0.02948927879333496 s, pred 1.5342161655426025 s\n",
      "Trial 55\n"
     ]
    },
    {
     "name": "stdout",
     "output_type": "stream",
     "text": [
      "KRR acc: mse 0.18718163789364162, mae 0.32468980040143886, smape 0.050415377318447425\n",
      "time: sample 2.626833915710449 s, linsolve 0.02959299087524414 s, pred 1.5354282855987549 s\n",
      "Trial 56\n"
     ]
    },
    {
     "name": "stdout",
     "output_type": "stream",
     "text": [
      "KRR acc: mse 0.18283902043068043, mae 0.32268294755741667, smape 0.05006522092494588\n",
      "time: sample 2.6727981567382812 s, linsolve 0.03401780128479004 s, pred 1.5353264808654785 s\n",
      "Trial 57\n"
     ]
    },
    {
     "name": "stdout",
     "output_type": "stream",
     "text": [
      "KRR acc: mse 0.18323531517597122, mae 0.3227043802132056, smape 0.050019947347546154\n",
      "time: sample 2.739015817642212 s, linsolve 0.029479026794433594 s, pred 1.5339164733886719 s\n",
      "Trial 58\n"
     ]
    },
    {
     "name": "stdout",
     "output_type": "stream",
     "text": [
      "KRR acc: mse 0.18787844399110643, mae 0.32675946724256394, smape 0.05074693260165564\n",
      "time: sample 2.6038808822631836 s, linsolve 0.029778718948364258 s, pred 1.5336592197418213 s\n",
      "Trial 59\n"
     ]
    },
    {
     "name": "stdout",
     "output_type": "stream",
     "text": [
      "KRR acc: mse 0.18509002386644796, mae 0.32323627470561833, smape 0.05018658709688594\n",
      "time: sample 2.6323180198669434 s, linsolve 0.02948617935180664 s, pred 1.5360767841339111 s\n",
      "Trial 60\n"
     ]
    },
    {
     "name": "stdout",
     "output_type": "stream",
     "text": [
      "KRR acc: mse 0.18505544250472947, mae 0.3235328266131535, smape 0.0501941826907271\n",
      "time: sample 2.6651055812835693 s, linsolve 0.029879093170166016 s, pred 1.5341475009918213 s\n",
      "Trial 61\n"
     ]
    },
    {
     "name": "stdout",
     "output_type": "stream",
     "text": [
      "KRR acc: mse 0.18598147014656116, mae 0.3259962663251054, smape 0.050568105262301107\n",
      "time: sample 2.797002077102661 s, linsolve 0.02952408790588379 s, pred 1.5360100269317627 s\n",
      "Trial 62\n"
     ]
    },
    {
     "name": "stdout",
     "output_type": "stream",
     "text": [
      "KRR acc: mse 0.18405972608059695, mae 0.32480493426873625, smape 0.05041259391945785\n",
      "time: sample 2.686079502105713 s, linsolve 0.02953338623046875 s, pred 1.5355327129364014 s\n",
      "Trial 63\n"
     ]
    },
    {
     "name": "stdout",
     "output_type": "stream",
     "text": [
      "KRR acc: mse 0.18547911305436843, mae 0.3233861140044008, smape 0.05021059962749222\n",
      "time: sample 2.597411870956421 s, linsolve 0.02951502799987793 s, pred 1.5353715419769287 s\n",
      "Trial 64\n"
     ]
    },
    {
     "name": "stdout",
     "output_type": "stream",
     "text": [
      "KRR acc: mse 0.18818759807231933, mae 0.3246535608391749, smape 0.05044263959066251\n",
      "time: sample 2.6241984367370605 s, linsolve 0.029594898223876953 s, pred 1.535118579864502 s\n",
      "Trial 65\n"
     ]
    },
    {
     "name": "stdout",
     "output_type": "stream",
     "text": [
      "KRR acc: mse 0.1881512356576745, mae 0.32579796142728157, smape 0.05057304062402423\n",
      "time: sample 2.6915102005004883 s, linsolve 0.029596567153930664 s, pred 1.5349464416503906 s\n",
      "Trial 66\n"
     ]
    },
    {
     "name": "stdout",
     "output_type": "stream",
     "text": [
      "KRR acc: mse 0.1841171250415137, mae 0.32313779825019034, smape 0.050156857095838475\n",
      "time: sample 2.6373629570007324 s, linsolve 0.029422998428344727 s, pred 1.5341930389404297 s\n",
      "Trial 67\n"
     ]
    },
    {
     "name": "stdout",
     "output_type": "stream",
     "text": [
      "KRR acc: mse 0.18632066890707502, mae 0.3260914746473225, smape 0.05063057927106637\n",
      "time: sample 2.66564679145813 s, linsolve 0.029709815979003906 s, pred 1.5352306365966797 s\n",
      "Trial 68\n"
     ]
    },
    {
     "name": "stdout",
     "output_type": "stream",
     "text": [
      "KRR acc: mse 0.1856000066209567, mae 0.32490966818691525, smape 0.050453694110971205\n",
      "time: sample 2.6685991287231445 s, linsolve 0.02956104278564453 s, pred 1.5352742671966553 s\n",
      "Trial 69\n"
     ]
    },
    {
     "name": "stdout",
     "output_type": "stream",
     "text": [
      "KRR acc: mse 0.1819261937213737, mae 0.3199854030430799, smape 0.04967668761652854\n",
      "time: sample 2.601639986038208 s, linsolve 0.036133527755737305 s, pred 1.5351495742797852 s\n",
      "Trial 70\n"
     ]
    },
    {
     "name": "stdout",
     "output_type": "stream",
     "text": [
      "KRR acc: mse 0.1815688344443241, mae 0.3207378777028365, smape 0.049771848353501305\n",
      "time: sample 2.7430591583251953 s, linsolve 0.02942347526550293 s, pred 1.5332887172698975 s\n",
      "Trial 71\n"
     ]
    },
    {
     "name": "stdout",
     "output_type": "stream",
     "text": [
      "KRR acc: mse 0.18289132151901658, mae 0.32088424495353357, smape 0.049852412914796376\n",
      "time: sample 2.6009292602539062 s, linsolve 0.029546499252319336 s, pred 1.5348153114318848 s\n",
      "Trial 72\n"
     ]
    },
    {
     "name": "stdout",
     "output_type": "stream",
     "text": [
      "KRR acc: mse 0.18472518515435904, mae 0.32397550670514086, smape 0.05028087056475896\n",
      "time: sample 2.6068849563598633 s, linsolve 0.029784679412841797 s, pred 1.5360643863677979 s\n",
      "Trial 73\n"
     ]
    },
    {
     "name": "stdout",
     "output_type": "stream",
     "text": [
      "KRR acc: mse 0.18118041196586215, mae 0.32079262392901237, smape 0.04980185684642041\n",
      "time: sample 2.617269992828369 s, linsolve 0.02956104278564453 s, pred 1.5340447425842285 s\n",
      "Trial 74\n"
     ]
    },
    {
     "name": "stdout",
     "output_type": "stream",
     "text": [
      "KRR acc: mse 0.19000106639804418, mae 0.32818152214858476, smape 0.050917008809801496\n",
      "time: sample 2.7898190021514893 s, linsolve 0.029550552368164062 s, pred 1.5338342189788818 s\n",
      "Trial 75\n"
     ]
    },
    {
     "name": "stdout",
     "output_type": "stream",
     "text": [
      "KRR acc: mse 0.1899001873763302, mae 0.3274348263698791, smape 0.05083317414290732\n",
      "time: sample 2.612867832183838 s, linsolve 0.029439926147460938 s, pred 1.5349938869476318 s\n",
      "Trial 76\n"
     ]
    },
    {
     "name": "stdout",
     "output_type": "stream",
     "text": [
      "KRR acc: mse 0.1857481880623267, mae 0.32482102803690893, smape 0.05042023053383578\n",
      "time: sample 2.670957088470459 s, linsolve 0.029499530792236328 s, pred 1.5345954895019531 s\n",
      "Trial 77\n"
     ]
    },
    {
     "name": "stdout",
     "output_type": "stream",
     "text": [
      "KRR acc: mse 0.18521819863154182, mae 0.32521910109325397, smape 0.05048621639434093\n",
      "time: sample 2.629251718521118 s, linsolve 0.029727697372436523 s, pred 1.5379977226257324 s\n",
      "Trial 78\n"
     ]
    },
    {
     "name": "stdout",
     "output_type": "stream",
     "text": [
      "KRR acc: mse 0.18516555138345234, mae 0.32358102128730043, smape 0.05021934456310851\n",
      "time: sample 2.6830861568450928 s, linsolve 0.029454469680786133 s, pred 1.5358664989471436 s\n",
      "Trial 79\n"
     ]
    },
    {
     "name": "stdout",
     "output_type": "stream",
     "text": [
      "KRR acc: mse 0.1831604958444809, mae 0.32322306196812445, smape 0.05014696292824655\n",
      "time: sample 2.6597421169281006 s, linsolve 0.029461383819580078 s, pred 1.5360276699066162 s\n",
      "Trial 80\n"
     ]
    },
    {
     "name": "stdout",
     "output_type": "stream",
     "text": [
      "KRR acc: mse 0.1848880279630505, mae 0.32283683568421667, smape 0.05007315710772353\n",
      "time: sample 2.6173462867736816 s, linsolve 0.029790639877319336 s, pred 1.534782886505127 s\n",
      "Trial 81\n"
     ]
    },
    {
     "name": "stdout",
     "output_type": "stream",
     "text": [
      "KRR acc: mse 0.18559080344694825, mae 0.32388763689012, smape 0.05027272878501913\n",
      "time: sample 2.6291050910949707 s, linsolve 0.029500484466552734 s, pred 1.535454273223877 s\n",
      "Trial 82\n"
     ]
    },
    {
     "name": "stdout",
     "output_type": "stream",
     "text": [
      "KRR acc: mse 0.1835196466570168, mae 0.3233278602074783, smape 0.050189949699390356\n",
      "time: sample 2.6307387351989746 s, linsolve 0.029620647430419922 s, pred 1.5341098308563232 s\n",
      "Trial 83\n"
     ]
    },
    {
     "name": "stdout",
     "output_type": "stream",
     "text": [
      "KRR acc: mse 0.1870258851624851, mae 0.325589477016566, smape 0.05052539199241328\n",
      "time: sample 2.614799737930298 s, linsolve 0.029637575149536133 s, pred 1.5336554050445557 s\n",
      "Trial 84\n"
     ]
    },
    {
     "name": "stdout",
     "output_type": "stream",
     "text": [
      "KRR acc: mse 0.1848922068331736, mae 0.32358383754219283, smape 0.0502249425202022\n",
      "time: sample 2.6641435623168945 s, linsolve 0.029570579528808594 s, pred 1.5364556312561035 s\n",
      "Trial 85\n"
     ]
    },
    {
     "name": "stdout",
     "output_type": "stream",
     "text": [
      "KRR acc: mse 0.18935541335640124, mae 0.32699475643926024, smape 0.0507350589377186\n",
      "time: sample 2.6241037845611572 s, linsolve 0.033156394958496094 s, pred 1.5357673168182373 s\n",
      "Trial 86\n"
     ]
    },
    {
     "name": "stdout",
     "output_type": "stream",
     "text": [
      "KRR acc: mse 0.1881830712044795, mae 0.3270288509007828, smape 0.05076379259421708\n",
      "time: sample 2.687591075897217 s, linsolve 0.029539108276367188 s, pred 1.533069372177124 s\n",
      "Trial 87\n"
     ]
    },
    {
     "name": "stdout",
     "output_type": "stream",
     "text": [
      "KRR acc: mse 0.18468799262322824, mae 0.3242850788923442, smape 0.05030847553815546\n",
      "time: sample 2.6696791648864746 s, linsolve 0.029903411865234375 s, pred 1.5361411571502686 s\n",
      "Trial 88\n"
     ]
    },
    {
     "name": "stdout",
     "output_type": "stream",
     "text": [
      "KRR acc: mse 0.1863056943064624, mae 0.3246999150418833, smape 0.050384749676142204\n",
      "time: sample 2.6671414375305176 s, linsolve 0.029438495635986328 s, pred 1.533430576324463 s\n",
      "Trial 89\n"
     ]
    },
    {
     "name": "stdout",
     "output_type": "stream",
     "text": [
      "KRR acc: mse 0.1859614923395043, mae 0.32463754464506644, smape 0.05038002398117922\n",
      "time: sample 2.598649024963379 s, linsolve 0.02946019172668457 s, pred 1.5339577198028564 s\n",
      "Trial 90\n"
     ]
    },
    {
     "name": "stdout",
     "output_type": "stream",
     "text": [
      "KRR acc: mse 0.18436507569292893, mae 0.3232406278258626, smape 0.050161934019552726\n",
      "time: sample 2.693331718444824 s, linsolve 0.029501914978027344 s, pred 1.53391432762146 s\n",
      "Trial 91\n"
     ]
    },
    {
     "name": "stdout",
     "output_type": "stream",
     "text": [
      "KRR acc: mse 0.1811990293338516, mae 0.3217286308615312, smape 0.0499225758938221\n",
      "time: sample 2.620091199874878 s, linsolve 0.02957296371459961 s, pred 1.5356857776641846 s\n",
      "Trial 92\n"
     ]
    },
    {
     "name": "stdout",
     "output_type": "stream",
     "text": [
      "KRR acc: mse 0.18070486829011947, mae 0.32097812329672765, smape 0.04979765863008152\n",
      "time: sample 2.6026594638824463 s, linsolve 0.02963399887084961 s, pred 1.534679651260376 s\n",
      "Trial 93\n"
     ]
    },
    {
     "name": "stdout",
     "output_type": "stream",
     "text": [
      "KRR acc: mse 0.18454768047212278, mae 0.32296969637558137, smape 0.050125253342299454\n",
      "time: sample 2.6249420642852783 s, linsolve 0.029631853103637695 s, pred 1.5339057445526123 s\n",
      "Trial 94\n"
     ]
    },
    {
     "name": "stdout",
     "output_type": "stream",
     "text": [
      "KRR acc: mse 0.1826637577605984, mae 0.3217098063991752, smape 0.04992892364017108\n",
      "time: sample 2.693209171295166 s, linsolve 0.029635190963745117 s, pred 1.5341007709503174 s\n",
      "Trial 95\n"
     ]
    },
    {
     "name": "stdout",
     "output_type": "stream",
     "text": [
      "KRR acc: mse 0.1864021680492731, mae 0.3244572813433044, smape 0.05034756352335777\n",
      "time: sample 2.6041646003723145 s, linsolve 0.029629945755004883 s, pred 1.536219596862793 s\n",
      "Trial 96\n"
     ]
    },
    {
     "name": "stdout",
     "output_type": "stream",
     "text": [
      "KRR acc: mse 0.19115565110446522, mae 0.32844599679262226, smape 0.050942274820257566\n",
      "time: sample 2.5922176837921143 s, linsolve 0.029561758041381836 s, pred 1.5351033210754395 s\n",
      "Trial 97\n"
     ]
    },
    {
     "name": "stdout",
     "output_type": "stream",
     "text": [
      "KRR acc: mse 0.18710221470268618, mae 0.3264417561853452, smape 0.05063968945448219\n",
      "time: sample 2.6188364028930664 s, linsolve 0.029858112335205078 s, pred 1.5340826511383057 s\n",
      "Trial 98\n"
     ]
    },
    {
     "name": "stdout",
     "output_type": "stream",
     "text": [
      "KRR acc: mse 0.18415727804091003, mae 0.3236111088164506, smape 0.05023512902281209\n",
      "time: sample 2.7853472232818604 s, linsolve 0.029635906219482422 s, pred 1.53379225730896 s\n",
      "Trial 99\n"
     ]
    },
    {
     "name": "stdout",
     "output_type": "stream",
     "text": [
      "KRR acc: mse 0.18870326713236557, mae 0.32657661849293684, smape 0.05071236743123013\n",
      "time: sample 2.622714042663574 s, linsolve 0.029421091079711914 s, pred 1.535161018371582 s\n"
     ]
    }
   ],
   "source": [
    "\n",
    "methods = { \n",
    "    # deterministic methods\n",
    "    'Greedy' : rpcholesky.greedy, \n",
    "    \n",
    "    # random methods\n",
    "    'Uniform' : unif_sample.uniform_sample,\n",
    "    'RPCholesky' : rpcholesky.rpcholesky,\n",
    "    'RLS' : leverage_score.recursive_rls_acc,\n",
    "    'block50RPCholesky' : partial(rpcholesky.block_rpcholesky,b=50)\n",
    "}\n",
    "\n",
    "num_trials = 100\n",
    "lamb = 1.0e-8\n",
    "sigma = 5120.0\n",
    "result = dict()\n",
    "\n",
    "solve_method = 'Direct'\n",
    "\n",
    "for name, method in methods.items():\n",
    "    result[name] = dict()\n",
    "    print(f'------------- Method: {name} -------------')\n",
    "    result[name][\"trace_errors\"] = {} #np.zeros((len(ks),2))\n",
    "    result[name][\"KRRMSE\"] = {} #np.zeros((len(ks),2))\n",
    "    result[name][\"KRRMAE\"] = {} #np.zeros((len(ks),2))\n",
    "    result[name][\"KRRSMAPE\"] = {}   #np.zeros((len(ks),2))\n",
    "    result[name][\"queries\"] = {}    #np.zeros((len(ks),2))\n",
    "\n",
    "    for idx_k in range(len(ks)):\n",
    "        k = ks[idx_k]\n",
    "        print(f'k = {k}')\n",
    "        trace_err = []\n",
    "        runtime = []\n",
    "        queries = []\n",
    "        KRRmse = []\n",
    "        KRRmae = []\n",
    "        KRRsmape = []\n",
    "        if \"Greedy\" not in name:\n",
    "            for i in range(num_trials):\n",
    "                while True:\n",
    "                    try:\n",
    "                        print(f\"Trial {i}\")\n",
    "                        # # Original\n",
    "                        # model = KRR_Nystrom(kernel = \"gaussian\", bandwidth = sigma)\n",
    "                        # # Bug fix\n",
    "                        model = KRR_Nystrom(kernel = \"laplace\", bandwidth = sigma)\n",
    "                        \n",
    "                        model.fit_Nystrom(train_sample, train_sample_target, lamb = lamb, sample_num = k, sample_method = method, solve_method = solve_method)\n",
    "                        preds = model.predict_Nystrom(test_sample)\n",
    "                        break\n",
    "                    except np.linalg.LinAlgError:\n",
    "                        continue\n",
    "                KRRmse.append(mean_squared_error(test_sample_target, preds))\n",
    "                KRRmae.append(mean_average_error(test_sample_target, preds))\n",
    "                KRRsmape.append(SMAPE(test_sample_target, preds))\n",
    "                queries.append(model.queries)\n",
    "                trace_err.append(model.reltrace_err)  \n",
    "\n",
    "                print(f'KRR acc: mse {KRRmse[-1]}, mae {KRRmae[-1]}, smape {KRRsmape[-1]}')\n",
    "                print(f'time: sample {model.sample_time} s, linsolve {model.linsolve_time} s, pred {model.pred_time} s')\n",
    "\n",
    "        else:\n",
    "            model = KRR_Nystrom(kernel = \"laplace\", \n",
    "                        bandwidth = sigma)\n",
    "            model.fit_Nystrom(train_sample, train_sample_target, lamb = lamb, sample_num = k, sample_method = method, solve_method = solve_method)\n",
    "            preds = model.predict_Nystrom(test_sample)\n",
    "            KRRmse.append(mean_squared_error(test_sample_target, preds))\n",
    "            KRRmae.append(mean_average_error(test_sample_target, preds))\n",
    "            KRRsmape.append(SMAPE(test_sample_target, preds))\n",
    "            queries.append(model.queries)\n",
    "            trace_err.append(model.reltrace_err) \n",
    "\n",
    "            print(f'KRR acc: mse {KRRmse[-1]}, mae {KRRmae[-1]}, smape {KRRsmape[-1]}')\n",
    "            print(f'time: sample {model.sample_time}, linsolve {model.linsolve_time}, pred {model.pred_time}')\n",
    "\n",
    "        result[name][\"trace_errors\"][k] = trace_err   # [np.mean(trace_err),np.std(trace_err)]\n",
    "        result[name][\"KRRMSE\"][k] = KRRmse    # [np.mean(KRRmse),np.std(KRRmse)]\n",
    "        result[name][\"KRRMAE\"][k] = KRRmae    #[np.mean(KRRmae),np.std(KRRmae)]\n",
    "        result[name][\"KRRSMAPE\"][k] = KRRsmape    #[np.mean(KRRsmape),np.std(KRRsmape)]\n",
    "        result[name][\"queries\"][k] = queries  #[np.mean(queries)/float(num_train**2),np.std(queries)/float(num_train**2)]\n",
    "\n",
    "        # savemat(\"data/{}_molecule100k.mat\".format(name), result[name])\n",
    "        # use pickle to save the result periodically\n",
    "        with open(f\"data/molecule{num_train // 1000}k.pkl\", 'wb') as f:\n",
    "            pickle.dump(result, f)\n"
   ]
  },
  {
   "cell_type": "code",
   "execution_count": 9,
   "id": "5c56644e",
   "metadata": {
    "execution": {
     "iopub.execute_input": "2024-02-11T02:20:41.749801Z",
     "iopub.status.busy": "2024-02-11T02:20:41.749351Z",
     "iopub.status.idle": "2024-02-11T02:20:42.351215Z",
     "shell.execute_reply": "2024-02-11T02:20:42.350868Z"
    },
    "papermill": {
     "duration": 0.634791,
     "end_time": "2024-02-11T02:20:42.352143",
     "exception": false,
     "start_time": "2024-02-11T02:20:41.717352",
     "status": "completed"
    },
    "tags": []
   },
   "outputs": [
    {
     "data": {
      "text/plain": [
       "{'Greedy': {'trace_errors': {128: [0.044340903098873785],\n",
       "   256: [0.03172596166304484],\n",
       "   512: [0.020065985813392945]},\n",
       "  'KRRMSE': {128: [0.32869427987617694],\n",
       "   256: [0.2729237221965333],\n",
       "   512: [0.23277200066947504]},\n",
       "  'KRRMAE': {128: [0.4207989561384129],\n",
       "   256: [0.3884841928324148],\n",
       "   512: [0.3586732396610669]},\n",
       "  'KRRSMAPE': {128: [0.06522165673026105],\n",
       "   256: [0.060296657775134974],\n",
       "   512: [0.05570710395147019]},\n",
       "  'queries': {128: [2580000], 256: [5140000], 512: [10260000]}},\n",
       " 'Uniform': {'trace_errors': {128: [0.022947270399702575,\n",
       "    0.023595387809545537,\n",
       "    0.023255985258751933,\n",
       "    0.022897990427619332,\n",
       "    0.02370821400363875,\n",
       "    0.023579659607831125,\n",
       "    0.02349022437548883,\n",
       "    0.023217748899482468,\n",
       "    0.022788799903144717,\n",
       "    0.022732987444361606,\n",
       "    0.023320958097323274,\n",
       "    0.022993991203985025,\n",
       "    0.023458599036543636,\n",
       "    0.023139437809184527,\n",
       "    0.023335842018536824,\n",
       "    0.02351449836281954,\n",
       "    0.02364153327468448,\n",
       "    0.02331660494668522,\n",
       "    0.022919522931605752,\n",
       "    0.02355235067484773,\n",
       "    0.023435742094559647,\n",
       "    0.023544172361511483,\n",
       "    0.023531185767842543,\n",
       "    0.024214329959878704,\n",
       "    0.023347157388976483,\n",
       "    0.022785555400529303,\n",
       "    0.02346871356972406,\n",
       "    0.022931450495478203,\n",
       "    0.023195167516238506,\n",
       "    0.024461616372399658,\n",
       "    0.023224985582747285,\n",
       "    0.024194308735300547,\n",
       "    0.023453101271983724,\n",
       "    0.023412847052069446,\n",
       "    0.023610487759283934,\n",
       "    0.023497780655023053,\n",
       "    0.022992964573213065,\n",
       "    0.02323610225051052,\n",
       "    0.023050761202070315,\n",
       "    0.023084664917084594,\n",
       "    0.02327709602294817,\n",
       "    0.02339468801070452,\n",
       "    0.022929762174390998,\n",
       "    0.023371717225953034,\n",
       "    0.023313307325572533,\n",
       "    0.023118554776207566,\n",
       "    0.023441790720843347,\n",
       "    0.02351683629707768,\n",
       "    0.02317195897723959,\n",
       "    0.023325588334282474,\n",
       "    0.023786064993592662,\n",
       "    0.02322628372753461,\n",
       "    0.023129776564860184,\n",
       "    0.023391087258281006,\n",
       "    0.023545640429577724,\n",
       "    0.023106113544288563,\n",
       "    0.023303934685553033,\n",
       "    0.02363734319870964,\n",
       "    0.023618752874648454,\n",
       "    0.02330773381143081,\n",
       "    0.02269280122234377,\n",
       "    0.022914602442587965,\n",
       "    0.023644100375800007,\n",
       "    0.023076646844060814,\n",
       "    0.023273906360446926,\n",
       "    0.02328658149772982,\n",
       "    0.022849015985261758,\n",
       "    0.02356513704534991,\n",
       "    0.02417228166691457,\n",
       "    0.023086498628282243,\n",
       "    0.02322532336265667,\n",
       "    0.024192947032440678,\n",
       "    0.02356946151564607,\n",
       "    0.023015542852574983,\n",
       "    0.023718594961478264,\n",
       "    0.023281458563779597,\n",
       "    0.023511666673430773,\n",
       "    0.023428004081033394,\n",
       "    0.023210674754774483,\n",
       "    0.022949081182660484,\n",
       "    0.02334654366971463,\n",
       "    0.0230341386853137,\n",
       "    0.02289337023623921,\n",
       "    0.024835990126399338,\n",
       "    0.02329470661982414,\n",
       "    0.02338315118231094,\n",
       "    0.02302633458676737,\n",
       "    0.024044824086144036,\n",
       "    0.02351231927768349,\n",
       "    0.023418333058249845,\n",
       "    0.023401320138085976,\n",
       "    0.023174206712166596,\n",
       "    0.023256096037626413,\n",
       "    0.023325942614595443,\n",
       "    0.023642462558849,\n",
       "    0.02333320965291623,\n",
       "    0.023130117015593532,\n",
       "    0.02375716102772858,\n",
       "    0.023183909566287002,\n",
       "    0.02299477358466702],\n",
       "   256: [0.017020555594952747,\n",
       "    0.017102108261137984,\n",
       "    0.01753437240501662,\n",
       "    0.017013696367024204,\n",
       "    0.017186555511829463,\n",
       "    0.01695091445319049,\n",
       "    0.01719710364243292,\n",
       "    0.017666170259417777,\n",
       "    0.01769483771388168,\n",
       "    0.017117363279008715,\n",
       "    0.01753880053472203,\n",
       "    0.01742214603279208,\n",
       "    0.017767303319439817,\n",
       "    0.01702808417129054,\n",
       "    0.017354573621117014,\n",
       "    0.017047372216638906,\n",
       "    0.01743339233343304,\n",
       "    0.01704746934899613,\n",
       "    0.01730875706824536,\n",
       "    0.016950776070582107,\n",
       "    0.017552610186346282,\n",
       "    0.017166024510668832,\n",
       "    0.01758954597842512,\n",
       "    0.017081884122965494,\n",
       "    0.017141594625618563,\n",
       "    0.017585313469792526,\n",
       "    0.017496958030919087,\n",
       "    0.017059789536232894,\n",
       "    0.017007156273437796,\n",
       "    0.01763638215029896,\n",
       "    0.01748197751989519,\n",
       "    0.017165563846059193,\n",
       "    0.017111218623090826,\n",
       "    0.017414170745353477,\n",
       "    0.017512374253053714,\n",
       "    0.01718931818332949,\n",
       "    0.01765500524659201,\n",
       "    0.0173986798242493,\n",
       "    0.017434305787301308,\n",
       "    0.017038758714492723,\n",
       "    0.017058952540235622,\n",
       "    0.01785987597747062,\n",
       "    0.017388211670085002,\n",
       "    0.01711969273143859,\n",
       "    0.017356356042895094,\n",
       "    0.017064096214003437,\n",
       "    0.017460028840299492,\n",
       "    0.017070371098656504,\n",
       "    0.016987397886671897,\n",
       "    0.01732767491852337,\n",
       "    0.017060556313797316,\n",
       "    0.01745265218676268,\n",
       "    0.017050738062295387,\n",
       "    0.017829781982544774,\n",
       "    0.01756438521354248,\n",
       "    0.017466987503704148,\n",
       "    0.017419695390341987,\n",
       "    0.016952800804975958,\n",
       "    0.01720015160040839,\n",
       "    0.017512797654896713,\n",
       "    0.017247971238865466,\n",
       "    0.01741497364115421,\n",
       "    0.01709799774825533,\n",
       "    0.017377942689865814,\n",
       "    0.017498516496993032,\n",
       "    0.016997447193817426,\n",
       "    0.017043250310978874,\n",
       "    0.018801265081076234,\n",
       "    0.017219651774817976,\n",
       "    0.016932537469766248,\n",
       "    0.017512021379274482,\n",
       "    0.017634317518632998,\n",
       "    0.017388244205939374,\n",
       "    0.017576059352914307,\n",
       "    0.017136464262637492,\n",
       "    0.0174415786980333,\n",
       "    0.016931396423367915,\n",
       "    0.01696667820313014,\n",
       "    0.01702617136141944,\n",
       "    0.017362035982678208,\n",
       "    0.017512394577870145,\n",
       "    0.01707536138354062,\n",
       "    0.01745231297550472,\n",
       "    0.01778972353786503,\n",
       "    0.017465279610632933,\n",
       "    0.0174553506490307,\n",
       "    0.017608926349805005,\n",
       "    0.017092070439764028,\n",
       "    0.017056421196566588,\n",
       "    0.017169919563074836,\n",
       "    0.017462338199761143,\n",
       "    0.017120199296766805,\n",
       "    0.017585388311534736,\n",
       "    0.017209675497455647,\n",
       "    0.01758246156104924,\n",
       "    0.01749141440344065,\n",
       "    0.016989389216872586,\n",
       "    0.01689381396814697,\n",
       "    0.01718003596279086,\n",
       "    0.01702947141919176],\n",
       "   512: [0.011653987626802519,\n",
       "    0.01153258868310786,\n",
       "    0.011651493993256554,\n",
       "    0.012109645066569828,\n",
       "    0.011564295920874065,\n",
       "    0.011544727826623784,\n",
       "    0.011717871661893333,\n",
       "    0.011742968538296372,\n",
       "    0.011698939197617256,\n",
       "    0.011823304623673902,\n",
       "    0.011657774003742634,\n",
       "    0.011689318170529622,\n",
       "    0.011775941651401991,\n",
       "    0.01165443657630767,\n",
       "    0.011689747150427502,\n",
       "    0.01169647814762011,\n",
       "    0.01220071805623993,\n",
       "    0.011609815301871277,\n",
       "    0.011745579528360212,\n",
       "    0.012214574169044135,\n",
       "    0.011679313380904022,\n",
       "    0.012034089150570254,\n",
       "    0.011638952710487137,\n",
       "    0.012138197823643532,\n",
       "    0.011907114616822947,\n",
       "    0.012245657604512053,\n",
       "    0.01163963448461909,\n",
       "    0.011683849438554534,\n",
       "    0.011797859532419535,\n",
       "    0.011796294711813971,\n",
       "    0.011695446518134667,\n",
       "    0.011510511574843804,\n",
       "    0.011851322850341057,\n",
       "    0.011849391540191026,\n",
       "    0.011566767438055467,\n",
       "    0.012208758785441932,\n",
       "    0.011814911344455505,\n",
       "    0.012211263756619154,\n",
       "    0.011817326710836643,\n",
       "    0.012183245022585653,\n",
       "    0.011632755239904145,\n",
       "    0.011999968054573401,\n",
       "    0.012104839232001178,\n",
       "    0.011682372051352103,\n",
       "    0.012118937152498257,\n",
       "    0.011980062756239385,\n",
       "    0.011715599414466123,\n",
       "    0.011711658042254021,\n",
       "    0.012137792147755498,\n",
       "    0.012115656958396902,\n",
       "    0.011797754867747427,\n",
       "    0.011707325761445645,\n",
       "    0.012032749062056973,\n",
       "    0.012186191368028449,\n",
       "    0.01176348441752816,\n",
       "    0.012123809419188001,\n",
       "    0.011833876570866778,\n",
       "    0.011626693064967185,\n",
       "    0.012115951629666234,\n",
       "    0.011651481921424057,\n",
       "    0.01212986370797953,\n",
       "    0.011712628571415553,\n",
       "    0.011762796953680845,\n",
       "    0.011706117164734497,\n",
       "    0.011703181942490664,\n",
       "    0.011793618825152953,\n",
       "    0.01244947827874821,\n",
       "    0.011689775463776824,\n",
       "    0.012251655556706282,\n",
       "    0.011625321668327524,\n",
       "    0.01171577668814225,\n",
       "    0.011818455294610794,\n",
       "    0.011723630355249225,\n",
       "    0.012008549620017038,\n",
       "    0.011650457862915756,\n",
       "    0.0116381352233082,\n",
       "    0.01170852930629626,\n",
       "    0.011732063930461663,\n",
       "    0.011608189833604047,\n",
       "    0.012232679142932648,\n",
       "    0.011863722831982523,\n",
       "    0.011646795160230249,\n",
       "    0.01167581579846701,\n",
       "    0.01168882324192473,\n",
       "    0.011690338558656003,\n",
       "    0.011647098160743736,\n",
       "    0.011650661841044711,\n",
       "    0.0116897898666326,\n",
       "    0.011599214016735276,\n",
       "    0.011611529778039949,\n",
       "    0.011629338820304475,\n",
       "    0.011632047817732746,\n",
       "    0.011627618066609103,\n",
       "    0.01165228348588371,\n",
       "    0.012219196384402676,\n",
       "    0.0117640747050129,\n",
       "    0.012119564811036435,\n",
       "    0.01160697103462262,\n",
       "    0.011708631469381907,\n",
       "    0.012214624919782363]},\n",
       "  'KRRMSE': {128: [0.26385920203274843,\n",
       "    0.2603687369783307,\n",
       "    0.2581224396781937,\n",
       "    0.26414944299004434,\n",
       "    0.26556153097743534,\n",
       "    0.27192256503497986,\n",
       "    0.273551775898926,\n",
       "    0.25547050126565884,\n",
       "    0.25887000165244906,\n",
       "    0.26277823194974825,\n",
       "    0.26660865831273284,\n",
       "    0.26295282674329784,\n",
       "    0.2573063049602749,\n",
       "    0.26579782006669084,\n",
       "    0.26522432459989137,\n",
       "    0.2627254020720594,\n",
       "    0.2618978264937011,\n",
       "    0.25985189401719866,\n",
       "    0.27809366840465166,\n",
       "    0.26256025824218143,\n",
       "    0.26419645177489876,\n",
       "    0.27821649078687516,\n",
       "    0.26557731796796236,\n",
       "    0.2792178963744764,\n",
       "    0.27166066255823007,\n",
       "    0.25442365819722035,\n",
       "    0.26537854041944675,\n",
       "    0.2638953940780516,\n",
       "    0.247236954201683,\n",
       "    0.28083968611934046,\n",
       "    0.2576814936292179,\n",
       "    0.26449098235284874,\n",
       "    0.2677500580009616,\n",
       "    0.25402979159588823,\n",
       "    0.2748266015281157,\n",
       "    0.27177299731938237,\n",
       "    0.2629836215454494,\n",
       "    0.2760236521719833,\n",
       "    0.2618100605295771,\n",
       "    0.263647869786733,\n",
       "    0.27153291495405485,\n",
       "    0.26132768818610286,\n",
       "    0.2614365649757927,\n",
       "    0.27320497825384393,\n",
       "    0.2669764980399314,\n",
       "    0.2545777817426613,\n",
       "    0.266287907882136,\n",
       "    0.2620109230582166,\n",
       "    0.2708800182842924,\n",
       "    0.2662915639052245,\n",
       "    0.2618400900202619,\n",
       "    0.2709986360564611,\n",
       "    0.2696242358302265,\n",
       "    0.2573480528446182,\n",
       "    0.2713641831532903,\n",
       "    0.263220434580324,\n",
       "    0.24899370190095751,\n",
       "    0.260498830016356,\n",
       "    0.2726288239051938,\n",
       "    0.2674721566776983,\n",
       "    0.26237624574356516,\n",
       "    0.2590459355595796,\n",
       "    0.2578378552663212,\n",
       "    0.26293862884369185,\n",
       "    0.2534193298123931,\n",
       "    0.2657449012852669,\n",
       "    0.25075754469401956,\n",
       "    0.27004062962633474,\n",
       "    0.272079057783779,\n",
       "    0.2587673131159336,\n",
       "    0.2517710183401719,\n",
       "    0.26683604135300776,\n",
       "    0.25753763856553047,\n",
       "    0.25690591588409245,\n",
       "    0.2633802233165387,\n",
       "    0.26964692822261255,\n",
       "    0.26622792413952096,\n",
       "    0.25698837122264784,\n",
       "    0.266450162814429,\n",
       "    0.2600189063928753,\n",
       "    0.26089252446835487,\n",
       "    0.26528801756099263,\n",
       "    0.26112673914596196,\n",
       "    0.27507289985311184,\n",
       "    0.27111124685494703,\n",
       "    0.26600791509467875,\n",
       "    0.24855778517538635,\n",
       "    0.2827541220308689,\n",
       "    0.27937903210350135,\n",
       "    0.26879900557742586,\n",
       "    0.2568657621316404,\n",
       "    0.26908512020077463,\n",
       "    0.2559798672083604,\n",
       "    0.26751291857015375,\n",
       "    0.2692249114596606,\n",
       "    0.2685033477412712,\n",
       "    0.2767900239778986,\n",
       "    0.2580628044297963,\n",
       "    0.269311233223285,\n",
       "    0.25783672365719507],\n",
       "   256: [0.22357380666842405,\n",
       "    0.2206745446205635,\n",
       "    0.22961737602895896,\n",
       "    0.2151755205717262,\n",
       "    0.21358659648744555,\n",
       "    0.22093093459797547,\n",
       "    0.22003487016795406,\n",
       "    0.23120436494570495,\n",
       "    0.2352048066155245,\n",
       "    0.21970182192806842,\n",
       "    0.22321050187287073,\n",
       "    0.23091640792574689,\n",
       "    0.22844465838970426,\n",
       "    0.21069184672372193,\n",
       "    0.22334527371622281,\n",
       "    0.21627989928742777,\n",
       "    0.22188960069562394,\n",
       "    0.2257795615420589,\n",
       "    0.21872219730054857,\n",
       "    0.213235842424071,\n",
       "    0.22775666697283578,\n",
       "    0.22070338158556305,\n",
       "    0.228422022149233,\n",
       "    0.21729718228612893,\n",
       "    0.2241808986763579,\n",
       "    0.2325991795981643,\n",
       "    0.2327902145729339,\n",
       "    0.22159011078634638,\n",
       "    0.2207070441170794,\n",
       "    0.23394093848825992,\n",
       "    0.2249167147831497,\n",
       "    0.2255001805612991,\n",
       "    0.22561723204765957,\n",
       "    0.2285149218356866,\n",
       "    0.22658560175519138,\n",
       "    0.22403568566732018,\n",
       "    0.22227148188428497,\n",
       "    0.23408504548369297,\n",
       "    0.22376099845740682,\n",
       "    0.22506394067502739,\n",
       "    0.2256696389771992,\n",
       "    0.22985764378979628,\n",
       "    0.2230044158566884,\n",
       "    0.22554493290685665,\n",
       "    0.22821909921971884,\n",
       "    0.22072502034380856,\n",
       "    0.2337474883073014,\n",
       "    0.22603362176146397,\n",
       "    0.21914244188074125,\n",
       "    0.2260161721046754,\n",
       "    0.21918566476699552,\n",
       "    0.2266300955152782,\n",
       "    0.2233656152513094,\n",
       "    0.22040899098871078,\n",
       "    0.23093124478987692,\n",
       "    0.2323659449090976,\n",
       "    0.22673331354094936,\n",
       "    0.22221328563065781,\n",
       "    0.21937137743621493,\n",
       "    0.2205747552598691,\n",
       "    0.2212840739021278,\n",
       "    0.2167892837590456,\n",
       "    0.22209176780974677,\n",
       "    0.23381826181756907,\n",
       "    0.23230616433514828,\n",
       "    0.21795373499238832,\n",
       "    0.21945979292051424,\n",
       "    0.23038665126313354,\n",
       "    0.22375911023071948,\n",
       "    0.22317538334763762,\n",
       "    0.22909419243657694,\n",
       "    0.22585141802004952,\n",
       "    0.2290946668224244,\n",
       "    0.22634990909126396,\n",
       "    0.22752191254755763,\n",
       "    0.22558258530539946,\n",
       "    0.22717738158873343,\n",
       "    0.2207143470233574,\n",
       "    0.22483036721631766,\n",
       "    0.22969416123374908,\n",
       "    0.22696474342584483,\n",
       "    0.2207844884488139,\n",
       "    0.23278899116797006,\n",
       "    0.231653617278116,\n",
       "    0.23251819399861298,\n",
       "    0.23293713359055923,\n",
       "    0.21785462112113463,\n",
       "    0.22207665404617377,\n",
       "    0.22702918274462167,\n",
       "    0.21674267240881182,\n",
       "    0.22750801084100902,\n",
       "    0.22087718384460778,\n",
       "    0.22441878877267726,\n",
       "    0.2233990430557793,\n",
       "    0.2272047398006536,\n",
       "    0.23120835985246854,\n",
       "    0.22321511395864532,\n",
       "    0.22056315274830304,\n",
       "    0.21475634196409582,\n",
       "    0.22438427631031005],\n",
       "   512: [0.17540086446678274,\n",
       "    0.19183827668155456,\n",
       "    0.18681944400359635,\n",
       "    0.1931332996048433,\n",
       "    0.1802440774295437,\n",
       "    0.17825694124534233,\n",
       "    0.18418935144692558,\n",
       "    0.19012328485331775,\n",
       "    0.18393221565357648,\n",
       "    0.18733736933220102,\n",
       "    0.18269155550903907,\n",
       "    0.184837886295282,\n",
       "    0.1826716574705076,\n",
       "    0.1862988185923354,\n",
       "    0.18457224754329504,\n",
       "    0.18716077520008392,\n",
       "    0.1873069909057804,\n",
       "    0.17566484210286948,\n",
       "    0.1866778608565883,\n",
       "    0.18592778178278346,\n",
       "    0.1849129495738684,\n",
       "    0.17567510808974082,\n",
       "    0.18398690529778006,\n",
       "    0.19666920440570157,\n",
       "    0.1863466036319058,\n",
       "    0.18875608815168243,\n",
       "    0.18476901892155262,\n",
       "    0.18148829431481694,\n",
       "    0.1885028735982107,\n",
       "    0.17978199375647821,\n",
       "    0.17697698830134564,\n",
       "    0.1771177638611065,\n",
       "    0.18659191635619748,\n",
       "    0.18190066243968367,\n",
       "    0.1778245110276159,\n",
       "    0.19123081171832754,\n",
       "    0.1827597283393535,\n",
       "    0.19010378052359012,\n",
       "    0.1845459537831453,\n",
       "    0.19042840861214552,\n",
       "    0.1850208418340735,\n",
       "    0.18506347672150203,\n",
       "    0.1949550573364822,\n",
       "    0.17819694736675637,\n",
       "    0.19188151984582877,\n",
       "    0.18338336250820506,\n",
       "    0.18580343095280927,\n",
       "    0.18615266286557977,\n",
       "    0.19520247927064244,\n",
       "    0.18915005069642443,\n",
       "    0.1832368433854779,\n",
       "    0.1869046381215257,\n",
       "    0.18394507049838615,\n",
       "    0.19300776988931317,\n",
       "    0.17896398803597544,\n",
       "    0.18993665513959296,\n",
       "    0.18367579155044897,\n",
       "    0.1864351068563179,\n",
       "    0.1935888988761687,\n",
       "    0.1827134866597909,\n",
       "    0.19429931236822448,\n",
       "    0.18077711329544727,\n",
       "    0.18134454493518995,\n",
       "    0.18313557592889307,\n",
       "    0.18812535309214495,\n",
       "    0.18662929008535567,\n",
       "    0.19116425142566212,\n",
       "    0.1880096014891943,\n",
       "    0.1895230170810426,\n",
       "    0.18588779397081134,\n",
       "    0.18611366496122428,\n",
       "    0.18219919512724383,\n",
       "    0.18668200350095654,\n",
       "    0.18927880450021622,\n",
       "    0.1870753799915582,\n",
       "    0.18397397914000754,\n",
       "    0.17995038599400645,\n",
       "    0.18453738638505607,\n",
       "    0.185277925819661,\n",
       "    0.1918665043071288,\n",
       "    0.18352296464586262,\n",
       "    0.1882619851054244,\n",
       "    0.1873927383860354,\n",
       "    0.18756550606039943,\n",
       "    0.18471388307447778,\n",
       "    0.18358308184206695,\n",
       "    0.18268270994201438,\n",
       "    0.18438661737869083,\n",
       "    0.187110471665433,\n",
       "    0.19035509991415378,\n",
       "    0.18392906286381022,\n",
       "    0.18152779549327083,\n",
       "    0.1905225361956313,\n",
       "    0.17667315948324347,\n",
       "    0.19073036353738476,\n",
       "    0.18569193089977057,\n",
       "    0.19018112056031442,\n",
       "    0.186711816471988,\n",
       "    0.18282727961664963,\n",
       "    0.1916621518691455]},\n",
       "  'KRRMAE': {128: [0.37818448220893397,\n",
       "    0.3772309071207814,\n",
       "    0.3736194163571295,\n",
       "    0.3768704256977207,\n",
       "    0.3774338236880063,\n",
       "    0.37913709283259894,\n",
       "    0.38386771325654506,\n",
       "    0.37509345082298695,\n",
       "    0.37621849025689336,\n",
       "    0.3793778569941144,\n",
       "    0.37691262434874656,\n",
       "    0.37979645705979126,\n",
       "    0.37180072792833746,\n",
       "    0.38005908333182203,\n",
       "    0.37842543971827436,\n",
       "    0.3758699030363504,\n",
       "    0.3734232717056998,\n",
       "    0.37482873260307853,\n",
       "    0.38893704863432565,\n",
       "    0.37554012072498655,\n",
       "    0.37654327151700984,\n",
       "    0.3850169770596014,\n",
       "    0.37949506669864513,\n",
       "    0.38651229457311653,\n",
       "    0.38041983885580083,\n",
       "    0.3714842515573204,\n",
       "    0.377239259597928,\n",
       "    0.37925591797522173,\n",
       "    0.3669118617159674,\n",
       "    0.3883455042549901,\n",
       "    0.3720936769304143,\n",
       "    0.3770486999072586,\n",
       "    0.37918219634765293,\n",
       "    0.371503573919354,\n",
       "    0.38636303777739367,\n",
       "    0.3819314302992487,\n",
       "    0.3771920244058133,\n",
       "    0.38489840218091603,\n",
       "    0.37315594903611055,\n",
       "    0.37822439577976186,\n",
       "    0.38177866152516154,\n",
       "    0.3760913784053416,\n",
       "    0.378473950708739,\n",
       "    0.38464438715322946,\n",
       "    0.3797235805703932,\n",
       "    0.3704227517874348,\n",
       "    0.37786359703478095,\n",
       "    0.37556846361317797,\n",
       "    0.3821512579578427,\n",
       "    0.3785818084027822,\n",
       "    0.3757747479722272,\n",
       "    0.38259333092214054,\n",
       "    0.3820814785458551,\n",
       "    0.37402802210055286,\n",
       "    0.3805324569854747,\n",
       "    0.37785814319911004,\n",
       "    0.37134640981496336,\n",
       "    0.37360296568551093,\n",
       "    0.3806034073398872,\n",
       "    0.3809752875557626,\n",
       "    0.3780303987022071,\n",
       "    0.3756494294028533,\n",
       "    0.37346251966781896,\n",
       "    0.3767717728882954,\n",
       "    0.3715530158787153,\n",
       "    0.37894772707072716,\n",
       "    0.3672128855254517,\n",
       "    0.38169477181007433,\n",
       "    0.379710151107969,\n",
       "    0.37450929098312497,\n",
       "    0.3721279214791091,\n",
       "    0.37667921047117114,\n",
       "    0.3743835876310938,\n",
       "    0.37521294325375143,\n",
       "    0.3763465110677112,\n",
       "    0.3800058467384741,\n",
       "    0.37893095116747977,\n",
       "    0.37397580456144713,\n",
       "    0.3791946940977724,\n",
       "    0.37523108717955056,\n",
       "    0.3763551827969205,\n",
       "    0.37980264540679703,\n",
       "    0.3746169959647783,\n",
       "    0.3859168819790653,\n",
       "    0.3819515986659402,\n",
       "    0.3781012845900911,\n",
       "    0.37356142536269676,\n",
       "    0.3866267222940384,\n",
       "    0.38641986308092585,\n",
       "    0.3777239015638899,\n",
       "    0.37192085289496446,\n",
       "    0.37988978064431767,\n",
       "    0.3785350008201281,\n",
       "    0.3802189616324373,\n",
       "    0.3804757794856276,\n",
       "    0.37986729870656794,\n",
       "    0.38419232827666444,\n",
       "    0.37384701139099596,\n",
       "    0.38025154656328813,\n",
       "    0.37547854599561153],\n",
       "   256: [0.3503836993716162,\n",
       "    0.3465695444622469,\n",
       "    0.3504585777966346,\n",
       "    0.34431088706687846,\n",
       "    0.3447290118628297,\n",
       "    0.34748796315984226,\n",
       "    0.3478898306381706,\n",
       "    0.35256248510890553,\n",
       "    0.35341315589155303,\n",
       "    0.34571845189373446,\n",
       "    0.3475956044293762,\n",
       "    0.35281045568917735,\n",
       "    0.35106467705345396,\n",
       "    0.3445284157823616,\n",
       "    0.3487993670148473,\n",
       "    0.3477559000735485,\n",
       "    0.3487675087650792,\n",
       "    0.3523713074404255,\n",
       "    0.3475123282840349,\n",
       "    0.34500494759292394,\n",
       "    0.3499523717459688,\n",
       "    0.34561778311314545,\n",
       "    0.3507070691453556,\n",
       "    0.34995974948970077,\n",
       "    0.34883738511596735,\n",
       "    0.35239030144947003,\n",
       "    0.35578144638209025,\n",
       "    0.34729513531122336,\n",
       "    0.3464504562857479,\n",
       "    0.35642711665437044,\n",
       "    0.34927124479491484,\n",
       "    0.351142254107361,\n",
       "    0.3496005140870923,\n",
       "    0.3527699194000211,\n",
       "    0.35050546966960666,\n",
       "    0.3486302369200139,\n",
       "    0.3487310804632042,\n",
       "    0.3548737532352308,\n",
       "    0.34830937148783264,\n",
       "    0.3528747533663267,\n",
       "    0.35037692213744803,\n",
       "    0.352373123352022,\n",
       "    0.3482170898597167,\n",
       "    0.3509549343087504,\n",
       "    0.35165273812002423,\n",
       "    0.34804327595197926,\n",
       "    0.3573205939058984,\n",
       "    0.3527704995505343,\n",
       "    0.3469100399609258,\n",
       "    0.34963371523302617,\n",
       "    0.3484758649757039,\n",
       "    0.3504379811838463,\n",
       "    0.34927032640672917,\n",
       "    0.3471228912206338,\n",
       "    0.35426352943742234,\n",
       "    0.35395696080694045,\n",
       "    0.3507322414574609,\n",
       "    0.34888055062376677,\n",
       "    0.3475754803461253,\n",
       "    0.34608629033770527,\n",
       "    0.34762182153468474,\n",
       "    0.347818547522815,\n",
       "    0.34913264298686963,\n",
       "    0.3559138654341186,\n",
       "    0.35499670771083136,\n",
       "    0.3464339038511092,\n",
       "    0.3472000688972953,\n",
       "    0.35357776907573557,\n",
       "    0.34924107775662205,\n",
       "    0.3472177005513491,\n",
       "    0.3521901367055446,\n",
       "    0.3503043823130442,\n",
       "    0.3522437146762116,\n",
       "    0.3497026938082791,\n",
       "    0.3524043019998024,\n",
       "    0.3504923376505956,\n",
       "    0.3522640828720677,\n",
       "    0.3483392391706453,\n",
       "    0.350355921161979,\n",
       "    0.3539832488065641,\n",
       "    0.3503714439508924,\n",
       "    0.3476559344803872,\n",
       "    0.35362751031978124,\n",
       "    0.35305885057307396,\n",
       "    0.3539444305127759,\n",
       "    0.3539327442942185,\n",
       "    0.34934231170242713,\n",
       "    0.34868431054534216,\n",
       "    0.35068511380326856,\n",
       "    0.34218278899738996,\n",
       "    0.3498018512574839,\n",
       "    0.3468982711881553,\n",
       "    0.34825476914878156,\n",
       "    0.35025507082030416,\n",
       "    0.35185786969030125,\n",
       "    0.35229455539565313,\n",
       "    0.34946074573026303,\n",
       "    0.34723951326711083,\n",
       "    0.3437878168025927,\n",
       "    0.3500274785908907],\n",
       "   512: [0.31612394122146525,\n",
       "    0.324977609900313,\n",
       "    0.32263352178239874,\n",
       "    0.3250481860696115,\n",
       "    0.3192103522360026,\n",
       "    0.3183535053316425,\n",
       "    0.3233462549890442,\n",
       "    0.32349067662812153,\n",
       "    0.3204253526683044,\n",
       "    0.322518621249237,\n",
       "    0.31738923291361243,\n",
       "    0.3191732845323102,\n",
       "    0.3180658467695838,\n",
       "    0.3210448442861947,\n",
       "    0.320094183627271,\n",
       "    0.32250794062942834,\n",
       "    0.3208188585950716,\n",
       "    0.31617323432901945,\n",
       "    0.32154873247578464,\n",
       "    0.3195274831081194,\n",
       "    0.31883586873796704,\n",
       "    0.31667271952283277,\n",
       "    0.3230833946354503,\n",
       "    0.32830774134557694,\n",
       "    0.32145232440312493,\n",
       "    0.32109707845336805,\n",
       "    0.31964986476793766,\n",
       "    0.3216329909488079,\n",
       "    0.32357759539564085,\n",
       "    0.3172544929395296,\n",
       "    0.31664029541426064,\n",
       "    0.31710748422242874,\n",
       "    0.31909945233656456,\n",
       "    0.31732631215735674,\n",
       "    0.31734552610707123,\n",
       "    0.32353841035851305,\n",
       "    0.31747778883469174,\n",
       "    0.32264888916850787,\n",
       "    0.3200503971493922,\n",
       "    0.32296378837915907,\n",
       "    0.32042475560612704,\n",
       "    0.32082565236957694,\n",
       "    0.3273128931668745,\n",
       "    0.3193749715996222,\n",
       "    0.3241128413858452,\n",
       "    0.3187768400686835,\n",
       "    0.3217359722209346,\n",
       "    0.31960300152427834,\n",
       "    0.32613716964888834,\n",
       "    0.32240021059265056,\n",
       "    0.3183762421216021,\n",
       "    0.3226814529329014,\n",
       "    0.31812752330224287,\n",
       "    0.3241574319777468,\n",
       "    0.31699316173550224,\n",
       "    0.32220418121971295,\n",
       "    0.31886848961032005,\n",
       "    0.32099830795613077,\n",
       "    0.3248598279462887,\n",
       "    0.31813889366684717,\n",
       "    0.32658011374213647,\n",
       "    0.3159011772158223,\n",
       "    0.3174858640961085,\n",
       "    0.3187038494231365,\n",
       "    0.3207653630979435,\n",
       "    0.3219930234160383,\n",
       "    0.3231976844710132,\n",
       "    0.32291383685932235,\n",
       "    0.3228218986785536,\n",
       "    0.3217727211156272,\n",
       "    0.3226131726852808,\n",
       "    0.31822563415866095,\n",
       "    0.3216644111580778,\n",
       "    0.3233057120062921,\n",
       "    0.3212246548060067,\n",
       "    0.3211280994227358,\n",
       "    0.3171758439930244,\n",
       "    0.3198490678984216,\n",
       "    0.3203433255087263,\n",
       "    0.32385011056761903,\n",
       "    0.31973290947999766,\n",
       "    0.3231793407351242,\n",
       "    0.3227431157114646,\n",
       "    0.32263013448069794,\n",
       "    0.3199679799945061,\n",
       "    0.3194442103691434,\n",
       "    0.31822198018949893,\n",
       "    0.320252833977279,\n",
       "    0.3209176353284016,\n",
       "    0.32529385551283824,\n",
       "    0.3198080267129752,\n",
       "    0.3168754997800965,\n",
       "    0.3245596952452968,\n",
       "    0.31796060000515025,\n",
       "    0.32381342261129265,\n",
       "    0.32135601146468773,\n",
       "    0.3231882594608245,\n",
       "    0.32047805824108616,\n",
       "    0.31846993592279893,\n",
       "    0.3235264042198135]},\n",
       "  'KRRSMAPE': {128: [0.0587607301953572,\n",
       "    0.058627656441992554,\n",
       "    0.05803852620148819,\n",
       "    0.05857719013600465,\n",
       "    0.05863876759961232,\n",
       "    0.05888415892073439,\n",
       "    0.05963523894311922,\n",
       "    0.05823749729381822,\n",
       "    0.05844469043132302,\n",
       "    0.05892654243905631,\n",
       "    0.058562379727750975,\n",
       "    0.05896988773829084,\n",
       "    0.05774483049125017,\n",
       "    0.05905156837094878,\n",
       "    0.05880502119714563,\n",
       "    0.05842739696543173,\n",
       "    0.05803105511200439,\n",
       "    0.05821899734494893,\n",
       "    0.06038638005302269,\n",
       "    0.05838998858867732,\n",
       "    0.058502568917838525,\n",
       "    0.05983071329894164,\n",
       "    0.05897113355819234,\n",
       "    0.06004410499354198,\n",
       "    0.05909494075013931,\n",
       "    0.0577261511343208,\n",
       "    0.05860514730215706,\n",
       "    0.05892994699709,\n",
       "    0.057003114414490096,\n",
       "    0.06038238524728381,\n",
       "    0.057801765320869766,\n",
       "    0.05859350569526158,\n",
       "    0.05893498043885338,\n",
       "    0.05774016843303991,\n",
       "    0.06003688207083747,\n",
       "    0.059335021631015866,\n",
       "    0.05859984007513586,\n",
       "    0.05981007448449056,\n",
       "    0.057996854705664035,\n",
       "    0.058716275963055294,\n",
       "    0.05926488063720333,\n",
       "    0.05842462688235152,\n",
       "    0.058806363933884664,\n",
       "    0.0597076378833839,\n",
       "    0.059021300147002465,\n",
       "    0.05751697858910521,\n",
       "    0.05869237930191324,\n",
       "    0.05835213600241167,\n",
       "    0.05935730728869329,\n",
       "    0.05883074816856326,\n",
       "    0.05841156440885319,\n",
       "    0.05946521418332731,\n",
       "    0.059370636556775415,\n",
       "    0.0581071165661274,\n",
       "    0.05912483651894228,\n",
       "    0.058699335955312085,\n",
       "    0.057654079698127636,\n",
       "    0.058035373013450874,\n",
       "    0.05911775405318553,\n",
       "    0.05917944889939696,\n",
       "    0.058700051862076906,\n",
       "    0.058374456932022326,\n",
       "    0.058037526625670195,\n",
       "    0.05853837477360943,\n",
       "    0.05773126061597435,\n",
       "    0.05890647990576513,\n",
       "    0.05705888918557208,\n",
       "    0.059292828675340595,\n",
       "    0.05900319328983418,\n",
       "    0.05815281017834646,\n",
       "    0.05778988394981884,\n",
       "    0.058540287701545526,\n",
       "    0.058142793905855854,\n",
       "    0.05830096070366397,\n",
       "    0.05848042674216419,\n",
       "    0.059032395113705616,\n",
       "    0.058861575731053196,\n",
       "    0.05809473635985074,\n",
       "    0.05887578020205988,\n",
       "    0.05832153711588264,\n",
       "    0.05849251884863786,\n",
       "    0.05905396720218498,\n",
       "    0.05819670559015011,\n",
       "    0.05997200287152821,\n",
       "    0.0593480943313459,\n",
       "    0.05878819234426474,\n",
       "    0.0579971165404123,\n",
       "    0.060039941690330736,\n",
       "    0.060043433149325344,\n",
       "    0.05863107634932055,\n",
       "    0.05775277944459924,\n",
       "    0.05901069137634389,\n",
       "    0.05872259303959559,\n",
       "    0.059091344734691506,\n",
       "    0.059093296604306456,\n",
       "    0.05902758683243916,\n",
       "    0.05967515342859769,\n",
       "    0.05807647599534059,\n",
       "    0.05905744115213845,\n",
       "    0.05830447376166169],\n",
       "   256: [0.054406580022331195,\n",
       "    0.05382289098089041,\n",
       "    0.05444564508250627,\n",
       "    0.053471103885090215,\n",
       "    0.053532502480907795,\n",
       "    0.05398757039087435,\n",
       "    0.05406379971765091,\n",
       "    0.054802217707840294,\n",
       "    0.0548857800310582,\n",
       "    0.05371990450298161,\n",
       "    0.05401700195498172,\n",
       "    0.05483095929698843,\n",
       "    0.054549360895374925,\n",
       "    0.0534970642154261,\n",
       "    0.054193429230665904,\n",
       "    0.05399942677636376,\n",
       "    0.05421778330570745,\n",
       "    0.054731655786689655,\n",
       "    0.05400883855019574,\n",
       "    0.053579351878324494,\n",
       "    0.054406745911157336,\n",
       "    0.05365557131720797,\n",
       "    0.05450356043407954,\n",
       "    0.0543146302903477,\n",
       "    0.05421879897633522,\n",
       "    0.05474724194824625,\n",
       "    0.0552465255158761,\n",
       "    0.05393039743466051,\n",
       "    0.05383599572753148,\n",
       "    0.055417728661197714,\n",
       "    0.05427904084666469,\n",
       "    0.05456554236816239,\n",
       "    0.054290530398256216,\n",
       "    0.05481854662701211,\n",
       "    0.05445331248670792,\n",
       "    0.05417322276389711,\n",
       "    0.054199219582240755,\n",
       "    0.05512854265313117,\n",
       "    0.05413710413370277,\n",
       "    0.05481436491158791,\n",
       "    0.054468080842872926,\n",
       "    0.05474051680316695,\n",
       "    0.054099363187455125,\n",
       "    0.05455468376785748,\n",
       "    0.0546575041961205,\n",
       "    0.05408220487260042,\n",
       "    0.05551582689634747,\n",
       "    0.0548222293417427,\n",
       "    0.05389597728818302,\n",
       "    0.05433915923326564,\n",
       "    0.05409034577068821,\n",
       "    0.05444610601224872,\n",
       "    0.054251368749185215,\n",
       "    0.0539152895191335,\n",
       "    0.055065071806069975,\n",
       "    0.054987442876398424,\n",
       "    0.05449895632449957,\n",
       "    0.05420809542270972,\n",
       "    0.053999900728977694,\n",
       "    0.05378376143210124,\n",
       "    0.054005435577448746,\n",
       "    0.05401596839507987,\n",
       "    0.05425726585315241,\n",
       "    0.05528989999640769,\n",
       "    0.055161904080908916,\n",
       "    0.05382080568930556,\n",
       "    0.05395444057985231,\n",
       "    0.054994457835291596,\n",
       "    0.054208004208007934,\n",
       "    0.05393842772816442,\n",
       "    0.054741601010627916,\n",
       "    0.05442288381668065,\n",
       "    0.0547325628384345,\n",
       "    0.054347513597881356,\n",
       "    0.054748005579872645,\n",
       "    0.05447864811121548,\n",
       "    0.05472103699750428,\n",
       "    0.05411733985538301,\n",
       "    0.05440063227254219,\n",
       "    0.05496953172222279,\n",
       "    0.05442532949594063,\n",
       "    0.0539965821098216,\n",
       "    0.05499140094007079,\n",
       "    0.054874121027321324,\n",
       "    0.054986067852292216,\n",
       "    0.05499879206409552,\n",
       "    0.05423081974697599,\n",
       "    0.05418255654767779,\n",
       "    0.05448285558916008,\n",
       "    0.053186234386889984,\n",
       "    0.054370228063774485,\n",
       "    0.053931849263054644,\n",
       "    0.054128532439188894,\n",
       "    0.05443792710892564,\n",
       "    0.054704419870683786,\n",
       "    0.05474153087841861,\n",
       "    0.05428951958870225,\n",
       "    0.053948275091585104,\n",
       "    0.05343150731486064,\n",
       "    0.054372365407029534],\n",
       "   512: [0.049071778685404584,\n",
       "    0.05046928173388617,\n",
       "    0.050099735283969174,\n",
       "    0.05045155404863109,\n",
       "    0.04952765160832913,\n",
       "    0.049393389404880146,\n",
       "    0.05017977421108051,\n",
       "    0.05018136706451684,\n",
       "    0.04975957446003456,\n",
       "    0.05005797676984905,\n",
       "    0.04927949521561868,\n",
       "    0.04954861352757439,\n",
       "    0.049363531180071404,\n",
       "    0.04985532858289013,\n",
       "    0.049673531710737816,\n",
       "    0.050082007975351145,\n",
       "    0.0497859655607962,\n",
       "    0.04907443059915772,\n",
       "    0.049936080650017825,\n",
       "    0.049595228133401996,\n",
       "    0.0495002115172701,\n",
       "    0.04913214333761675,\n",
       "    0.050125844248893846,\n",
       "    0.05098666533054043,\n",
       "    0.04989652314507755,\n",
       "    0.04982869887382342,\n",
       "    0.04961548516892252,\n",
       "    0.04989874598912316,\n",
       "    0.050219671630760736,\n",
       "    0.04922123446326319,\n",
       "    0.04912177694096277,\n",
       "    0.04918431537168998,\n",
       "    0.04952017249637636,\n",
       "    0.04923785007372119,\n",
       "    0.04922483272668233,\n",
       "    0.05021814072509774,\n",
       "    0.04926590554941009,\n",
       "    0.05007889215799704,\n",
       "    0.0496578122074132,\n",
       "    0.05013889260921498,\n",
       "    0.049719930198099255,\n",
       "    0.04980428892775767,\n",
       "    0.0508154039326032,\n",
       "    0.04953412932785293,\n",
       "    0.05031936376626198,\n",
       "    0.04947085608343282,\n",
       "    0.04994679421187005,\n",
       "    0.04961544772852683,\n",
       "    0.05065707356884579,\n",
       "    0.05005045189138715,\n",
       "    0.049394603593451866,\n",
       "    0.050071373819883955,\n",
       "    0.0493547273900955,\n",
       "    0.05030343921326085,\n",
       "    0.049188229087436065,\n",
       "    0.05005041677872961,\n",
       "    0.049504005937966875,\n",
       "    0.04983773240824234,\n",
       "    0.05042935474879571,\n",
       "    0.04938233195767987,\n",
       "    0.0507108285305541,\n",
       "    0.049027911685795185,\n",
       "    0.04929313495973612,\n",
       "    0.04946720348952361,\n",
       "    0.04976859350330469,\n",
       "    0.0499763476009395,\n",
       "    0.05018846789528658,\n",
       "    0.0501166536597658,\n",
       "    0.0501305027279064,\n",
       "    0.04996179799783679,\n",
       "    0.05011481999172811,\n",
       "    0.049415312070397156,\n",
       "    0.04994685951957386,\n",
       "    0.050225467144809244,\n",
       "    0.049876702157979694,\n",
       "    0.049861405967553465,\n",
       "    0.04922067519527768,\n",
       "    0.04961031605233997,\n",
       "    0.049726311089272675,\n",
       "    0.050268279544556926,\n",
       "    0.049645479502270703,\n",
       "    0.050162040302783296,\n",
       "    0.05011300342805316,\n",
       "    0.05008177724480231,\n",
       "    0.04965889627321406,\n",
       "    0.049603686295226,\n",
       "    0.04941340338502967,\n",
       "    0.0497411555603626,\n",
       "    0.04982571119537566,\n",
       "    0.050493380449816626,\n",
       "    0.049648947923576436,\n",
       "    0.049162625617857385,\n",
       "    0.05039788780921661,\n",
       "    0.049315193307501205,\n",
       "    0.05025040571248574,\n",
       "    0.0498795749074517,\n",
       "    0.05019748208102073,\n",
       "    0.04974168324325658,\n",
       "    0.04942413987675344,\n",
       "    0.050205093724791636]},\n",
       "  'queries': {128: [2560000,\n",
       "    2560000,\n",
       "    2560000,\n",
       "    2560000,\n",
       "    2560000,\n",
       "    2560000,\n",
       "    2560000,\n",
       "    2560000,\n",
       "    2560000,\n",
       "    2560000,\n",
       "    2560000,\n",
       "    2560000,\n",
       "    2560000,\n",
       "    2560000,\n",
       "    2560000,\n",
       "    2560000,\n",
       "    2560000,\n",
       "    2560000,\n",
       "    2560000,\n",
       "    2560000,\n",
       "    2560000,\n",
       "    2560000,\n",
       "    2560000,\n",
       "    2560000,\n",
       "    2560000,\n",
       "    2560000,\n",
       "    2560000,\n",
       "    2560000,\n",
       "    2560000,\n",
       "    2560000,\n",
       "    2560000,\n",
       "    2560000,\n",
       "    2560000,\n",
       "    2560000,\n",
       "    2560000,\n",
       "    2560000,\n",
       "    2560000,\n",
       "    2560000,\n",
       "    2560000,\n",
       "    2560000,\n",
       "    2560000,\n",
       "    2560000,\n",
       "    2560000,\n",
       "    2560000,\n",
       "    2560000,\n",
       "    2560000,\n",
       "    2560000,\n",
       "    2560000,\n",
       "    2560000,\n",
       "    2560000,\n",
       "    2560000,\n",
       "    2560000,\n",
       "    2560000,\n",
       "    2560000,\n",
       "    2560000,\n",
       "    2560000,\n",
       "    2560000,\n",
       "    2560000,\n",
       "    2560000,\n",
       "    2560000,\n",
       "    2560000,\n",
       "    2560000,\n",
       "    2560000,\n",
       "    2560000,\n",
       "    2560000,\n",
       "    2560000,\n",
       "    2560000,\n",
       "    2560000,\n",
       "    2560000,\n",
       "    2560000,\n",
       "    2560000,\n",
       "    2560000,\n",
       "    2560000,\n",
       "    2560000,\n",
       "    2560000,\n",
       "    2560000,\n",
       "    2560000,\n",
       "    2560000,\n",
       "    2560000,\n",
       "    2560000,\n",
       "    2560000,\n",
       "    2560000,\n",
       "    2560000,\n",
       "    2560000,\n",
       "    2560000,\n",
       "    2560000,\n",
       "    2560000,\n",
       "    2560000,\n",
       "    2560000,\n",
       "    2560000,\n",
       "    2560000,\n",
       "    2560000,\n",
       "    2560000,\n",
       "    2560000,\n",
       "    2560000,\n",
       "    2560000,\n",
       "    2560000,\n",
       "    2560000,\n",
       "    2560000,\n",
       "    2560000],\n",
       "   256: [5120000,\n",
       "    5120000,\n",
       "    5120000,\n",
       "    5120000,\n",
       "    5120000,\n",
       "    5120000,\n",
       "    5120000,\n",
       "    5120000,\n",
       "    5120000,\n",
       "    5120000,\n",
       "    5120000,\n",
       "    5120000,\n",
       "    5120000,\n",
       "    5120000,\n",
       "    5120000,\n",
       "    5120000,\n",
       "    5120000,\n",
       "    5120000,\n",
       "    5120000,\n",
       "    5120000,\n",
       "    5120000,\n",
       "    5120000,\n",
       "    5120000,\n",
       "    5120000,\n",
       "    5120000,\n",
       "    5120000,\n",
       "    5120000,\n",
       "    5120000,\n",
       "    5120000,\n",
       "    5120000,\n",
       "    5120000,\n",
       "    5120000,\n",
       "    5120000,\n",
       "    5120000,\n",
       "    5120000,\n",
       "    5120000,\n",
       "    5120000,\n",
       "    5120000,\n",
       "    5120000,\n",
       "    5120000,\n",
       "    5120000,\n",
       "    5120000,\n",
       "    5120000,\n",
       "    5120000,\n",
       "    5120000,\n",
       "    5120000,\n",
       "    5120000,\n",
       "    5120000,\n",
       "    5120000,\n",
       "    5120000,\n",
       "    5120000,\n",
       "    5120000,\n",
       "    5120000,\n",
       "    5120000,\n",
       "    5120000,\n",
       "    5120000,\n",
       "    5120000,\n",
       "    5120000,\n",
       "    5120000,\n",
       "    5120000,\n",
       "    5120000,\n",
       "    5120000,\n",
       "    5120000,\n",
       "    5120000,\n",
       "    5120000,\n",
       "    5120000,\n",
       "    5120000,\n",
       "    5120000,\n",
       "    5120000,\n",
       "    5120000,\n",
       "    5120000,\n",
       "    5120000,\n",
       "    5120000,\n",
       "    5120000,\n",
       "    5120000,\n",
       "    5120000,\n",
       "    5120000,\n",
       "    5120000,\n",
       "    5120000,\n",
       "    5120000,\n",
       "    5120000,\n",
       "    5120000,\n",
       "    5120000,\n",
       "    5120000,\n",
       "    5120000,\n",
       "    5120000,\n",
       "    5120000,\n",
       "    5120000,\n",
       "    5120000,\n",
       "    5120000,\n",
       "    5120000,\n",
       "    5120000,\n",
       "    5120000,\n",
       "    5120000,\n",
       "    5120000,\n",
       "    5120000,\n",
       "    5120000,\n",
       "    5120000,\n",
       "    5120000,\n",
       "    5120000],\n",
       "   512: [10240000,\n",
       "    10240000,\n",
       "    10240000,\n",
       "    10240000,\n",
       "    10240000,\n",
       "    10240000,\n",
       "    10240000,\n",
       "    10240000,\n",
       "    10240000,\n",
       "    10240000,\n",
       "    10240000,\n",
       "    10240000,\n",
       "    10240000,\n",
       "    10240000,\n",
       "    10240000,\n",
       "    10240000,\n",
       "    10240000,\n",
       "    10240000,\n",
       "    10240000,\n",
       "    10240000,\n",
       "    10240000,\n",
       "    10240000,\n",
       "    10240000,\n",
       "    10240000,\n",
       "    10240000,\n",
       "    10240000,\n",
       "    10240000,\n",
       "    10240000,\n",
       "    10240000,\n",
       "    10240000,\n",
       "    10240000,\n",
       "    10240000,\n",
       "    10240000,\n",
       "    10240000,\n",
       "    10240000,\n",
       "    10240000,\n",
       "    10240000,\n",
       "    10240000,\n",
       "    10240000,\n",
       "    10240000,\n",
       "    10240000,\n",
       "    10240000,\n",
       "    10240000,\n",
       "    10240000,\n",
       "    10240000,\n",
       "    10240000,\n",
       "    10240000,\n",
       "    10240000,\n",
       "    10240000,\n",
       "    10240000,\n",
       "    10240000,\n",
       "    10240000,\n",
       "    10240000,\n",
       "    10240000,\n",
       "    10240000,\n",
       "    10240000,\n",
       "    10240000,\n",
       "    10240000,\n",
       "    10240000,\n",
       "    10240000,\n",
       "    10240000,\n",
       "    10240000,\n",
       "    10240000,\n",
       "    10240000,\n",
       "    10240000,\n",
       "    10240000,\n",
       "    10240000,\n",
       "    10240000,\n",
       "    10240000,\n",
       "    10240000,\n",
       "    10240000,\n",
       "    10240000,\n",
       "    10240000,\n",
       "    10240000,\n",
       "    10240000,\n",
       "    10240000,\n",
       "    10240000,\n",
       "    10240000,\n",
       "    10240000,\n",
       "    10240000,\n",
       "    10240000,\n",
       "    10240000,\n",
       "    10240000,\n",
       "    10240000,\n",
       "    10240000,\n",
       "    10240000,\n",
       "    10240000,\n",
       "    10240000,\n",
       "    10240000,\n",
       "    10240000,\n",
       "    10240000,\n",
       "    10240000,\n",
       "    10240000,\n",
       "    10240000,\n",
       "    10240000,\n",
       "    10240000,\n",
       "    10240000,\n",
       "    10240000,\n",
       "    10240000,\n",
       "    10240000]}},\n",
       " 'RPCholesky': {'trace_errors': {128: [0.02263645178113402,\n",
       "    0.022846263466722302,\n",
       "    0.022994561226083534,\n",
       "    0.022927268234863914,\n",
       "    0.022865696720696542,\n",
       "    0.022967921876306356,\n",
       "    0.023264470192785484,\n",
       "    0.022893895614400753,\n",
       "    0.022966366636633574,\n",
       "    0.022952181263748206,\n",
       "    0.022977544446195496,\n",
       "    0.022956285217157892,\n",
       "    0.023063448784143292,\n",
       "    0.02292548327143668,\n",
       "    0.022873749028649946,\n",
       "    0.023168325385663775,\n",
       "    0.022906866162620464,\n",
       "    0.022854067460637815,\n",
       "    0.022933037181390864,\n",
       "    0.023142563680902093,\n",
       "    0.022799363632137647,\n",
       "    0.02315218255931977,\n",
       "    0.023103019016792313,\n",
       "    0.022699700662792748,\n",
       "    0.022782405876853044,\n",
       "    0.022917654940788634,\n",
       "    0.02304735993364702,\n",
       "    0.022896371279275265,\n",
       "    0.022867030309530672,\n",
       "    0.023096426587441418,\n",
       "    0.02319686237451824,\n",
       "    0.022956245435350683,\n",
       "    0.022981356576669897,\n",
       "    0.02294326786121328,\n",
       "    0.02287551980367989,\n",
       "    0.02295918163522092,\n",
       "    0.022958898915530518,\n",
       "    0.02289849485241939,\n",
       "    0.023127068393492118,\n",
       "    0.02293014162943491,\n",
       "    0.023263860589397518,\n",
       "    0.022982027025431673,\n",
       "    0.02299032653300965,\n",
       "    0.022954398968593342,\n",
       "    0.022955616624073628,\n",
       "    0.022772976394172657,\n",
       "    0.02296509130303002,\n",
       "    0.022984565149855554,\n",
       "    0.02311812103979937,\n",
       "    0.022822242483411356,\n",
       "    0.022915437875904537,\n",
       "    0.023071775508546853,\n",
       "    0.022928464450817046,\n",
       "    0.02300013945009996,\n",
       "    0.022927990862182376,\n",
       "    0.02289033026677262,\n",
       "    0.023135171264938255,\n",
       "    0.023275034444066842,\n",
       "    0.022826937896243543,\n",
       "    0.02285422595026357,\n",
       "    0.02296985764383062,\n",
       "    0.02319038439862943,\n",
       "    0.022829329942525692,\n",
       "    0.02297279944826023,\n",
       "    0.02302906305402339,\n",
       "    0.023150163488889666,\n",
       "    0.022929808277086704,\n",
       "    0.023008529833263493,\n",
       "    0.02294951348888899,\n",
       "    0.022815468490106103,\n",
       "    0.022865085307347,\n",
       "    0.022936116103686798,\n",
       "    0.022795847318920825,\n",
       "    0.022764203383922724,\n",
       "    0.023078092553156602,\n",
       "    0.022806310197871608,\n",
       "    0.0233726285278477,\n",
       "    0.022979087558475293,\n",
       "    0.02280715553560258,\n",
       "    0.023040614543663105,\n",
       "    0.02303097411873896,\n",
       "    0.02271622720603191,\n",
       "    0.022866041018418038,\n",
       "    0.023140792751870684,\n",
       "    0.02308612655360503,\n",
       "    0.023054515745324897,\n",
       "    0.02287277469356541,\n",
       "    0.02292902838307018,\n",
       "    0.02289651717082852,\n",
       "    0.023000026071164758,\n",
       "    0.022978164001772893,\n",
       "    0.022940163571649828,\n",
       "    0.022765945802978967,\n",
       "    0.023055640245423274,\n",
       "    0.02313843321198074,\n",
       "    0.02289867598118017,\n",
       "    0.022988900266862948,\n",
       "    0.022840214584965726,\n",
       "    0.023106206987216136,\n",
       "    0.022906696214817567],\n",
       "   256: [0.01700897603374342,\n",
       "    0.017044695664317624,\n",
       "    0.016958879236156826,\n",
       "    0.016984870494294046,\n",
       "    0.01705759126298108,\n",
       "    0.01702052355218748,\n",
       "    0.016964771261802524,\n",
       "    0.017113348940869764,\n",
       "    0.016902674632667366,\n",
       "    0.01712820987709074,\n",
       "    0.01718665396735796,\n",
       "    0.017166783877879243,\n",
       "    0.01694737950335857,\n",
       "    0.017052622251753018,\n",
       "    0.017083727163730328,\n",
       "    0.016894259967783366,\n",
       "    0.01687803407425854,\n",
       "    0.017032844610428036,\n",
       "    0.01702121099979304,\n",
       "    0.016961004240352302,\n",
       "    0.017143745482089252,\n",
       "    0.01691182536405686,\n",
       "    0.01703709746026634,\n",
       "    0.017082760554056584,\n",
       "    0.016993345531161684,\n",
       "    0.01692189965109683,\n",
       "    0.01690108128197062,\n",
       "    0.016868139025327945,\n",
       "    0.016973170956678222,\n",
       "    0.0170402307882443,\n",
       "    0.01692984494115917,\n",
       "    0.01702658830137043,\n",
       "    0.017133204976260457,\n",
       "    0.016892682519289336,\n",
       "    0.0171052987865849,\n",
       "    0.016904462069526744,\n",
       "    0.016961561049417286,\n",
       "    0.017210141822897276,\n",
       "    0.016968575890339708,\n",
       "    0.016922167859035653,\n",
       "    0.016988061539068802,\n",
       "    0.01710063121141793,\n",
       "    0.017081385752435018,\n",
       "    0.01690349705833305,\n",
       "    0.016976473630211694,\n",
       "    0.017155323792147282,\n",
       "    0.016998582692424498,\n",
       "    0.017128161250764606,\n",
       "    0.017114452951548266,\n",
       "    0.016891712300529434,\n",
       "    0.01708333218405678,\n",
       "    0.01720721299064953,\n",
       "    0.017124739656136808,\n",
       "    0.016979543378669405,\n",
       "    0.017084156772052484,\n",
       "    0.016875893246213674,\n",
       "    0.017082201542520853,\n",
       "    0.017041475395397538,\n",
       "    0.017131768550650305,\n",
       "    0.017068440323892355,\n",
       "    0.016969792797087938,\n",
       "    0.0169949662956069,\n",
       "    0.01709458104046771,\n",
       "    0.016971641627051032,\n",
       "    0.01687604330208105,\n",
       "    0.017040096872944922,\n",
       "    0.016868693630287816,\n",
       "    0.01704580906931478,\n",
       "    0.017028540926373716,\n",
       "    0.01698719068892133,\n",
       "    0.01701249025672769,\n",
       "    0.017069017206726312,\n",
       "    0.016989691546311768,\n",
       "    0.017124639051063786,\n",
       "    0.017046161161924284,\n",
       "    0.017036085549162635,\n",
       "    0.016977779546742386,\n",
       "    0.016937663967372826,\n",
       "    0.01694251103272527,\n",
       "    0.016958182674058846,\n",
       "    0.017146791302894236,\n",
       "    0.017073842282862642,\n",
       "    0.017061883292108178,\n",
       "    0.016926082059673355,\n",
       "    0.017023133215631425,\n",
       "    0.016939136475872692,\n",
       "    0.016962289689222598,\n",
       "    0.01713368398222392,\n",
       "    0.017008243457282878,\n",
       "    0.017003707083531844,\n",
       "    0.01708543036381252,\n",
       "    0.016965092259131235,\n",
       "    0.017109920554242673,\n",
       "    0.017014337167381016,\n",
       "    0.01715359405681884,\n",
       "    0.016954372292624795,\n",
       "    0.017018261393484134,\n",
       "    0.017094816600899503,\n",
       "    0.0170156690619684,\n",
       "    0.01703131007878692],\n",
       "   512: [0.011408869303524988,\n",
       "    0.011403092335527071,\n",
       "    0.011407769346885107,\n",
       "    0.011417570701596743,\n",
       "    0.011420016190596289,\n",
       "    0.011437281838643685,\n",
       "    0.0114196097686121,\n",
       "    0.01143746448395832,\n",
       "    0.011452406545154553,\n",
       "    0.011414915668785943,\n",
       "    0.011374985007844224,\n",
       "    0.011467636839490479,\n",
       "    0.011477823596269263,\n",
       "    0.011389101835295878,\n",
       "    0.01153976727070567,\n",
       "    0.011385826647050453,\n",
       "    0.011401895229285402,\n",
       "    0.011487750400364894,\n",
       "    0.011411702562476785,\n",
       "    0.011408409898990066,\n",
       "    0.011432731274072103,\n",
       "    0.011370597985928725,\n",
       "    0.011446185013090325,\n",
       "    0.011495828164102204,\n",
       "    0.011449687595302566,\n",
       "    0.011455515428195395,\n",
       "    0.011386216064652217,\n",
       "    0.011377137129096082,\n",
       "    0.011403876619365656,\n",
       "    0.011432983420776508,\n",
       "    0.01140611330107331,\n",
       "    0.011396709744871442,\n",
       "    0.011437233543053298,\n",
       "    0.01141327377322632,\n",
       "    0.01142705805931455,\n",
       "    0.011414725544949397,\n",
       "    0.01142919970511084,\n",
       "    0.011423268982274568,\n",
       "    0.011363377621281142,\n",
       "    0.011400612648084098,\n",
       "    0.011401673463189946,\n",
       "    0.0114339566286455,\n",
       "    0.011435942119134962,\n",
       "    0.011405062232055934,\n",
       "    0.011447670313049094,\n",
       "    0.01139726574624292,\n",
       "    0.01142218153760332,\n",
       "    0.011432468110280933,\n",
       "    0.011386923327945988,\n",
       "    0.011512703438419885,\n",
       "    0.011494653240566003,\n",
       "    0.011412614717902034,\n",
       "    0.01146091834200306,\n",
       "    0.011484421082194057,\n",
       "    0.011473716609599614,\n",
       "    0.011441522130892917,\n",
       "    0.011415677558997596,\n",
       "    0.011394525622297988,\n",
       "    0.011415390852707605,\n",
       "    0.011526375312495656,\n",
       "    0.011350584622272435,\n",
       "    0.011411843984799452,\n",
       "    0.011399468596102452,\n",
       "    0.011403591155309914,\n",
       "    0.011465829257839687,\n",
       "    0.011417234862851365,\n",
       "    0.011447274651795123,\n",
       "    0.011490356984680511,\n",
       "    0.011414732376140274,\n",
       "    0.011433833254743876,\n",
       "    0.011443147211290307,\n",
       "    0.011480238188457224,\n",
       "    0.011467068036262027,\n",
       "    0.011459311353207522,\n",
       "    0.011388952829674236,\n",
       "    0.011361256474232324,\n",
       "    0.011446344973724626,\n",
       "    0.011388530628766057,\n",
       "    0.011452161951970448,\n",
       "    0.011393339558911248,\n",
       "    0.011379934829852027,\n",
       "    0.011508052561923615,\n",
       "    0.01146639727070542,\n",
       "    0.011435709520356068,\n",
       "    0.011393442621402574,\n",
       "    0.011384998889485541,\n",
       "    0.011385086957336352,\n",
       "    0.0113797101927099,\n",
       "    0.011445914272547089,\n",
       "    0.01140875496908193,\n",
       "    0.011439263868515627,\n",
       "    0.011441970474651498,\n",
       "    0.01146387034264917,\n",
       "    0.011385343474721412,\n",
       "    0.011438785813507638,\n",
       "    0.011391275803466851,\n",
       "    0.011435118856548252,\n",
       "    0.011476456024117215,\n",
       "    0.01142863033905087,\n",
       "    0.01135941243011548]},\n",
       "  'KRRMSE': {128: [0.2508203748385296,\n",
       "    0.2650566912214351,\n",
       "    0.2693941295303367,\n",
       "    0.2612865387442159,\n",
       "    0.25699448425567306,\n",
       "    0.25988063333772815,\n",
       "    0.2578172364185475,\n",
       "    0.2548697560084257,\n",
       "    0.2612065467919826,\n",
       "    0.2601704006849768,\n",
       "    0.265444677911606,\n",
       "    0.27327782123848704,\n",
       "    0.2659873956454563,\n",
       "    0.25846084860694746,\n",
       "    0.2633619510120978,\n",
       "    0.2755733623951323,\n",
       "    0.2665806883161705,\n",
       "    0.26699856384237103,\n",
       "    0.264189269644355,\n",
       "    0.26393903224259946,\n",
       "    0.2614446246475038,\n",
       "    0.2505706536572901,\n",
       "    0.25369189547567345,\n",
       "    0.2595583458122766,\n",
       "    0.2691500895926505,\n",
       "    0.27399784090754015,\n",
       "    0.26566530654293086,\n",
       "    0.26950116581380407,\n",
       "    0.25891358368064676,\n",
       "    0.2566266926164417,\n",
       "    0.25521326478541334,\n",
       "    0.2593163789621435,\n",
       "    0.26466982595560223,\n",
       "    0.2530422255509441,\n",
       "    0.26263246871846957,\n",
       "    0.27036187946384654,\n",
       "    0.26588296663607414,\n",
       "    0.258984991735199,\n",
       "    0.2729695194006605,\n",
       "    0.25904675919736003,\n",
       "    0.28532426833011915,\n",
       "    0.2637571462773395,\n",
       "    0.26183516810889723,\n",
       "    0.258389688901704,\n",
       "    0.2594348872514816,\n",
       "    0.2697576457020587,\n",
       "    0.269519613137447,\n",
       "    0.2579713942419405,\n",
       "    0.2594725047720504,\n",
       "    0.25784551629438063,\n",
       "    0.256127374723622,\n",
       "    0.2735176437544119,\n",
       "    0.26704652517312,\n",
       "    0.2667448687937049,\n",
       "    0.26752510008550145,\n",
       "    0.2749741610801999,\n",
       "    0.26809214335516984,\n",
       "    0.2657052798081755,\n",
       "    0.25960320404574133,\n",
       "    0.2549271678465805,\n",
       "    0.25805433594649374,\n",
       "    0.25769154759534496,\n",
       "    0.2626504096984077,\n",
       "    0.26079266384505106,\n",
       "    0.25307904395495184,\n",
       "    0.2550253168201035,\n",
       "    0.2664585766017928,\n",
       "    0.2556816266705927,\n",
       "    0.25977764619513266,\n",
       "    0.2662742059595985,\n",
       "    0.26277500596700154,\n",
       "    0.2753617947061421,\n",
       "    0.27042671108469396,\n",
       "    0.2554892127317401,\n",
       "    0.26656837719387233,\n",
       "    0.2600190946502238,\n",
       "    0.2593846191243105,\n",
       "    0.26029421237852723,\n",
       "    0.2592376127275888,\n",
       "    0.26475535527209454,\n",
       "    0.27407241584854386,\n",
       "    0.24851909140802164,\n",
       "    0.2635383412215491,\n",
       "    0.26521459533846864,\n",
       "    0.2689645206777912,\n",
       "    0.2679963581045364,\n",
       "    0.2572720453240417,\n",
       "    0.2608175064148132,\n",
       "    0.2687794793088882,\n",
       "    0.26317844640267285,\n",
       "    0.26192918153983713,\n",
       "    0.262996756807045,\n",
       "    0.26980402662692843,\n",
       "    0.2567091557696112,\n",
       "    0.26741838344876906,\n",
       "    0.25867419732481545,\n",
       "    0.26146271229063395,\n",
       "    0.2638826779390731,\n",
       "    0.2743726697462181,\n",
       "    0.25530490938449985],\n",
       "   256: [0.22288157417631246,\n",
       "    0.2163989234740851,\n",
       "    0.2165843635696246,\n",
       "    0.22103410430334558,\n",
       "    0.2219281858735484,\n",
       "    0.2217020654542815,\n",
       "    0.22091138300669882,\n",
       "    0.22696819031116003,\n",
       "    0.2222437285783121,\n",
       "    0.2260579880781228,\n",
       "    0.22221094556711968,\n",
       "    0.22873399968191807,\n",
       "    0.2289391529036488,\n",
       "    0.224369353153671,\n",
       "    0.2175077975052719,\n",
       "    0.2168796245255552,\n",
       "    0.22007333678584856,\n",
       "    0.2185125096129833,\n",
       "    0.2202608674185642,\n",
       "    0.2260679384990637,\n",
       "    0.22990551984352697,\n",
       "    0.2185630858453816,\n",
       "    0.22210543888878337,\n",
       "    0.2158045801674682,\n",
       "    0.2214472089620811,\n",
       "    0.2206013880779957,\n",
       "    0.22508045323471118,\n",
       "    0.22486802727356875,\n",
       "    0.2173567185026604,\n",
       "    0.22444444480899464,\n",
       "    0.22365225042119874,\n",
       "    0.2256279394372692,\n",
       "    0.21981879237184293,\n",
       "    0.21723223910088973,\n",
       "    0.22888028297267032,\n",
       "    0.2160942979270117,\n",
       "    0.21794785156980662,\n",
       "    0.22739429111977866,\n",
       "    0.2167737929631874,\n",
       "    0.21802995434303366,\n",
       "    0.22126168556948464,\n",
       "    0.226219370152925,\n",
       "    0.2255830483265041,\n",
       "    0.21974334405238183,\n",
       "    0.2200732556598205,\n",
       "    0.21371040765854973,\n",
       "    0.22029660434108186,\n",
       "    0.2308704545527424,\n",
       "    0.22639728271517207,\n",
       "    0.23110186360032267,\n",
       "    0.22347308007340344,\n",
       "    0.22755362687198435,\n",
       "    0.2288503926525654,\n",
       "    0.21358468721035437,\n",
       "    0.22274888312309277,\n",
       "    0.21851956887092638,\n",
       "    0.21943699255643542,\n",
       "    0.22122994066826213,\n",
       "    0.22367615400713012,\n",
       "    0.21641436890543983,\n",
       "    0.21958901615664736,\n",
       "    0.21809648875836493,\n",
       "    0.2192218277374036,\n",
       "    0.22189461506686212,\n",
       "    0.21965993340143022,\n",
       "    0.2196639391328651,\n",
       "    0.21982005359437717,\n",
       "    0.22317036323588083,\n",
       "    0.2194243121749134,\n",
       "    0.22021923096731466,\n",
       "    0.22459386013883423,\n",
       "    0.2223099868639547,\n",
       "    0.21918694822925727,\n",
       "    0.21867952339859284,\n",
       "    0.2231436952201985,\n",
       "    0.22228531208238564,\n",
       "    0.22314755938830025,\n",
       "    0.22123753229203316,\n",
       "    0.22373344485288416,\n",
       "    0.22366367826839187,\n",
       "    0.22341752894975958,\n",
       "    0.22140613063359732,\n",
       "    0.22747796290496022,\n",
       "    0.2243210797498704,\n",
       "    0.21772712018684778,\n",
       "    0.22463917678315892,\n",
       "    0.22449620830277914,\n",
       "    0.22489876632042302,\n",
       "    0.21970258462646447,\n",
       "    0.2220683506814017,\n",
       "    0.22417399048434358,\n",
       "    0.22105623680754508,\n",
       "    0.22832982586510783,\n",
       "    0.22775562472037245,\n",
       "    0.23289100418947836,\n",
       "    0.22095227107008814,\n",
       "    0.22784305954259343,\n",
       "    0.23043103189131453,\n",
       "    0.21780844152696763,\n",
       "    0.22287096189855088],\n",
       "   512: [0.18544196207018093,\n",
       "    0.18570630216312173,\n",
       "    0.18937952306116887,\n",
       "    0.1842780442914712,\n",
       "    0.18480302027911735,\n",
       "    0.18571857444647585,\n",
       "    0.18929873885490098,\n",
       "    0.1826010022100542,\n",
       "    0.1875217656997033,\n",
       "    0.1866282752960099,\n",
       "    0.18425372296264883,\n",
       "    0.18329486335567252,\n",
       "    0.18139330270953044,\n",
       "    0.18412124872185018,\n",
       "    0.1860710750882776,\n",
       "    0.18853809640238658,\n",
       "    0.1834400051840525,\n",
       "    0.18429441998988585,\n",
       "    0.1849405862523907,\n",
       "    0.18217471105937474,\n",
       "    0.1863015881112642,\n",
       "    0.18822014820939473,\n",
       "    0.187114444280407,\n",
       "    0.18878426002496412,\n",
       "    0.187857852569131,\n",
       "    0.18024656298659406,\n",
       "    0.1879755317082487,\n",
       "    0.1867257826631271,\n",
       "    0.18469411258592103,\n",
       "    0.182078346164554,\n",
       "    0.1861378441456208,\n",
       "    0.18397304509410864,\n",
       "    0.18558100409882095,\n",
       "    0.18782154777723564,\n",
       "    0.1877423851755157,\n",
       "    0.18581624936170613,\n",
       "    0.1884570301960108,\n",
       "    0.18383544605413818,\n",
       "    0.18558862223788292,\n",
       "    0.1826955473467191,\n",
       "    0.18880976146533962,\n",
       "    0.18485042841912677,\n",
       "    0.18696955383190927,\n",
       "    0.18402416912653669,\n",
       "    0.18689426177211949,\n",
       "    0.1850725305186371,\n",
       "    0.18724035073667225,\n",
       "    0.18812494566791255,\n",
       "    0.18842591575692827,\n",
       "    0.19414750645844858,\n",
       "    0.1870795029985837,\n",
       "    0.1840341095711481,\n",
       "    0.19174193826987615,\n",
       "    0.18627376439614932,\n",
       "    0.1841896410381186,\n",
       "    0.18133022262278947,\n",
       "    0.18572145218676572,\n",
       "    0.18497486484564504,\n",
       "    0.18329695515178965,\n",
       "    0.1867421145349643,\n",
       "    0.1910137458145757,\n",
       "    0.18773734195610992,\n",
       "    0.18496537334414428,\n",
       "    0.18775952900788023,\n",
       "    0.19029169488392983,\n",
       "    0.1893013483728144,\n",
       "    0.18135496520507546,\n",
       "    0.18530283468265715,\n",
       "    0.18935528581626698,\n",
       "    0.18367145163926243,\n",
       "    0.18665631451025544,\n",
       "    0.18405894111150087,\n",
       "    0.1900144303722176,\n",
       "    0.18682669400771212,\n",
       "    0.18496723790829472,\n",
       "    0.18728275817938608,\n",
       "    0.18403160384730322,\n",
       "    0.1886891743574318,\n",
       "    0.18820911626749934,\n",
       "    0.18376826676334437,\n",
       "    0.1825055688808742,\n",
       "    0.18597571681488886,\n",
       "    0.18952383438807166,\n",
       "    0.18397475423948345,\n",
       "    0.1823050229174442,\n",
       "    0.18464796476060916,\n",
       "    0.1839892436398067,\n",
       "    0.1817634315183627,\n",
       "    0.18380214563785024,\n",
       "    0.1853798098732111,\n",
       "    0.1815430158828477,\n",
       "    0.18588936688771596,\n",
       "    0.18441230924544857,\n",
       "    0.18954412207445412,\n",
       "    0.18318032807141077,\n",
       "    0.1843796973219143,\n",
       "    0.1881022456033901,\n",
       "    0.18987959911551944,\n",
       "    0.18467459116943963,\n",
       "    0.1884082816751129]},\n",
       "  'KRRMAE': {128: [0.3719286644185985,\n",
       "    0.3838926968217967,\n",
       "    0.3843356806335459,\n",
       "    0.38102901003790196,\n",
       "    0.37618411134482466,\n",
       "    0.3739105764879665,\n",
       "    0.37569606985593856,\n",
       "    0.37185813076256463,\n",
       "    0.3797292561878716,\n",
       "    0.3767592119373363,\n",
       "    0.38002724306732033,\n",
       "    0.3890122023119411,\n",
       "    0.37855943415969134,\n",
       "    0.3772673796962123,\n",
       "    0.3783476679853748,\n",
       "    0.3864547021636715,\n",
       "    0.3808581992738702,\n",
       "    0.3817367284897814,\n",
       "    0.37989542578985463,\n",
       "    0.381692326455704,\n",
       "    0.37621775713288214,\n",
       "    0.371262835929575,\n",
       "    0.37265303618970663,\n",
       "    0.37791973986871746,\n",
       "    0.3821902286399626,\n",
       "    0.38746288102811977,\n",
       "    0.37964098607115504,\n",
       "    0.38189368281642844,\n",
       "    0.3739485572083151,\n",
       "    0.3754540536408413,\n",
       "    0.37631592341782927,\n",
       "    0.37919936805131566,\n",
       "    0.37769379861121316,\n",
       "    0.3747721709173705,\n",
       "    0.3784463724533837,\n",
       "    0.38320093839889713,\n",
       "    0.3826415551514958,\n",
       "    0.37767529395372396,\n",
       "    0.38381482548547263,\n",
       "    0.3783939547634414,\n",
       "    0.39238398113780354,\n",
       "    0.3804704543386767,\n",
       "    0.38300831527842366,\n",
       "    0.37885927448993506,\n",
       "    0.3758618549936149,\n",
       "    0.38316017527740953,\n",
       "    0.38639340198668026,\n",
       "    0.37640999574411116,\n",
       "    0.37711065549556905,\n",
       "    0.3775979425745375,\n",
       "    0.37774669089476537,\n",
       "    0.3845400425963319,\n",
       "    0.38456279754760414,\n",
       "    0.3798979707746637,\n",
       "    0.38199139889094347,\n",
       "    0.3858772839242416,\n",
       "    0.38460027638257427,\n",
       "    0.3780561136456067,\n",
       "    0.37533306046262493,\n",
       "    0.3758040157764219,\n",
       "    0.3750954066563012,\n",
       "    0.3745244943875903,\n",
       "    0.3789675752208137,\n",
       "    0.37705829802652313,\n",
       "    0.37396270182493835,\n",
       "    0.3766690073263656,\n",
       "    0.38229955951692757,\n",
       "    0.3754912316320947,\n",
       "    0.37671663428620045,\n",
       "    0.3800969669409961,\n",
       "    0.3793176646903902,\n",
       "    0.38437090086907627,\n",
       "    0.38693121496559063,\n",
       "    0.3741406770410305,\n",
       "    0.38493730605513754,\n",
       "    0.3784239947694578,\n",
       "    0.3769447130587569,\n",
       "    0.3793488117602645,\n",
       "    0.3788991574409433,\n",
       "    0.3815265278266679,\n",
       "    0.3860404483679289,\n",
       "    0.3703692579030889,\n",
       "    0.3814317740763217,\n",
       "    0.38190084282470543,\n",
       "    0.3809741145773588,\n",
       "    0.3829628623743884,\n",
       "    0.37890169222891307,\n",
       "    0.37753611405136833,\n",
       "    0.3853449517353875,\n",
       "    0.38278730481978684,\n",
       "    0.3809283195703786,\n",
       "    0.3774217764760695,\n",
       "    0.38391205159813496,\n",
       "    0.3771380962979767,\n",
       "    0.3823314303787768,\n",
       "    0.37548339675593795,\n",
       "    0.3815781059524744,\n",
       "    0.379183419856402,\n",
       "    0.38388128901730456,\n",
       "    0.37571330602444153],\n",
       "   256: [0.352010049803019,\n",
       "    0.3474018184009797,\n",
       "    0.3482648109273525,\n",
       "    0.3512245520173095,\n",
       "    0.35025235806338606,\n",
       "    0.35181720600317934,\n",
       "    0.35075319672824634,\n",
       "    0.3555115696281256,\n",
       "    0.35045710479122444,\n",
       "    0.3536719238761578,\n",
       "    0.3521490957046719,\n",
       "    0.35477822045393087,\n",
       "    0.35539075476142773,\n",
       "    0.35567606219901565,\n",
       "    0.348644725929814,\n",
       "    0.3474483607028287,\n",
       "    0.3519725986472687,\n",
       "    0.34964673732421214,\n",
       "    0.3495697294592576,\n",
       "    0.3510113402087726,\n",
       "    0.3566720976039602,\n",
       "    0.3453539488297857,\n",
       "    0.3528172536016587,\n",
       "    0.3481469217265411,\n",
       "    0.35273700176515566,\n",
       "    0.3510094673585797,\n",
       "    0.35382143402307736,\n",
       "    0.3551067760564774,\n",
       "    0.3478010186821688,\n",
       "    0.3508205805986763,\n",
       "    0.3497800795613825,\n",
       "    0.3544633280121338,\n",
       "    0.3497332138534239,\n",
       "    0.34953603388601423,\n",
       "    0.3565967140004726,\n",
       "    0.34670364010237414,\n",
       "    0.3473252785991696,\n",
       "    0.3548565231474623,\n",
       "    0.3485894937362315,\n",
       "    0.34885716788081916,\n",
       "    0.3502978965905082,\n",
       "    0.35287927115065015,\n",
       "    0.35395561010304866,\n",
       "    0.34969332454219465,\n",
       "    0.349636618335437,\n",
       "    0.34597413605369437,\n",
       "    0.3500153623912328,\n",
       "    0.3549510439201136,\n",
       "    0.3539022279392504,\n",
       "    0.3573982212176194,\n",
       "    0.3515773355151946,\n",
       "    0.35217752272556885,\n",
       "    0.35588781570190287,\n",
       "    0.3450107587077519,\n",
       "    0.352194039548667,\n",
       "    0.34830560237615094,\n",
       "    0.35082175931884174,\n",
       "    0.35103911251032643,\n",
       "    0.3521172420152603,\n",
       "    0.3475967425202493,\n",
       "    0.3499462694565665,\n",
       "    0.3493080015393143,\n",
       "    0.34841502073662217,\n",
       "    0.3516136543324043,\n",
       "    0.3493679637187756,\n",
       "    0.3509875950952921,\n",
       "    0.3491254561089576,\n",
       "    0.34927119257889255,\n",
       "    0.34920918184254335,\n",
       "    0.35156516175510205,\n",
       "    0.35292657610684236,\n",
       "    0.3520717496668213,\n",
       "    0.3483141722540756,\n",
       "    0.3489449140758703,\n",
       "    0.3534091284749815,\n",
       "    0.35231779729921153,\n",
       "    0.3515472597328805,\n",
       "    0.3510287146393064,\n",
       "    0.3532895664021654,\n",
       "    0.3531874370800844,\n",
       "    0.35290779592989346,\n",
       "    0.35063035829620254,\n",
       "    0.35719713593739794,\n",
       "    0.3544969685079136,\n",
       "    0.34941300813362536,\n",
       "    0.354781105065019,\n",
       "    0.35347651049294704,\n",
       "    0.35145194820225717,\n",
       "    0.3496064194100227,\n",
       "    0.3527827390015964,\n",
       "    0.3487256450185217,\n",
       "    0.35087676375294236,\n",
       "    0.35667384221513576,\n",
       "    0.3568085193940462,\n",
       "    0.35538314761750117,\n",
       "    0.34851127619878935,\n",
       "    0.3518761612867954,\n",
       "    0.354452770147081,\n",
       "    0.34909886519066224,\n",
       "    0.3520157218006639],\n",
       "   512: [0.3232586088623591,\n",
       "    0.32518125937945114,\n",
       "    0.32682666559067847,\n",
       "    0.32359303255226995,\n",
       "    0.3229644226626892,\n",
       "    0.3231271916566763,\n",
       "    0.32691458631620096,\n",
       "    0.32097878206530156,\n",
       "    0.3260295961541584,\n",
       "    0.3255979492239706,\n",
       "    0.3237958731851574,\n",
       "    0.32210337277268175,\n",
       "    0.320805827483843,\n",
       "    0.32421470900840993,\n",
       "    0.32368542316324594,\n",
       "    0.32650074966159054,\n",
       "    0.32124253180926854,\n",
       "    0.3243534654233892,\n",
       "    0.3243158386237242,\n",
       "    0.3219900131658545,\n",
       "    0.325020863156527,\n",
       "    0.32484592647274296,\n",
       "    0.32466408356912424,\n",
       "    0.32657878162964143,\n",
       "    0.32545181418713426,\n",
       "    0.3189612825871969,\n",
       "    0.3266846092809845,\n",
       "    0.3249066471224709,\n",
       "    0.321847548140457,\n",
       "    0.32112871942892884,\n",
       "    0.325457119802336,\n",
       "    0.32384382746964946,\n",
       "    0.3245152883684225,\n",
       "    0.32711211573231486,\n",
       "    0.3256798433375143,\n",
       "    0.32556271404233006,\n",
       "    0.3255083490469413,\n",
       "    0.3238900408762792,\n",
       "    0.32361945428564903,\n",
       "    0.32167932605688365,\n",
       "    0.3271343208855698,\n",
       "    0.3231128157671911,\n",
       "    0.3253871226720446,\n",
       "    0.32294004737802295,\n",
       "    0.32489648149928774,\n",
       "    0.3241677724933283,\n",
       "    0.32531855789208014,\n",
       "    0.3246164871138841,\n",
       "    0.32685549203024183,\n",
       "    0.3287905139956925,\n",
       "    0.32648663069509454,\n",
       "    0.3232846390751852,\n",
       "    0.32954997248795664,\n",
       "    0.32425037134075096,\n",
       "    0.3233632495110656,\n",
       "    0.3200356310256447,\n",
       "    0.3252922268903797,\n",
       "    0.3234470376744065,\n",
       "    0.32280159197261754,\n",
       "    0.32603597921909944,\n",
       "    0.3283848691597822,\n",
       "    0.32568148189993534,\n",
       "    0.3226926097377169,\n",
       "    0.3262936922986588,\n",
       "    0.3269112792138729,\n",
       "    0.32692879675840764,\n",
       "    0.3213793188670562,\n",
       "    0.3243467184013558,\n",
       "    0.32784574935150984,\n",
       "    0.3224689405616769,\n",
       "    0.3254557055117319,\n",
       "    0.3234258969875203,\n",
       "    0.3278840780171235,\n",
       "    0.3266187356160998,\n",
       "    0.32377542524023406,\n",
       "    0.3259527157977274,\n",
       "    0.32199507156153817,\n",
       "    0.3264885786513649,\n",
       "    0.3262162460672308,\n",
       "    0.3227198492394979,\n",
       "    0.3214091711061198,\n",
       "    0.3243474496873242,\n",
       "    0.32775551878275283,\n",
       "    0.3231723405781215,\n",
       "    0.32260269463693686,\n",
       "    0.3242951822669228,\n",
       "    0.3236600905901314,\n",
       "    0.321739739627678,\n",
       "    0.3240876360347282,\n",
       "    0.323210922139784,\n",
       "    0.3203078657174326,\n",
       "    0.3251363360679845,\n",
       "    0.32302624737639873,\n",
       "    0.3276556091399371,\n",
       "    0.32225175575643705,\n",
       "    0.3238640841245693,\n",
       "    0.32657208064191345,\n",
       "    0.32694116471641,\n",
       "    0.3225970254185806,\n",
       "    0.3275441943450179]},\n",
       "  'KRRSMAPE': {128: [0.05776749006954156,\n",
       "    0.05956169137825126,\n",
       "    0.059708887934675124,\n",
       "    0.05913756065828291,\n",
       "    0.058410046766195184,\n",
       "    0.05810574552955297,\n",
       "    0.05835005727555075,\n",
       "    0.05775373944411292,\n",
       "    0.05897216118397867,\n",
       "    0.05851719733369443,\n",
       "    0.05904060114419071,\n",
       "    0.06038183145672838,\n",
       "    0.058807104483601776,\n",
       "    0.05855981268046467,\n",
       "    0.058795097565649004,\n",
       "    0.060052466643321756,\n",
       "    0.05915724270035063,\n",
       "    0.05923908072804959,\n",
       "    0.058959506624921554,\n",
       "    0.05926662913342052,\n",
       "    0.05844660016364237,\n",
       "    0.05767771647043344,\n",
       "    0.057861977375977515,\n",
       "    0.05871902686016814,\n",
       "    0.05938178501523138,\n",
       "    0.06012274302042116,\n",
       "    0.0589725727672875,\n",
       "    0.05932771409987515,\n",
       "    0.058052234172562715,\n",
       "    0.05830452395336506,\n",
       "    0.05840577162433802,\n",
       "    0.058898697765888866,\n",
       "    0.058641266115360205,\n",
       "    0.05816807900904732,\n",
       "    0.058777676073192786,\n",
       "    0.05949977015357069,\n",
       "    0.059431249711210034,\n",
       "    0.05861012258546907,\n",
       "    0.059584689682518774,\n",
       "    0.05872976467889113,\n",
       "    0.06095431628346629,\n",
       "    0.05908077812069591,\n",
       "    0.059428807252126625,\n",
       "    0.05885181899305563,\n",
       "    0.058312863920264406,\n",
       "    0.059492727492489246,\n",
       "    0.05999144115720422,\n",
       "    0.05843775103229965,\n",
       "    0.05853601191740939,\n",
       "    0.058607942344286894,\n",
       "    0.05866081396695371,\n",
       "    0.05969220442031134,\n",
       "    0.059669023344756655,\n",
       "    0.058987853551061495,\n",
       "    0.059357614957206706,\n",
       "    0.05991871477563849,\n",
       "    0.059686242267114116,\n",
       "    0.05872189481398395,\n",
       "    0.058297905320897056,\n",
       "    0.058314925944772424,\n",
       "    0.05830065250312765,\n",
       "    0.05815663995398929,\n",
       "    0.05882122466092408,\n",
       "    0.058557822638958326,\n",
       "    0.05806410002644853,\n",
       "    0.05847395430388815,\n",
       "    0.05937095502152679,\n",
       "    0.05830321387717313,\n",
       "    0.058542325061792154,\n",
       "    0.05900576693901285,\n",
       "    0.05890161590627518,\n",
       "    0.05970602818652267,\n",
       "    0.060061376537943315,\n",
       "    0.05810302866825995,\n",
       "    0.05974503215392821,\n",
       "    0.05874706306340857,\n",
       "    0.058512553524993016,\n",
       "    0.05889395427097799,\n",
       "    0.05881629927477745,\n",
       "    0.059279201990967964,\n",
       "    0.0599389948715668,\n",
       "    0.057494535564458236,\n",
       "    0.059215867443362456,\n",
       "    0.05924661576255893,\n",
       "    0.059180374415061694,\n",
       "    0.05945324470700487,\n",
       "    0.05879906871483027,\n",
       "    0.05864183057886978,\n",
       "    0.05980911880555559,\n",
       "    0.059415447841250135,\n",
       "    0.059136640415264015,\n",
       "    0.05862721660643565,\n",
       "    0.0596297721980002,\n",
       "    0.058542949160137206,\n",
       "    0.05936812001500717,\n",
       "    0.05831229567849407,\n",
       "    0.05922582728257055,\n",
       "    0.058898390450044656,\n",
       "    0.059617400606543074,\n",
       "    0.05831892509758478],\n",
       "   256: [0.05467810950870896,\n",
       "    0.0539414249050669,\n",
       "    0.054115675005562504,\n",
       "    0.0545272350640569,\n",
       "    0.0544032405944521,\n",
       "    0.054641851497522737,\n",
       "    0.0544530900560737,\n",
       "    0.05519920259750364,\n",
       "    0.05441199785353859,\n",
       "    0.05491498100429389,\n",
       "    0.054695623392308095,\n",
       "    0.055111612387169225,\n",
       "    0.055218811480927284,\n",
       "    0.05523818755020718,\n",
       "    0.054128732573489866,\n",
       "    0.0539633240626228,\n",
       "    0.05465797058970779,\n",
       "    0.05431249938196733,\n",
       "    0.0542811731199611,\n",
       "    0.05455937795606095,\n",
       "    0.05538303030089651,\n",
       "    0.053675693622105704,\n",
       "    0.05477518228536882,\n",
       "    0.05405824751478942,\n",
       "    0.05477861511519302,\n",
       "    0.05449813436957351,\n",
       "    0.054939449560321894,\n",
       "    0.055133115858785074,\n",
       "    0.05401411965459414,\n",
       "    0.05450602499389172,\n",
       "    0.054357661440416226,\n",
       "    0.0550727233373209,\n",
       "    0.05437016319254956,\n",
       "    0.05428589538006072,\n",
       "    0.05538128061656376,\n",
       "    0.05384253515962278,\n",
       "    0.053943454716800975,\n",
       "    0.05509844491242261,\n",
       "    0.0541340313888746,\n",
       "    0.054173080024756064,\n",
       "    0.05442745249587591,\n",
       "    0.054829547586380395,\n",
       "    0.05494488985913684,\n",
       "    0.054333252914488754,\n",
       "    0.05430876556551743,\n",
       "    0.05374176280477321,\n",
       "    0.05434262213422792,\n",
       "    0.055164597252411705,\n",
       "    0.05495040850636537,\n",
       "    0.05552580842237661,\n",
       "    0.054609447707531275,\n",
       "    0.05471333787304313,\n",
       "    0.05524401514887661,\n",
       "    0.053574506120582635,\n",
       "    0.05470508269480587,\n",
       "    0.05408149361964804,\n",
       "    0.05446324980486766,\n",
       "    0.05450167087669424,\n",
       "    0.054677732009615274,\n",
       "    0.05396790936863829,\n",
       "    0.0543338572016152,\n",
       "    0.054240821096821365,\n",
       "    0.05412716776991027,\n",
       "    0.05457688993375391,\n",
       "    0.054267153413202526,\n",
       "    0.054486812441439096,\n",
       "    0.05423274322291817,\n",
       "    0.054281184228462016,\n",
       "    0.05424262588284188,\n",
       "    0.05459504471564877,\n",
       "    0.05479304113468851,\n",
       "    0.05465402432110227,\n",
       "    0.05407816835819538,\n",
       "    0.05423225780750696,\n",
       "    0.054895173064930455,\n",
       "    0.05469068467117479,\n",
       "    0.054576769813044566,\n",
       "    0.05451939832984559,\n",
       "    0.054840917568841394,\n",
       "    0.05483276481361165,\n",
       "    0.054825542633279226,\n",
       "    0.054454440399345244,\n",
       "    0.05544209400058312,\n",
       "    0.055071039823653085,\n",
       "    0.0542633339781643,\n",
       "    0.05506263540419693,\n",
       "    0.0548835839052872,\n",
       "    0.054574144054828855,\n",
       "    0.054319336829422846,\n",
       "    0.05476488700552977,\n",
       "    0.05420938182819215,\n",
       "    0.05448270592924312,\n",
       "    0.05538780434917791,\n",
       "    0.05544253146600695,\n",
       "    0.055225907347378894,\n",
       "    0.05413406392538932,\n",
       "    0.05467642163005262,\n",
       "    0.05505673247450559,\n",
       "    0.05423880923987333,\n",
       "    0.05466370560160576],\n",
       "   512: [0.0501619149035805,\n",
       "    0.05047050179120683,\n",
       "    0.050721516111517505,\n",
       "    0.05022284697091742,\n",
       "    0.0501385730039403,\n",
       "    0.05012820471272312,\n",
       "    0.05073477194740201,\n",
       "    0.049768456968212506,\n",
       "    0.05059436178458706,\n",
       "    0.05048692302946541,\n",
       "    0.05023686016862932,\n",
       "    0.049978372760009444,\n",
       "    0.049813037467494346,\n",
       "    0.050325253888163536,\n",
       "    0.05022782940090707,\n",
       "    0.05064906852358222,\n",
       "    0.049842022256184455,\n",
       "    0.05031696129886661,\n",
       "    0.05033182745100843,\n",
       "    0.049987680821246244,\n",
       "    0.050450701517555374,\n",
       "    0.05041048082322228,\n",
       "    0.05034236742885923,\n",
       "    0.0507162739079404,\n",
       "    0.05053816944837772,\n",
       "    0.049507100138685464,\n",
       "    0.05068734589963825,\n",
       "    0.050449927390434184,\n",
       "    0.04996072387907904,\n",
       "    0.049840511322772986,\n",
       "    0.050522916146829425,\n",
       "    0.05027425013476333,\n",
       "    0.05036741865427876,\n",
       "    0.05078391894623603,\n",
       "    0.050544130252974225,\n",
       "    0.05050970790880686,\n",
       "    0.05056108185588438,\n",
       "    0.05028874851179523,\n",
       "    0.05022673424696426,\n",
       "    0.04990317743272014,\n",
       "    0.05075560512431282,\n",
       "    0.05016535875161632,\n",
       "    0.05051821760286799,\n",
       "    0.05009850314281884,\n",
       "    0.050436317136993945,\n",
       "    0.05031695820749366,\n",
       "    0.05054401014985561,\n",
       "    0.05043685050112079,\n",
       "    0.05072971023600312,\n",
       "    0.05103222148211682,\n",
       "    0.0506759164142884,\n",
       "    0.05017276609767707,\n",
       "    0.05115777366717493,\n",
       "    0.05033814417324805,\n",
       "    0.0502322415815137,\n",
       "    0.04968035135345512,\n",
       "    0.05050067311824942,\n",
       "    0.05021683262327559,\n",
       "    0.05008566605207264,\n",
       "    0.05060107262915868,\n",
       "    0.05096660935019243,\n",
       "    0.05056863911472534,\n",
       "    0.05008050939489522,\n",
       "    0.05064878513945677,\n",
       "    0.050726285486249766,\n",
       "    0.05074743084985656,\n",
       "    0.049869077248838906,\n",
       "    0.05031950152156241,\n",
       "    0.050877969215559836,\n",
       "    0.05005835549065807,\n",
       "    0.050509969793547826,\n",
       "    0.050198617198616055,\n",
       "    0.05090954890018952,\n",
       "    0.05067765783650879,\n",
       "    0.05024197459434284,\n",
       "    0.05063319613198387,\n",
       "    0.04998302094272086,\n",
       "    0.05065008591908114,\n",
       "    0.050633848654203485,\n",
       "    0.050091940163453676,\n",
       "    0.049908287937232655,\n",
       "    0.05032078356837725,\n",
       "    0.05083314437887656,\n",
       "    0.050167357619660354,\n",
       "    0.05005452747406609,\n",
       "    0.050330421200926616,\n",
       "    0.05023887908717978,\n",
       "    0.04991318986161464,\n",
       "    0.0503177516172254,\n",
       "    0.05013983867998044,\n",
       "    0.049698487259899934,\n",
       "    0.05046965970733233,\n",
       "    0.05011407871915432,\n",
       "    0.05085383836675601,\n",
       "    0.0499632140245753,\n",
       "    0.050282755636370406,\n",
       "    0.0506833043648896,\n",
       "    0.05074140788986011,\n",
       "    0.05004531869487157,\n",
       "    0.050788826176056304]},\n",
       "  'queries': {128: [2580000,\n",
       "    2580000,\n",
       "    2580000,\n",
       "    2580000,\n",
       "    2580000,\n",
       "    2580000,\n",
       "    2580000,\n",
       "    2580000,\n",
       "    2580000,\n",
       "    2580000,\n",
       "    2580000,\n",
       "    2580000,\n",
       "    2580000,\n",
       "    2580000,\n",
       "    2580000,\n",
       "    2580000,\n",
       "    2580000,\n",
       "    2580000,\n",
       "    2580000,\n",
       "    2580000,\n",
       "    2580000,\n",
       "    2580000,\n",
       "    2580000,\n",
       "    2580000,\n",
       "    2580000,\n",
       "    2580000,\n",
       "    2580000,\n",
       "    2580000,\n",
       "    2580000,\n",
       "    2580000,\n",
       "    2580000,\n",
       "    2580000,\n",
       "    2580000,\n",
       "    2580000,\n",
       "    2580000,\n",
       "    2580000,\n",
       "    2580000,\n",
       "    2580000,\n",
       "    2580000,\n",
       "    2580000,\n",
       "    2580000,\n",
       "    2580000,\n",
       "    2580000,\n",
       "    2580000,\n",
       "    2580000,\n",
       "    2580000,\n",
       "    2580000,\n",
       "    2580000,\n",
       "    2580000,\n",
       "    2580000,\n",
       "    2580000,\n",
       "    2580000,\n",
       "    2580000,\n",
       "    2580000,\n",
       "    2580000,\n",
       "    2580000,\n",
       "    2580000,\n",
       "    2580000,\n",
       "    2580000,\n",
       "    2580000,\n",
       "    2580000,\n",
       "    2580000,\n",
       "    2580000,\n",
       "    2580000,\n",
       "    2580000,\n",
       "    2580000,\n",
       "    2580000,\n",
       "    2580000,\n",
       "    2580000,\n",
       "    2580000,\n",
       "    2580000,\n",
       "    2580000,\n",
       "    2580000,\n",
       "    2580000,\n",
       "    2580000,\n",
       "    2580000,\n",
       "    2580000,\n",
       "    2580000,\n",
       "    2580000,\n",
       "    2580000,\n",
       "    2580000,\n",
       "    2580000,\n",
       "    2580000,\n",
       "    2580000,\n",
       "    2580000,\n",
       "    2580000,\n",
       "    2580000,\n",
       "    2580000,\n",
       "    2580000,\n",
       "    2580000,\n",
       "    2580000,\n",
       "    2580000,\n",
       "    2580000,\n",
       "    2580000,\n",
       "    2580000,\n",
       "    2580000,\n",
       "    2580000,\n",
       "    2580000,\n",
       "    2580000,\n",
       "    2580000],\n",
       "   256: [5140000,\n",
       "    5140000,\n",
       "    5140000,\n",
       "    5140000,\n",
       "    5140000,\n",
       "    5140000,\n",
       "    5140000,\n",
       "    5140000,\n",
       "    5140000,\n",
       "    5140000,\n",
       "    5140000,\n",
       "    5140000,\n",
       "    5140000,\n",
       "    5140000,\n",
       "    5140000,\n",
       "    5140000,\n",
       "    5140000,\n",
       "    5140000,\n",
       "    5140000,\n",
       "    5140000,\n",
       "    5140000,\n",
       "    5140000,\n",
       "    5140000,\n",
       "    5140000,\n",
       "    5140000,\n",
       "    5140000,\n",
       "    5140000,\n",
       "    5140000,\n",
       "    5140000,\n",
       "    5140000,\n",
       "    5140000,\n",
       "    5140000,\n",
       "    5140000,\n",
       "    5140000,\n",
       "    5140000,\n",
       "    5140000,\n",
       "    5140000,\n",
       "    5140000,\n",
       "    5140000,\n",
       "    5140000,\n",
       "    5140000,\n",
       "    5140000,\n",
       "    5140000,\n",
       "    5140000,\n",
       "    5140000,\n",
       "    5140000,\n",
       "    5140000,\n",
       "    5140000,\n",
       "    5140000,\n",
       "    5140000,\n",
       "    5140000,\n",
       "    5140000,\n",
       "    5140000,\n",
       "    5140000,\n",
       "    5140000,\n",
       "    5140000,\n",
       "    5140000,\n",
       "    5140000,\n",
       "    5140000,\n",
       "    5140000,\n",
       "    5140000,\n",
       "    5140000,\n",
       "    5140000,\n",
       "    5140000,\n",
       "    5140000,\n",
       "    5140000,\n",
       "    5140000,\n",
       "    5140000,\n",
       "    5140000,\n",
       "    5140000,\n",
       "    5140000,\n",
       "    5140000,\n",
       "    5140000,\n",
       "    5140000,\n",
       "    5140000,\n",
       "    5140000,\n",
       "    5140000,\n",
       "    5140000,\n",
       "    5140000,\n",
       "    5140000,\n",
       "    5140000,\n",
       "    5140000,\n",
       "    5140000,\n",
       "    5140000,\n",
       "    5140000,\n",
       "    5140000,\n",
       "    5140000,\n",
       "    5140000,\n",
       "    5140000,\n",
       "    5140000,\n",
       "    5140000,\n",
       "    5140000,\n",
       "    5140000,\n",
       "    5140000,\n",
       "    5140000,\n",
       "    5140000,\n",
       "    5140000,\n",
       "    5140000,\n",
       "    5140000,\n",
       "    5140000],\n",
       "   512: [10260000,\n",
       "    10260000,\n",
       "    10260000,\n",
       "    10260000,\n",
       "    10260000,\n",
       "    10260000,\n",
       "    10260000,\n",
       "    10260000,\n",
       "    10260000,\n",
       "    10260000,\n",
       "    10260000,\n",
       "    10260000,\n",
       "    10260000,\n",
       "    10260000,\n",
       "    10260000,\n",
       "    10260000,\n",
       "    10260000,\n",
       "    10260000,\n",
       "    10260000,\n",
       "    10260000,\n",
       "    10260000,\n",
       "    10260000,\n",
       "    10260000,\n",
       "    10260000,\n",
       "    10260000,\n",
       "    10260000,\n",
       "    10260000,\n",
       "    10260000,\n",
       "    10260000,\n",
       "    10260000,\n",
       "    10260000,\n",
       "    10260000,\n",
       "    10260000,\n",
       "    10260000,\n",
       "    10260000,\n",
       "    10260000,\n",
       "    10260000,\n",
       "    10260000,\n",
       "    10260000,\n",
       "    10260000,\n",
       "    10260000,\n",
       "    10260000,\n",
       "    10260000,\n",
       "    10260000,\n",
       "    10260000,\n",
       "    10260000,\n",
       "    10260000,\n",
       "    10260000,\n",
       "    10260000,\n",
       "    10260000,\n",
       "    10260000,\n",
       "    10260000,\n",
       "    10260000,\n",
       "    10260000,\n",
       "    10260000,\n",
       "    10260000,\n",
       "    10260000,\n",
       "    10260000,\n",
       "    10260000,\n",
       "    10260000,\n",
       "    10260000,\n",
       "    10260000,\n",
       "    10260000,\n",
       "    10260000,\n",
       "    10260000,\n",
       "    10260000,\n",
       "    10260000,\n",
       "    10260000,\n",
       "    10260000,\n",
       "    10260000,\n",
       "    10260000,\n",
       "    10260000,\n",
       "    10260000,\n",
       "    10260000,\n",
       "    10260000,\n",
       "    10260000,\n",
       "    10260000,\n",
       "    10260000,\n",
       "    10260000,\n",
       "    10260000,\n",
       "    10260000,\n",
       "    10260000,\n",
       "    10260000,\n",
       "    10260000,\n",
       "    10260000,\n",
       "    10260000,\n",
       "    10260000,\n",
       "    10260000,\n",
       "    10260000,\n",
       "    10260000,\n",
       "    10260000,\n",
       "    10260000,\n",
       "    10260000,\n",
       "    10260000,\n",
       "    10260000,\n",
       "    10260000,\n",
       "    10260000,\n",
       "    10260000,\n",
       "    10260000,\n",
       "    10260000]}},\n",
       " 'RLS': {'trace_errors': {128: [0.023094004872561892,\n",
       "    0.023124227698524555,\n",
       "    0.022733675835743088,\n",
       "    0.022952487617831502,\n",
       "    0.023009163251861902,\n",
       "    0.02288867537175265,\n",
       "    0.022909946696200313,\n",
       "    0.023153584641017733,\n",
       "    0.023052117990935404,\n",
       "    0.022973381211755985,\n",
       "    0.022993444990696842,\n",
       "    0.022970384764380288,\n",
       "    0.02299476176152675,\n",
       "    0.023115981055101473,\n",
       "    0.023020805683833533,\n",
       "    0.02312675367861648,\n",
       "    0.023045782535305263,\n",
       "    0.02269329094805016,\n",
       "    0.022866397840718672,\n",
       "    0.02292970792393262,\n",
       "    0.022801714538662237,\n",
       "    0.02297839734253921,\n",
       "    0.02277644385957774,\n",
       "    0.022889583360126198,\n",
       "    0.022789061982533894,\n",
       "    0.023039914055435838,\n",
       "    0.023096516119145417,\n",
       "    0.022984381767285778,\n",
       "    0.02320535689766748,\n",
       "    0.022867779985990273,\n",
       "    0.022805084623859148,\n",
       "    0.022792106928790055,\n",
       "    0.022840250857906905,\n",
       "    0.022671774436123268,\n",
       "    0.023024250222775662,\n",
       "    0.02326035264443199,\n",
       "    0.022836792402257923,\n",
       "    0.02311911823019582,\n",
       "    0.022890916369581283,\n",
       "    0.022807263285715997,\n",
       "    0.022992284972559174,\n",
       "    0.02329237755822287,\n",
       "    0.023044367040977887,\n",
       "    0.02296736050970303,\n",
       "    0.022985414746331662,\n",
       "    0.02300587682525711,\n",
       "    0.02298362237405836,\n",
       "    0.02316777499360778,\n",
       "    0.023030898771407373,\n",
       "    0.02304428635409058,\n",
       "    0.02306305693616905,\n",
       "    0.023168802813378898,\n",
       "    0.02292007189622145,\n",
       "    0.0233295062875919,\n",
       "    0.022865986166612312,\n",
       "    0.02326793095286612,\n",
       "    0.022950437964101365,\n",
       "    0.02330227390068958,\n",
       "    0.022854539519537868,\n",
       "    0.023321584014299332,\n",
       "    0.023086481247487065,\n",
       "    0.023168570560459376,\n",
       "    0.022965608522964795,\n",
       "    0.023053802791045384,\n",
       "    0.022968069356148226,\n",
       "    0.023040097478258213,\n",
       "    0.022839099877756598,\n",
       "    0.02288422851645955,\n",
       "    0.022778977389612192,\n",
       "    0.023124830214913347,\n",
       "    0.023047082168028102,\n",
       "    0.023210892533979132,\n",
       "    0.023114801384436213,\n",
       "    0.02290612254866919,\n",
       "    0.023094036825774673,\n",
       "    0.023010193089818314,\n",
       "    0.022948906208212064,\n",
       "    0.023016867373675632,\n",
       "    0.023182630646918553,\n",
       "    0.02280136958887997,\n",
       "    0.02343921732724484,\n",
       "    0.022890710504477465,\n",
       "    0.022973152757826756,\n",
       "    0.02312046723231724,\n",
       "    0.0227856457823842,\n",
       "    0.022890637453755153,\n",
       "    0.02302281545023707,\n",
       "    0.022981034367126812,\n",
       "    0.022932430256703083,\n",
       "    0.023012528767454025,\n",
       "    0.022927625242773867,\n",
       "    0.02344120684266527,\n",
       "    0.023047657337602688,\n",
       "    0.022855346745001406,\n",
       "    0.02290466679640831,\n",
       "    0.02292300904942531,\n",
       "    0.023103460975020244,\n",
       "    0.023345672674657,\n",
       "    0.02287735579237178,\n",
       "    0.023139792549512275],\n",
       "   256: [0.017139407466304327,\n",
       "    0.017063148983000428,\n",
       "    0.01698471576494703,\n",
       "    0.017034234729207128,\n",
       "    0.017079861349320526,\n",
       "    0.017094886629311988,\n",
       "    0.017155306458216182,\n",
       "    0.017017984862040248,\n",
       "    0.017118781430067974,\n",
       "    0.01695363439860139,\n",
       "    0.017144473841823854,\n",
       "    0.017119462529383053,\n",
       "    0.017208793530318872,\n",
       "    0.017085318389973146,\n",
       "    0.01692820956916512,\n",
       "    0.017183378173148047,\n",
       "    0.01715522229166472,\n",
       "    0.01719484546413787,\n",
       "    0.016872952690289638,\n",
       "    0.016982498802798545,\n",
       "    0.017036947720140052,\n",
       "    0.017182256295279332,\n",
       "    0.016917059959855395,\n",
       "    0.016978643343727163,\n",
       "    0.017094333669892693,\n",
       "    0.016940736445709263,\n",
       "    0.01705972584668598,\n",
       "    0.016893746249918695,\n",
       "    0.017152197520505615,\n",
       "    0.017010369007054216,\n",
       "    0.017089180184747966,\n",
       "    0.01702414255478743,\n",
       "    0.016923599989884134,\n",
       "    0.01697184010487017,\n",
       "    0.016888223697201284,\n",
       "    0.017011799079907724,\n",
       "    0.017086126896928726,\n",
       "    0.01694393553620357,\n",
       "    0.017001481169144246,\n",
       "    0.017046253425421674,\n",
       "    0.01718854821173827,\n",
       "    0.01721790331586617,\n",
       "    0.016920578128716262,\n",
       "    0.01710057517421974,\n",
       "    0.01698361667942154,\n",
       "    0.016977208572752898,\n",
       "    0.017175218334320744,\n",
       "    0.017111958442290416,\n",
       "    0.016972626611401212,\n",
       "    0.017050511523883507,\n",
       "    0.01722532519981396,\n",
       "    0.01716732801582166,\n",
       "    0.01719256590511195,\n",
       "    0.016972888681614496,\n",
       "    0.01702218753915804,\n",
       "    0.0171987854002944,\n",
       "    0.0169722091700045,\n",
       "    0.016936916611958078,\n",
       "    0.017178278315195347,\n",
       "    0.016946546281735392,\n",
       "    0.016940007396535294,\n",
       "    0.017111457081148727,\n",
       "    0.01719750336217876,\n",
       "    0.017036854463626697,\n",
       "    0.016958839888584407,\n",
       "    0.01702144759877792,\n",
       "    0.01719774139801266,\n",
       "    0.017105296639112384,\n",
       "    0.0170773246720988,\n",
       "    0.017027414978327396,\n",
       "    0.017039340861016716,\n",
       "    0.017171668708143625,\n",
       "    0.017117091199716196,\n",
       "    0.01716061353320074,\n",
       "    0.016996122658236162,\n",
       "    0.017133171562081044,\n",
       "    0.017063263587678738,\n",
       "    0.016902072487526676,\n",
       "    0.01708306364238033,\n",
       "    0.017134742696616193,\n",
       "    0.017159005477189748,\n",
       "    0.017271997949263276,\n",
       "    0.017073863214393168,\n",
       "    0.016996908752619312,\n",
       "    0.017041835918668403,\n",
       "    0.017188401662479008,\n",
       "    0.017010873415401875,\n",
       "    0.01713199486323974,\n",
       "    0.017122992560418788,\n",
       "    0.016995076272322877,\n",
       "    0.0170277351694589,\n",
       "    0.01715319497299861,\n",
       "    0.017168486832209236,\n",
       "    0.01711827416981214,\n",
       "    0.016981246488984653,\n",
       "    0.01712233577584575,\n",
       "    0.01707509911772213,\n",
       "    0.017104695104931487,\n",
       "    0.01698462367628399,\n",
       "    0.017082973606272027],\n",
       "   512: [0.011417441175388376,\n",
       "    0.01138742248507715,\n",
       "    0.011438984387799427,\n",
       "    0.011520776131511047,\n",
       "    0.011442572940715035,\n",
       "    0.01136634315725878,\n",
       "    0.011438902469462664,\n",
       "    0.011427449602647539,\n",
       "    0.011405612018088323,\n",
       "    0.01142589102638558,\n",
       "    0.011570969780633641,\n",
       "    0.011445773282967094,\n",
       "    0.011426433722301045,\n",
       "    0.011480158139480227,\n",
       "    0.011423467063017051,\n",
       "    0.011429904920474474,\n",
       "    0.011561977110713814,\n",
       "    0.011422788189393032,\n",
       "    0.01139533124749123,\n",
       "    0.011439793007389017,\n",
       "    0.011414662984451752,\n",
       "    0.011413273427435706,\n",
       "    0.011438032195587948,\n",
       "    0.011408828609144621,\n",
       "    0.011474887231254798,\n",
       "    0.011376775507427191,\n",
       "    0.011482221459241918,\n",
       "    0.011399264866033263,\n",
       "    0.011431718478750918,\n",
       "    0.011521065691598232,\n",
       "    0.011400998303545748,\n",
       "    0.011454859135749939,\n",
       "    0.011451113806723697,\n",
       "    0.011477821078992747,\n",
       "    0.011445844082534313,\n",
       "    0.011482837405993996,\n",
       "    0.011377146074882513,\n",
       "    0.011433675733417295,\n",
       "    0.011486882839732607,\n",
       "    0.011456315960964822,\n",
       "    0.011479211091396792,\n",
       "    0.011439599546692079,\n",
       "    0.011452015471294544,\n",
       "    0.011466651561095751,\n",
       "    0.011447854611604271,\n",
       "    0.011419072750823397,\n",
       "    0.011409325773575802,\n",
       "    0.011625327854520764,\n",
       "    0.011463706977017136,\n",
       "    0.011454599429778682,\n",
       "    0.01141809991344071,\n",
       "    0.011554759507585005,\n",
       "    0.011434925861430929,\n",
       "    0.011447869077704854,\n",
       "    0.011439671365573667,\n",
       "    0.01140501779999704,\n",
       "    0.011412992765027411,\n",
       "    0.011467251814611883,\n",
       "    0.011443933846948676,\n",
       "    0.011464111867613428,\n",
       "    0.011446038167795086,\n",
       "    0.011453962954408961,\n",
       "    0.011373575613717912,\n",
       "    0.011431212053337731,\n",
       "    0.011395565737318793,\n",
       "    0.011385429857283634,\n",
       "    0.011452537760310588,\n",
       "    0.011454868248328785,\n",
       "    0.01142636843815344,\n",
       "    0.011469922677943396,\n",
       "    0.011390635226236373,\n",
       "    0.011448860553498525,\n",
       "    0.011429062867715584,\n",
       "    0.011402998321362793,\n",
       "    0.01154033453854645,\n",
       "    0.011515865171272526,\n",
       "    0.011479149469708318,\n",
       "    0.011438514949519595,\n",
       "    0.011399611519117206,\n",
       "    0.011418045354099012,\n",
       "    0.011450249259402518,\n",
       "    0.011526630838997699,\n",
       "    0.011443721691390784,\n",
       "    0.011366511765988798,\n",
       "    0.01144187959692863,\n",
       "    0.011444723530798001,\n",
       "    0.011434956835484263,\n",
       "    0.011452432272428996,\n",
       "    0.011401529157375807,\n",
       "    0.011455850311070935,\n",
       "    0.011450550007225684,\n",
       "    0.01146225501549634,\n",
       "    0.011446354431194414,\n",
       "    0.011441281968164003,\n",
       "    0.011393708568427065,\n",
       "    0.0114315030236452,\n",
       "    0.011441962332344702,\n",
       "    0.011394579526580491,\n",
       "    0.011477578970846298,\n",
       "    0.01146097114099539]},\n",
       "  'KRRMSE': {128: [0.26400265905388653,\n",
       "    0.2587907981963753,\n",
       "    0.2706323010552268,\n",
       "    0.26521867538623545,\n",
       "    0.2660750284221204,\n",
       "    0.26889480717188424,\n",
       "    0.2663596227727898,\n",
       "    0.27062797789074133,\n",
       "    0.26272317801051254,\n",
       "    0.26792116231737034,\n",
       "    0.25968773696538233,\n",
       "    0.2592372720453234,\n",
       "    0.2645233100167466,\n",
       "    0.26535626889034375,\n",
       "    0.256886084865536,\n",
       "    0.2522687830747348,\n",
       "    0.26741796609698015,\n",
       "    0.2669376632197681,\n",
       "    0.2612809957685882,\n",
       "    0.2679653064145579,\n",
       "    0.2534102684983623,\n",
       "    0.26311853442802674,\n",
       "    0.2618402596633856,\n",
       "    0.25338027579581396,\n",
       "    0.26003020010221434,\n",
       "    0.26614321061817864,\n",
       "    0.25875996368982584,\n",
       "    0.26160563211409144,\n",
       "    0.2494142503712934,\n",
       "    0.25352926613984356,\n",
       "    0.26351911190474014,\n",
       "    0.2679191610397514,\n",
       "    0.2668794107021945,\n",
       "    0.24996143936611484,\n",
       "    0.2614582247506275,\n",
       "    0.26409259616871106,\n",
       "    0.2660593880940334,\n",
       "    0.2800894341725912,\n",
       "    0.2572268837134824,\n",
       "    0.26805680796398607,\n",
       "    0.2582457015898461,\n",
       "    0.2697778258697746,\n",
       "    0.25676589670762595,\n",
       "    0.25998490809874697,\n",
       "    0.26515804160291334,\n",
       "    0.2643158924349321,\n",
       "    0.27244030845164313,\n",
       "    0.269193471786079,\n",
       "    0.2593093131061302,\n",
       "    0.2566699108056799,\n",
       "    0.24814529774034208,\n",
       "    0.25949284968088704,\n",
       "    0.25714787094968744,\n",
       "    0.27428385608176975,\n",
       "    0.2529946515492955,\n",
       "    0.25761794425165685,\n",
       "    0.2697765067206249,\n",
       "    0.28131278133839066,\n",
       "    0.25534198011299447,\n",
       "    0.2611225555868112,\n",
       "    0.25698200319577547,\n",
       "    0.2578470882421524,\n",
       "    0.26763425595069895,\n",
       "    0.2609002920244793,\n",
       "    0.25686441414418415,\n",
       "    0.2704339377254395,\n",
       "    0.2712971310611743,\n",
       "    0.2664470333407244,\n",
       "    0.25933283550976594,\n",
       "    0.2618714798657254,\n",
       "    0.2651464850123047,\n",
       "    0.26564797186747635,\n",
       "    0.266703505330536,\n",
       "    0.2706258611381582,\n",
       "    0.26117772293831587,\n",
       "    0.25823928305938776,\n",
       "    0.275377160031255,\n",
       "    0.2658609698042032,\n",
       "    0.26830314253628945,\n",
       "    0.26937367939074897,\n",
       "    0.2697553349658162,\n",
       "    0.2609539776609126,\n",
       "    0.2574279225291011,\n",
       "    0.2656630570168146,\n",
       "    0.26129216871039335,\n",
       "    0.2588358459509415,\n",
       "    0.2605360563912626,\n",
       "    0.2628543830365149,\n",
       "    0.26217121544685096,\n",
       "    0.26638952044807196,\n",
       "    0.2608827354107644,\n",
       "    0.2586289457362456,\n",
       "    0.2569054473184797,\n",
       "    0.2518028505002248,\n",
       "    0.2704437684142949,\n",
       "    0.261125349166197,\n",
       "    0.26696198285633665,\n",
       "    0.2696102808824123,\n",
       "    0.2656533728796274,\n",
       "    0.2619207443828888],\n",
       "   256: [0.2269670096637075,\n",
       "    0.22672394105205498,\n",
       "    0.2260171367206612,\n",
       "    0.22863577847769312,\n",
       "    0.220957938054724,\n",
       "    0.22346137971398716,\n",
       "    0.21862106068861867,\n",
       "    0.22408275403425176,\n",
       "    0.2238618723323863,\n",
       "    0.2192428597167397,\n",
       "    0.22458796122669422,\n",
       "    0.22533326289804245,\n",
       "    0.23496982795874902,\n",
       "    0.22092379394439232,\n",
       "    0.2197832597593575,\n",
       "    0.2284637203651498,\n",
       "    0.22377169010791131,\n",
       "    0.22766935245187442,\n",
       "    0.22622504765199591,\n",
       "    0.2276387285682245,\n",
       "    0.22064405682005273,\n",
       "    0.22624148634998578,\n",
       "    0.2199647596855434,\n",
       "    0.22339158421495664,\n",
       "    0.21807497387342722,\n",
       "    0.21801803516087112,\n",
       "    0.22458381834633329,\n",
       "    0.2231357073107688,\n",
       "    0.2206850212696946,\n",
       "    0.22783297454118734,\n",
       "    0.22952635721187709,\n",
       "    0.21386843033030814,\n",
       "    0.22056074763853717,\n",
       "    0.2213064133407861,\n",
       "    0.21898982696003608,\n",
       "    0.22646746015524555,\n",
       "    0.229177838912371,\n",
       "    0.2157132740786785,\n",
       "    0.2223414198963635,\n",
       "    0.2199232761339756,\n",
       "    0.22983146092604476,\n",
       "    0.22353440786963924,\n",
       "    0.21779926471307787,\n",
       "    0.22283880515552792,\n",
       "    0.22544299523467617,\n",
       "    0.22225943681688773,\n",
       "    0.2219199844652153,\n",
       "    0.22782764267319858,\n",
       "    0.2192609665342267,\n",
       "    0.22980021881075377,\n",
       "    0.22855206856143906,\n",
       "    0.22434051708435168,\n",
       "    0.22895971025116796,\n",
       "    0.2235441691319252,\n",
       "    0.21934014674561977,\n",
       "    0.22795766010200874,\n",
       "    0.22035352493926944,\n",
       "    0.22243507165881501,\n",
       "    0.22347142110474888,\n",
       "    0.2177457752980718,\n",
       "    0.22055324476627752,\n",
       "    0.22625923907220213,\n",
       "    0.2215906944942899,\n",
       "    0.21666218448078017,\n",
       "    0.21892079472845358,\n",
       "    0.21922738057223304,\n",
       "    0.22845317986380456,\n",
       "    0.22690260684026775,\n",
       "    0.22795544616384797,\n",
       "    0.22139839530131986,\n",
       "    0.21624586811906288,\n",
       "    0.2353807871795348,\n",
       "    0.2225244133192382,\n",
       "    0.224872854459238,\n",
       "    0.225724009424246,\n",
       "    0.22993231561066033,\n",
       "    0.22586976260603087,\n",
       "    0.2148509029897064,\n",
       "    0.21848489098768,\n",
       "    0.2238890285368778,\n",
       "    0.2239146486260626,\n",
       "    0.21761444151226714,\n",
       "    0.23691249952190505,\n",
       "    0.22119505993397529,\n",
       "    0.22423425465847244,\n",
       "    0.22833655289265276,\n",
       "    0.2322362823521912,\n",
       "    0.22172761836649849,\n",
       "    0.22011317743583964,\n",
       "    0.22401473177066064,\n",
       "    0.22594378067684,\n",
       "    0.22540145288359903,\n",
       "    0.2223388737030809,\n",
       "    0.22345884244920236,\n",
       "    0.22295496334876624,\n",
       "    0.21998254471009387,\n",
       "    0.22361571997308582,\n",
       "    0.22440747318771942,\n",
       "    0.23066949893743163,\n",
       "    0.22427372455334244],\n",
       "   512: [0.18162727396843076,\n",
       "    0.18694192468566617,\n",
       "    0.18289776657184673,\n",
       "    0.18520224303430452,\n",
       "    0.18887110975453725,\n",
       "    0.18404985789475323,\n",
       "    0.1839403833196652,\n",
       "    0.18606130946509677,\n",
       "    0.18470528183160884,\n",
       "    0.18418558197438342,\n",
       "    0.1872820270599966,\n",
       "    0.18766233482554498,\n",
       "    0.18296248778048277,\n",
       "    0.18035930717262108,\n",
       "    0.184950596489129,\n",
       "    0.187281408812543,\n",
       "    0.1937819004927616,\n",
       "    0.1839691719122129,\n",
       "    0.18347073313742698,\n",
       "    0.18793689712633357,\n",
       "    0.18142525688496636,\n",
       "    0.18370559004590037,\n",
       "    0.1844659706588172,\n",
       "    0.18432790055796416,\n",
       "    0.1850567701728206,\n",
       "    0.1841471554877572,\n",
       "    0.18602669696175617,\n",
       "    0.1844516764080277,\n",
       "    0.18494582005466415,\n",
       "    0.19164481260900665,\n",
       "    0.1852739977843779,\n",
       "    0.1841076874091093,\n",
       "    0.17766156840093264,\n",
       "    0.18149277725682736,\n",
       "    0.18346370030252607,\n",
       "    0.18076352129855092,\n",
       "    0.18255520140828183,\n",
       "    0.18359072595086437,\n",
       "    0.18400164344047548,\n",
       "    0.1823649754825506,\n",
       "    0.184247529109686,\n",
       "    0.18444819683423797,\n",
       "    0.1847273016671008,\n",
       "    0.1907820722143681,\n",
       "    0.18363412714596553,\n",
       "    0.18315887925144603,\n",
       "    0.18259870043190082,\n",
       "    0.18969056045250396,\n",
       "    0.18273916668938686,\n",
       "    0.17943577543346015,\n",
       "    0.18292126019930696,\n",
       "    0.18507530184725662,\n",
       "    0.18433112509908223,\n",
       "    0.18794100686849122,\n",
       "    0.1831619317912134,\n",
       "    0.1863940513810712,\n",
       "    0.18528444706082367,\n",
       "    0.18284478416703576,\n",
       "    0.1837997326906896,\n",
       "    0.18340562443392697,\n",
       "    0.18046412266718198,\n",
       "    0.18081103010377134,\n",
       "    0.1854687454010158,\n",
       "    0.1842823560607708,\n",
       "    0.19054108177268403,\n",
       "    0.18244086928847827,\n",
       "    0.17835580807437673,\n",
       "    0.1863372108548252,\n",
       "    0.18458145477438626,\n",
       "    0.18472612398718,\n",
       "    0.18347391907018482,\n",
       "    0.1859549332751945,\n",
       "    0.18523425662546011,\n",
       "    0.1803464056431698,\n",
       "    0.19502265060814647,\n",
       "    0.1923463877248873,\n",
       "    0.1847189054463813,\n",
       "    0.18325877678910754,\n",
       "    0.17891815162595445,\n",
       "    0.18540943436285426,\n",
       "    0.18420557034362756,\n",
       "    0.18561976869717003,\n",
       "    0.18830520564570621,\n",
       "    0.1872197249501013,\n",
       "    0.1888530524561181,\n",
       "    0.1817912142919477,\n",
       "    0.18254421652550198,\n",
       "    0.18164813327958423,\n",
       "    0.1828356658381142,\n",
       "    0.18569987128496218,\n",
       "    0.18167413407309524,\n",
       "    0.18537708136011719,\n",
       "    0.18506927161933878,\n",
       "    0.18365887300647965,\n",
       "    0.18415809764172195,\n",
       "    0.17761268406570646,\n",
       "    0.18096660525268798,\n",
       "    0.18151943041069044,\n",
       "    0.18141028330559178,\n",
       "    0.18517502352310447]},\n",
       "  'KRRMAE': {128: [0.3756735607947933,\n",
       "    0.3770782824166633,\n",
       "    0.38260959936398214,\n",
       "    0.37802196819982964,\n",
       "    0.3829147172303224,\n",
       "    0.38156789259793356,\n",
       "    0.37926855603404247,\n",
       "    0.3835277551409296,\n",
       "    0.3792130352657045,\n",
       "    0.38087680434598076,\n",
       "    0.3744924176668202,\n",
       "    0.37527292563207876,\n",
       "    0.3778282601863779,\n",
       "    0.37776615680276876,\n",
       "    0.37431096705886374,\n",
       "    0.371995386244969,\n",
       "    0.38303397502945247,\n",
       "    0.38054121769787214,\n",
       "    0.37960982678795824,\n",
       "    0.38195287567659725,\n",
       "    0.3733080582234658,\n",
       "    0.37982729881467225,\n",
       "    0.37971960310904357,\n",
       "    0.37320621453281666,\n",
       "    0.3800695109247062,\n",
       "    0.3824740015948501,\n",
       "    0.3791657478356321,\n",
       "    0.377640507250477,\n",
       "    0.37069564334477073,\n",
       "    0.37435549568835524,\n",
       "    0.37919045858328393,\n",
       "    0.3809158857563294,\n",
       "    0.3816143256792971,\n",
       "    0.3733259672763823,\n",
       "    0.38038192768732426,\n",
       "    0.3759898201093922,\n",
       "    0.3791772717310053,\n",
       "    0.3899410229563744,\n",
       "    0.3734595855288438,\n",
       "    0.38404845623194117,\n",
       "    0.3768871509408259,\n",
       "    0.3821325239355303,\n",
       "    0.37516055009013183,\n",
       "    0.37667712646611373,\n",
       "    0.3836402028780396,\n",
       "    0.3774157687034611,\n",
       "    0.38813102340757405,\n",
       "    0.3846020565637334,\n",
       "    0.37820446356223464,\n",
       "    0.3737182489812479,\n",
       "    0.37055279702963284,\n",
       "    0.3753500841747961,\n",
       "    0.3757484670719572,\n",
       "    0.38504144497002035,\n",
       "    0.37424599986436424,\n",
       "    0.37505178722950583,\n",
       "    0.38459898177822205,\n",
       "    0.3892271387817144,\n",
       "    0.3743843694199551,\n",
       "    0.3794442131146424,\n",
       "    0.37475122832058844,\n",
       "    0.3792981693550021,\n",
       "    0.3837583930904118,\n",
       "    0.37614858587661004,\n",
       "    0.3761379617446013,\n",
       "    0.38120528931694814,\n",
       "    0.382979044101504,\n",
       "    0.3847530373102176,\n",
       "    0.3780900485014753,\n",
       "    0.37601467106280534,\n",
       "    0.3795167764195902,\n",
       "    0.3861492718620363,\n",
       "    0.38559363600812374,\n",
       "    0.38285263969037797,\n",
       "    0.3805730847409545,\n",
       "    0.3765970407028244,\n",
       "    0.3839795632748517,\n",
       "    0.380956680183721,\n",
       "    0.37896497416389785,\n",
       "    0.3846504741485841,\n",
       "    0.3857026128663312,\n",
       "    0.3786656369327145,\n",
       "    0.37715424867413505,\n",
       "    0.37971516213642953,\n",
       "    0.3755271836672845,\n",
       "    0.37915274482318334,\n",
       "    0.37410136277350636,\n",
       "    0.37923823843259963,\n",
       "    0.3799820715175895,\n",
       "    0.3829086567026694,\n",
       "    0.3761113099986886,\n",
       "    0.3735446724995267,\n",
       "    0.37503587867032484,\n",
       "    0.3705203300557976,\n",
       "    0.38317591770319287,\n",
       "    0.37760997303022587,\n",
       "    0.37924683837877793,\n",
       "    0.3802283937119423,\n",
       "    0.378707034517349,\n",
       "    0.3760837880121168],\n",
       "   256: [0.3519185295600625,\n",
       "    0.356228033591756,\n",
       "    0.35566838926014316,\n",
       "    0.35507358504434167,\n",
       "    0.3511979844242453,\n",
       "    0.3517275357222534,\n",
       "    0.35083478776561694,\n",
       "    0.353379648244317,\n",
       "    0.3491889977650996,\n",
       "    0.3503490154244374,\n",
       "    0.35206173297995935,\n",
       "    0.35393664224129223,\n",
       "    0.3578845588603147,\n",
       "    0.3502289356789108,\n",
       "    0.3490181620216395,\n",
       "    0.3540845021038857,\n",
       "    0.3511589927460713,\n",
       "    0.3555679893565026,\n",
       "    0.35276846666745043,\n",
       "    0.3553386476636797,\n",
       "    0.3510670691069885,\n",
       "    0.35063149596351406,\n",
       "    0.35048719251916766,\n",
       "    0.3528286638734443,\n",
       "    0.347241619196778,\n",
       "    0.34688186607359467,\n",
       "    0.3539537617217994,\n",
       "    0.35276883668822795,\n",
       "    0.34859183622552886,\n",
       "    0.35338430224735395,\n",
       "    0.35168421271247857,\n",
       "    0.34640276425292127,\n",
       "    0.35059911551735684,\n",
       "    0.35022254870081576,\n",
       "    0.3505908864682404,\n",
       "    0.3544283215504331,\n",
       "    0.3530191816695137,\n",
       "    0.3486593133245739,\n",
       "    0.3517596459777405,\n",
       "    0.3486188016430877,\n",
       "    0.35829290806680164,\n",
       "    0.35250188086160295,\n",
       "    0.3492571675362673,\n",
       "    0.3497027121290143,\n",
       "    0.35354086026193654,\n",
       "    0.35108907143324475,\n",
       "    0.34791059564139876,\n",
       "    0.3524182228580764,\n",
       "    0.3489774890745267,\n",
       "    0.3548068914496751,\n",
       "    0.3556861340417291,\n",
       "    0.3530162220504393,\n",
       "    0.35475000446617133,\n",
       "    0.34973974943977354,\n",
       "    0.3485835290478828,\n",
       "    0.35549961128266744,\n",
       "    0.3515668687596388,\n",
       "    0.35164834321925176,\n",
       "    0.35028485159653605,\n",
       "    0.34820039314772777,\n",
       "    0.3507261988814973,\n",
       "    0.35516868761350734,\n",
       "    0.35138410052277524,\n",
       "    0.34688840808311044,\n",
       "    0.3493797188390596,\n",
       "    0.3495911609828262,\n",
       "    0.3533617804221117,\n",
       "    0.35215293358523064,\n",
       "    0.35553467282487333,\n",
       "    0.3497700269229671,\n",
       "    0.34621698076273844,\n",
       "    0.35888904794263865,\n",
       "    0.35175880658988307,\n",
       "    0.34995245337089986,\n",
       "    0.35600369029855,\n",
       "    0.3530305812230957,\n",
       "    0.35219934705789546,\n",
       "    0.34508193151369587,\n",
       "    0.3483658058910185,\n",
       "    0.3525586740788081,\n",
       "    0.35384666355884115,\n",
       "    0.3494372573746734,\n",
       "    0.35872450952594864,\n",
       "    0.35083434812577463,\n",
       "    0.3521399552310156,\n",
       "    0.3523218700185705,\n",
       "    0.35552200666068356,\n",
       "    0.3496737506716112,\n",
       "    0.3483903012807774,\n",
       "    0.3513170353921832,\n",
       "    0.3537369311812406,\n",
       "    0.3516614362025051,\n",
       "    0.3472221211258508,\n",
       "    0.35280360293538093,\n",
       "    0.3513801230320507,\n",
       "    0.3495477608917986,\n",
       "    0.3517723252172552,\n",
       "    0.3532416573077899,\n",
       "    0.35539762776878575,\n",
       "    0.35464249653869845],\n",
       "   512: [0.3207254177660655,\n",
       "    0.3257103236331626,\n",
       "    0.32139803223141744,\n",
       "    0.32018181498047643,\n",
       "    0.3260385094189078,\n",
       "    0.3231695692908715,\n",
       "    0.32290000938166197,\n",
       "    0.3249511551654759,\n",
       "    0.3232817183076503,\n",
       "    0.32343411860384685,\n",
       "    0.32201810045079293,\n",
       "    0.32495210108549943,\n",
       "    0.3222829125070321,\n",
       "    0.320290865125312,\n",
       "    0.3232589266984497,\n",
       "    0.32459785599098884,\n",
       "    0.32692530980925216,\n",
       "    0.323363525375324,\n",
       "    0.3228433808651466,\n",
       "    0.32584264681592157,\n",
       "    0.3204890370808089,\n",
       "    0.32293455814148603,\n",
       "    0.322835370055079,\n",
       "    0.32322703051009266,\n",
       "    0.3240797854679855,\n",
       "    0.3227609468960481,\n",
       "    0.32466471450697587,\n",
       "    0.3232817358291412,\n",
       "    0.32428683890522464,\n",
       "    0.325546293745777,\n",
       "    0.3239359885286419,\n",
       "    0.32242025939126595,\n",
       "    0.3181121410749953,\n",
       "    0.3207776623578772,\n",
       "    0.3216524584831937,\n",
       "    0.320926879740419,\n",
       "    0.3222518101435035,\n",
       "    0.32251872425140704,\n",
       "    0.32366590179550053,\n",
       "    0.32268502266760385,\n",
       "    0.3234374568337359,\n",
       "    0.3227007714803153,\n",
       "    0.32306382711936205,\n",
       "    0.3280277904793592,\n",
       "    0.323757987508484,\n",
       "    0.32224117939589986,\n",
       "    0.3213599243234094,\n",
       "    0.32266181342286193,\n",
       "    0.3219007068616213,\n",
       "    0.3196795488229912,\n",
       "    0.32283671346093334,\n",
       "    0.32134597981949364,\n",
       "    0.3232841411966614,\n",
       "    0.32618736064764864,\n",
       "    0.32240504810145193,\n",
       "    0.3239047615447171,\n",
       "    0.32451028269655724,\n",
       "    0.3217133837939234,\n",
       "    0.32338579845172516,\n",
       "    0.32251132592916365,\n",
       "    0.31994631316747935,\n",
       "    0.3212004423028706,\n",
       "    0.3242570898757893,\n",
       "    0.3245078821070639,\n",
       "    0.32819388784468895,\n",
       "    0.3221130965465244,\n",
       "    0.31723300918037967,\n",
       "    0.32444201888101315,\n",
       "    0.3247199291703563,\n",
       "    0.3242637410340667,\n",
       "    0.32312386045884284,\n",
       "    0.3252983846777867,\n",
       "    0.32400849884668625,\n",
       "    0.31904250095016534,\n",
       "    0.3279912107573958,\n",
       "    0.32665661468524265,\n",
       "    0.3239322901114586,\n",
       "    0.3222987492005548,\n",
       "    0.31895705897283333,\n",
       "    0.3257327123422905,\n",
       "    0.3240621906017567,\n",
       "    0.32425822982007596,\n",
       "    0.3254915919280449,\n",
       "    0.3259790043072087,\n",
       "    0.3274860746905283,\n",
       "    0.3224925111054936,\n",
       "    0.32275091145764107,\n",
       "    0.3202873150697956,\n",
       "    0.32125655633321637,\n",
       "    0.32418696028603033,\n",
       "    0.32158849506711706,\n",
       "    0.3238573591192149,\n",
       "    0.32396342989716803,\n",
       "    0.32345794558194396,\n",
       "    0.32240640925911135,\n",
       "    0.31799088737799214,\n",
       "    0.3199539702114176,\n",
       "    0.32071187335698736,\n",
       "    0.3208374753887613,\n",
       "    0.32320024243517664]},\n",
       "  'KRRSMAPE': {128: [0.0583321106929867,\n",
       "    0.05855063344482502,\n",
       "    0.05941653082695782,\n",
       "    0.0586458161796027,\n",
       "    0.05943008284559244,\n",
       "    0.05926383569020246,\n",
       "    0.05892508739232726,\n",
       "    0.059564855361691094,\n",
       "    0.058885679890179426,\n",
       "    0.05913693985127479,\n",
       "    0.05818553326154335,\n",
       "    0.05829383744594196,\n",
       "    0.05868907613650024,\n",
       "    0.058707661715584586,\n",
       "    0.05815373710866527,\n",
       "    0.057781183820047065,\n",
       "    0.059472783707359055,\n",
       "    0.059125987971853144,\n",
       "    0.05894746339714977,\n",
       "    0.05936436768293966,\n",
       "    0.05796521905611876,\n",
       "    0.05894465817864052,\n",
       "    0.058954686036954716,\n",
       "    0.0579486924307062,\n",
       "    0.05897835040092279,\n",
       "    0.05938675524486575,\n",
       "    0.058849122562483466,\n",
       "    0.0586733659635803,\n",
       "    0.05755381831743616,\n",
       "    0.0581123798205408,\n",
       "    0.05889696818417201,\n",
       "    0.05920145725174251,\n",
       "    0.05927845447045277,\n",
       "    0.05795590072112118,\n",
       "    0.05903975904246129,\n",
       "    0.058400163802736174,\n",
       "    0.058901423793083225,\n",
       "    0.06060678048352233,\n",
       "    0.05801891569223549,\n",
       "    0.05962006883296356,\n",
       "    0.05855175600323759,\n",
       "    0.05935285670428441,\n",
       "    0.05823606288482144,\n",
       "    0.058513093044027895,\n",
       "    0.0595472039035047,\n",
       "    0.05866041170646765,\n",
       "    0.060230606666916035,\n",
       "    0.05975278370615026,\n",
       "    0.05871720341498949,\n",
       "    0.058018958017513514,\n",
       "    0.05753265878980673,\n",
       "    0.05830988815009027,\n",
       "    0.058382738410229625,\n",
       "    0.05980953268926119,\n",
       "    0.05810190832998783,\n",
       "    0.058253162310357424,\n",
       "    0.05966891094236869,\n",
       "    0.06049748523836816,\n",
       "    0.05809406070695886,\n",
       "    0.05889024965324338,\n",
       "    0.058195600493915915,\n",
       "    0.058893906811084605,\n",
       "    0.059615419902770715,\n",
       "    0.05841112055160961,\n",
       "    0.05840739460541929,\n",
       "    0.05915735021119353,\n",
       "    0.059514324589239435,\n",
       "    0.059713881906440926,\n",
       "    0.05870373728186879,\n",
       "    0.05840136804064218,\n",
       "    0.05890905553472545,\n",
       "    0.059931071786156656,\n",
       "    0.05983664704064662,\n",
       "    0.059463544137251086,\n",
       "    0.05912623810810234,\n",
       "    0.058458844061234444,\n",
       "    0.05965569027193851,\n",
       "    0.05915264755977396,\n",
       "    0.05884082120579135,\n",
       "    0.059751610904595756,\n",
       "    0.05986813240623926,\n",
       "    0.05884182364410747,\n",
       "    0.05857565729779061,\n",
       "    0.058941874270043625,\n",
       "    0.05836402896903013,\n",
       "    0.05890356828588955,\n",
       "    0.05815004094551141,\n",
       "    0.05887713873961376,\n",
       "    0.05899521485339052,\n",
       "    0.05940501230653971,\n",
       "    0.058429425456224815,\n",
       "    0.058025725758366176,\n",
       "    0.0582594119146696,\n",
       "    0.05754306122894757,\n",
       "    0.0595401732402405,\n",
       "    0.05863659997983095,\n",
       "    0.05888219983028655,\n",
       "    0.05902507739541266,\n",
       "    0.05881487462694825,\n",
       "    0.058380397909440024],\n",
       "   256: [0.054690831908434004,\n",
       "    0.055313580338863605,\n",
       "    0.055207253305193625,\n",
       "    0.05519320864973578,\n",
       "    0.05455440887895437,\n",
       "    0.05463113787163719,\n",
       "    0.0544858233706775,\n",
       "    0.054837972712801386,\n",
       "    0.054251384254091366,\n",
       "    0.054406334780657935,\n",
       "    0.054654156360925445,\n",
       "    0.0549334294167802,\n",
       "    0.0555630378228302,\n",
       "    0.05437756111095537,\n",
       "    0.054209800288967394,\n",
       "    0.05499839898481798,\n",
       "    0.05454106465790518,\n",
       "    0.055242728787273016,\n",
       "    0.05481630716336937,\n",
       "    0.05519981669431793,\n",
       "    0.05452794302494131,\n",
       "    0.05447226319756862,\n",
       "    0.05443260152049552,\n",
       "    0.05480702381268434,\n",
       "    0.05394689496999847,\n",
       "    0.05389403012077779,\n",
       "    0.054952598615667286,\n",
       "    0.054766476141071725,\n",
       "    0.05410571711288306,\n",
       "    0.054889357668930834,\n",
       "    0.05467639718633047,\n",
       "    0.05380524305450599,\n",
       "    0.0544388810304152,\n",
       "    0.054401047994812976,\n",
       "    0.0544558296237815,\n",
       "    0.05501741386745385,\n",
       "    0.05486009922140372,\n",
       "    0.054178873085377055,\n",
       "    0.05463147856485215,\n",
       "    0.054172330178178234,\n",
       "    0.055641635214811434,\n",
       "    0.05473746509896098,\n",
       "    0.05422047732562022,\n",
       "    0.05434030519767332,\n",
       "    0.054931245031593995,\n",
       "    0.05452442169531762,\n",
       "    0.05407230504246358,\n",
       "    0.054732110055317924,\n",
       "    0.05418588389561199,\n",
       "    0.05512225818862771,\n",
       "    0.05524824473994722,\n",
       "    0.05483159018140842,\n",
       "    0.05509873915352182,\n",
       "    0.05434456672136896,\n",
       "    0.05412077731933255,\n",
       "    0.055241870454627404,\n",
       "    0.05459031085395344,\n",
       "    0.054625588579345255,\n",
       "    0.054404148917539565,\n",
       "    0.05407304231104181,\n",
       "    0.05446019782129343,\n",
       "    0.05518324629297139,\n",
       "    0.054542964134002045,\n",
       "    0.053854820210392645,\n",
       "    0.054258466865479284,\n",
       "    0.05430655987271217,\n",
       "    0.0548839708609068,\n",
       "    0.054712762186624866,\n",
       "    0.05521095770617794,\n",
       "    0.05430220719715851,\n",
       "    0.05375499082734361,\n",
       "    0.055757390868168895,\n",
       "    0.05461448951776701,\n",
       "    0.05434994222806936,\n",
       "    0.05530622659636569,\n",
       "    0.05487960868880597,\n",
       "    0.054694736264851725,\n",
       "    0.05361676868742877,\n",
       "    0.05411426600745784,\n",
       "    0.05471919806299163,\n",
       "    0.05493266074619366,\n",
       "    0.05430385821463646,\n",
       "    0.055729367079187034,\n",
       "    0.05447023332478159,\n",
       "    0.054686544286242214,\n",
       "    0.05473492302388456,\n",
       "    0.055255906261885854,\n",
       "    0.05430031747073776,\n",
       "    0.0541062801631317,\n",
       "    0.05457523090158096,\n",
       "    0.05493266388346207,\n",
       "    0.054634917653276,\n",
       "    0.053963458134108,\n",
       "    0.05479095633721809,\n",
       "    0.054606613477403095,\n",
       "    0.054292856885932224,\n",
       "    0.054624197544501624,\n",
       "    0.054853046772659536,\n",
       "    0.05521354890703043,\n",
       "    0.055060069191949335],\n",
       "   512: [0.049762724883840016,\n",
       "    0.05053294377662776,\n",
       "    0.04989961356718263,\n",
       "    0.0497131304678922,\n",
       "    0.05060135549168924,\n",
       "    0.05017468449548001,\n",
       "    0.0501293475136343,\n",
       "    0.05044898235860854,\n",
       "    0.050153345786753074,\n",
       "    0.05015992986228851,\n",
       "    0.049975630267857465,\n",
       "    0.05044583611509326,\n",
       "    0.05000167740240593,\n",
       "    0.04970122327215685,\n",
       "    0.05021343250994088,\n",
       "    0.05040465554861592,\n",
       "    0.05075121704108717,\n",
       "    0.05019862812000234,\n",
       "    0.050081980677426495,\n",
       "    0.05061288096945488,\n",
       "    0.04972958131056912,\n",
       "    0.05011224736656435,\n",
       "    0.05011186796496488,\n",
       "    0.0501538890302526,\n",
       "    0.050288470947605336,\n",
       "    0.050085627077052206,\n",
       "    0.05038364219735442,\n",
       "    0.05017731068604187,\n",
       "    0.05033347485131507,\n",
       "    0.050567352543996504,\n",
       "    0.05029745464514871,\n",
       "    0.05002826822049486,\n",
       "    0.04936390846134479,\n",
       "    0.04980175593154413,\n",
       "    0.04988396432358099,\n",
       "    0.049797706537054044,\n",
       "    0.05002948818959139,\n",
       "    0.05006632320801843,\n",
       "    0.050230935711975164,\n",
       "    0.05006106954529738,\n",
       "    0.05019668385684382,\n",
       "    0.0500755693452079,\n",
       "    0.0501726322756798,\n",
       "    0.050898127126798545,\n",
       "    0.050242180877662135,\n",
       "    0.05001436004879105,\n",
       "    0.04985122235074317,\n",
       "    0.05006902199883465,\n",
       "    0.04995411177167595,\n",
       "    0.04960803734935536,\n",
       "    0.05008608668937666,\n",
       "    0.04988482606232225,\n",
       "    0.05019700908290192,\n",
       "    0.050643215631011686,\n",
       "    0.050046439492802484,\n",
       "    0.05027561764990188,\n",
       "    0.050359665171349925,\n",
       "    0.04994768562785415,\n",
       "    0.050173659004262745,\n",
       "    0.050025862260408206,\n",
       "    0.04966700645243335,\n",
       "    0.04986662914290466,\n",
       "    0.050342665514639576,\n",
       "    0.05035729713643055,\n",
       "    0.05095408794186975,\n",
       "    0.04999704133999882,\n",
       "    0.049246847685942126,\n",
       "    0.05036447069646124,\n",
       "    0.05038364562167316,\n",
       "    0.050311521122649853,\n",
       "    0.05017019585401463,\n",
       "    0.050461391988011715,\n",
       "    0.0503159786403927,\n",
       "    0.04948049346475566,\n",
       "    0.05096561342723843,\n",
       "    0.05073029449990019,\n",
       "    0.05027801886214635,\n",
       "    0.05002565253460535,\n",
       "    0.04948442843989564,\n",
       "    0.05057010472143616,\n",
       "    0.05030560489020208,\n",
       "    0.050326646012700586,\n",
       "    0.05050840894523862,\n",
       "    0.050605555716279414,\n",
       "    0.050830455817299856,\n",
       "    0.050076749888661835,\n",
       "    0.050024230399385826,\n",
       "    0.049701927275430685,\n",
       "    0.04987074394843099,\n",
       "    0.050322887852433336,\n",
       "    0.049911826840946825,\n",
       "    0.050238486992876634,\n",
       "    0.0502887392575568,\n",
       "    0.0501954004882432,\n",
       "    0.05005964608994104,\n",
       "    0.0493248675362432,\n",
       "    0.049657112953317525,\n",
       "    0.04973724094141768,\n",
       "    0.049794093411522085,\n",
       "    0.05018197964463353]},\n",
       "  'queries': {128: [6644642,\n",
       "    6384013,\n",
       "    6971823,\n",
       "    6547761,\n",
       "    6348383,\n",
       "    6555574,\n",
       "    6764324,\n",
       "    6739329,\n",
       "    6549014,\n",
       "    6864637,\n",
       "    6570578,\n",
       "    7034643,\n",
       "    6849327,\n",
       "    6840890,\n",
       "    6681512,\n",
       "    6336836,\n",
       "    6657450,\n",
       "    6756826,\n",
       "    6849638,\n",
       "    7055576,\n",
       "    6811506,\n",
       "    6656512,\n",
       "    6938701,\n",
       "    6542451,\n",
       "    6700890,\n",
       "    6447456,\n",
       "    6521512,\n",
       "    6792764,\n",
       "    6695266,\n",
       "    6551204,\n",
       "    6874012,\n",
       "    6767766,\n",
       "    6629950,\n",
       "    7000264,\n",
       "    6757455,\n",
       "    6661830,\n",
       "    6572453,\n",
       "    6596828,\n",
       "    6751821,\n",
       "    6622761,\n",
       "    7141827,\n",
       "    6908078,\n",
       "    6781518,\n",
       "    6864635,\n",
       "    7135265,\n",
       "    6787138,\n",
       "    6247760,\n",
       "    6659012,\n",
       "    6690571,\n",
       "    6829332,\n",
       "    6494322,\n",
       "    6540573,\n",
       "    7241516,\n",
       "    6324011,\n",
       "    6979013,\n",
       "    6817762,\n",
       "    7434953,\n",
       "    6646204,\n",
       "    6359322,\n",
       "    7014020,\n",
       "    6380576,\n",
       "    7007452,\n",
       "    6350577,\n",
       "    6301511,\n",
       "    6820889,\n",
       "    6844015,\n",
       "    6428079,\n",
       "    6350265,\n",
       "    6552765,\n",
       "    6420571,\n",
       "    6680884,\n",
       "    6654012,\n",
       "    6707769,\n",
       "    6723702,\n",
       "    6279325,\n",
       "    6397136,\n",
       "    6776826,\n",
       "    6670577,\n",
       "    6384324,\n",
       "    7114012,\n",
       "    6872760,\n",
       "    6777139,\n",
       "    6831824,\n",
       "    6557449,\n",
       "    6472133,\n",
       "    6796824,\n",
       "    6880888,\n",
       "    7270266,\n",
       "    7066516,\n",
       "    6563078,\n",
       "    6654643,\n",
       "    6413079,\n",
       "    6535580,\n",
       "    6839327,\n",
       "    6834325,\n",
       "    7177445,\n",
       "    6684952,\n",
       "    6690262,\n",
       "    6913705,\n",
       "    6527771],\n",
       "   256: [13027266,\n",
       "    13313516,\n",
       "    12879141,\n",
       "    12454141,\n",
       "    12479766,\n",
       "    13099141,\n",
       "    12936641,\n",
       "    13149141,\n",
       "    13392891,\n",
       "    13241641,\n",
       "    12900391,\n",
       "    13174141,\n",
       "    12769766,\n",
       "    12876641,\n",
       "    12796016,\n",
       "    13575391,\n",
       "    12977266,\n",
       "    12837266,\n",
       "    12620391,\n",
       "    13015391,\n",
       "    12377266,\n",
       "    12765391,\n",
       "    13397891,\n",
       "    12245391,\n",
       "    12869141,\n",
       "    12706016,\n",
       "    13020391,\n",
       "    13373516,\n",
       "    12627266,\n",
       "    12397266,\n",
       "    12187891,\n",
       "    12857266,\n",
       "    12803516,\n",
       "    12821641,\n",
       "    13053516,\n",
       "    12809141,\n",
       "    13014766,\n",
       "    12703516,\n",
       "    12467266,\n",
       "    13222266,\n",
       "    12949766,\n",
       "    12135391,\n",
       "    13035391,\n",
       "    13452266,\n",
       "    13703516,\n",
       "    12828516,\n",
       "    12773516,\n",
       "    12724766,\n",
       "    13242266,\n",
       "    12432266,\n",
       "    12395391,\n",
       "    13141641,\n",
       "    12587266,\n",
       "    12622891,\n",
       "    12870391,\n",
       "    13399141,\n",
       "    12901641,\n",
       "    13364141,\n",
       "    13321016,\n",
       "    12981016,\n",
       "    12527891,\n",
       "    12853516,\n",
       "    13121016,\n",
       "    12991641,\n",
       "    12429766,\n",
       "    13782891,\n",
       "    12820391,\n",
       "    13432266,\n",
       "    13763516,\n",
       "    12773516,\n",
       "    12851641,\n",
       "    12914766,\n",
       "    12583516,\n",
       "    12753516,\n",
       "    12477266,\n",
       "    12752891,\n",
       "    13137266,\n",
       "    12851641,\n",
       "    12392891,\n",
       "    12494141,\n",
       "    13599766,\n",
       "    12822266,\n",
       "    12684766,\n",
       "    12312891,\n",
       "    12937891,\n",
       "    12652891,\n",
       "    12879766,\n",
       "    12942266,\n",
       "    12734766,\n",
       "    12911641,\n",
       "    12947891,\n",
       "    12769766,\n",
       "    12177891,\n",
       "    13235391,\n",
       "    13259766,\n",
       "    13219141,\n",
       "    12919141,\n",
       "    12756641,\n",
       "    12856016,\n",
       "    12932891],\n",
       "   512: [25018125,\n",
       "    24193125,\n",
       "    24286875,\n",
       "    24503125,\n",
       "    24700625,\n",
       "    24670625,\n",
       "    24600625,\n",
       "    24780625,\n",
       "    24700625,\n",
       "    23706875,\n",
       "    25841875,\n",
       "    25278125,\n",
       "    24620625,\n",
       "    24405625,\n",
       "    24584375,\n",
       "    24628125,\n",
       "    24599375,\n",
       "    24631875,\n",
       "    25580625,\n",
       "    24713125,\n",
       "    24353125,\n",
       "    24631875,\n",
       "    25198125,\n",
       "    25286875,\n",
       "    24625625,\n",
       "    24194375,\n",
       "    24778125,\n",
       "    25313125,\n",
       "    24461875,\n",
       "    25363125,\n",
       "    24533125,\n",
       "    24814375,\n",
       "    25084375,\n",
       "    25066875,\n",
       "    24944375,\n",
       "    24526875,\n",
       "    24770625,\n",
       "    24321875,\n",
       "    24491875,\n",
       "    24603125,\n",
       "    24681875,\n",
       "    24004375,\n",
       "    24149375,\n",
       "    25484375,\n",
       "    24243125,\n",
       "    23975625,\n",
       "    24706875,\n",
       "    24303125,\n",
       "    25348125,\n",
       "    24591875,\n",
       "    23975625,\n",
       "    24288125,\n",
       "    25171875,\n",
       "    25168125,\n",
       "    24758125,\n",
       "    24520625,\n",
       "    24899375,\n",
       "    24390625,\n",
       "    24631875,\n",
       "    25198125,\n",
       "    24585625,\n",
       "    25104375,\n",
       "    25125625,\n",
       "    24591875,\n",
       "    24695625,\n",
       "    24704375,\n",
       "    24904375,\n",
       "    23949375,\n",
       "    24795625,\n",
       "    24561875,\n",
       "    24576875,\n",
       "    24485625,\n",
       "    24474375,\n",
       "    24805625,\n",
       "    24060625,\n",
       "    24993125,\n",
       "    24499375,\n",
       "    25099375,\n",
       "    25443125,\n",
       "    24628125,\n",
       "    25618125,\n",
       "    25418125,\n",
       "    25160625,\n",
       "    24948125,\n",
       "    25328125,\n",
       "    24781875,\n",
       "    24564375,\n",
       "    24553125,\n",
       "    24384375,\n",
       "    25306875,\n",
       "    24893125,\n",
       "    24741875,\n",
       "    25103125,\n",
       "    24185625,\n",
       "    24723125,\n",
       "    24164375,\n",
       "    24134375,\n",
       "    24745625,\n",
       "    25016875,\n",
       "    24066875]}},\n",
       " 'block50RPCholesky': {'trace_errors': {128: [0.02304828442996659,\n",
       "    0.02271275926594535,\n",
       "    0.022860793959252078,\n",
       "    0.02271738111644536,\n",
       "    0.02287064678659499,\n",
       "    0.02303257734637682,\n",
       "    0.022967095118621002,\n",
       "    0.022806286115035074,\n",
       "    0.022967357138466104,\n",
       "    0.022864187199376284,\n",
       "    0.022827376655782244,\n",
       "    0.023028368252034487,\n",
       "    0.022835846048546955,\n",
       "    0.023107499075870327,\n",
       "    0.022964071395546307,\n",
       "    0.022902419979427942,\n",
       "    0.02297643440469674,\n",
       "    0.022780349172012392,\n",
       "    0.022970688009741388,\n",
       "    0.023022006964486173,\n",
       "    0.022832195279036387,\n",
       "    0.02277593776362646,\n",
       "    0.022862985057420154,\n",
       "    0.022993975511002646,\n",
       "    0.022792619362329423,\n",
       "    0.023021056677097113,\n",
       "    0.022822415861082482,\n",
       "    0.02289670461666992,\n",
       "    0.02283701801010611,\n",
       "    0.022917703826619253,\n",
       "    0.023005044685057145,\n",
       "    0.02282613360493051,\n",
       "    0.023093008388209456,\n",
       "    0.022914248590575333,\n",
       "    0.022874588403244526,\n",
       "    0.023079240304757696,\n",
       "    0.022906574668788926,\n",
       "    0.022943734052579746,\n",
       "    0.023070354548153954,\n",
       "    0.022961343701909026,\n",
       "    0.022974814411589613,\n",
       "    0.022884412109248478,\n",
       "    0.023428083509459064,\n",
       "    0.02281497491959035,\n",
       "    0.02284384910591525,\n",
       "    0.02286797802450601,\n",
       "    0.022880580910282878,\n",
       "    0.022849767180419804,\n",
       "    0.023062906934704915,\n",
       "    0.0228770362825293,\n",
       "    0.022880310792097226,\n",
       "    0.022838541329889814,\n",
       "    0.023061491075107552,\n",
       "    0.022685212850045353,\n",
       "    0.02321435174446942,\n",
       "    0.02282477881601044,\n",
       "    0.023047953006483296,\n",
       "    0.02312261048738055,\n",
       "    0.022977399304496066,\n",
       "    0.022913578821041482,\n",
       "    0.0227766002729948,\n",
       "    0.023197260003304656,\n",
       "    0.022815400754081564,\n",
       "    0.02313790682935469,\n",
       "    0.022735611648941813,\n",
       "    0.022833873532292274,\n",
       "    0.022796800204297505,\n",
       "    0.022919783591489978,\n",
       "    0.0228671210352466,\n",
       "    0.022718031016206987,\n",
       "    0.022967201843296606,\n",
       "    0.02296902305768599,\n",
       "    0.02298624815187886,\n",
       "    0.022884303462547904,\n",
       "    0.02333410372823946,\n",
       "    0.02295101366274066,\n",
       "    0.022801105498922697,\n",
       "    0.022935325529288456,\n",
       "    0.022597579112646236,\n",
       "    0.02283621156582176,\n",
       "    0.022917601111744988,\n",
       "    0.022812283437075892,\n",
       "    0.02329328053229201,\n",
       "    0.022943081176887245,\n",
       "    0.023109524667519143,\n",
       "    0.022917328056240693,\n",
       "    0.022808077715173566,\n",
       "    0.022746137322988035,\n",
       "    0.022817345870417376,\n",
       "    0.022861457017746944,\n",
       "    0.022941815987047812,\n",
       "    0.02282552620789811,\n",
       "    0.02317759151879527,\n",
       "    0.023081168643507045,\n",
       "    0.02327931941251263,\n",
       "    0.022780748822551322,\n",
       "    0.02287847153794919,\n",
       "    0.02291844882162677,\n",
       "    0.022890914907805017,\n",
       "    0.022969162510281423],\n",
       "   256: [0.016972447832406215,\n",
       "    0.01696264168087964,\n",
       "    0.016877575032987806,\n",
       "    0.016870100081664532,\n",
       "    0.016959286152122693,\n",
       "    0.01689809686499957,\n",
       "    0.01699133849102818,\n",
       "    0.0169647890682907,\n",
       "    0.01709602575187746,\n",
       "    0.016992254157255412,\n",
       "    0.016911778179342946,\n",
       "    0.016945273609401193,\n",
       "    0.016981472420913815,\n",
       "    0.01699766535214858,\n",
       "    0.01695062284177802,\n",
       "    0.01684543527159294,\n",
       "    0.017064304249441737,\n",
       "    0.01702491669375904,\n",
       "    0.016865138832718184,\n",
       "    0.016959478841726376,\n",
       "    0.017005774090713566,\n",
       "    0.01691301897406811,\n",
       "    0.017006170728108373,\n",
       "    0.017046257166957547,\n",
       "    0.016939878613864676,\n",
       "    0.016909446946131175,\n",
       "    0.016894848095746966,\n",
       "    0.01699814288561938,\n",
       "    0.016901611661890276,\n",
       "    0.017013751436362145,\n",
       "    0.01697669572974028,\n",
       "    0.016854500617068335,\n",
       "    0.017051707371127486,\n",
       "    0.01708204895259405,\n",
       "    0.017000477968592533,\n",
       "    0.017156690806311416,\n",
       "    0.017030439570145245,\n",
       "    0.017112788939667552,\n",
       "    0.01707296820833508,\n",
       "    0.01703122015793142,\n",
       "    0.017077359848274864,\n",
       "    0.01695647335397898,\n",
       "    0.01693270312695222,\n",
       "    0.016997327601655888,\n",
       "    0.016978166379865798,\n",
       "    0.017026856431074884,\n",
       "    0.01696903165228323,\n",
       "    0.01707585705392612,\n",
       "    0.01702168083938486,\n",
       "    0.01699571508611698,\n",
       "    0.017007481032910072,\n",
       "    0.01705566757159304,\n",
       "    0.017085303714804104,\n",
       "    0.01709706566152654,\n",
       "    0.017110322857170287,\n",
       "    0.016857836087949364,\n",
       "    0.017011013300110244,\n",
       "    0.016972454554643263,\n",
       "    0.01696245956928251,\n",
       "    0.01702606031061514,\n",
       "    0.01685610816956123,\n",
       "    0.017031634826948538,\n",
       "    0.016993672026063906,\n",
       "    0.016913048322725627,\n",
       "    0.016994621988126346,\n",
       "    0.016943920106667794,\n",
       "    0.016933733267081336,\n",
       "    0.017011074027999167,\n",
       "    0.016996482655256294,\n",
       "    0.016941502237900932,\n",
       "    0.017097556387033547,\n",
       "    0.01692563523730696,\n",
       "    0.01701264591658928,\n",
       "    0.01701603113003821,\n",
       "    0.016966909797507104,\n",
       "    0.017214317456751088,\n",
       "    0.017076133880608906,\n",
       "    0.016906131336396537,\n",
       "    0.017017540185585496,\n",
       "    0.01695426778354613,\n",
       "    0.017048193424305646,\n",
       "    0.016991119765788425,\n",
       "    0.016991083037770114,\n",
       "    0.017000394710500587,\n",
       "    0.016949741777429153,\n",
       "    0.017065463532719878,\n",
       "    0.01698011250037016,\n",
       "    0.017000687438160276,\n",
       "    0.01715308313435562,\n",
       "    0.01702686759317676,\n",
       "    0.01704259920962213,\n",
       "    0.017070817545269894,\n",
       "    0.016933162489571076,\n",
       "    0.016888953525818578,\n",
       "    0.01698584868273374,\n",
       "    0.01700813680269148,\n",
       "    0.01700051679813987,\n",
       "    0.01695831889729361,\n",
       "    0.01687083057559212,\n",
       "    0.017086360907570087],\n",
       "   512: [0.011410777686075744,\n",
       "    0.011371335095966606,\n",
       "    0.011370283210188245,\n",
       "    0.011388365998031804,\n",
       "    0.011389405284642634,\n",
       "    0.011382061453212555,\n",
       "    0.011417437606000566,\n",
       "    0.011418217251365785,\n",
       "    0.011416847661929932,\n",
       "    0.01139972564177624,\n",
       "    0.011444462451298387,\n",
       "    0.011368350368341452,\n",
       "    0.011389598016729724,\n",
       "    0.011457092234556694,\n",
       "    0.011404735988083848,\n",
       "    0.011462284883344182,\n",
       "    0.011409999436655925,\n",
       "    0.011371524521111133,\n",
       "    0.011432668093395477,\n",
       "    0.011419397758222658,\n",
       "    0.011433106108037465,\n",
       "    0.01139187431225473,\n",
       "    0.011334548860108408,\n",
       "    0.011409777062805552,\n",
       "    0.011423003773876917,\n",
       "    0.011431278683612982,\n",
       "    0.011509397092199652,\n",
       "    0.011372729620905376,\n",
       "    0.011425631549105128,\n",
       "    0.011419949154516872,\n",
       "    0.011412604329620626,\n",
       "    0.011369458062947707,\n",
       "    0.011401965575759095,\n",
       "    0.011396795390012267,\n",
       "    0.01136711927513079,\n",
       "    0.01142869069600074,\n",
       "    0.01141503252789189,\n",
       "    0.011420438658701095,\n",
       "    0.011457656710008087,\n",
       "    0.011414497510543879,\n",
       "    0.011376258575546671,\n",
       "    0.011417106356635122,\n",
       "    0.011374842100401837,\n",
       "    0.011379599134530327,\n",
       "    0.011403701564978837,\n",
       "    0.011397872074586484,\n",
       "    0.011404182098202,\n",
       "    0.01143660540765104,\n",
       "    0.011386451941770428,\n",
       "    0.011421675768343085,\n",
       "    0.011397282010039271,\n",
       "    0.01138269453317098,\n",
       "    0.01140472813702927,\n",
       "    0.01140100334473591,\n",
       "    0.011442039533198476,\n",
       "    0.011380521817747648,\n",
       "    0.011408388881418796,\n",
       "    0.011361850007147222,\n",
       "    0.011416962173207321,\n",
       "    0.01135520140093995,\n",
       "    0.011373747912309773,\n",
       "    0.011367983110374735,\n",
       "    0.011411771074701574,\n",
       "    0.011356045974898006,\n",
       "    0.01143668675944009,\n",
       "    0.011413059800851624,\n",
       "    0.011405566855264442,\n",
       "    0.011427351253299457,\n",
       "    0.01139622127103521,\n",
       "    0.011386796118217536,\n",
       "    0.011386494643355399,\n",
       "    0.01143323912210817,\n",
       "    0.01140103956593357,\n",
       "    0.011419225644998733,\n",
       "    0.011335594409531587,\n",
       "    0.011420193234687395,\n",
       "    0.011360891458429615,\n",
       "    0.011389095431677198,\n",
       "    0.01139228131874097,\n",
       "    0.011367672143134768,\n",
       "    0.011425124252796922,\n",
       "    0.011382711378949353,\n",
       "    0.011380843706080305,\n",
       "    0.011390587559330742,\n",
       "    0.011437866177245633,\n",
       "    0.011418584451527386,\n",
       "    0.011427705218275878,\n",
       "    0.011432205803139733,\n",
       "    0.011420971500117049,\n",
       "    0.011447378645721255,\n",
       "    0.011424528656179609,\n",
       "    0.011427541625439517,\n",
       "    0.011384817140915039,\n",
       "    0.011437474414072495,\n",
       "    0.011414017075340416,\n",
       "    0.011426057377201686,\n",
       "    0.011429845156751798,\n",
       "    0.011395042900217596,\n",
       "    0.011430362426437022,\n",
       "    0.011409731943130464]},\n",
       "  'KRRMSE': {128: [0.2504008875047748,\n",
       "    0.259282916054426,\n",
       "    0.26152592275672687,\n",
       "    0.2600428955172601,\n",
       "    0.26805302659382635,\n",
       "    0.269799297140014,\n",
       "    0.24838307065949888,\n",
       "    0.2621961077243782,\n",
       "    0.25597357218532596,\n",
       "    0.25531396501418496,\n",
       "    0.26855221692371234,\n",
       "    0.2659831662156617,\n",
       "    0.2575870335323903,\n",
       "    0.26348317107460695,\n",
       "    0.2678883867573478,\n",
       "    0.2676042348645198,\n",
       "    0.25166605028235783,\n",
       "    0.25994439589296614,\n",
       "    0.27182141413241667,\n",
       "    0.26343035442369217,\n",
       "    0.26247691121419336,\n",
       "    0.25856353961815887,\n",
       "    0.2601442042604612,\n",
       "    0.261986119607304,\n",
       "    0.26208322643840426,\n",
       "    0.2704400414737442,\n",
       "    0.2715726542285755,\n",
       "    0.25114849159438013,\n",
       "    0.2501250249360986,\n",
       "    0.24685942013759932,\n",
       "    0.25723437536922794,\n",
       "    0.2550485358827787,\n",
       "    0.27051667987025696,\n",
       "    0.261704941069727,\n",
       "    0.26541488280241565,\n",
       "    0.2768973239424046,\n",
       "    0.24396174150304137,\n",
       "    0.2639378414333895,\n",
       "    0.2685314830252979,\n",
       "    0.25354149013909755,\n",
       "    0.26408273945068905,\n",
       "    0.2507209423821042,\n",
       "    0.26068760890227943,\n",
       "    0.260388285628011,\n",
       "    0.26617317829765463,\n",
       "    0.2611454683262707,\n",
       "    0.2670649226540512,\n",
       "    0.26289419933201025,\n",
       "    0.25876725695964964,\n",
       "    0.25912468992040505,\n",
       "    0.25618596927936493,\n",
       "    0.24952584143067996,\n",
       "    0.25037304331816024,\n",
       "    0.2557720254282407,\n",
       "    0.26435004740358653,\n",
       "    0.2752872584480024,\n",
       "    0.2574567556885683,\n",
       "    0.25808663541357146,\n",
       "    0.26381276589191205,\n",
       "    0.2617438355862829,\n",
       "    0.26879001910642625,\n",
       "    0.2527071952764824,\n",
       "    0.2618862730571523,\n",
       "    0.25227862134662044,\n",
       "    0.2575308426114013,\n",
       "    0.263675846676869,\n",
       "    0.26787447987774643,\n",
       "    0.2508635599643066,\n",
       "    0.2490851382930151,\n",
       "    0.2545195407773234,\n",
       "    0.2502007236892817,\n",
       "    0.2588734673212319,\n",
       "    0.2623222132235215,\n",
       "    0.25931736848511144,\n",
       "    0.26247352852206407,\n",
       "    0.25678044690660934,\n",
       "    0.2556766016226794,\n",
       "    0.2689646034045234,\n",
       "    0.2557045955731945,\n",
       "    0.2610458687974698,\n",
       "    0.25899021764317004,\n",
       "    0.2600295792590768,\n",
       "    0.2606221966367432,\n",
       "    0.2628715443112706,\n",
       "    0.2582417432376027,\n",
       "    0.2645078505682959,\n",
       "    0.2545931333397372,\n",
       "    0.2554710561650979,\n",
       "    0.26892932182958107,\n",
       "    0.2538911934974676,\n",
       "    0.2605336384227585,\n",
       "    0.2705288404576939,\n",
       "    0.25922168033267456,\n",
       "    0.25102382861443584,\n",
       "    0.2588595092958671,\n",
       "    0.2516913052129014,\n",
       "    0.25482167576653925,\n",
       "    0.2453886122396765,\n",
       "    0.2580588353212808,\n",
       "    0.24966193065701314],\n",
       "   256: [0.21842076732640808,\n",
       "    0.2225781204395596,\n",
       "    0.21566066865097847,\n",
       "    0.2205274353219261,\n",
       "    0.2121883360671664,\n",
       "    0.2223732258012452,\n",
       "    0.22386991370430293,\n",
       "    0.22089598945171873,\n",
       "    0.2208713350832841,\n",
       "    0.2172247830457869,\n",
       "    0.22119253926411483,\n",
       "    0.2175782097632964,\n",
       "    0.22297574745229704,\n",
       "    0.22309791731646045,\n",
       "    0.214953640334775,\n",
       "    0.21472895836332404,\n",
       "    0.2235145970650835,\n",
       "    0.22077158647753467,\n",
       "    0.214761532417449,\n",
       "    0.21809850487352078,\n",
       "    0.21707039756038188,\n",
       "    0.21761031323371452,\n",
       "    0.22191818506814834,\n",
       "    0.23115156183336366,\n",
       "    0.22682460351783815,\n",
       "    0.22378826783892392,\n",
       "    0.22506599168861785,\n",
       "    0.21845428424773292,\n",
       "    0.22064012877735453,\n",
       "    0.2166202740331464,\n",
       "    0.2109868620771988,\n",
       "    0.21212428239164233,\n",
       "    0.22539507608027926,\n",
       "    0.21966771689941098,\n",
       "    0.2228280036272845,\n",
       "    0.22717347857993556,\n",
       "    0.2220850579091346,\n",
       "    0.22569970534441808,\n",
       "    0.21658329248528352,\n",
       "    0.2271088234894521,\n",
       "    0.219207647757835,\n",
       "    0.21585791349599986,\n",
       "    0.21693634689183178,\n",
       "    0.21641226577284015,\n",
       "    0.21475895880349613,\n",
       "    0.22583689182216646,\n",
       "    0.227670854981243,\n",
       "    0.22486191249235962,\n",
       "    0.2228974557828653,\n",
       "    0.2213177731887594,\n",
       "    0.2159137678319251,\n",
       "    0.2208139719329887,\n",
       "    0.22739495782984964,\n",
       "    0.22281472116697387,\n",
       "    0.22556576139220968,\n",
       "    0.2200115485671771,\n",
       "    0.22479835454973046,\n",
       "    0.22545700506903013,\n",
       "    0.22464563858016245,\n",
       "    0.22079150848909584,\n",
       "    0.22213614378306676,\n",
       "    0.225881977166171,\n",
       "    0.2185656604100748,\n",
       "    0.21659898031707608,\n",
       "    0.22150930366603294,\n",
       "    0.2201729646841266,\n",
       "    0.22018514094180383,\n",
       "    0.21355318475528098,\n",
       "    0.2243916688450314,\n",
       "    0.22214676956999518,\n",
       "    0.2213860850407535,\n",
       "    0.22467594603302832,\n",
       "    0.22150267940377422,\n",
       "    0.22849901494909755,\n",
       "    0.22363021835083818,\n",
       "    0.22252648481453344,\n",
       "    0.22094769396371963,\n",
       "    0.21975924037258118,\n",
       "    0.2220413007041224,\n",
       "    0.22218119736714328,\n",
       "    0.21783595997404082,\n",
       "    0.22565553559905902,\n",
       "    0.21818891268002694,\n",
       "    0.22255903140692576,\n",
       "    0.2208274418454186,\n",
       "    0.22463078157703473,\n",
       "    0.22358320814782015,\n",
       "    0.22034064990653568,\n",
       "    0.2241776555762563,\n",
       "    0.22371900810752804,\n",
       "    0.2150594532637152,\n",
       "    0.2203702962385339,\n",
       "    0.2161809345345071,\n",
       "    0.22410298837508172,\n",
       "    0.22209034870689137,\n",
       "    0.222297040291791,\n",
       "    0.21496115928757772,\n",
       "    0.21664335983252125,\n",
       "    0.2226825635953951,\n",
       "    0.22390776047949276],\n",
       "   512: [0.18390481659803026,\n",
       "    0.18727710140965537,\n",
       "    0.1854789277651846,\n",
       "    0.18280983251493288,\n",
       "    0.18982572591121466,\n",
       "    0.18738610873079728,\n",
       "    0.1907550384803797,\n",
       "    0.18464855337496436,\n",
       "    0.18697471347044628,\n",
       "    0.18219898130376833,\n",
       "    0.18256137189698046,\n",
       "    0.186867514632152,\n",
       "    0.19041764730759103,\n",
       "    0.1847992063127435,\n",
       "    0.18505394636954553,\n",
       "    0.18705656737199308,\n",
       "    0.18431031666889486,\n",
       "    0.18592440727906798,\n",
       "    0.18408045755388253,\n",
       "    0.18291383296615069,\n",
       "    0.18666370954252734,\n",
       "    0.18389918025828259,\n",
       "    0.18504323782355853,\n",
       "    0.18092134559023976,\n",
       "    0.19085819494489678,\n",
       "    0.19146345124383224,\n",
       "    0.19065058832913065,\n",
       "    0.1845480429571273,\n",
       "    0.183104386648448,\n",
       "    0.1844854067376531,\n",
       "    0.18347105361853128,\n",
       "    0.185881516131252,\n",
       "    0.1860751674064446,\n",
       "    0.1889919865666582,\n",
       "    0.1885968382650281,\n",
       "    0.187917895412488,\n",
       "    0.17893746494408916,\n",
       "    0.18959666734969366,\n",
       "    0.18448129997101856,\n",
       "    0.1886807466839819,\n",
       "    0.1785327374084229,\n",
       "    0.18830420262551825,\n",
       "    0.18597104235777237,\n",
       "    0.1887384522057973,\n",
       "    0.183258916981451,\n",
       "    0.18192156638849197,\n",
       "    0.1818512860810006,\n",
       "    0.18087422034986003,\n",
       "    0.1825780648887075,\n",
       "    0.18815594756461176,\n",
       "    0.18693400440079994,\n",
       "    0.18337416588342637,\n",
       "    0.1820613619559992,\n",
       "    0.1828791476468103,\n",
       "    0.18681739539897063,\n",
       "    0.18718163789364162,\n",
       "    0.18283902043068043,\n",
       "    0.18323531517597122,\n",
       "    0.18787844399110643,\n",
       "    0.18509002386644796,\n",
       "    0.18505544250472947,\n",
       "    0.18598147014656116,\n",
       "    0.18405972608059695,\n",
       "    0.18547911305436843,\n",
       "    0.18818759807231933,\n",
       "    0.1881512356576745,\n",
       "    0.1841171250415137,\n",
       "    0.18632066890707502,\n",
       "    0.1856000066209567,\n",
       "    0.1819261937213737,\n",
       "    0.1815688344443241,\n",
       "    0.18289132151901658,\n",
       "    0.18472518515435904,\n",
       "    0.18118041196586215,\n",
       "    0.19000106639804418,\n",
       "    0.1899001873763302,\n",
       "    0.1857481880623267,\n",
       "    0.18521819863154182,\n",
       "    0.18516555138345234,\n",
       "    0.1831604958444809,\n",
       "    0.1848880279630505,\n",
       "    0.18559080344694825,\n",
       "    0.1835196466570168,\n",
       "    0.1870258851624851,\n",
       "    0.1848922068331736,\n",
       "    0.18935541335640124,\n",
       "    0.1881830712044795,\n",
       "    0.18468799262322824,\n",
       "    0.1863056943064624,\n",
       "    0.1859614923395043,\n",
       "    0.18436507569292893,\n",
       "    0.1811990293338516,\n",
       "    0.18070486829011947,\n",
       "    0.18454768047212278,\n",
       "    0.1826637577605984,\n",
       "    0.1864021680492731,\n",
       "    0.19115565110446522,\n",
       "    0.18710221470268618,\n",
       "    0.18415727804091003,\n",
       "    0.18870326713236557]},\n",
       "  'KRRMAE': {128: [0.37101946302200556,\n",
       "    0.37565190487380923,\n",
       "    0.3801523823832286,\n",
       "    0.37978483314213024,\n",
       "    0.3829341835482438,\n",
       "    0.381952818186473,\n",
       "    0.37055367102053377,\n",
       "    0.376237484450873,\n",
       "    0.37477305521605975,\n",
       "    0.3727496800534828,\n",
       "    0.3804715231452451,\n",
       "    0.38361534918682366,\n",
       "    0.3772821454529283,\n",
       "    0.37727217198796165,\n",
       "    0.3815433085114978,\n",
       "    0.38304922945008996,\n",
       "    0.37258038671906046,\n",
       "    0.37748354502055625,\n",
       "    0.3836832061200875,\n",
       "    0.37766678017397026,\n",
       "    0.37630901946819184,\n",
       "    0.3773963356811445,\n",
       "    0.3784006778630477,\n",
       "    0.3753639475055351,\n",
       "    0.37785561844842114,\n",
       "    0.3826879051003505,\n",
       "    0.38611493160758864,\n",
       "    0.37241252269913466,\n",
       "    0.3724287277917155,\n",
       "    0.369230585949191,\n",
       "    0.37747428057177396,\n",
       "    0.3761948694543384,\n",
       "    0.3814579826129292,\n",
       "    0.38002721514034904,\n",
       "    0.37790795991920545,\n",
       "    0.38721998122820483,\n",
       "    0.3680838280746917,\n",
       "    0.38046728131405905,\n",
       "    0.38214444963598193,\n",
       "    0.37513120402598915,\n",
       "    0.37802127440910316,\n",
       "    0.3709163337745989,\n",
       "    0.37646552967519564,\n",
       "    0.3783384278338117,\n",
       "    0.38130864414267435,\n",
       "    0.37868507428109616,\n",
       "    0.38208452575023605,\n",
       "    0.3807106389019823,\n",
       "    0.3786009947149556,\n",
       "    0.37776462812839956,\n",
       "    0.37883614028836554,\n",
       "    0.3704732595274474,\n",
       "    0.3725806594369289,\n",
       "    0.37577661243610694,\n",
       "    0.37765269503588134,\n",
       "    0.38900911476284267,\n",
       "    0.3755665140593958,\n",
       "    0.37699631320396015,\n",
       "    0.38116894310531046,\n",
       "    0.37797648140807066,\n",
       "    0.3843892436254568,\n",
       "    0.3726435032601114,\n",
       "    0.3799354951327768,\n",
       "    0.3743449582757616,\n",
       "    0.3793381996434246,\n",
       "    0.38145812961061,\n",
       "    0.38447728066792386,\n",
       "    0.3716612303356299,\n",
       "    0.37103739353108495,\n",
       "    0.3760449048492799,\n",
       "    0.37106157755701463,\n",
       "    0.3757946507486083,\n",
       "    0.3792555291940881,\n",
       "    0.3779083486923423,\n",
       "    0.378395853400076,\n",
       "    0.37715584398679436,\n",
       "    0.3748655081845923,\n",
       "    0.3838322502423005,\n",
       "    0.3766398676615671,\n",
       "    0.37836431267291654,\n",
       "    0.3792979200505967,\n",
       "    0.3738953952861944,\n",
       "    0.3790575052263828,\n",
       "    0.3804772390313755,\n",
       "    0.37434628314758045,\n",
       "    0.380146792047976,\n",
       "    0.37663503848718494,\n",
       "    0.37646846662893657,\n",
       "    0.3815612169219052,\n",
       "    0.37486139234756155,\n",
       "    0.38181642439514446,\n",
       "    0.38351852550998294,\n",
       "    0.3786247907185642,\n",
       "    0.37199324465345346,\n",
       "    0.3775987541338962,\n",
       "    0.37195236429757195,\n",
       "    0.375345066262742,\n",
       "    0.3704729508079612,\n",
       "    0.37712977258580455,\n",
       "    0.36885037450106367],\n",
       "   256: [0.3497132145752976,\n",
       "    0.3521359369876951,\n",
       "    0.3468785935554358,\n",
       "    0.35060122794131104,\n",
       "    0.34562541319246864,\n",
       "    0.35151603501226486,\n",
       "    0.35319311552323834,\n",
       "    0.35188226712000803,\n",
       "    0.35090423739861637,\n",
       "    0.3480778781057226,\n",
       "    0.3501926902931269,\n",
       "    0.3477735280114827,\n",
       "    0.3524351985434102,\n",
       "    0.3526182700843073,\n",
       "    0.34647244247533054,\n",
       "    0.34557870791058504,\n",
       "    0.3523053692244527,\n",
       "    0.3500694635464532,\n",
       "    0.34631309710887465,\n",
       "    0.34885702643618616,\n",
       "    0.3482524990145858,\n",
       "    0.3476294008379303,\n",
       "    0.3507460522424433,\n",
       "    0.3578669824538058,\n",
       "    0.35512246970417943,\n",
       "    0.3528489466852496,\n",
       "    0.3548098529473322,\n",
       "    0.34836298836718216,\n",
       "    0.35182024118185007,\n",
       "    0.34689175189674354,\n",
       "    0.3443363556258516,\n",
       "    0.3463863202859472,\n",
       "    0.3542943412233393,\n",
       "    0.3502083594089455,\n",
       "    0.34709295788408123,\n",
       "    0.35459529747839114,\n",
       "    0.3523642234732496,\n",
       "    0.3531463820963917,\n",
       "    0.3471760500188404,\n",
       "    0.35503355874056064,\n",
       "    0.34902631711173376,\n",
       "    0.34539489390462186,\n",
       "    0.3488031519615868,\n",
       "    0.3484526615092183,\n",
       "    0.34758855950728246,\n",
       "    0.35247558830428305,\n",
       "    0.35508517606322915,\n",
       "    0.3543438550914185,\n",
       "    0.3523277843747886,\n",
       "    0.35189426492783593,\n",
       "    0.34829941932461833,\n",
       "    0.3513653262985864,\n",
       "    0.35721032784971624,\n",
       "    0.35239820728406096,\n",
       "    0.35462023394852976,\n",
       "    0.3491863231656685,\n",
       "    0.35274602456274584,\n",
       "    0.3559705728892067,\n",
       "    0.3511319105351823,\n",
       "    0.3510058396327135,\n",
       "    0.35219560991720583,\n",
       "    0.35287471490578626,\n",
       "    0.34936728433461006,\n",
       "    0.34967109877603236,\n",
       "    0.35368847661919045,\n",
       "    0.3505193771560177,\n",
       "    0.35004012599838424,\n",
       "    0.345491412010887,\n",
       "    0.3535453380639246,\n",
       "    0.35193630919377195,\n",
       "    0.351570208725455,\n",
       "    0.35419748434493015,\n",
       "    0.35136613441383446,\n",
       "    0.3573670583944703,\n",
       "    0.3525912191066771,\n",
       "    0.354925678026525,\n",
       "    0.3510031359227026,\n",
       "    0.3502063241778412,\n",
       "    0.3499870943930389,\n",
       "    0.3521848824655425,\n",
       "    0.3483500911151708,\n",
       "    0.35432155568847296,\n",
       "    0.34884635558869087,\n",
       "    0.35219973854617764,\n",
       "    0.350051925983609,\n",
       "    0.3523719756296582,\n",
       "    0.3535494250824595,\n",
       "    0.3510889022388755,\n",
       "    0.3529347488101253,\n",
       "    0.351075933256843,\n",
       "    0.34742781891041397,\n",
       "    0.3515813217951474,\n",
       "    0.3471343193274198,\n",
       "    0.3530487891582736,\n",
       "    0.35255145738222265,\n",
       "    0.35217620561743057,\n",
       "    0.34498596958451105,\n",
       "    0.34702730621901606,\n",
       "    0.3516868970980772,\n",
       "    0.35256183537916486],\n",
       "   512: [0.3218787280827839,\n",
       "    0.3236453457110509,\n",
       "    0.3230320603358999,\n",
       "    0.3213001821001881,\n",
       "    0.3280571547453636,\n",
       "    0.32596753432431,\n",
       "    0.3282784103648345,\n",
       "    0.32351994919518573,\n",
       "    0.3245437078140363,\n",
       "    0.31937585138335106,\n",
       "    0.322051385591383,\n",
       "    0.3250853593498032,\n",
       "    0.3273097349868611,\n",
       "    0.32353688130246117,\n",
       "    0.3252889789879538,\n",
       "    0.3258084682799465,\n",
       "    0.32340632095373,\n",
       "    0.3244114276858006,\n",
       "    0.3232343663320686,\n",
       "    0.32332813481216033,\n",
       "    0.3247754184822914,\n",
       "    0.32275125478016914,\n",
       "    0.32317948864478857,\n",
       "    0.32050318737862993,\n",
       "    0.3293051383807654,\n",
       "    0.3292190320989493,\n",
       "    0.32734499143242657,\n",
       "    0.3235794449465402,\n",
       "    0.32197630015705875,\n",
       "    0.3251080593935334,\n",
       "    0.32250899669050676,\n",
       "    0.32395401146523545,\n",
       "    0.32505930686966933,\n",
       "    0.32642192752272364,\n",
       "    0.32617296927758654,\n",
       "    0.32569446921558803,\n",
       "    0.318417793750745,\n",
       "    0.32706652292344424,\n",
       "    0.32301402372668736,\n",
       "    0.3255898549789826,\n",
       "    0.31856150780736037,\n",
       "    0.3265967853230488,\n",
       "    0.32452930164212224,\n",
       "    0.3271425447972703,\n",
       "    0.3225287393313413,\n",
       "    0.3221987715241477,\n",
       "    0.319971718072684,\n",
       "    0.3205212248560643,\n",
       "    0.32225355099051595,\n",
       "    0.3260369526678261,\n",
       "    0.3250542449038198,\n",
       "    0.32254218312420546,\n",
       "    0.32261589875106894,\n",
       "    0.3222868215320321,\n",
       "    0.32446904860145687,\n",
       "    0.32468980040143886,\n",
       "    0.32268294755741667,\n",
       "    0.3227043802132056,\n",
       "    0.32675946724256394,\n",
       "    0.32323627470561833,\n",
       "    0.3235328266131535,\n",
       "    0.3259962663251054,\n",
       "    0.32480493426873625,\n",
       "    0.3233861140044008,\n",
       "    0.3246535608391749,\n",
       "    0.32579796142728157,\n",
       "    0.32313779825019034,\n",
       "    0.3260914746473225,\n",
       "    0.32490966818691525,\n",
       "    0.3199854030430799,\n",
       "    0.3207378777028365,\n",
       "    0.32088424495353357,\n",
       "    0.32397550670514086,\n",
       "    0.32079262392901237,\n",
       "    0.32818152214858476,\n",
       "    0.3274348263698791,\n",
       "    0.32482102803690893,\n",
       "    0.32521910109325397,\n",
       "    0.32358102128730043,\n",
       "    0.32322306196812445,\n",
       "    0.32283683568421667,\n",
       "    0.32388763689012,\n",
       "    0.3233278602074783,\n",
       "    0.325589477016566,\n",
       "    0.32358383754219283,\n",
       "    0.32699475643926024,\n",
       "    0.3270288509007828,\n",
       "    0.3242850788923442,\n",
       "    0.3246999150418833,\n",
       "    0.32463754464506644,\n",
       "    0.3232406278258626,\n",
       "    0.3217286308615312,\n",
       "    0.32097812329672765,\n",
       "    0.32296969637558137,\n",
       "    0.3217098063991752,\n",
       "    0.3244572813433044,\n",
       "    0.32844599679262226,\n",
       "    0.3264417561853452,\n",
       "    0.3236111088164506,\n",
       "    0.32657661849293684]},\n",
       "  'KRRSMAPE': {128: [0.05759554374084747,\n",
       "    0.058316252556330946,\n",
       "    0.05902764697053535,\n",
       "    0.058958335926567074,\n",
       "    0.05947000736032092,\n",
       "    0.059332272678758305,\n",
       "    0.05753604235496973,\n",
       "    0.058440228370967635,\n",
       "    0.05821181433152942,\n",
       "    0.057882902115684934,\n",
       "    0.05906518335105493,\n",
       "    0.05954308007719469,\n",
       "    0.05858278384781223,\n",
       "    0.05857313691221032,\n",
       "    0.05925905736059101,\n",
       "    0.05950386255563349,\n",
       "    0.05780957525541462,\n",
       "    0.0586468256999014,\n",
       "    0.05957962308986911,\n",
       "    0.058687888218049974,\n",
       "    0.05843571784571006,\n",
       "    0.05860555045332512,\n",
       "    0.05874639755403415,\n",
       "    0.05829204548794454,\n",
       "    0.058688525153269756,\n",
       "    0.05946935877901482,\n",
       "    0.05993241848243126,\n",
       "    0.05779530345877436,\n",
       "    0.05784348934425915,\n",
       "    0.057319997360395065,\n",
       "    0.05859878349197022,\n",
       "    0.05840777890196855,\n",
       "    0.05923860244776993,\n",
       "    0.059003188934440925,\n",
       "    0.058696384626912616,\n",
       "    0.06016387132653646,\n",
       "    0.057182580292748454,\n",
       "    0.0590729067852754,\n",
       "    0.059387726760229465,\n",
       "    0.05825074340053727,\n",
       "    0.058695988725373356,\n",
       "    0.05760196506470394,\n",
       "    0.058488854105311086,\n",
       "    0.05880942437091005,\n",
       "    0.059201049338956216,\n",
       "    0.05878534774205949,\n",
       "    0.05932844352684176,\n",
       "    0.059107643095293816,\n",
       "    0.05875904827778472,\n",
       "    0.05865195882973415,\n",
       "    0.05882672877408939,\n",
       "    0.05753987939278826,\n",
       "    0.05783924883863276,\n",
       "    0.058345090236866744,\n",
       "    0.05868321679100923,\n",
       "    0.060393005784359126,\n",
       "    0.058323063250574105,\n",
       "    0.05850310507284282,\n",
       "    0.05915086695570489,\n",
       "    0.0586812997870869,\n",
       "    0.05967741897380039,\n",
       "    0.057864186467350934,\n",
       "    0.058998018972547084,\n",
       "    0.05812508783235443,\n",
       "    0.058865080795723806,\n",
       "    0.059210848413210684,\n",
       "    0.059694445785019,\n",
       "    0.0577171279621387,\n",
       "    0.0575809252958473,\n",
       "    0.05840844280936627,\n",
       "    0.05758949082899774,\n",
       "    0.05840883710250575,\n",
       "    0.058864997377435384,\n",
       "    0.05868872919735239,\n",
       "    0.058723744799760676,\n",
       "    0.05852839645793154,\n",
       "    0.05819289114105584,\n",
       "    0.05953280531271838,\n",
       "    0.05847496955080812,\n",
       "    0.05872253985979669,\n",
       "    0.05886489717931593,\n",
       "    0.058094780413965576,\n",
       "    0.05880997840516044,\n",
       "    0.0590489863849625,\n",
       "    0.058098314314054905,\n",
       "    0.05905729315395988,\n",
       "    0.058509478878138704,\n",
       "    0.05844754564560059,\n",
       "    0.05924863454147659,\n",
       "    0.05817035793132944,\n",
       "    0.059295347346598075,\n",
       "    0.0595652730713271,\n",
       "    0.05879757910933945,\n",
       "    0.05774850956225561,\n",
       "    0.05860611423626816,\n",
       "    0.05778820385213155,\n",
       "    0.05829131075070562,\n",
       "    0.05754199260957582,\n",
       "    0.0585553689860664,\n",
       "    0.05725781025324164],\n",
       "   256: [0.054311165638066816,\n",
       "    0.0546966839688297,\n",
       "    0.05384427576478772,\n",
       "    0.054457954354763874,\n",
       "    0.05368321952411174,\n",
       "    0.05458956384304199,\n",
       "    0.05482926266014353,\n",
       "    0.05466613641520747,\n",
       "    0.05447957300501853,\n",
       "    0.05402092139447707,\n",
       "    0.05438665110992647,\n",
       "    0.053988412381600515,\n",
       "    0.054750428546191145,\n",
       "    0.05475281316365611,\n",
       "    0.05381225120186216,\n",
       "    0.05366845895274641,\n",
       "    0.05469476095524658,\n",
       "    0.05436305163284234,\n",
       "    0.053794030108684526,\n",
       "    0.054181344386660814,\n",
       "    0.054096914831200216,\n",
       "    0.05395389455785234,\n",
       "    0.05445487097921889,\n",
       "    0.05558455322036683,\n",
       "    0.05517164170711878,\n",
       "    0.05478013040705398,\n",
       "    0.05512946630998905,\n",
       "    0.05408235064268508,\n",
       "    0.05463828853129585,\n",
       "    0.05387427861681959,\n",
       "    0.0534602379244646,\n",
       "    0.05377870871358378,\n",
       "    0.05501211295985783,\n",
       "    0.05438063166962213,\n",
       "    0.05391673003241815,\n",
       "    0.05507875477865946,\n",
       "    0.05471987178520219,\n",
       "    0.0548250766483219,\n",
       "    0.05392336555204455,\n",
       "    0.055106598235732406,\n",
       "    0.05417530612949736,\n",
       "    0.05362766880397314,\n",
       "    0.05416730314785225,\n",
       "    0.054092789028261756,\n",
       "    0.05397364297017542,\n",
       "    0.054746478991754416,\n",
       "    0.05514046738665965,\n",
       "    0.055036655848160865,\n",
       "    0.054724149792195746,\n",
       "    0.054657528227196585,\n",
       "    0.054081875429270676,\n",
       "    0.05455202875881834,\n",
       "    0.05547979103462291,\n",
       "    0.05469010997087866,\n",
       "    0.055070663805092145,\n",
       "    0.05422129923261211,\n",
       "    0.054806922326901666,\n",
       "    0.055283868943199914,\n",
       "    0.05451933767664893,\n",
       "    0.05449517957174296,\n",
       "    0.054675778982912676,\n",
       "    0.05480643791877972,\n",
       "    0.054242461956205947,\n",
       "    0.05430571843091855,\n",
       "    0.054920941631958285,\n",
       "    0.054454996136923714,\n",
       "    0.054362715388783726,\n",
       "    0.053653381863861566,\n",
       "    0.05489844254779002,\n",
       "    0.05465612251058335,\n",
       "    0.05459022243306456,\n",
       "    0.05501125026019874,\n",
       "    0.05457605744230123,\n",
       "    0.05547240913988652,\n",
       "    0.054776524435423406,\n",
       "    0.055122859446022174,\n",
       "    0.05449365860244665,\n",
       "    0.05438172127941861,\n",
       "    0.05435650327492094,\n",
       "    0.05469017382043039,\n",
       "    0.05412275040283647,\n",
       "    0.05501753613154267,\n",
       "    0.05419308635020523,\n",
       "    0.05470461403323982,\n",
       "    0.054370675146896245,\n",
       "    0.054727014032873146,\n",
       "    0.0548815917077097,\n",
       "    0.05452073491141282,\n",
       "    0.05480214194540333,\n",
       "    0.05453048752666979,\n",
       "    0.053940245608188164,\n",
       "    0.054580443546809874,\n",
       "    0.0538978215759307,\n",
       "    0.05483810679649523,\n",
       "    0.05474647509454401,\n",
       "    0.05470864466360097,\n",
       "    0.05355692600677735,\n",
       "    0.0538774780452627,\n",
       "    0.05460432581036832,\n",
       "    0.05477035315273029],\n",
       "   512: [0.049928293089932164,\n",
       "    0.05022786306732034,\n",
       "    0.050136030864588205,\n",
       "    0.049853043783952784,\n",
       "    0.05091564942198856,\n",
       "    0.05061595930594648,\n",
       "    0.05096619513962317,\n",
       "    0.05020982607922633,\n",
       "    0.05038286000208271,\n",
       "    0.04961418821735782,\n",
       "    0.04998361790089615,\n",
       "    0.05049909199733197,\n",
       "    0.05080867346038968,\n",
       "    0.05023741410146205,\n",
       "    0.050502694488084976,\n",
       "    0.05057592438916619,\n",
       "    0.050196820465719744,\n",
       "    0.05033397517264004,\n",
       "    0.05017022412591001,\n",
       "    0.05018797191653211,\n",
       "    0.050412759361895806,\n",
       "    0.05007950936997371,\n",
       "    0.050176390732000906,\n",
       "    0.04971993742072509,\n",
       "    0.05110144637246956,\n",
       "    0.05108571243334373,\n",
       "    0.0507881651303369,\n",
       "    0.050238786646272,\n",
       "    0.04997840938498567,\n",
       "    0.05045906815689363,\n",
       "    0.05006860417976499,\n",
       "    0.050299376250244505,\n",
       "    0.050473567570146295,\n",
       "    0.05067962360502994,\n",
       "    0.050613274984092974,\n",
       "    0.05054484747404982,\n",
       "    0.049400136634698014,\n",
       "    0.05078285139871687,\n",
       "    0.0501477748699929,\n",
       "    0.05052025972944919,\n",
       "    0.04944567879685753,\n",
       "    0.05071750782755275,\n",
       "    0.0503832965100485,\n",
       "    0.05077734646031631,\n",
       "    0.05009059847350439,\n",
       "    0.04995763379245881,\n",
       "    0.0496378485852229,\n",
       "    0.04972692795587559,\n",
       "    0.050004659973081365,\n",
       "    0.050602213601330485,\n",
       "    0.05044541675505262,\n",
       "    0.050082935298297215,\n",
       "    0.05006360480054907,\n",
       "    0.0500145228661888,\n",
       "    0.05034547803223091,\n",
       "    0.050415377318447425,\n",
       "    0.05006522092494588,\n",
       "    0.050019947347546154,\n",
       "    0.05074693260165564,\n",
       "    0.05018658709688594,\n",
       "    0.0501941826907271,\n",
       "    0.050568105262301107,\n",
       "    0.05041259391945785,\n",
       "    0.05021059962749222,\n",
       "    0.05044263959066251,\n",
       "    0.05057304062402423,\n",
       "    0.050156857095838475,\n",
       "    0.05063057927106637,\n",
       "    0.050453694110971205,\n",
       "    0.04967668761652854,\n",
       "    0.049771848353501305,\n",
       "    0.049852412914796376,\n",
       "    0.05028087056475896,\n",
       "    0.04980185684642041,\n",
       "    0.050917008809801496,\n",
       "    0.05083317414290732,\n",
       "    0.05042023053383578,\n",
       "    0.05048621639434093,\n",
       "    0.05021934456310851,\n",
       "    0.05014696292824655,\n",
       "    0.05007315710772353,\n",
       "    0.05027272878501913,\n",
       "    0.050189949699390356,\n",
       "    0.05052539199241328,\n",
       "    0.0502249425202022,\n",
       "    0.0507350589377186,\n",
       "    0.05076379259421708,\n",
       "    0.05030847553815546,\n",
       "    0.050384749676142204,\n",
       "    0.05038002398117922,\n",
       "    0.050161934019552726,\n",
       "    0.0499225758938221,\n",
       "    0.04979765863008152,\n",
       "    0.050125253342299454,\n",
       "    0.04992892364017108,\n",
       "    0.05034756352335777,\n",
       "    0.050942274820257566,\n",
       "    0.05063968945448219,\n",
       "    0.05023512902281209,\n",
       "    0.05071236743123013]},\n",
       "  'queries': {128: [2580000,\n",
       "    2580000,\n",
       "    2580000,\n",
       "    2580000,\n",
       "    2580000,\n",
       "    2580000,\n",
       "    2580000,\n",
       "    2580000,\n",
       "    2580000,\n",
       "    2580000,\n",
       "    2580000,\n",
       "    2580000,\n",
       "    2580000,\n",
       "    2580000,\n",
       "    2580000,\n",
       "    2580000,\n",
       "    2580000,\n",
       "    2580000,\n",
       "    2580000,\n",
       "    2580000,\n",
       "    2580000,\n",
       "    2580000,\n",
       "    2580000,\n",
       "    2580000,\n",
       "    2580000,\n",
       "    2580000,\n",
       "    2580000,\n",
       "    2580000,\n",
       "    2580000,\n",
       "    2580000,\n",
       "    2580000,\n",
       "    2580000,\n",
       "    2580000,\n",
       "    2580000,\n",
       "    2580000,\n",
       "    2580000,\n",
       "    2580000,\n",
       "    2580000,\n",
       "    2580000,\n",
       "    2580000,\n",
       "    2580000,\n",
       "    2580000,\n",
       "    2580000,\n",
       "    2580000,\n",
       "    2580000,\n",
       "    2580000,\n",
       "    2580000,\n",
       "    2580000,\n",
       "    2580000,\n",
       "    2580000,\n",
       "    2580000,\n",
       "    2580000,\n",
       "    2580000,\n",
       "    2580000,\n",
       "    2580000,\n",
       "    2580000,\n",
       "    2580000,\n",
       "    2580000,\n",
       "    2580000,\n",
       "    2580000,\n",
       "    2580000,\n",
       "    2580000,\n",
       "    2580000,\n",
       "    2580000,\n",
       "    2580000,\n",
       "    2580000,\n",
       "    2580000,\n",
       "    2580000,\n",
       "    2580000,\n",
       "    2580000,\n",
       "    2580000,\n",
       "    2580000,\n",
       "    2580000,\n",
       "    2580000,\n",
       "    2580000,\n",
       "    2580000,\n",
       "    2580000,\n",
       "    2580000,\n",
       "    2580000,\n",
       "    2580000,\n",
       "    2580000,\n",
       "    2580000,\n",
       "    2580000,\n",
       "    2580000,\n",
       "    2580000,\n",
       "    2580000,\n",
       "    2580000,\n",
       "    2580000,\n",
       "    2580000,\n",
       "    2580000,\n",
       "    2580000,\n",
       "    2580000,\n",
       "    2580000,\n",
       "    2580000,\n",
       "    2580000,\n",
       "    2580000,\n",
       "    2580000,\n",
       "    2580000,\n",
       "    2580000,\n",
       "    2580000],\n",
       "   256: [5140000,\n",
       "    5140000,\n",
       "    5140000,\n",
       "    5140000,\n",
       "    5140000,\n",
       "    5140000,\n",
       "    5140000,\n",
       "    5140000,\n",
       "    5140000,\n",
       "    5140000,\n",
       "    5140000,\n",
       "    5140000,\n",
       "    5140000,\n",
       "    5140000,\n",
       "    5140000,\n",
       "    5140000,\n",
       "    5140000,\n",
       "    5140000,\n",
       "    5140000,\n",
       "    5140000,\n",
       "    5140000,\n",
       "    5140000,\n",
       "    5140000,\n",
       "    5140000,\n",
       "    5140000,\n",
       "    5140000,\n",
       "    5140000,\n",
       "    5140000,\n",
       "    5140000,\n",
       "    5140000,\n",
       "    5140000,\n",
       "    5140000,\n",
       "    5140000,\n",
       "    5140000,\n",
       "    5140000,\n",
       "    5140000,\n",
       "    5140000,\n",
       "    5140000,\n",
       "    5140000,\n",
       "    5140000,\n",
       "    5140000,\n",
       "    5140000,\n",
       "    5140000,\n",
       "    5140000,\n",
       "    5140000,\n",
       "    5140000,\n",
       "    5140000,\n",
       "    5140000,\n",
       "    5140000,\n",
       "    5140000,\n",
       "    5140000,\n",
       "    5140000,\n",
       "    5140000,\n",
       "    5140000,\n",
       "    5140000,\n",
       "    5140000,\n",
       "    5140000,\n",
       "    5140000,\n",
       "    5140000,\n",
       "    5140000,\n",
       "    5140000,\n",
       "    5140000,\n",
       "    5140000,\n",
       "    5140000,\n",
       "    5140000,\n",
       "    5140000,\n",
       "    5140000,\n",
       "    5140000,\n",
       "    5140000,\n",
       "    5140000,\n",
       "    5140000,\n",
       "    5140000,\n",
       "    5140000,\n",
       "    5140000,\n",
       "    5140000,\n",
       "    5140000,\n",
       "    5140000,\n",
       "    5140000,\n",
       "    5140000,\n",
       "    5140000,\n",
       "    5140000,\n",
       "    5140000,\n",
       "    5140000,\n",
       "    5140000,\n",
       "    5140000,\n",
       "    5140000,\n",
       "    5140000,\n",
       "    5140000,\n",
       "    5140000,\n",
       "    5140000,\n",
       "    5140000,\n",
       "    5140000,\n",
       "    5140000,\n",
       "    5140000,\n",
       "    5140000,\n",
       "    5140000,\n",
       "    5140000,\n",
       "    5140000,\n",
       "    5140000,\n",
       "    5140000],\n",
       "   512: [10260000,\n",
       "    10260000,\n",
       "    10260000,\n",
       "    10260000,\n",
       "    10260000,\n",
       "    10260000,\n",
       "    10260000,\n",
       "    10260000,\n",
       "    10260000,\n",
       "    10260000,\n",
       "    10260000,\n",
       "    10260000,\n",
       "    10260000,\n",
       "    10260000,\n",
       "    10260000,\n",
       "    10260000,\n",
       "    10260000,\n",
       "    10260000,\n",
       "    10260000,\n",
       "    10260000,\n",
       "    10260000,\n",
       "    10260000,\n",
       "    10260000,\n",
       "    10260000,\n",
       "    10260000,\n",
       "    10260000,\n",
       "    10260000,\n",
       "    10260000,\n",
       "    10260000,\n",
       "    10260000,\n",
       "    10260000,\n",
       "    10260000,\n",
       "    10260000,\n",
       "    10260000,\n",
       "    10260000,\n",
       "    10260000,\n",
       "    10260000,\n",
       "    10260000,\n",
       "    10260000,\n",
       "    10260000,\n",
       "    10260000,\n",
       "    10260000,\n",
       "    10260000,\n",
       "    10260000,\n",
       "    10260000,\n",
       "    10260000,\n",
       "    10260000,\n",
       "    10260000,\n",
       "    10260000,\n",
       "    10260000,\n",
       "    10260000,\n",
       "    10260000,\n",
       "    10260000,\n",
       "    10260000,\n",
       "    10260000,\n",
       "    10260000,\n",
       "    10260000,\n",
       "    10260000,\n",
       "    10260000,\n",
       "    10260000,\n",
       "    10260000,\n",
       "    10260000,\n",
       "    10260000,\n",
       "    10260000,\n",
       "    10260000,\n",
       "    10260000,\n",
       "    10260000,\n",
       "    10260000,\n",
       "    10260000,\n",
       "    10260000,\n",
       "    10260000,\n",
       "    10260000,\n",
       "    10260000,\n",
       "    10260000,\n",
       "    10260000,\n",
       "    10260000,\n",
       "    10260000,\n",
       "    10260000,\n",
       "    10260000,\n",
       "    10260000,\n",
       "    10260000,\n",
       "    10260000,\n",
       "    10260000,\n",
       "    10260000,\n",
       "    10260000,\n",
       "    10260000,\n",
       "    10260000,\n",
       "    10260000,\n",
       "    10260000,\n",
       "    10260000,\n",
       "    10260000,\n",
       "    10260000,\n",
       "    10260000,\n",
       "    10260000,\n",
       "    10260000,\n",
       "    10260000,\n",
       "    10260000,\n",
       "    10260000,\n",
       "    10260000,\n",
       "    10260000]}}}"
      ]
     },
     "execution_count": 9,
     "metadata": {},
     "output_type": "execute_result"
    }
   ],
   "source": [
    "result"
   ]
  },
  {
   "cell_type": "code",
   "execution_count": 7,
   "id": "3afe5d4c",
   "metadata": {
    "execution": {
     "iopub.execute_input": "2024-02-11T02:20:42.427025Z",
     "iopub.status.busy": "2024-02-11T02:20:42.426843Z",
     "iopub.status.idle": "2024-02-11T02:20:42.437187Z",
     "shell.execute_reply": "2024-02-11T02:20:42.436854Z"
    },
    "papermill": {
     "duration": 0.046134,
     "end_time": "2024-02-11T02:20:42.437950",
     "exception": false,
     "start_time": "2024-02-11T02:20:42.391816",
     "status": "completed"
    },
    "tags": []
   },
   "outputs": [],
   "source": [
    "with open(\"data/molecule20k.pkl\", \"rb\") as f:\n",
    "    result = pickle.load(f)"
   ]
  },
  {
   "cell_type": "markdown",
   "id": "ff83ba01",
   "metadata": {},
   "source": [
    "## Plot results"
   ]
  },
  {
   "cell_type": "code",
   "execution_count": 29,
   "id": "4f22a3ce",
   "metadata": {
    "execution": {
     "iopub.execute_input": "2024-02-11T02:20:42.507875Z",
     "iopub.status.busy": "2024-02-11T02:20:42.507577Z",
     "iopub.status.idle": "2024-02-11T02:20:43.097891Z",
     "shell.execute_reply": "2024-02-11T02:20:43.097355Z"
    },
    "papermill": {
     "duration": 0.62545,
     "end_time": "2024-02-11T02:20:43.098457",
     "exception": true,
     "start_time": "2024-02-11T02:20:42.473007",
     "status": "failed"
    },
    "tags": []
   },
   "outputs": [
    {
     "data": {
      "text/html": [
       "        <script type=\"text/javascript\">\n",
       "        window.PlotlyConfig = {MathJaxConfig: 'local'};\n",
       "        if (window.MathJax && window.MathJax.Hub && window.MathJax.Hub.Config) {window.MathJax.Hub.Config({SVG: {font: \"STIX-Web\"}});}\n",
       "        if (typeof require !== 'undefined') {\n",
       "        require.undef(\"plotly\");\n",
       "        requirejs.config({\n",
       "            paths: {\n",
       "                'plotly': ['https://cdn.plot.ly/plotly-2.12.1.min']\n",
       "            }\n",
       "        });\n",
       "        require(['plotly'], function(Plotly) {\n",
       "            window._Plotly = Plotly;\n",
       "        });\n",
       "        }\n",
       "        </script>\n",
       "        "
      ]
     },
     "metadata": {},
     "output_type": "display_data"
    },
    {
     "data": {
      "text/html": [
       "<div>                            <div id=\"cef65586-5e14-4aa7-acce-b831836c1d44\" class=\"plotly-graph-div\" style=\"height:800px; width:800px;\"></div>            <script type=\"text/javascript\">                require([\"plotly\"], function(Plotly) {                    window.PLOTLYENV=window.PLOTLYENV || {};                                    if (document.getElementById(\"cef65586-5e14-4aa7-acce-b831836c1d44\")) {                    Plotly.newPlot(                        \"cef65586-5e14-4aa7-acce-b831836c1d44\",                        [{\"error_y\":{\"array\":[0.0,0.0,0.0],\"type\":\"data\",\"visible\":true},\"legendgroup\":\"Greedy\",\"mode\":\"lines+markers\",\"name\":\"Greedy\",\"x\":[128,256,512],\"y\":[0.06522165673026105,0.060296657775134974,0.05570710395147019],\"type\":\"scatter\",\"xaxis\":\"x\",\"yaxis\":\"y\"},{\"error_y\":{\"array\":[0.0,0.0,0.0],\"type\":\"data\",\"visible\":true},\"legendgroup\":\"Greedy\",\"mode\":\"lines+markers\",\"name\":\"Greedy\",\"x\":[128,256,512],\"y\":[0.32869427987617694,0.2729237221965333,0.23277200066947504],\"type\":\"scatter\",\"xaxis\":\"x2\",\"yaxis\":\"y2\"},{\"error_y\":{\"array\":[0.0006784006374998455,0.00046456770464931143,0.0004273452649816438],\"type\":\"data\",\"visible\":true},\"legendgroup\":\"Uniform\",\"mode\":\"lines+markers\",\"name\":\"Uniform\",\"x\":[128,256,512],\"y\":[0.05871764933169235,0.05436358655284931,0.0498077922416722],\"type\":\"scatter\",\"xaxis\":\"x\",\"yaxis\":\"y\"},{\"error_y\":{\"array\":[0.007325076326383195,0.005297899877991523,0.00457605700513925],\"type\":\"data\",\"visible\":true},\"legendgroup\":\"Uniform\",\"mode\":\"lines+markers\",\"name\":\"Uniform\",\"x\":[128,256,512],\"y\":[0.26458782150024757,0.2246812111317384,0.18568556542496592],\"type\":\"scatter\",\"xaxis\":\"x2\",\"yaxis\":\"y2\"},{\"error_y\":{\"array\":[0.0006398845312758871,0.00043056849219309665,0.000328876887087158],\"type\":\"data\",\"visible\":true},\"legendgroup\":\"RPCholesky\",\"mode\":\"lines+markers\",\"name\":\"RPCholesky\",\"x\":[128,256,512],\"y\":[0.05894395028688476,0.054576591584072374,0.050359759563643254],\"type\":\"scatter\",\"xaxis\":\"x\",\"yaxis\":\"y\"},{\"error_y\":{\"array\":[0.00642834893971437,0.0040546637563559215,0.0025829346896048444],\"type\":\"data\",\"visible\":true},\"legendgroup\":\"RPCholesky\",\"mode\":\"lines+markers\",\"name\":\"RPCholesky\",\"x\":[128,256,512],\"y\":[0.2630082702357361,0.22229648279976086,0.18590629738024617],\"type\":\"scatter\",\"xaxis\":\"x2\",\"yaxis\":\"y2\"},{\"error_y\":{\"array\":[0.000638619055601413,0.0004408565841346971,0.0003391907225627242],\"type\":\"data\",\"visible\":true},\"legendgroup\":\"RLS\",\"mode\":\"lines+markers\",\"name\":\"RLS\",\"x\":[128,256,512],\"y\":[0.05885881390045475,0.05464219144486175,0.05014125562541749],\"type\":\"scatter\",\"xaxis\":\"x\",\"yaxis\":\"y\"},{\"error_y\":{\"array\":[0.006218399924202067,0.004400702895450907,0.0030807033988673365],\"type\":\"data\",\"visible\":true},\"legendgroup\":\"RLS\",\"mode\":\"lines+markers\",\"name\":\"RLS\",\"x\":[128,256,512],\"y\":[0.2630428069327115,0.22374645226704318,0.18442271152381856],\"type\":\"scatter\",\"xaxis\":\"x2\",\"yaxis\":\"y2\"},{\"error_y\":{\"array\":[0.0006559184715986983,0.00045891024155790517,0.00035681643872346753],\"type\":\"data\",\"visible\":true},\"legendgroup\":\"block50RPCholesky\",\"mode\":\"lines+markers\",\"name\":\"block50RPCholesky\",\"x\":[128,256,512],\"y\":[0.05862535423183908,0.054493223341792164,0.050303671001842964],\"type\":\"scatter\",\"xaxis\":\"x\",\"yaxis\":\"y\"},{\"error_y\":{\"array\":[0.006803243555709859,0.003974918067638982,0.002798192873677531],\"type\":\"data\",\"visible\":true},\"legendgroup\":\"block50RPCholesky\",\"mode\":\"lines+markers\",\"name\":\"block50RPCholesky\",\"x\":[128,256,512],\"y\":[0.2597327311088005,0.2210115111586644,0.18543839446897725],\"type\":\"scatter\",\"xaxis\":\"x2\",\"yaxis\":\"y2\"}],                        {\"template\":{\"data\":{\"histogram2dcontour\":[{\"type\":\"histogram2dcontour\",\"colorbar\":{\"outlinewidth\":0,\"ticks\":\"\"},\"colorscale\":[[0.0,\"#0d0887\"],[0.1111111111111111,\"#46039f\"],[0.2222222222222222,\"#7201a8\"],[0.3333333333333333,\"#9c179e\"],[0.4444444444444444,\"#bd3786\"],[0.5555555555555556,\"#d8576b\"],[0.6666666666666666,\"#ed7953\"],[0.7777777777777778,\"#fb9f3a\"],[0.8888888888888888,\"#fdca26\"],[1.0,\"#f0f921\"]]}],\"choropleth\":[{\"type\":\"choropleth\",\"colorbar\":{\"outlinewidth\":0,\"ticks\":\"\"}}],\"histogram2d\":[{\"type\":\"histogram2d\",\"colorbar\":{\"outlinewidth\":0,\"ticks\":\"\"},\"colorscale\":[[0.0,\"#0d0887\"],[0.1111111111111111,\"#46039f\"],[0.2222222222222222,\"#7201a8\"],[0.3333333333333333,\"#9c179e\"],[0.4444444444444444,\"#bd3786\"],[0.5555555555555556,\"#d8576b\"],[0.6666666666666666,\"#ed7953\"],[0.7777777777777778,\"#fb9f3a\"],[0.8888888888888888,\"#fdca26\"],[1.0,\"#f0f921\"]]}],\"heatmap\":[{\"type\":\"heatmap\",\"colorbar\":{\"outlinewidth\":0,\"ticks\":\"\"},\"colorscale\":[[0.0,\"#0d0887\"],[0.1111111111111111,\"#46039f\"],[0.2222222222222222,\"#7201a8\"],[0.3333333333333333,\"#9c179e\"],[0.4444444444444444,\"#bd3786\"],[0.5555555555555556,\"#d8576b\"],[0.6666666666666666,\"#ed7953\"],[0.7777777777777778,\"#fb9f3a\"],[0.8888888888888888,\"#fdca26\"],[1.0,\"#f0f921\"]]}],\"heatmapgl\":[{\"type\":\"heatmapgl\",\"colorbar\":{\"outlinewidth\":0,\"ticks\":\"\"},\"colorscale\":[[0.0,\"#0d0887\"],[0.1111111111111111,\"#46039f\"],[0.2222222222222222,\"#7201a8\"],[0.3333333333333333,\"#9c179e\"],[0.4444444444444444,\"#bd3786\"],[0.5555555555555556,\"#d8576b\"],[0.6666666666666666,\"#ed7953\"],[0.7777777777777778,\"#fb9f3a\"],[0.8888888888888888,\"#fdca26\"],[1.0,\"#f0f921\"]]}],\"contourcarpet\":[{\"type\":\"contourcarpet\",\"colorbar\":{\"outlinewidth\":0,\"ticks\":\"\"}}],\"contour\":[{\"type\":\"contour\",\"colorbar\":{\"outlinewidth\":0,\"ticks\":\"\"},\"colorscale\":[[0.0,\"#0d0887\"],[0.1111111111111111,\"#46039f\"],[0.2222222222222222,\"#7201a8\"],[0.3333333333333333,\"#9c179e\"],[0.4444444444444444,\"#bd3786\"],[0.5555555555555556,\"#d8576b\"],[0.6666666666666666,\"#ed7953\"],[0.7777777777777778,\"#fb9f3a\"],[0.8888888888888888,\"#fdca26\"],[1.0,\"#f0f921\"]]}],\"surface\":[{\"type\":\"surface\",\"colorbar\":{\"outlinewidth\":0,\"ticks\":\"\"},\"colorscale\":[[0.0,\"#0d0887\"],[0.1111111111111111,\"#46039f\"],[0.2222222222222222,\"#7201a8\"],[0.3333333333333333,\"#9c179e\"],[0.4444444444444444,\"#bd3786\"],[0.5555555555555556,\"#d8576b\"],[0.6666666666666666,\"#ed7953\"],[0.7777777777777778,\"#fb9f3a\"],[0.8888888888888888,\"#fdca26\"],[1.0,\"#f0f921\"]]}],\"mesh3d\":[{\"type\":\"mesh3d\",\"colorbar\":{\"outlinewidth\":0,\"ticks\":\"\"}}],\"scatter\":[{\"fillpattern\":{\"fillmode\":\"overlay\",\"size\":10,\"solidity\":0.2},\"type\":\"scatter\"}],\"parcoords\":[{\"type\":\"parcoords\",\"line\":{\"colorbar\":{\"outlinewidth\":0,\"ticks\":\"\"}}}],\"scatterpolargl\":[{\"type\":\"scatterpolargl\",\"marker\":{\"colorbar\":{\"outlinewidth\":0,\"ticks\":\"\"}}}],\"bar\":[{\"error_x\":{\"color\":\"#2a3f5f\"},\"error_y\":{\"color\":\"#2a3f5f\"},\"marker\":{\"line\":{\"color\":\"#E5ECF6\",\"width\":0.5},\"pattern\":{\"fillmode\":\"overlay\",\"size\":10,\"solidity\":0.2}},\"type\":\"bar\"}],\"scattergeo\":[{\"type\":\"scattergeo\",\"marker\":{\"colorbar\":{\"outlinewidth\":0,\"ticks\":\"\"}}}],\"scatterpolar\":[{\"type\":\"scatterpolar\",\"marker\":{\"colorbar\":{\"outlinewidth\":0,\"ticks\":\"\"}}}],\"histogram\":[{\"marker\":{\"pattern\":{\"fillmode\":\"overlay\",\"size\":10,\"solidity\":0.2}},\"type\":\"histogram\"}],\"scattergl\":[{\"type\":\"scattergl\",\"marker\":{\"colorbar\":{\"outlinewidth\":0,\"ticks\":\"\"}}}],\"scatter3d\":[{\"type\":\"scatter3d\",\"line\":{\"colorbar\":{\"outlinewidth\":0,\"ticks\":\"\"}},\"marker\":{\"colorbar\":{\"outlinewidth\":0,\"ticks\":\"\"}}}],\"scattermapbox\":[{\"type\":\"scattermapbox\",\"marker\":{\"colorbar\":{\"outlinewidth\":0,\"ticks\":\"\"}}}],\"scatterternary\":[{\"type\":\"scatterternary\",\"marker\":{\"colorbar\":{\"outlinewidth\":0,\"ticks\":\"\"}}}],\"scattercarpet\":[{\"type\":\"scattercarpet\",\"marker\":{\"colorbar\":{\"outlinewidth\":0,\"ticks\":\"\"}}}],\"carpet\":[{\"aaxis\":{\"endlinecolor\":\"#2a3f5f\",\"gridcolor\":\"white\",\"linecolor\":\"white\",\"minorgridcolor\":\"white\",\"startlinecolor\":\"#2a3f5f\"},\"baxis\":{\"endlinecolor\":\"#2a3f5f\",\"gridcolor\":\"white\",\"linecolor\":\"white\",\"minorgridcolor\":\"white\",\"startlinecolor\":\"#2a3f5f\"},\"type\":\"carpet\"}],\"table\":[{\"cells\":{\"fill\":{\"color\":\"#EBF0F8\"},\"line\":{\"color\":\"white\"}},\"header\":{\"fill\":{\"color\":\"#C8D4E3\"},\"line\":{\"color\":\"white\"}},\"type\":\"table\"}],\"barpolar\":[{\"marker\":{\"line\":{\"color\":\"#E5ECF6\",\"width\":0.5},\"pattern\":{\"fillmode\":\"overlay\",\"size\":10,\"solidity\":0.2}},\"type\":\"barpolar\"}],\"pie\":[{\"automargin\":true,\"type\":\"pie\"}]},\"layout\":{\"autotypenumbers\":\"strict\",\"colorway\":[\"#636efa\",\"#EF553B\",\"#00cc96\",\"#ab63fa\",\"#FFA15A\",\"#19d3f3\",\"#FF6692\",\"#B6E880\",\"#FF97FF\",\"#FECB52\"],\"font\":{\"color\":\"#2a3f5f\"},\"hovermode\":\"closest\",\"hoverlabel\":{\"align\":\"left\"},\"paper_bgcolor\":\"white\",\"plot_bgcolor\":\"#E5ECF6\",\"polar\":{\"bgcolor\":\"#E5ECF6\",\"angularaxis\":{\"gridcolor\":\"white\",\"linecolor\":\"white\",\"ticks\":\"\"},\"radialaxis\":{\"gridcolor\":\"white\",\"linecolor\":\"white\",\"ticks\":\"\"}},\"ternary\":{\"bgcolor\":\"#E5ECF6\",\"aaxis\":{\"gridcolor\":\"white\",\"linecolor\":\"white\",\"ticks\":\"\"},\"baxis\":{\"gridcolor\":\"white\",\"linecolor\":\"white\",\"ticks\":\"\"},\"caxis\":{\"gridcolor\":\"white\",\"linecolor\":\"white\",\"ticks\":\"\"}},\"coloraxis\":{\"colorbar\":{\"outlinewidth\":0,\"ticks\":\"\"}},\"colorscale\":{\"sequential\":[[0.0,\"#0d0887\"],[0.1111111111111111,\"#46039f\"],[0.2222222222222222,\"#7201a8\"],[0.3333333333333333,\"#9c179e\"],[0.4444444444444444,\"#bd3786\"],[0.5555555555555556,\"#d8576b\"],[0.6666666666666666,\"#ed7953\"],[0.7777777777777778,\"#fb9f3a\"],[0.8888888888888888,\"#fdca26\"],[1.0,\"#f0f921\"]],\"sequentialminus\":[[0.0,\"#0d0887\"],[0.1111111111111111,\"#46039f\"],[0.2222222222222222,\"#7201a8\"],[0.3333333333333333,\"#9c179e\"],[0.4444444444444444,\"#bd3786\"],[0.5555555555555556,\"#d8576b\"],[0.6666666666666666,\"#ed7953\"],[0.7777777777777778,\"#fb9f3a\"],[0.8888888888888888,\"#fdca26\"],[1.0,\"#f0f921\"]],\"diverging\":[[0,\"#8e0152\"],[0.1,\"#c51b7d\"],[0.2,\"#de77ae\"],[0.3,\"#f1b6da\"],[0.4,\"#fde0ef\"],[0.5,\"#f7f7f7\"],[0.6,\"#e6f5d0\"],[0.7,\"#b8e186\"],[0.8,\"#7fbc41\"],[0.9,\"#4d9221\"],[1,\"#276419\"]]},\"xaxis\":{\"gridcolor\":\"white\",\"linecolor\":\"white\",\"ticks\":\"\",\"title\":{\"standoff\":15},\"zerolinecolor\":\"white\",\"automargin\":true,\"zerolinewidth\":2},\"yaxis\":{\"gridcolor\":\"white\",\"linecolor\":\"white\",\"ticks\":\"\",\"title\":{\"standoff\":15},\"zerolinecolor\":\"white\",\"automargin\":true,\"zerolinewidth\":2},\"scene\":{\"xaxis\":{\"backgroundcolor\":\"#E5ECF6\",\"gridcolor\":\"white\",\"linecolor\":\"white\",\"showbackground\":true,\"ticks\":\"\",\"zerolinecolor\":\"white\",\"gridwidth\":2},\"yaxis\":{\"backgroundcolor\":\"#E5ECF6\",\"gridcolor\":\"white\",\"linecolor\":\"white\",\"showbackground\":true,\"ticks\":\"\",\"zerolinecolor\":\"white\",\"gridwidth\":2},\"zaxis\":{\"backgroundcolor\":\"#E5ECF6\",\"gridcolor\":\"white\",\"linecolor\":\"white\",\"showbackground\":true,\"ticks\":\"\",\"zerolinecolor\":\"white\",\"gridwidth\":2}},\"shapedefaults\":{\"line\":{\"color\":\"#2a3f5f\"}},\"annotationdefaults\":{\"arrowcolor\":\"#2a3f5f\",\"arrowhead\":0,\"arrowwidth\":1},\"geo\":{\"bgcolor\":\"white\",\"landcolor\":\"#E5ECF6\",\"subunitcolor\":\"white\",\"showland\":true,\"showlakes\":true,\"lakecolor\":\"white\"},\"title\":{\"x\":0.05},\"mapbox\":{\"style\":\"light\"}}},\"xaxis\":{\"anchor\":\"y\",\"domain\":[0.0,1.0],\"matches\":\"x2\",\"showticklabels\":false},\"yaxis\":{\"anchor\":\"x\",\"domain\":[0.55,1.0]},\"xaxis2\":{\"anchor\":\"y2\",\"domain\":[0.0,1.0],\"title\":{\"text\":\"k\"}},\"yaxis2\":{\"anchor\":\"x2\",\"domain\":[0.0,0.45]},\"annotations\":[{\"font\":{\"size\":16},\"showarrow\":false,\"text\":\"KRRSMAPE\",\"x\":0.5,\"xanchor\":\"center\",\"xref\":\"paper\",\"y\":1.0,\"yanchor\":\"bottom\",\"yref\":\"paper\"},{\"font\":{\"size\":16},\"showarrow\":false,\"text\":\"KRRMSE\",\"x\":0.5,\"xanchor\":\"center\",\"xref\":\"paper\",\"y\":0.45,\"yanchor\":\"bottom\",\"yref\":\"paper\"}],\"title\":{\"text\":\"MSE vs. k (columns)\"},\"height\":800,\"width\":800},                        {\"responsive\": true}                    ).then(function(){\n",
       "                            \n",
       "var gd = document.getElementById('cef65586-5e14-4aa7-acce-b831836c1d44');\n",
       "var x = new MutationObserver(function (mutations, observer) {{\n",
       "        var display = window.getComputedStyle(gd).display;\n",
       "        if (!display || display === 'none') {{\n",
       "            console.log([gd, 'removed!']);\n",
       "            Plotly.purge(gd);\n",
       "            observer.disconnect();\n",
       "        }}\n",
       "}});\n",
       "\n",
       "// Listen for the removal of the full notebook cells\n",
       "var notebookContainer = gd.closest('#notebook-container');\n",
       "if (notebookContainer) {{\n",
       "    x.observe(notebookContainer, {childList: true});\n",
       "}}\n",
       "\n",
       "// Listen for the clearing of the current output cell\n",
       "var outputEl = gd.closest('.output');\n",
       "if (outputEl) {{\n",
       "    x.observe(outputEl, {childList: true});\n",
       "}}\n",
       "\n",
       "                        })                };                });            </script>        </div>"
      ]
     },
     "metadata": {},
     "output_type": "display_data"
    }
   ],
   "source": [
    "# plot line graph with error bars\n",
    "metrics = ['KRRSMAPE', 'KRRMSE']\n",
    "fig = make_subplots(rows=len(metrics), cols=1, subplot_titles=metrics, shared_xaxes=True, vertical_spacing=0.1)\n",
    "\n",
    "for name in result.keys():\n",
    "    for r, metric in enumerate(metrics):\n",
    "\n",
    "        means = [np.mean(krrmse) for _, krrmse in result[name][metric].items() ]\n",
    "        stds = [np.std(krrmse) for _, krrmse in result[name][metric].items() ]\n",
    "        # print(ks, means, stds)\n",
    "        fig.add_trace(go.Scatter(\n",
    "            x=ks, \n",
    "            y=means, \n",
    "            mode='lines+markers', \n",
    "            name=name, \n",
    "            error_y=dict(\n",
    "                type='data', # value of error bar given in data coordinates\n",
    "                array=stds,\n",
    "                visible=True\n",
    "            ),\n",
    "            legendgroup=name,\n",
    "        ), row=r+1, col=1)\n",
    "    fig.update_xaxes(title_text=\"k\", row=r+1, col=1)\n",
    "\n",
    "        \n",
    "fig.update_layout(title='MSE vs. k (columns)',\n",
    "                    #  xaxis_title='Coreset Size',\n",
    "                    #  yaxis_title='MSE',\n",
    "                     height=800, width=800)\n",
    "fig.show()"
   ]
  },
  {
   "cell_type": "code",
   "execution_count": null,
   "id": "4791e7b7",
   "metadata": {
    "papermill": {
     "duration": null,
     "end_time": null,
     "exception": null,
     "start_time": null,
     "status": "pending"
    },
    "tags": []
   },
   "outputs": [],
   "source": []
  }
 ],
 "metadata": {
  "kernelspec": {
   "display_name": "Python 3",
   "language": "python",
   "name": "python3"
  },
  "language_info": {
   "codemirror_mode": {
    "name": "ipython",
    "version": 3
   },
   "file_extension": ".py",
   "mimetype": "text/x-python",
   "name": "python",
   "nbconvert_exporter": "python",
   "pygments_lexer": "ipython3",
   "version": "3.9.18"
  },
  "papermill": {
   "default_parameters": {},
   "duration": 6386.194416,
   "end_time": "2024-02-11T02:20:43.461700",
   "environment_variables": {},
   "exception": true,
   "input_path": "qm9.ipynb",
   "output_path": "qm9-20k.ipynb",
   "parameters": {},
   "start_time": "2024-02-11T00:34:17.267284",
   "version": "2.4.0"
  }
 },
 "nbformat": 4,
 "nbformat_minor": 5
}
